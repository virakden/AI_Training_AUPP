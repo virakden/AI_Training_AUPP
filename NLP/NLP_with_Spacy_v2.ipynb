{
  "cells": [
    {
      "cell_type": "markdown",
      "metadata": {
        "id": "pBOP4ub2O1pt"
      },
      "source": [
        "### Natural language Processing With SpaCy and Python\n",
        "+ NLP a form of AI or Artificial Intelligence (Building systems that can do intelligent things)\n",
        "+ NLP or Natural Language Processing – Building systems that can understand everyday language. It is a subset of Artificial Intelligence.\n",
        "+ SpaCy by Explosion.ai (Matthew Honnibal)\n",
        "![alt text](SpaCy_logo.png \"Title\")\n",
        "\n"
      ]
    },
    {
      "cell_type": "markdown",
      "metadata": {
        "id": "QM32RL60O1pu"
      },
      "source": [
        "#### Basic Terms\n",
        "+ Tokenization:\tSegmenting text into words, punctuations marks etc.\n",
        "+ Part-of-speech: (POS) Tagging\tAssigning word types to tokens, like verb or noun.\n",
        "+ Dependency Parsing:\tAssigning syntactic dependency labels, describing the relations between individual tokens, like subject or object.\n",
        "+ Lemmatization:\tAssigning the base forms of words. For example, the lemma of \"was\" is \"be\", and the lemma of \"rats\" is \"rat\".\n",
        "+ Named Entity Recognition (NER):\tLabelling named \"real-world\" objects, like persons, companies or locations.\n",
        "+ Similarity:\tComparing words, text spans and documents and how similar they are to each other.\n",
        "+ Sentence Boundary Detection (SBD):\tFinding and segmenting individual sentences.\n",
        "+ Text Classification:\tAssigning categories or labels to a whole document, or parts of a document.\n",
        "+ Rule-based Matching:\tFinding sequences of tokens based on their texts and linguistic annotations, similar to regular expressions.\n",
        "+ Training:\tUpdating and improving a statistical model's predictions.\n",
        "+ Serialization:\tSaving objects to files or byte strings."
      ]
    },
    {
      "cell_type": "markdown",
      "metadata": {
        "id": "MuYocjitO1pv"
      },
      "source": [
        "### Installing the Library on Linux/Unix\n",
        "+ sudo pip install spacy\n",
        "+ sudo python -m spacy download en\n",
        "+ sudo python -m spacy download fr\n",
        "\n",
        "### Installing On Windows using Conda\n",
        "\n",
        "+ conda install tqdm\n",
        "+ conda install -c conda-forge spacy /conda install spacy\n",
        "+ python -m spacy download en\n",
        "- - with cmd administrator\n",
        "\n",
        "\n",
        "### Installing using Conda\n",
        "+ conda install -c conda-forge spacy\n",
        "+ sudo python -m spacy download en\n",
        "+ sudo python -m spacy download fr\n",
        "\n",
        "\n",
        "\n",
        "\n",
        "#### For Download the Models of other languages\n",
        "+ sudo python -m spacy download de\n",
        "+ sudo python -m spacy download es\n",
        "+ sudo python -m spacy download xx\n",
        "\n",
        "\n",
        "### Installing On Windows using Conda\n",
        "+ conda config-add channel conda-forge\n",
        "+ conda update anaconda\n",
        "+ conda install tqdm\n",
        "+ conda install -c conda-forge spacy\n",
        "+ sudo python -m spacy download en"
      ]
    },
    {
      "cell_type": "code",
      "execution_count": 54,
      "metadata": {
        "id": "SvPi7VfGO1pv"
      },
      "outputs": [],
      "source": [
        "# Loading the package\n",
        "import spacy\n",
        "nlp = spacy.load(\"en_core_web_sm\")\n",
        "\n",
        "#nlp = en_core_web_sm.load()"
      ]
    },
    {
      "cell_type": "markdown",
      "metadata": {
        "id": "ig2YAfc1O1pw"
      },
      "source": [
        "![alt text](BehindSpacy.jpg \"Title\")"
      ]
    },
    {
      "cell_type": "markdown",
      "metadata": {
        "id": "FZY5aOWLO1pw"
      },
      "source": [
        "### Reading  A Document or Text"
      ]
    },
    {
      "cell_type": "code",
      "execution_count": 55,
      "metadata": {
        "id": "Yub3VM36O1pw"
      },
      "outputs": [],
      "source": [
        "# Reading the text /tokens\n",
        "docx = nlp(\"SpaCy is a cool tool\")"
      ]
    },
    {
      "cell_type": "code",
      "execution_count": 56,
      "metadata": {
        "colab": {
          "base_uri": "https://localhost:8080/"
        },
        "id": "vrvcufQ3O1pw",
        "outputId": "839f5873-d380-4e17-de96-7cf27ce1dff7"
      },
      "outputs": [
        {
          "output_type": "execute_result",
          "data": {
            "text/plain": [
              "SpaCy is a cool tool"
            ]
          },
          "metadata": {},
          "execution_count": 56
        }
      ],
      "source": [
        "docx"
      ]
    },
    {
      "cell_type": "code",
      "execution_count": 57,
      "metadata": {
        "id": "hFgIvff5O1pw"
      },
      "outputs": [],
      "source": [
        "docx2 = nlp(u\"SpaCy is an amazing tool like nltk\")"
      ]
    },
    {
      "cell_type": "code",
      "execution_count": 58,
      "metadata": {
        "id": "tEL4NCpHO1px"
      },
      "outputs": [],
      "source": [
        "# Reading a file\n",
        "myfile = open(\"/content/text.txt\").read()"
      ]
    },
    {
      "cell_type": "code",
      "execution_count": 59,
      "metadata": {
        "id": "uDCQoYe5O1px"
      },
      "outputs": [],
      "source": [
        "doc_file = nlp(myfile)"
      ]
    },
    {
      "cell_type": "code",
      "execution_count": 60,
      "metadata": {
        "colab": {
          "base_uri": "https://localhost:8080/"
        },
        "id": "2esWDAYQO1px",
        "outputId": "934f379c-ca66-4b68-fcaf-c956b5a63dec"
      },
      "outputs": [
        {
          "output_type": "execute_result",
          "data": {
            "text/plain": [
              "Cambodia has recorded a trade surplus with Vietnam in the first five months of 2024, making Vietnam the second biggest market for Cambodia’s products after the US.\n",
              "\n",
              "In the past, Cambodia’s exports to Vietnam have been less than Cambodia’s imports from Vietnam. However, the momentum of Cambodia’s exports to Vietnam has increased significantly in the last several months.\n",
              "\n",
              "Figures from the General Department of Customs and Excise (GDCE) showed on Tuesday that in the first five months this year, Cambodia exported goods worth $1.88 billion to Vietnam, an increase of 42.6 percent, while imports from Vietnam were worth only $1.67 billion, an increase of eight percent compared to the same period last year.\n",
              "\n",
              "This gave Cambodia a trade surplus with Vietnam to the tune of $216 million.\n",
              "\n",
              "“Vietnam has significantly increased its agricultural purchases from Cambodia after it opened up a free trade market with the European Union, which boosted Vietnam’s demand for raw materials,” said Penn Sovicheat, Secretary of State and spokesman at the Ministry of Commerce.\n",
              "\n",
              "Climate change, which is causing concerns about declining global agricultural output, is also part of the reason behind Vietnamese firms increasingly seeking to buy agricultural products or raw materials from abroad, including from Cambodia, to serve their production lines, he said.\n",
              "\n",
              "“The recent trade surplus is a welcome sign. It reflects the growing competitiveness of Cambodian agricultural products and the strengthening of trade ties between the two countries,” he said.\n",
              "This growth reflects the two countries’ efforts to achieve a trade volume of $20 billion in the coming years, he said.\n",
              "\n",
              "Cambodia’s main exports to Vietnam include rice, rubber, cashews, cassava, corn, bananas, mangoes and tobacco. Meanwhile, the main imports of goods from Vietnam include construction materials, machinery, fuel, electrical and electronic equipment, fertilizers, animal feed, vegetables and fruits.\n",
              "It may be recalled that Prime Minister Hun Manet met his Vietnamese counterpart Pham Minh Chinh on December 11, 2023, in Hanoi, Vietnam and both leaders agreed to take bilateral trade to the $20 billion target in the coming years."
            ]
          },
          "metadata": {},
          "execution_count": 60
        }
      ],
      "source": [
        "# Calling the file\n",
        "doc_file"
      ]
    },
    {
      "cell_type": "code",
      "execution_count": 61,
      "metadata": {
        "scrolled": true,
        "id": "_8cterrtO1px"
      },
      "outputs": [],
      "source": [
        "# Decoding the file as UTF-8\n",
        "#myfile2 = open(\"examplefile.txt\").read().decode('utf8')"
      ]
    },
    {
      "cell_type": "markdown",
      "metadata": {
        "id": "__hIo_7PO1py"
      },
      "source": [
        "#### Sentence Tokens\n",
        "+ Tokenization == Splitting or segmenting the text into sentences or tokens\n",
        "+ .sent"
      ]
    },
    {
      "cell_type": "code",
      "execution_count": 62,
      "metadata": {
        "colab": {
          "base_uri": "https://localhost:8080/"
        },
        "id": "TyNOKIlGO1py",
        "outputId": "c0d9319d-068d-4406-b2a0-973ce6e5eb91"
      },
      "outputs": [
        {
          "output_type": "stream",
          "name": "stdout",
          "text": [
            "0: Cambodia has recorded a trade surplus with Vietnam in the first five months of 2024, making Vietnam the second biggest market for Cambodia’s products after the US.\n",
            "\n",
            "\n",
            "1: In the past, Cambodia’s exports to Vietnam have been less than Cambodia’s imports from Vietnam.\n",
            "2: However, the momentum of Cambodia’s exports to Vietnam has increased significantly in the last several months.\n",
            "\n",
            "\n",
            "3: Figures from the General Department of Customs and Excise (GDCE) showed on Tuesday that in the first five months this year, Cambodia exported goods worth $1.88 billion to Vietnam, an increase of 42.6 percent, while imports from Vietnam were worth only $1.67 billion, an increase of eight percent compared to the same period last year.\n",
            "\n",
            "\n",
            "4: This gave Cambodia a trade surplus with Vietnam to the tune of $216 million.\n",
            "\n",
            "\n",
            "5: “Vietnam has significantly increased its agricultural purchases from Cambodia after it opened up a free trade market with the European Union, which boosted Vietnam’s demand for raw materials,” said Penn Sovicheat, Secretary of State and spokesman at the Ministry of Commerce.\n",
            "\n",
            "\n",
            "6: Climate change, which is causing concerns about declining global agricultural output, is also part of the reason behind Vietnamese firms increasingly seeking to buy agricultural products or raw materials from abroad, including from Cambodia, to serve their production lines, he said.\n",
            "\n",
            "\n",
            "7: “The recent trade surplus is a welcome sign.\n",
            "8: It reflects the growing competitiveness of Cambodian agricultural products and the strengthening of trade ties between the two countries,” he said.\n",
            "\n",
            "9: This growth reflects the two countries’ efforts to achieve a trade volume of $20 billion in the coming years, he said.\n",
            "\n",
            "\n",
            "10: Cambodia’s main exports to Vietnam include rice, rubber, cashews, cassava, corn, bananas, mangoes and tobacco.\n",
            "11: Meanwhile, the main imports of goods from Vietnam include construction materials, machinery, fuel, electrical and electronic equipment, fertilizers, animal feed, vegetables and fruits.\n",
            "\n",
            "12: It may be recalled that Prime Minister Hun Manet met his Vietnamese counterpart Pham Minh Chinh on December 11, 2023, in Hanoi, Vietnam and both leaders agreed to take bilateral trade to the $20 billion target in the coming years.\n"
          ]
        }
      ],
      "source": [
        "# Sentence Tokens\n",
        "for num,sentence in enumerate(doc_file.sents):\n",
        "    #print(f'{num}: {sentence}') # For Python 3.6 upwards\n",
        "    print('{0}: {1}'.format(num,sentence))\n"
      ]
    },
    {
      "cell_type": "markdown",
      "metadata": {
        "id": "hhgkgjLmO1py"
      },
      "source": [
        "#### Word Tokens\n",
        "+ Splitting or segmenting the text into words\n",
        "+ .text"
      ]
    },
    {
      "cell_type": "code",
      "execution_count": 63,
      "metadata": {
        "id": "ttXYBLd7O1py"
      },
      "outputs": [],
      "source": [
        "doc = nlp(u\"Spacy is an amazing tool.\")"
      ]
    },
    {
      "cell_type": "code",
      "execution_count": 64,
      "metadata": {
        "colab": {
          "base_uri": "https://localhost:8080/"
        },
        "id": "FAmgrPHfO1py",
        "outputId": "26e644a7-f9f6-4cc7-c415-2b6aa7511b40"
      },
      "outputs": [
        {
          "output_type": "stream",
          "name": "stdout",
          "text": [
            "Spacy\n",
            "is\n",
            "an\n",
            "amazing\n",
            "tool\n",
            ".\n"
          ]
        }
      ],
      "source": [
        "# Word Tokens\n",
        "for token in doc:\n",
        "    print(token.text)"
      ]
    },
    {
      "cell_type": "code",
      "execution_count": 65,
      "metadata": {
        "colab": {
          "base_uri": "https://localhost:8080/"
        },
        "id": "3DGD2vdkO1py",
        "outputId": "b1b130bb-f134-4f90-fb20-1eece4d7ba00"
      },
      "outputs": [
        {
          "output_type": "execute_result",
          "data": {
            "text/plain": [
              "['Spacy', 'is', 'an', 'amazing', 'tool', '.']"
            ]
          },
          "metadata": {},
          "execution_count": 65
        }
      ],
      "source": [
        "# List of Word Tokens\n",
        "[token.text for token in doc ]"
      ]
    },
    {
      "cell_type": "code",
      "execution_count": 66,
      "metadata": {
        "colab": {
          "base_uri": "https://localhost:8080/"
        },
        "id": "lozSJ8oYO1py",
        "outputId": "a89558cd-f64e-4d25-a5fd-af92fa612a35"
      },
      "outputs": [
        {
          "output_type": "execute_result",
          "data": {
            "text/plain": [
              "['Spacy', 'is', 'an', 'amazing', 'tool.']"
            ]
          },
          "metadata": {},
          "execution_count": 66
        }
      ],
      "source": [
        "# Similar to splitting on spaces\n",
        "doc.text.split(\" \")"
      ]
    },
    {
      "cell_type": "markdown",
      "metadata": {
        "id": "bVye7Z5zO1pz"
      },
      "source": [
        "### More about words\n",
        "+ .shape_ ==> for shape of word eg. capital,lowercase,etc\n",
        "+ .is_alpha ==> returns boolean(true or false) if word is alphabet\n",
        "+ .is_stop ==> returns boolean(true or false) if word is a stop word"
      ]
    },
    {
      "cell_type": "code",
      "execution_count": 67,
      "metadata": {
        "colab": {
          "base_uri": "https://localhost:8080/"
        },
        "id": "n7BIIhfEO1pz",
        "outputId": "6d5248f3-b843-4c77-f98a-307b2c41620e"
      },
      "outputs": [
        {
          "output_type": "execute_result",
          "data": {
            "text/plain": [
              "SpaCy is a cool tool"
            ]
          },
          "metadata": {},
          "execution_count": 67
        }
      ],
      "source": [
        "docx"
      ]
    },
    {
      "cell_type": "code",
      "execution_count": 68,
      "metadata": {
        "colab": {
          "base_uri": "https://localhost:8080/"
        },
        "id": "Tih5DSMkO1pz",
        "outputId": "076910bc-d14c-492d-ddd4-6ff6a92fc742"
      },
      "outputs": [
        {
          "output_type": "stream",
          "name": "stdout",
          "text": [
            "SpaCy 14101195205177134206\n",
            "is 4370460163704169311\n",
            "a 11123243248953317070\n",
            "cool 13110060611322374290\n",
            "tool 13110060611322374290\n"
          ]
        }
      ],
      "source": [
        "# Word Shape As Hash Value\n",
        "for word in docx:\n",
        "    print(word.text,word.shape)"
      ]
    },
    {
      "cell_type": "code",
      "execution_count": 69,
      "metadata": {
        "colab": {
          "base_uri": "https://localhost:8080/"
        },
        "id": "zuuGbVQaO1pz",
        "outputId": "2b01b132-16b9-4478-d66b-24a823675d32"
      },
      "outputs": [
        {
          "output_type": "stream",
          "name": "stdout",
          "text": [
            "SpaCy XxxXx\n",
            "is xx\n",
            "a x\n",
            "cool xxxx\n",
            "tool xxxx\n"
          ]
        }
      ],
      "source": [
        "# Word Shape As readable representation\n",
        "for word in docx:\n",
        "    print(word.text,word.shape_)"
      ]
    },
    {
      "cell_type": "code",
      "execution_count": 70,
      "metadata": {
        "id": "a9ULYc1DO1pz"
      },
      "outputs": [],
      "source": [
        "ex_doc = nlp(\"This is 1 pen.\")"
      ]
    },
    {
      "cell_type": "code",
      "execution_count": 71,
      "metadata": {
        "colab": {
          "base_uri": "https://localhost:8080/"
        },
        "id": "u7_-ztdXO1pz",
        "outputId": "75c5dff0-382c-4401-bc16-ce488a77e565"
      },
      "outputs": [
        {
          "output_type": "stream",
          "name": "stdout",
          "text": [
            "Token => This Shape  Xxxx True True\n",
            "Token => is Shape  xx True True\n",
            "Token => 1 Shape  d False False\n",
            "Token => pen Shape  xxx True False\n",
            "Token => . Shape  . False False\n"
          ]
        }
      ],
      "source": [
        "for word in ex_doc:\n",
        "    print(\"Token =>\", word.text, \"Shape \",word.shape_,word.is_alpha,word.is_stop)"
      ]
    },
    {
      "cell_type": "markdown",
      "metadata": {
        "id": "fhTXamOIO1pz"
      },
      "source": [
        "### Part of Speech Tagging\n",
        "+  NB attribute_ ==> Returns readable string representation of attribute\n",
        "+ .pos\n",
        "+ .pos_ ==> exposes Google Universal pos_tag,simple\n",
        "+ .tag\n",
        "+ .tag_ ==> exposes Treebank, detailed,for training your own model\n",
        "+ + Uses\n",
        "- - Sentiment Analysis,Homonym Disambuguity ,Prediction"
      ]
    },
    {
      "cell_type": "code",
      "execution_count": 72,
      "metadata": {
        "id": "KFa1occBO1pz"
      },
      "outputs": [],
      "source": [
        "# Parts of Speech\n",
        "ex1 = nlp(\"He drinks a drink.\")"
      ]
    },
    {
      "cell_type": "code",
      "execution_count": 73,
      "metadata": {
        "colab": {
          "base_uri": "https://localhost:8080/"
        },
        "id": "UKO6lOzHO1p0",
        "outputId": "d41368eb-5489-4db7-a0e9-87bd337f9742"
      },
      "outputs": [
        {
          "output_type": "stream",
          "name": "stdout",
          "text": [
            "He PRON\n",
            "drinks VERB\n",
            "a DET\n",
            "drink NOUN\n",
            ". PUNCT\n"
          ]
        }
      ],
      "source": [
        "# pos_ = Parts of Speech Simplified\n",
        "for word in ex1:\n",
        "    print(word.text,word.pos_)\n"
      ]
    },
    {
      "cell_type": "code",
      "execution_count": 74,
      "metadata": {
        "id": "1sF0X8jTO1p0"
      },
      "outputs": [],
      "source": [
        "# Parts of Speech Simple Term (.pos_)\n",
        "ex2 = nlp(\"I fish a fish\")"
      ]
    },
    {
      "cell_type": "code",
      "execution_count": 75,
      "metadata": {
        "colab": {
          "base_uri": "https://localhost:8080/"
        },
        "id": "LamjX0HiO1p0",
        "outputId": "fb813dd8-efdf-42ce-bb74-af4a1b38e218"
      },
      "outputs": [
        {
          "output_type": "stream",
          "name": "stdout",
          "text": [
            "I PRON PRP\n",
            "fish VERB VBP\n",
            "a DET DT\n",
            "fish NOUN NN\n"
          ]
        }
      ],
      "source": [
        "for word in ex2:\n",
        "    print(word.text,word.pos_,word.tag_)"
      ]
    },
    {
      "cell_type": "code",
      "execution_count": 76,
      "metadata": {
        "id": "EHnqIU1KO1p0",
        "outputId": "7f9b5f65-acff-4270-a29b-177034cb293a",
        "colab": {
          "base_uri": "https://localhost:8080/"
        }
      },
      "outputs": [
        {
          "output_type": "stream",
          "name": "stdout",
          "text": [
            "I PRON PRP\n",
            "fish VERB VBP\n",
            "a DET DT\n",
            "fish NOUN NN\n"
          ]
        }
      ],
      "source": [
        "# Parts of Speech Detailed (.tag_) (Good for training your own model,features)\n",
        "# Parts of Speech of Tag\n",
        "for word in ex2:\n",
        "    print(word.text,word.pos_,word.tag_)"
      ]
    },
    {
      "cell_type": "markdown",
      "metadata": {
        "id": "-qpTXh21O1p0"
      },
      "source": [
        "##### If you want to know the meaning of the pos abbreviation\n",
        "+ spacy.explain('DT')"
      ]
    },
    {
      "cell_type": "code",
      "execution_count": 77,
      "metadata": {
        "colab": {
          "base_uri": "https://localhost:8080/",
          "height": 36
        },
        "id": "PR-zWV1MO1p0",
        "outputId": "7e801f3f-3b4b-4a73-e16b-ae0a4fc79b4a"
      },
      "outputs": [
        {
          "output_type": "execute_result",
          "data": {
            "text/plain": [
              "'determiner'"
            ],
            "application/vnd.google.colaboratory.intrinsic+json": {
              "type": "string"
            }
          },
          "metadata": {},
          "execution_count": 77
        }
      ],
      "source": [
        "spacy.explain('DT')"
      ]
    },
    {
      "cell_type": "code",
      "execution_count": 78,
      "metadata": {
        "id": "NleUxNjrO1p0"
      },
      "outputs": [],
      "source": [
        "exercise1 = nlp(u\"All the faith he had had had had no effect on the outcome of his life\")\n",
        "#the first is a modifier while the second is the main verb of the sentence\n"
      ]
    },
    {
      "cell_type": "code",
      "execution_count": 79,
      "metadata": {
        "id": "cZF-g5tLO1p0",
        "outputId": "6884eeaf-62c2-4af8-9917-a84cc5fdd061",
        "colab": {
          "base_uri": "https://localhost:8080/"
        }
      },
      "outputs": [
        {
          "output_type": "stream",
          "name": "stdout",
          "text": [
            "('All', 'PDT', 'DET')\n",
            "('the', 'DT', 'DET')\n",
            "('faith', 'NN', 'NOUN')\n",
            "('he', 'PRP', 'PRON')\n",
            "('had', 'VBD', 'AUX')\n",
            "('had', 'VBN', 'AUX')\n",
            "('had', 'VBN', 'AUX')\n",
            "('had', 'VBN', 'VERB')\n",
            "('no', 'DT', 'DET')\n",
            "('effect', 'NN', 'NOUN')\n",
            "('on', 'IN', 'ADP')\n",
            "('the', 'DT', 'DET')\n",
            "('outcome', 'NN', 'NOUN')\n",
            "('of', 'IN', 'ADP')\n",
            "('his', 'PRP$', 'PRON')\n",
            "('life', 'NN', 'NOUN')\n"
          ]
        }
      ],
      "source": [
        "for word in exercise1:\n",
        "    print((word.text,word.tag_,word.pos_))"
      ]
    },
    {
      "cell_type": "code",
      "execution_count": 80,
      "metadata": {
        "id": "oG193YMWO1p4"
      },
      "outputs": [],
      "source": [
        "exercise2 = nlp(\"The man the professor the student has studies Rome.\")\n",
        "#The student has the professor who knows the man who studies ancient Rome"
      ]
    },
    {
      "cell_type": "code",
      "execution_count": 81,
      "metadata": {
        "id": "W_srVp1iO1p4",
        "outputId": "c80583a0-e1a4-4c8e-d11f-36cf69219816",
        "colab": {
          "base_uri": "https://localhost:8080/"
        }
      },
      "outputs": [
        {
          "output_type": "stream",
          "name": "stdout",
          "text": [
            "('The', 'DT', 'DET')\n",
            "('man', 'NN', 'NOUN')\n",
            "('the', 'DT', 'DET')\n",
            "('professor', 'NN', 'NOUN')\n",
            "('the', 'DT', 'DET')\n",
            "('student', 'NN', 'NOUN')\n",
            "('has', 'VBZ', 'VERB')\n",
            "('studies', 'NNS', 'NOUN')\n",
            "('Rome', 'NNP', 'PROPN')\n",
            "('.', '.', 'PUNCT')\n"
          ]
        }
      ],
      "source": [
        "for word in exercise2:\n",
        "    print((word.text,word.tag_,word.pos_))"
      ]
    },
    {
      "cell_type": "markdown",
      "metadata": {
        "id": "VNafgWJVO1p4"
      },
      "source": [
        "#### Syntactic Dependency\n",
        "+ It helps us to know the relation between tokens\n",
        "+ How each word is connected and dependent on each other"
      ]
    },
    {
      "cell_type": "code",
      "execution_count": 82,
      "metadata": {
        "id": "FsWE5VmDO1p4"
      },
      "outputs": [],
      "source": [
        "ex3 = nlp(\"I like to stay at home.\")"
      ]
    },
    {
      "cell_type": "code",
      "execution_count": 83,
      "metadata": {
        "colab": {
          "base_uri": "https://localhost:8080/"
        },
        "id": "NX4uTMLwO1p4",
        "outputId": "0d1e5495-eedb-499a-f61d-140b62b42091"
      },
      "outputs": [
        {
          "output_type": "stream",
          "name": "stdout",
          "text": [
            "('I', 'PRP', 'PRON', 'nsubj')\n",
            "('like', 'VBP', 'VERB', 'ROOT')\n",
            "('to', 'TO', 'PART', 'aux')\n",
            "('stay', 'VB', 'VERB', 'xcomp')\n",
            "('at', 'IN', 'ADP', 'prep')\n",
            "('home', 'NN', 'NOUN', 'pobj')\n",
            "('.', '.', 'PUNCT', 'punct')\n"
          ]
        }
      ],
      "source": [
        "for word in ex3:\n",
        "    print((word.text,word.tag_,word.pos_,word.dep_))"
      ]
    },
    {
      "cell_type": "code",
      "execution_count": 84,
      "metadata": {
        "colab": {
          "base_uri": "https://localhost:8080/",
          "height": 36
        },
        "id": "9hrMkE6CO1p5",
        "outputId": "4c9dc8d9-3c61-4c34-c870-abb8399bdc36"
      },
      "outputs": [
        {
          "output_type": "execute_result",
          "data": {
            "text/plain": [
              "'object of preposition'"
            ],
            "application/vnd.google.colaboratory.intrinsic+json": {
              "type": "string"
            }
          },
          "metadata": {},
          "execution_count": 84
        }
      ],
      "source": [
        "# What does Advmod mean?\n",
        "spacy.explain('pobj')"
      ]
    },
    {
      "cell_type": "markdown",
      "metadata": {
        "id": "7dusHOHDO1p5"
      },
      "source": [
        "### Visualizing Dependency using displaCy\n",
        "+ from spacy import displacy\n",
        "+ displacy.serve()\n",
        "+ displacy.render(jupyter=True) # for jupyter notebook"
      ]
    },
    {
      "cell_type": "code",
      "execution_count": 85,
      "metadata": {
        "id": "xaXF_zQvO1p5"
      },
      "outputs": [],
      "source": [
        "# To dispay the dependences and any other visualization\n",
        "from spacy import displacy"
      ]
    },
    {
      "cell_type": "code",
      "execution_count": 86,
      "metadata": {
        "colab": {
          "base_uri": "https://localhost:8080/",
          "height": 353
        },
        "id": "ajMzEJDLO1p5",
        "outputId": "d9e53ac2-bbfa-4a1a-f6cc-a3952dddcddf"
      },
      "outputs": [
        {
          "output_type": "display_data",
          "data": {
            "text/plain": [
              "<IPython.core.display.HTML object>"
            ],
            "text/html": [
              "<span class=\"tex2jax_ignore\"><svg xmlns=\"http://www.w3.org/2000/svg\" xmlns:xlink=\"http://www.w3.org/1999/xlink\" xml:lang=\"en\" id=\"d13de27f8b4b4c4292ce9dd6ee8815ac-0\" class=\"displacy\" width=\"1100\" height=\"312.0\" direction=\"ltr\" style=\"max-width: none; height: 312.0px; color: #000000; background: #ffffff; font-family: Arial; direction: ltr\">\n",
              "<text class=\"displacy-token\" fill=\"currentColor\" text-anchor=\"middle\" y=\"222.0\">\n",
              "    <tspan class=\"displacy-word\" fill=\"currentColor\" x=\"50\">I</tspan>\n",
              "    <tspan class=\"displacy-tag\" dy=\"2em\" fill=\"currentColor\" x=\"50\">PRON</tspan>\n",
              "</text>\n",
              "\n",
              "<text class=\"displacy-token\" fill=\"currentColor\" text-anchor=\"middle\" y=\"222.0\">\n",
              "    <tspan class=\"displacy-word\" fill=\"currentColor\" x=\"225\">like</tspan>\n",
              "    <tspan class=\"displacy-tag\" dy=\"2em\" fill=\"currentColor\" x=\"225\">VERB</tspan>\n",
              "</text>\n",
              "\n",
              "<text class=\"displacy-token\" fill=\"currentColor\" text-anchor=\"middle\" y=\"222.0\">\n",
              "    <tspan class=\"displacy-word\" fill=\"currentColor\" x=\"400\">to</tspan>\n",
              "    <tspan class=\"displacy-tag\" dy=\"2em\" fill=\"currentColor\" x=\"400\">PART</tspan>\n",
              "</text>\n",
              "\n",
              "<text class=\"displacy-token\" fill=\"currentColor\" text-anchor=\"middle\" y=\"222.0\">\n",
              "    <tspan class=\"displacy-word\" fill=\"currentColor\" x=\"575\">stay</tspan>\n",
              "    <tspan class=\"displacy-tag\" dy=\"2em\" fill=\"currentColor\" x=\"575\">VERB</tspan>\n",
              "</text>\n",
              "\n",
              "<text class=\"displacy-token\" fill=\"currentColor\" text-anchor=\"middle\" y=\"222.0\">\n",
              "    <tspan class=\"displacy-word\" fill=\"currentColor\" x=\"750\">at</tspan>\n",
              "    <tspan class=\"displacy-tag\" dy=\"2em\" fill=\"currentColor\" x=\"750\">ADP</tspan>\n",
              "</text>\n",
              "\n",
              "<text class=\"displacy-token\" fill=\"currentColor\" text-anchor=\"middle\" y=\"222.0\">\n",
              "    <tspan class=\"displacy-word\" fill=\"currentColor\" x=\"925\">home.</tspan>\n",
              "    <tspan class=\"displacy-tag\" dy=\"2em\" fill=\"currentColor\" x=\"925\">NOUN</tspan>\n",
              "</text>\n",
              "\n",
              "<g class=\"displacy-arrow\">\n",
              "    <path class=\"displacy-arc\" id=\"arrow-d13de27f8b4b4c4292ce9dd6ee8815ac-0-0\" stroke-width=\"2px\" d=\"M70,177.0 C70,89.5 220.0,89.5 220.0,177.0\" fill=\"none\" stroke=\"currentColor\"/>\n",
              "    <text dy=\"1.25em\" style=\"font-size: 0.8em; letter-spacing: 1px\">\n",
              "        <textPath xlink:href=\"#arrow-d13de27f8b4b4c4292ce9dd6ee8815ac-0-0\" class=\"displacy-label\" startOffset=\"50%\" side=\"left\" fill=\"currentColor\" text-anchor=\"middle\">nsubj</textPath>\n",
              "    </text>\n",
              "    <path class=\"displacy-arrowhead\" d=\"M70,179.0 L62,167.0 78,167.0\" fill=\"currentColor\"/>\n",
              "</g>\n",
              "\n",
              "<g class=\"displacy-arrow\">\n",
              "    <path class=\"displacy-arc\" id=\"arrow-d13de27f8b4b4c4292ce9dd6ee8815ac-0-1\" stroke-width=\"2px\" d=\"M420,177.0 C420,89.5 570.0,89.5 570.0,177.0\" fill=\"none\" stroke=\"currentColor\"/>\n",
              "    <text dy=\"1.25em\" style=\"font-size: 0.8em; letter-spacing: 1px\">\n",
              "        <textPath xlink:href=\"#arrow-d13de27f8b4b4c4292ce9dd6ee8815ac-0-1\" class=\"displacy-label\" startOffset=\"50%\" side=\"left\" fill=\"currentColor\" text-anchor=\"middle\">aux</textPath>\n",
              "    </text>\n",
              "    <path class=\"displacy-arrowhead\" d=\"M420,179.0 L412,167.0 428,167.0\" fill=\"currentColor\"/>\n",
              "</g>\n",
              "\n",
              "<g class=\"displacy-arrow\">\n",
              "    <path class=\"displacy-arc\" id=\"arrow-d13de27f8b4b4c4292ce9dd6ee8815ac-0-2\" stroke-width=\"2px\" d=\"M245,177.0 C245,2.0 575.0,2.0 575.0,177.0\" fill=\"none\" stroke=\"currentColor\"/>\n",
              "    <text dy=\"1.25em\" style=\"font-size: 0.8em; letter-spacing: 1px\">\n",
              "        <textPath xlink:href=\"#arrow-d13de27f8b4b4c4292ce9dd6ee8815ac-0-2\" class=\"displacy-label\" startOffset=\"50%\" side=\"left\" fill=\"currentColor\" text-anchor=\"middle\">xcomp</textPath>\n",
              "    </text>\n",
              "    <path class=\"displacy-arrowhead\" d=\"M575.0,179.0 L583.0,167.0 567.0,167.0\" fill=\"currentColor\"/>\n",
              "</g>\n",
              "\n",
              "<g class=\"displacy-arrow\">\n",
              "    <path class=\"displacy-arc\" id=\"arrow-d13de27f8b4b4c4292ce9dd6ee8815ac-0-3\" stroke-width=\"2px\" d=\"M595,177.0 C595,89.5 745.0,89.5 745.0,177.0\" fill=\"none\" stroke=\"currentColor\"/>\n",
              "    <text dy=\"1.25em\" style=\"font-size: 0.8em; letter-spacing: 1px\">\n",
              "        <textPath xlink:href=\"#arrow-d13de27f8b4b4c4292ce9dd6ee8815ac-0-3\" class=\"displacy-label\" startOffset=\"50%\" side=\"left\" fill=\"currentColor\" text-anchor=\"middle\">prep</textPath>\n",
              "    </text>\n",
              "    <path class=\"displacy-arrowhead\" d=\"M745.0,179.0 L753.0,167.0 737.0,167.0\" fill=\"currentColor\"/>\n",
              "</g>\n",
              "\n",
              "<g class=\"displacy-arrow\">\n",
              "    <path class=\"displacy-arc\" id=\"arrow-d13de27f8b4b4c4292ce9dd6ee8815ac-0-4\" stroke-width=\"2px\" d=\"M770,177.0 C770,89.5 920.0,89.5 920.0,177.0\" fill=\"none\" stroke=\"currentColor\"/>\n",
              "    <text dy=\"1.25em\" style=\"font-size: 0.8em; letter-spacing: 1px\">\n",
              "        <textPath xlink:href=\"#arrow-d13de27f8b4b4c4292ce9dd6ee8815ac-0-4\" class=\"displacy-label\" startOffset=\"50%\" side=\"left\" fill=\"currentColor\" text-anchor=\"middle\">pobj</textPath>\n",
              "    </text>\n",
              "    <path class=\"displacy-arrowhead\" d=\"M920.0,179.0 L928.0,167.0 912.0,167.0\" fill=\"currentColor\"/>\n",
              "</g>\n",
              "</svg></span>"
            ]
          },
          "metadata": {}
        }
      ],
      "source": [
        "# For Jupyter Notebooks you can set jupter=True to render it properly\n",
        "displacy.render(ex3,style='dep',jupyter=True)"
      ]
    },
    {
      "cell_type": "code",
      "execution_count": 87,
      "metadata": {
        "id": "5sWU5TFIO1p5"
      },
      "outputs": [],
      "source": [
        "# Visualizing Named Entity Recognistion\n",
        "#displacy.render(ex1,style='ent',jupyter=True,options={'distance':140})\n"
      ]
    },
    {
      "cell_type": "markdown",
      "metadata": {
        "id": "jZ2ohfIeO1p5"
      },
      "source": [
        "### Visualizing using displaCy\n",
        "+ For IDEs\n",
        "+ For Jupyter notebook\n"
      ]
    },
    {
      "cell_type": "code",
      "execution_count": 88,
      "metadata": {
        "id": "RSYTZ4lZO1p5"
      },
      "outputs": [],
      "source": [
        "# For IDEs\n",
        "#from spacy import displacy"
      ]
    },
    {
      "cell_type": "code",
      "execution_count": 89,
      "metadata": {
        "id": "EEEoY9ODO1p5"
      },
      "outputs": [],
      "source": [
        "docx3 = nlp('I go to school.')"
      ]
    },
    {
      "cell_type": "code",
      "execution_count": 90,
      "metadata": {
        "colab": {
          "base_uri": "https://localhost:8080/"
        },
        "id": "HW3ALX-KO1p6",
        "outputId": "9ac37bc7-a40a-48fc-8db5-1a7c79f58617"
      },
      "outputs": [
        {
          "output_type": "stream",
          "name": "stdout",
          "text": [
            "('I', 'PRP', 'PRON', 'nsubj')\n",
            "('go', 'VBP', 'VERB', 'ROOT')\n",
            "('to', 'IN', 'ADP', 'prep')\n",
            "('school', 'NN', 'NOUN', 'pobj')\n",
            "('.', '.', 'PUNCT', 'punct')\n"
          ]
        }
      ],
      "source": [
        "for word in docx3:\n",
        "    print((word.text,word.tag_,word.pos_,word.dep_))"
      ]
    },
    {
      "cell_type": "code",
      "execution_count": 91,
      "metadata": {
        "id": "4rmP-e3nO1p6"
      },
      "outputs": [],
      "source": [
        "# Start a server running on your localhost\n",
        "#displacy.serve(docx3,style='dep')"
      ]
    },
    {
      "cell_type": "markdown",
      "metadata": {
        "id": "gvKjpG-EO1p6"
      },
      "source": [
        "### Using displaCy in Jupyter notebooks\n",
        "+ displacy.render(jupyter=True)"
      ]
    },
    {
      "cell_type": "code",
      "execution_count": 92,
      "metadata": {
        "colab": {
          "base_uri": "https://localhost:8080/",
          "height": 266
        },
        "id": "voFqAZYcO1p6",
        "outputId": "d84ccaeb-c847-412a-c6d9-dbe30833db9a"
      },
      "outputs": [
        {
          "output_type": "display_data",
          "data": {
            "text/plain": [
              "<IPython.core.display.HTML object>"
            ],
            "text/html": [
              "<span class=\"tex2jax_ignore\"><svg xmlns=\"http://www.w3.org/2000/svg\" xmlns:xlink=\"http://www.w3.org/1999/xlink\" xml:lang=\"en\" id=\"76e5c0e82d6d4499ab349a5985b5fd92-0\" class=\"displacy\" width=\"750\" height=\"224.5\" direction=\"ltr\" style=\"max-width: none; height: 224.5px; color: #000000; background: #ffffff; font-family: Arial; direction: ltr\">\n",
              "<text class=\"displacy-token\" fill=\"currentColor\" text-anchor=\"middle\" y=\"134.5\">\n",
              "    <tspan class=\"displacy-word\" fill=\"currentColor\" x=\"50\">I</tspan>\n",
              "    <tspan class=\"displacy-tag\" dy=\"2em\" fill=\"currentColor\" x=\"50\">PRON</tspan>\n",
              "</text>\n",
              "\n",
              "<text class=\"displacy-token\" fill=\"currentColor\" text-anchor=\"middle\" y=\"134.5\">\n",
              "    <tspan class=\"displacy-word\" fill=\"currentColor\" x=\"225\">go</tspan>\n",
              "    <tspan class=\"displacy-tag\" dy=\"2em\" fill=\"currentColor\" x=\"225\">VERB</tspan>\n",
              "</text>\n",
              "\n",
              "<text class=\"displacy-token\" fill=\"currentColor\" text-anchor=\"middle\" y=\"134.5\">\n",
              "    <tspan class=\"displacy-word\" fill=\"currentColor\" x=\"400\">to</tspan>\n",
              "    <tspan class=\"displacy-tag\" dy=\"2em\" fill=\"currentColor\" x=\"400\">ADP</tspan>\n",
              "</text>\n",
              "\n",
              "<text class=\"displacy-token\" fill=\"currentColor\" text-anchor=\"middle\" y=\"134.5\">\n",
              "    <tspan class=\"displacy-word\" fill=\"currentColor\" x=\"575\">school.</tspan>\n",
              "    <tspan class=\"displacy-tag\" dy=\"2em\" fill=\"currentColor\" x=\"575\">NOUN</tspan>\n",
              "</text>\n",
              "\n",
              "<g class=\"displacy-arrow\">\n",
              "    <path class=\"displacy-arc\" id=\"arrow-76e5c0e82d6d4499ab349a5985b5fd92-0-0\" stroke-width=\"2px\" d=\"M70,89.5 C70,2.0 225.0,2.0 225.0,89.5\" fill=\"none\" stroke=\"currentColor\"/>\n",
              "    <text dy=\"1.25em\" style=\"font-size: 0.8em; letter-spacing: 1px\">\n",
              "        <textPath xlink:href=\"#arrow-76e5c0e82d6d4499ab349a5985b5fd92-0-0\" class=\"displacy-label\" startOffset=\"50%\" side=\"left\" fill=\"currentColor\" text-anchor=\"middle\">nsubj</textPath>\n",
              "    </text>\n",
              "    <path class=\"displacy-arrowhead\" d=\"M70,91.5 L62,79.5 78,79.5\" fill=\"currentColor\"/>\n",
              "</g>\n",
              "\n",
              "<g class=\"displacy-arrow\">\n",
              "    <path class=\"displacy-arc\" id=\"arrow-76e5c0e82d6d4499ab349a5985b5fd92-0-1\" stroke-width=\"2px\" d=\"M245,89.5 C245,2.0 400.0,2.0 400.0,89.5\" fill=\"none\" stroke=\"currentColor\"/>\n",
              "    <text dy=\"1.25em\" style=\"font-size: 0.8em; letter-spacing: 1px\">\n",
              "        <textPath xlink:href=\"#arrow-76e5c0e82d6d4499ab349a5985b5fd92-0-1\" class=\"displacy-label\" startOffset=\"50%\" side=\"left\" fill=\"currentColor\" text-anchor=\"middle\">prep</textPath>\n",
              "    </text>\n",
              "    <path class=\"displacy-arrowhead\" d=\"M400.0,91.5 L408.0,79.5 392.0,79.5\" fill=\"currentColor\"/>\n",
              "</g>\n",
              "\n",
              "<g class=\"displacy-arrow\">\n",
              "    <path class=\"displacy-arc\" id=\"arrow-76e5c0e82d6d4499ab349a5985b5fd92-0-2\" stroke-width=\"2px\" d=\"M420,89.5 C420,2.0 575.0,2.0 575.0,89.5\" fill=\"none\" stroke=\"currentColor\"/>\n",
              "    <text dy=\"1.25em\" style=\"font-size: 0.8em; letter-spacing: 1px\">\n",
              "        <textPath xlink:href=\"#arrow-76e5c0e82d6d4499ab349a5985b5fd92-0-2\" class=\"displacy-label\" startOffset=\"50%\" side=\"left\" fill=\"currentColor\" text-anchor=\"middle\">pobj</textPath>\n",
              "    </text>\n",
              "    <path class=\"displacy-arrowhead\" d=\"M575.0,91.5 L583.0,79.5 567.0,79.5\" fill=\"currentColor\"/>\n",
              "</g>\n",
              "</svg></span>"
            ]
          },
          "metadata": {}
        }
      ],
      "source": [
        "displacy.render(docx3,style='dep',jupyter=True)"
      ]
    },
    {
      "cell_type": "code",
      "source": [
        "spacy.explain('ADP')"
      ],
      "metadata": {
        "colab": {
          "base_uri": "https://localhost:8080/",
          "height": 36
        },
        "id": "ZpX_5DBAVDkG",
        "outputId": "0666595a-ad3a-4c90-9636-83da035f40f4"
      },
      "execution_count": 93,
      "outputs": [
        {
          "output_type": "execute_result",
          "data": {
            "text/plain": [
              "'adposition'"
            ],
            "application/vnd.google.colaboratory.intrinsic+json": {
              "type": "string"
            }
          },
          "metadata": {},
          "execution_count": 93
        }
      ]
    },
    {
      "cell_type": "code",
      "execution_count": 94,
      "metadata": {
        "id": "oleSarzRO1p6"
      },
      "outputs": [],
      "source": [
        "## Customizing the Diplays\n",
        "# Compact set it to square arrows or curved arrows\n",
        "# Color:#09a3d5\n",
        "options = {'compact': True, 'bg': 'cornflowerblue',\n",
        "           'color': '#fff', 'font': 'Sans Serif'}\n"
      ]
    },
    {
      "cell_type": "code",
      "execution_count": 95,
      "metadata": {
        "colab": {
          "base_uri": "https://localhost:8080/",
          "height": 253
        },
        "id": "1bHRgb_lO1p7",
        "outputId": "382db08a-5b4e-4a31-bbb4-004a8bafeced"
      },
      "outputs": [
        {
          "output_type": "display_data",
          "data": {
            "text/plain": [
              "<IPython.core.display.HTML object>"
            ],
            "text/html": [
              "<span class=\"tex2jax_ignore\"><svg xmlns=\"http://www.w3.org/2000/svg\" xmlns:xlink=\"http://www.w3.org/1999/xlink\" xml:lang=\"en\" id=\"aec2ef7b0b5943d799a94cd10b8bf43f-0\" class=\"displacy\" width=\"650\" height=\"212.0\" direction=\"ltr\" style=\"max-width: none; height: 212.0px; color: #fff; background: cornflowerblue; font-family: Sans Serif; direction: ltr\">\n",
              "<text class=\"displacy-token\" fill=\"currentColor\" text-anchor=\"middle\" y=\"122.0\">\n",
              "    <tspan class=\"displacy-word\" fill=\"currentColor\" x=\"50\">I</tspan>\n",
              "    <tspan class=\"displacy-tag\" dy=\"2em\" fill=\"currentColor\" x=\"50\">PRON</tspan>\n",
              "</text>\n",
              "\n",
              "<text class=\"displacy-token\" fill=\"currentColor\" text-anchor=\"middle\" y=\"122.0\">\n",
              "    <tspan class=\"displacy-word\" fill=\"currentColor\" x=\"200\">go</tspan>\n",
              "    <tspan class=\"displacy-tag\" dy=\"2em\" fill=\"currentColor\" x=\"200\">VERB</tspan>\n",
              "</text>\n",
              "\n",
              "<text class=\"displacy-token\" fill=\"currentColor\" text-anchor=\"middle\" y=\"122.0\">\n",
              "    <tspan class=\"displacy-word\" fill=\"currentColor\" x=\"350\">to</tspan>\n",
              "    <tspan class=\"displacy-tag\" dy=\"2em\" fill=\"currentColor\" x=\"350\">ADP</tspan>\n",
              "</text>\n",
              "\n",
              "<text class=\"displacy-token\" fill=\"currentColor\" text-anchor=\"middle\" y=\"122.0\">\n",
              "    <tspan class=\"displacy-word\" fill=\"currentColor\" x=\"500\">school.</tspan>\n",
              "    <tspan class=\"displacy-tag\" dy=\"2em\" fill=\"currentColor\" x=\"500\">NOUN</tspan>\n",
              "</text>\n",
              "\n",
              "<g class=\"displacy-arrow\">\n",
              "    <path class=\"displacy-arc\" id=\"arrow-aec2ef7b0b5943d799a94cd10b8bf43f-0-0\" stroke-width=\"2px\" d=\"M62,77.0 62,52.0 200.0,52.0 200.0,77.0\" fill=\"none\" stroke=\"currentColor\"/>\n",
              "    <text dy=\"1.25em\" style=\"font-size: 0.8em; letter-spacing: 1px\">\n",
              "        <textPath xlink:href=\"#arrow-aec2ef7b0b5943d799a94cd10b8bf43f-0-0\" class=\"displacy-label\" startOffset=\"50%\" side=\"left\" fill=\"currentColor\" text-anchor=\"middle\">nsubj</textPath>\n",
              "    </text>\n",
              "    <path class=\"displacy-arrowhead\" d=\"M62,79.0 L58,71.0 66,71.0\" fill=\"currentColor\"/>\n",
              "</g>\n",
              "\n",
              "<g class=\"displacy-arrow\">\n",
              "    <path class=\"displacy-arc\" id=\"arrow-aec2ef7b0b5943d799a94cd10b8bf43f-0-1\" stroke-width=\"2px\" d=\"M212,77.0 212,52.0 350.0,52.0 350.0,77.0\" fill=\"none\" stroke=\"currentColor\"/>\n",
              "    <text dy=\"1.25em\" style=\"font-size: 0.8em; letter-spacing: 1px\">\n",
              "        <textPath xlink:href=\"#arrow-aec2ef7b0b5943d799a94cd10b8bf43f-0-1\" class=\"displacy-label\" startOffset=\"50%\" side=\"left\" fill=\"currentColor\" text-anchor=\"middle\">prep</textPath>\n",
              "    </text>\n",
              "    <path class=\"displacy-arrowhead\" d=\"M350.0,79.0 L354.0,71.0 346.0,71.0\" fill=\"currentColor\"/>\n",
              "</g>\n",
              "\n",
              "<g class=\"displacy-arrow\">\n",
              "    <path class=\"displacy-arc\" id=\"arrow-aec2ef7b0b5943d799a94cd10b8bf43f-0-2\" stroke-width=\"2px\" d=\"M362,77.0 362,52.0 500.0,52.0 500.0,77.0\" fill=\"none\" stroke=\"currentColor\"/>\n",
              "    <text dy=\"1.25em\" style=\"font-size: 0.8em; letter-spacing: 1px\">\n",
              "        <textPath xlink:href=\"#arrow-aec2ef7b0b5943d799a94cd10b8bf43f-0-2\" class=\"displacy-label\" startOffset=\"50%\" side=\"left\" fill=\"currentColor\" text-anchor=\"middle\">pobj</textPath>\n",
              "    </text>\n",
              "    <path class=\"displacy-arrowhead\" d=\"M500.0,79.0 L504.0,71.0 496.0,71.0\" fill=\"currentColor\"/>\n",
              "</g>\n",
              "</svg></span>"
            ]
          },
          "metadata": {}
        }
      ],
      "source": [
        "displacy.render(docx3,style='dep',options=options,jupyter=True)"
      ]
    },
    {
      "cell_type": "code",
      "execution_count": 96,
      "metadata": {
        "id": "P1KCCfcnO1p7"
      },
      "outputs": [],
      "source": [
        "# Adding Title\n",
        "docx3.user_data['title']= 'Buffalo Complex Sentence'"
      ]
    },
    {
      "cell_type": "code",
      "execution_count": 97,
      "metadata": {
        "id": "e4XPhpENO1p7",
        "outputId": "8325fcef-8e27-4d33-8d58-926e55e9f8e3",
        "colab": {
          "base_uri": "https://localhost:8080/",
          "height": 253
        }
      },
      "outputs": [
        {
          "output_type": "display_data",
          "data": {
            "text/plain": [
              "<IPython.core.display.HTML object>"
            ],
            "text/html": [
              "<span class=\"tex2jax_ignore\"><svg xmlns=\"http://www.w3.org/2000/svg\" xmlns:xlink=\"http://www.w3.org/1999/xlink\" xml:lang=\"en\" id=\"88a0f386bf534d07ba1f1f4130cf16dc-0\" class=\"displacy\" width=\"650\" height=\"212.0\" direction=\"ltr\" style=\"max-width: none; height: 212.0px; color: #fff; background: cornflowerblue; font-family: Sans Serif; direction: ltr\">\n",
              "<text class=\"displacy-token\" fill=\"currentColor\" text-anchor=\"middle\" y=\"122.0\">\n",
              "    <tspan class=\"displacy-word\" fill=\"currentColor\" x=\"50\">I</tspan>\n",
              "    <tspan class=\"displacy-tag\" dy=\"2em\" fill=\"currentColor\" x=\"50\">PRON</tspan>\n",
              "</text>\n",
              "\n",
              "<text class=\"displacy-token\" fill=\"currentColor\" text-anchor=\"middle\" y=\"122.0\">\n",
              "    <tspan class=\"displacy-word\" fill=\"currentColor\" x=\"200\">go</tspan>\n",
              "    <tspan class=\"displacy-tag\" dy=\"2em\" fill=\"currentColor\" x=\"200\">VERB</tspan>\n",
              "</text>\n",
              "\n",
              "<text class=\"displacy-token\" fill=\"currentColor\" text-anchor=\"middle\" y=\"122.0\">\n",
              "    <tspan class=\"displacy-word\" fill=\"currentColor\" x=\"350\">to</tspan>\n",
              "    <tspan class=\"displacy-tag\" dy=\"2em\" fill=\"currentColor\" x=\"350\">ADP</tspan>\n",
              "</text>\n",
              "\n",
              "<text class=\"displacy-token\" fill=\"currentColor\" text-anchor=\"middle\" y=\"122.0\">\n",
              "    <tspan class=\"displacy-word\" fill=\"currentColor\" x=\"500\">school.</tspan>\n",
              "    <tspan class=\"displacy-tag\" dy=\"2em\" fill=\"currentColor\" x=\"500\">NOUN</tspan>\n",
              "</text>\n",
              "\n",
              "<g class=\"displacy-arrow\">\n",
              "    <path class=\"displacy-arc\" id=\"arrow-88a0f386bf534d07ba1f1f4130cf16dc-0-0\" stroke-width=\"2px\" d=\"M62,77.0 62,52.0 200.0,52.0 200.0,77.0\" fill=\"none\" stroke=\"currentColor\"/>\n",
              "    <text dy=\"1.25em\" style=\"font-size: 0.8em; letter-spacing: 1px\">\n",
              "        <textPath xlink:href=\"#arrow-88a0f386bf534d07ba1f1f4130cf16dc-0-0\" class=\"displacy-label\" startOffset=\"50%\" side=\"left\" fill=\"currentColor\" text-anchor=\"middle\">nsubj</textPath>\n",
              "    </text>\n",
              "    <path class=\"displacy-arrowhead\" d=\"M62,79.0 L58,71.0 66,71.0\" fill=\"currentColor\"/>\n",
              "</g>\n",
              "\n",
              "<g class=\"displacy-arrow\">\n",
              "    <path class=\"displacy-arc\" id=\"arrow-88a0f386bf534d07ba1f1f4130cf16dc-0-1\" stroke-width=\"2px\" d=\"M212,77.0 212,52.0 350.0,52.0 350.0,77.0\" fill=\"none\" stroke=\"currentColor\"/>\n",
              "    <text dy=\"1.25em\" style=\"font-size: 0.8em; letter-spacing: 1px\">\n",
              "        <textPath xlink:href=\"#arrow-88a0f386bf534d07ba1f1f4130cf16dc-0-1\" class=\"displacy-label\" startOffset=\"50%\" side=\"left\" fill=\"currentColor\" text-anchor=\"middle\">prep</textPath>\n",
              "    </text>\n",
              "    <path class=\"displacy-arrowhead\" d=\"M350.0,79.0 L354.0,71.0 346.0,71.0\" fill=\"currentColor\"/>\n",
              "</g>\n",
              "\n",
              "<g class=\"displacy-arrow\">\n",
              "    <path class=\"displacy-arc\" id=\"arrow-88a0f386bf534d07ba1f1f4130cf16dc-0-2\" stroke-width=\"2px\" d=\"M362,77.0 362,52.0 500.0,52.0 500.0,77.0\" fill=\"none\" stroke=\"currentColor\"/>\n",
              "    <text dy=\"1.25em\" style=\"font-size: 0.8em; letter-spacing: 1px\">\n",
              "        <textPath xlink:href=\"#arrow-88a0f386bf534d07ba1f1f4130cf16dc-0-2\" class=\"displacy-label\" startOffset=\"50%\" side=\"left\" fill=\"currentColor\" text-anchor=\"middle\">pobj</textPath>\n",
              "    </text>\n",
              "    <path class=\"displacy-arrowhead\" d=\"M500.0,79.0 L504.0,71.0 496.0,71.0\" fill=\"currentColor\"/>\n",
              "</g>\n",
              "</svg></span>"
            ]
          },
          "metadata": {}
        }
      ],
      "source": [
        "displacy.render(docx3,style='dep',options=options,jupyter=True)"
      ]
    },
    {
      "cell_type": "markdown",
      "metadata": {
        "id": "2QSseqS7O1p7"
      },
      "source": [
        "### Rendering HTML\n",
        "+ Default is svg\n",
        "+ set page to True\n",
        "+ minify=True For Minified format"
      ]
    },
    {
      "cell_type": "code",
      "execution_count": 98,
      "metadata": {
        "id": "LgDrXfQdO1p7",
        "colab": {
          "base_uri": "https://localhost:8080/",
          "height": 376
        },
        "outputId": "9abeb04b-a9c5-402b-b1f6-a41b021a7ed2"
      },
      "outputs": [
        {
          "output_type": "display_data",
          "data": {
            "text/plain": [
              "<IPython.core.display.HTML object>"
            ],
            "text/html": [
              "<span class=\"tex2jax_ignore\"><!DOCTYPE html>\n",
              "<html lang=\"en\">\n",
              "    <head>\n",
              "        <title>displaCy</title>\n",
              "    </head>\n",
              "\n",
              "    <body style=\"font-size: 16px; font-family: -apple-system, BlinkMacSystemFont, 'Segoe UI', Helvetica, Arial, sans-serif, 'Apple Color Emoji', 'Segoe UI Emoji', 'Segoe UI Symbol'; padding: 4rem 2rem; direction: ltr\">\n",
              "<figure style=\"margin-bottom: 6rem\">\n",
              "<svg xmlns=\"http://www.w3.org/2000/svg\" xmlns:xlink=\"http://www.w3.org/1999/xlink\" xml:lang=\"en\" id=\"e8dc40504e5c4a149ecb7be32c3ad7cd-0\" class=\"displacy\" width=\"750\" height=\"224.5\" direction=\"ltr\" style=\"max-width: none; height: 224.5px; color: #000000; background: #ffffff; font-family: Arial; direction: ltr\">\n",
              "<text class=\"displacy-token\" fill=\"currentColor\" text-anchor=\"middle\" y=\"134.5\">\n",
              "    <tspan class=\"displacy-word\" fill=\"currentColor\" x=\"50\">I</tspan>\n",
              "    <tspan class=\"displacy-tag\" dy=\"2em\" fill=\"currentColor\" x=\"50\">PRON</tspan>\n",
              "</text>\n",
              "\n",
              "<text class=\"displacy-token\" fill=\"currentColor\" text-anchor=\"middle\" y=\"134.5\">\n",
              "    <tspan class=\"displacy-word\" fill=\"currentColor\" x=\"225\">go</tspan>\n",
              "    <tspan class=\"displacy-tag\" dy=\"2em\" fill=\"currentColor\" x=\"225\">VERB</tspan>\n",
              "</text>\n",
              "\n",
              "<text class=\"displacy-token\" fill=\"currentColor\" text-anchor=\"middle\" y=\"134.5\">\n",
              "    <tspan class=\"displacy-word\" fill=\"currentColor\" x=\"400\">to</tspan>\n",
              "    <tspan class=\"displacy-tag\" dy=\"2em\" fill=\"currentColor\" x=\"400\">ADP</tspan>\n",
              "</text>\n",
              "\n",
              "<text class=\"displacy-token\" fill=\"currentColor\" text-anchor=\"middle\" y=\"134.5\">\n",
              "    <tspan class=\"displacy-word\" fill=\"currentColor\" x=\"575\">school.</tspan>\n",
              "    <tspan class=\"displacy-tag\" dy=\"2em\" fill=\"currentColor\" x=\"575\">NOUN</tspan>\n",
              "</text>\n",
              "\n",
              "<g class=\"displacy-arrow\">\n",
              "    <path class=\"displacy-arc\" id=\"arrow-e8dc40504e5c4a149ecb7be32c3ad7cd-0-0\" stroke-width=\"2px\" d=\"M70,89.5 C70,2.0 225.0,2.0 225.0,89.5\" fill=\"none\" stroke=\"currentColor\"/>\n",
              "    <text dy=\"1.25em\" style=\"font-size: 0.8em; letter-spacing: 1px\">\n",
              "        <textPath xlink:href=\"#arrow-e8dc40504e5c4a149ecb7be32c3ad7cd-0-0\" class=\"displacy-label\" startOffset=\"50%\" side=\"left\" fill=\"currentColor\" text-anchor=\"middle\">nsubj</textPath>\n",
              "    </text>\n",
              "    <path class=\"displacy-arrowhead\" d=\"M70,91.5 L62,79.5 78,79.5\" fill=\"currentColor\"/>\n",
              "</g>\n",
              "\n",
              "<g class=\"displacy-arrow\">\n",
              "    <path class=\"displacy-arc\" id=\"arrow-e8dc40504e5c4a149ecb7be32c3ad7cd-0-1\" stroke-width=\"2px\" d=\"M245,89.5 C245,2.0 400.0,2.0 400.0,89.5\" fill=\"none\" stroke=\"currentColor\"/>\n",
              "    <text dy=\"1.25em\" style=\"font-size: 0.8em; letter-spacing: 1px\">\n",
              "        <textPath xlink:href=\"#arrow-e8dc40504e5c4a149ecb7be32c3ad7cd-0-1\" class=\"displacy-label\" startOffset=\"50%\" side=\"left\" fill=\"currentColor\" text-anchor=\"middle\">prep</textPath>\n",
              "    </text>\n",
              "    <path class=\"displacy-arrowhead\" d=\"M400.0,91.5 L408.0,79.5 392.0,79.5\" fill=\"currentColor\"/>\n",
              "</g>\n",
              "\n",
              "<g class=\"displacy-arrow\">\n",
              "    <path class=\"displacy-arc\" id=\"arrow-e8dc40504e5c4a149ecb7be32c3ad7cd-0-2\" stroke-width=\"2px\" d=\"M420,89.5 C420,2.0 575.0,2.0 575.0,89.5\" fill=\"none\" stroke=\"currentColor\"/>\n",
              "    <text dy=\"1.25em\" style=\"font-size: 0.8em; letter-spacing: 1px\">\n",
              "        <textPath xlink:href=\"#arrow-e8dc40504e5c4a149ecb7be32c3ad7cd-0-2\" class=\"displacy-label\" startOffset=\"50%\" side=\"left\" fill=\"currentColor\" text-anchor=\"middle\">pobj</textPath>\n",
              "    </text>\n",
              "    <path class=\"displacy-arrowhead\" d=\"M575.0,91.5 L583.0,79.5 567.0,79.5\" fill=\"currentColor\"/>\n",
              "</g>\n",
              "</svg>\n",
              "</figure>\n",
              "</body>\n",
              "</html></span>"
            ]
          },
          "metadata": {}
        }
      ],
      "source": [
        "html = displacy.render(docx3,style='dep',page=True)"
      ]
    },
    {
      "cell_type": "markdown",
      "metadata": {
        "id": "Fgs9bX3nO1p7"
      },
      "source": [
        "### Exporting The Rendered Graphic"
      ]
    },
    {
      "cell_type": "markdown",
      "metadata": {
        "id": "ALLHAzSrO1p8"
      },
      "source": [
        "### Named Entity Recognition or Detection\n",
        "+  Classifying a text into predefined categories or real world object  entities.\n",
        "+ takes a string of text (sentence or paragraph) as input and identifies relevant nouns (people, places, and organizations) that are mentioned in that string.\n",
        "\n",
        "##### Uses\n",
        "+ Classifying or Categorizing contents by getting the relevant tags\n",
        "+ Improve search algorithms\n",
        "+ For content recommendations\n",
        "+ For info extraction\n",
        "\n",
        "+ .ents\n",
        "+ .label_"
      ]
    },
    {
      "cell_type": "code",
      "execution_count": 99,
      "metadata": {
        "id": "Gv7KoRqPO1p8"
      },
      "outputs": [],
      "source": [
        "wikitext = nlp(u\"By 2020 the telecom company Orange, will relocate from Turkey to Orange County in the U.S. close to Apple.It will cost them 2 billion dollars.\")"
      ]
    },
    {
      "cell_type": "code",
      "execution_count": 100,
      "metadata": {
        "colab": {
          "base_uri": "https://localhost:8080/"
        },
        "id": "eovPKnvLO1p8",
        "outputId": "0a9147aa-90de-4b73-c1fd-f84dcdff41c7"
      },
      "outputs": [
        {
          "output_type": "stream",
          "name": "stdout",
          "text": [
            "2020 DATE\n",
            "Orange NORP\n",
            "Turkey GPE\n",
            "Orange County GPE\n",
            "U.S. GPE\n",
            "Apple ORG\n",
            "2 billion dollars MONEY\n"
          ]
        }
      ],
      "source": [
        "for entity in wikitext.ents:\n",
        "    print(entity.text,entity.label_)"
      ]
    },
    {
      "cell_type": "code",
      "source": [
        "spacy.explain('NORP')"
      ],
      "metadata": {
        "colab": {
          "base_uri": "https://localhost:8080/",
          "height": 36
        },
        "id": "NLh8806bVvmK",
        "outputId": "7c17795c-6542-4ecb-8d1a-6d4f19db1945"
      },
      "execution_count": 101,
      "outputs": [
        {
          "output_type": "execute_result",
          "data": {
            "text/plain": [
              "'Nationalities or religious or political groups'"
            ],
            "application/vnd.google.colaboratory.intrinsic+json": {
              "type": "string"
            }
          },
          "metadata": {},
          "execution_count": 101
        }
      ]
    },
    {
      "cell_type": "code",
      "execution_count": 102,
      "metadata": {
        "colab": {
          "base_uri": "https://localhost:8080/",
          "height": 36
        },
        "id": "uhvVGkCCO1p8",
        "outputId": "19b75ec6-68a0-477d-922c-fddb3de273d9"
      },
      "outputs": [
        {
          "output_type": "execute_result",
          "data": {
            "text/plain": [
              "'Countries, cities, states'"
            ],
            "application/vnd.google.colaboratory.intrinsic+json": {
              "type": "string"
            }
          },
          "metadata": {},
          "execution_count": 102
        }
      ],
      "source": [
        "# What does GPE means\n",
        "spacy.explain('GPE')"
      ]
    },
    {
      "cell_type": "code",
      "execution_count": 103,
      "metadata": {
        "colab": {
          "base_uri": "https://localhost:8080/",
          "height": 122
        },
        "id": "kCINYwIQO1p8",
        "outputId": "c29711ab-3296-42ee-cfc6-2d30cb6f766f"
      },
      "outputs": [
        {
          "output_type": "display_data",
          "data": {
            "text/plain": [
              "<IPython.core.display.HTML object>"
            ],
            "text/html": [
              "<span class=\"tex2jax_ignore\"><div class=\"entities\" style=\"line-height: 2.5; direction: ltr\">By \n",
              "<mark class=\"entity\" style=\"background: #bfe1d9; padding: 0.45em 0.6em; margin: 0 0.25em; line-height: 1; border-radius: 0.35em;\">\n",
              "    2020\n",
              "    <span style=\"font-size: 0.8em; font-weight: bold; line-height: 1; border-radius: 0.35em; vertical-align: middle; margin-left: 0.5rem\">DATE</span>\n",
              "</mark>\n",
              " the telecom company \n",
              "<mark class=\"entity\" style=\"background: #c887fb; padding: 0.45em 0.6em; margin: 0 0.25em; line-height: 1; border-radius: 0.35em;\">\n",
              "    Orange\n",
              "    <span style=\"font-size: 0.8em; font-weight: bold; line-height: 1; border-radius: 0.35em; vertical-align: middle; margin-left: 0.5rem\">NORP</span>\n",
              "</mark>\n",
              ", will relocate from \n",
              "<mark class=\"entity\" style=\"background: #feca74; padding: 0.45em 0.6em; margin: 0 0.25em; line-height: 1; border-radius: 0.35em;\">\n",
              "    Turkey\n",
              "    <span style=\"font-size: 0.8em; font-weight: bold; line-height: 1; border-radius: 0.35em; vertical-align: middle; margin-left: 0.5rem\">GPE</span>\n",
              "</mark>\n",
              " to \n",
              "<mark class=\"entity\" style=\"background: #feca74; padding: 0.45em 0.6em; margin: 0 0.25em; line-height: 1; border-radius: 0.35em;\">\n",
              "    Orange County\n",
              "    <span style=\"font-size: 0.8em; font-weight: bold; line-height: 1; border-radius: 0.35em; vertical-align: middle; margin-left: 0.5rem\">GPE</span>\n",
              "</mark>\n",
              " in the \n",
              "<mark class=\"entity\" style=\"background: #feca74; padding: 0.45em 0.6em; margin: 0 0.25em; line-height: 1; border-radius: 0.35em;\">\n",
              "    U.S.\n",
              "    <span style=\"font-size: 0.8em; font-weight: bold; line-height: 1; border-radius: 0.35em; vertical-align: middle; margin-left: 0.5rem\">GPE</span>\n",
              "</mark>\n",
              " close to \n",
              "<mark class=\"entity\" style=\"background: #7aecec; padding: 0.45em 0.6em; margin: 0 0.25em; line-height: 1; border-radius: 0.35em;\">\n",
              "    Apple\n",
              "    <span style=\"font-size: 0.8em; font-weight: bold; line-height: 1; border-radius: 0.35em; vertical-align: middle; margin-left: 0.5rem\">ORG</span>\n",
              "</mark>\n",
              ".It will cost them \n",
              "<mark class=\"entity\" style=\"background: #e4e7d2; padding: 0.45em 0.6em; margin: 0 0.25em; line-height: 1; border-radius: 0.35em;\">\n",
              "    2 billion dollars\n",
              "    <span style=\"font-size: 0.8em; font-weight: bold; line-height: 1; border-radius: 0.35em; vertical-align: middle; margin-left: 0.5rem\">MONEY</span>\n",
              "</mark>\n",
              ".</div></span>"
            ]
          },
          "metadata": {}
        }
      ],
      "source": [
        "# Visualize With DiSplaCy\n",
        "displacy.render(wikitext,style='ent',jupyter=True)"
      ]
    },
    {
      "cell_type": "code",
      "execution_count": 104,
      "metadata": {
        "id": "1jaEOh3xO1p8"
      },
      "outputs": [],
      "source": [
        "wikitext2 = nlp(u\"I live in Paris.\")"
      ]
    },
    {
      "cell_type": "code",
      "execution_count": 105,
      "metadata": {
        "colab": {
          "base_uri": "https://localhost:8080/",
          "height": 52
        },
        "id": "BpIrp4neO1p8",
        "outputId": "9ab0e3cf-aae3-4d81-c9fc-f5aef7d8361d"
      },
      "outputs": [
        {
          "output_type": "display_data",
          "data": {
            "text/plain": [
              "<IPython.core.display.HTML object>"
            ],
            "text/html": [
              "<span class=\"tex2jax_ignore\"><div class=\"entities\" style=\"line-height: 2.5; direction: ltr\">I live in \n",
              "<mark class=\"entity\" style=\"background: #feca74; padding: 0.45em 0.6em; margin: 0 0.25em; line-height: 1; border-radius: 0.35em;\">\n",
              "    Paris\n",
              "    <span style=\"font-size: 0.8em; font-weight: bold; line-height: 1; border-radius: 0.35em; vertical-align: middle; margin-left: 0.5rem\">GPE</span>\n",
              "</mark>\n",
              ".</div></span>"
            ]
          },
          "metadata": {}
        }
      ],
      "source": [
        "# Visualize With DiSplaCy\n",
        "displacy.render(wikitext2,style='ent',jupyter=True)"
      ]
    },
    {
      "cell_type": "code",
      "execution_count": 106,
      "metadata": {
        "id": "CYk10B85O1p9",
        "outputId": "26793985-40ce-41ee-93e8-483ea84c4493",
        "colab": {
          "base_uri": "https://localhost:8080/",
          "height": 36
        }
      },
      "outputs": [
        {
          "output_type": "execute_result",
          "data": {
            "text/plain": [
              "'Nationalities or religious or political groups'"
            ],
            "application/vnd.google.colaboratory.intrinsic+json": {
              "type": "string"
            }
          },
          "metadata": {},
          "execution_count": 106
        }
      ],
      "source": [
        "spacy.explain('NORP')"
      ]
    },
    {
      "cell_type": "code",
      "execution_count": 107,
      "metadata": {
        "id": "ogpIXtK8O1p9"
      },
      "outputs": [],
      "source": [
        "doc1 = nlp(\"Facebook, Explosion.ai, JCharisTech are all internet companies\")"
      ]
    },
    {
      "cell_type": "code",
      "execution_count": 108,
      "metadata": {
        "colab": {
          "base_uri": "https://localhost:8080/",
          "height": 52
        },
        "id": "E4ShGdx_O1p9",
        "outputId": "17aea151-255c-417b-bc07-7b1e5f0ea63d"
      },
      "outputs": [
        {
          "output_type": "display_data",
          "data": {
            "text/plain": [
              "<IPython.core.display.HTML object>"
            ],
            "text/html": [
              "<span class=\"tex2jax_ignore\"><div class=\"entities\" style=\"line-height: 2.5; direction: ltr\">Facebook, \n",
              "<mark class=\"entity\" style=\"background: #7aecec; padding: 0.45em 0.6em; margin: 0 0.25em; line-height: 1; border-radius: 0.35em;\">\n",
              "    Explosion.ai\n",
              "    <span style=\"font-size: 0.8em; font-weight: bold; line-height: 1; border-radius: 0.35em; vertical-align: middle; margin-left: 0.5rem\">ORG</span>\n",
              "</mark>\n",
              ", JCharisTech are all internet companies</div></span>"
            ]
          },
          "metadata": {}
        }
      ],
      "source": [
        "# Visualize With DiSplaCy\n",
        "displacy.render(doc1,style='ent',jupyter=True)"
      ]
    },
    {
      "cell_type": "markdown",
      "metadata": {
        "id": "aQ7jpXnEO1p9"
      },
      "source": [
        "### Text Normalization  and Word Inflection\n",
        "+ Word inflection == syntactic differences between word forms\n",
        "+ Reducing a word to its base/root form\n",
        "+ Lemmatization **\n",
        "- - a word based on its intended meaning\n",
        "+ Stemming\n",
        "- - Cutting of the prefixes/suffices to reduce a word to base form\n",
        "+ Word Shape Analysis"
      ]
    },
    {
      "cell_type": "code",
      "execution_count": 109,
      "metadata": {
        "id": "N-3qetb6O1p9"
      },
      "outputs": [],
      "source": [
        "## Lemmatization\n",
        "docx_lemma = nlp(\"He goes to school.\")"
      ]
    },
    {
      "cell_type": "code",
      "execution_count": 110,
      "metadata": {
        "colab": {
          "base_uri": "https://localhost:8080/"
        },
        "id": "CZdvoe8pO1p9",
        "outputId": "9cac3648-d56a-46dc-b7b5-f78a52a021eb"
      },
      "outputs": [
        {
          "output_type": "stream",
          "name": "stdout",
          "text": [
            "Token=> He Lemma=> he PRON\n",
            "Token=> goes Lemma=> go VERB\n",
            "Token=> to Lemma=> to ADP\n",
            "Token=> school Lemma=> school NOUN\n",
            "Token=> . Lemma=> . PUNCT\n"
          ]
        }
      ],
      "source": [
        "for word in docx_lemma:\n",
        "    print(\"Token=>\",word.text,\"Lemma=>\",word.lemma_,word.pos_)"
      ]
    },
    {
      "cell_type": "code",
      "execution_count": 111,
      "metadata": {
        "id": "ZlfzofFcO1p9"
      },
      "outputs": [],
      "source": [
        "docx_lemma1 = nlp(\"I like the goods.\")"
      ]
    },
    {
      "cell_type": "code",
      "execution_count": 112,
      "metadata": {
        "colab": {
          "base_uri": "https://localhost:8080/"
        },
        "id": "DSBJG05iO1p-",
        "outputId": "da5ec268-4792-4c3c-80bb-d02d1954e581"
      },
      "outputs": [
        {
          "output_type": "stream",
          "name": "stdout",
          "text": [
            "Token=> I Lemma=> I PRON\n",
            "Token=> like Lemma=> like VERB\n",
            "Token=> the Lemma=> the DET\n",
            "Token=> goods Lemma=> good NOUN\n",
            "Token=> . Lemma=> . PUNCT\n"
          ]
        }
      ],
      "source": [
        "for word in docx_lemma1:\n",
        "    print(\"Token=>\",word.text,\"Lemma=>\",word.lemma_,word.pos_)"
      ]
    },
    {
      "cell_type": "code",
      "execution_count": 113,
      "metadata": {
        "id": "Rwru-I-OO1p-"
      },
      "outputs": [],
      "source": [
        "docx_lemma2 = nlp(\"I am walking.\")"
      ]
    },
    {
      "cell_type": "code",
      "execution_count": 114,
      "metadata": {
        "colab": {
          "base_uri": "https://localhost:8080/"
        },
        "id": "EWBw4nuaO1p-",
        "outputId": "9ea5069d-7a1a-47b5-9024-765cadd162b3"
      },
      "outputs": [
        {
          "output_type": "stream",
          "name": "stdout",
          "text": [
            "Token=> I Lemma=> I PRON\n",
            "Token=> am Lemma=> be AUX\n",
            "Token=> walking Lemma=> walk VERB\n",
            "Token=> . Lemma=> . PUNCT\n"
          ]
        }
      ],
      "source": [
        "for word in docx_lemma2:\n",
        "    print(\"Token=>\",word.text,\"Lemma=>\",word.lemma_,word.pos_)"
      ]
    },
    {
      "cell_type": "markdown",
      "metadata": {
        "id": "AP9Z_KNoO1p-"
      },
      "source": [
        "### Semantic Similarity\n",
        "+ object1.similarity(object2)\n",
        "+ Uses:\n",
        "+ - Recommendation systems\n",
        "+ - Data Preprocessing eg removing duplicates\n",
        "- - python -m spacy download en_core_web_lg"
      ]
    },
    {
      "cell_type": "code",
      "execution_count": 115,
      "metadata": {
        "id": "Yy3vBftsO1p-"
      },
      "outputs": [],
      "source": [
        "# Similarity of object\n",
        "doc1 = nlp(\"wolf\")\n",
        "doc2 = nlp(\"dog\")"
      ]
    },
    {
      "cell_type": "code",
      "execution_count": 116,
      "metadata": {
        "id": "gVUsMKhYO1p-",
        "outputId": "d9e9978b-8710-4b1b-a22f-4418370282fa",
        "colab": {
          "base_uri": "https://localhost:8080/"
        }
      },
      "outputs": [
        {
          "output_type": "stream",
          "name": "stderr",
          "text": [
            "<ipython-input-116-d3bf01ccd94a>:1: UserWarning: [W007] The model you're using has no word vectors loaded, so the result of the Doc.similarity method will be based on the tagger, parser and NER, which may not give useful similarity judgements. This may happen if you're using one of the small models, e.g. `en_core_web_sm`, which don't ship with word vectors and only use context-sensitive tensors. You can always add your own word vectors, or use one of the larger models instead if available.\n",
            "  doc1.similarity(doc2)\n"
          ]
        },
        {
          "output_type": "execute_result",
          "data": {
            "text/plain": [
              "0.666785871991148"
            ]
          },
          "metadata": {},
          "execution_count": 116
        }
      ],
      "source": [
        "doc1.similarity(doc2)"
      ]
    },
    {
      "cell_type": "code",
      "execution_count": 117,
      "metadata": {
        "id": "xxxqlAFNO1p_"
      },
      "outputs": [],
      "source": [
        "doc3  = nlp(\"cat\")"
      ]
    },
    {
      "cell_type": "code",
      "execution_count": 118,
      "metadata": {
        "id": "r6Dis-V5O1p_",
        "outputId": "ca85f364-e2a8-4b46-a473-650c3a73664a",
        "colab": {
          "base_uri": "https://localhost:8080/"
        }
      },
      "outputs": [
        {
          "output_type": "stream",
          "name": "stderr",
          "text": [
            "<ipython-input-118-5501fc2053e1>:1: UserWarning: [W007] The model you're using has no word vectors loaded, so the result of the Doc.similarity method will be based on the tagger, parser and NER, which may not give useful similarity judgements. This may happen if you're using one of the small models, e.g. `en_core_web_sm`, which don't ship with word vectors and only use context-sensitive tensors. You can always add your own word vectors, or use one of the larger models instead if available.\n",
            "  doc3.similarity(doc2)\n"
          ]
        },
        {
          "output_type": "execute_result",
          "data": {
            "text/plain": [
              "0.6847176149951816"
            ]
          },
          "metadata": {},
          "execution_count": 118
        }
      ],
      "source": [
        "doc3.similarity(doc2)"
      ]
    },
    {
      "cell_type": "code",
      "execution_count": 119,
      "metadata": {
        "id": "lJONV_tzO1p_"
      },
      "outputs": [],
      "source": [
        "# Synonmys\n",
        "doc4 = nlp(\"smart\")\n",
        "doc5 = nlp(\"clever\")"
      ]
    },
    {
      "cell_type": "code",
      "execution_count": 120,
      "metadata": {
        "id": "oxK31ljaO1p_",
        "outputId": "21130831-b2c6-4b44-c785-7fc9e1f63ce6",
        "colab": {
          "base_uri": "https://localhost:8080/"
        }
      },
      "outputs": [
        {
          "output_type": "stream",
          "name": "stderr",
          "text": [
            "<ipython-input-120-3fe32ce050fd>:2: UserWarning: [W007] The model you're using has no word vectors loaded, so the result of the Doc.similarity method will be based on the tagger, parser and NER, which may not give useful similarity judgements. This may happen if you're using one of the small models, e.g. `en_core_web_sm`, which don't ship with word vectors and only use context-sensitive tensors. You can always add your own word vectors, or use one of the larger models instead if available.\n",
            "  doc4.similarity(doc5)\n"
          ]
        },
        {
          "output_type": "execute_result",
          "data": {
            "text/plain": [
              "0.8056307834804642"
            ]
          },
          "metadata": {},
          "execution_count": 120
        }
      ],
      "source": [
        "# Similarity of words\n",
        "doc4.similarity(doc5)"
      ]
    },
    {
      "cell_type": "markdown",
      "metadata": {
        "id": "TcowjqeKO1qC"
      },
      "source": [
        "#### Noun Chunks\n",
        "+ noun + word describing the noun\n",
        "+ noun phrases\n"
      ]
    },
    {
      "cell_type": "code",
      "execution_count": 125,
      "metadata": {
        "id": "JBFKuuVQO1qC"
      },
      "outputs": [],
      "source": [
        "# Noun Phrase or Chunks\n",
        "doc_phrase1 = nlp(\"The man reading the news is very tall.\")"
      ]
    },
    {
      "cell_type": "code",
      "execution_count": 126,
      "metadata": {
        "id": "JLjWBnm7O1qC",
        "outputId": "9fb0f44c-6566-4807-a015-e0978b5e8628",
        "colab": {
          "base_uri": "https://localhost:8080/"
        }
      },
      "outputs": [
        {
          "output_type": "stream",
          "name": "stdout",
          "text": [
            "The man\n",
            "the news\n"
          ]
        }
      ],
      "source": [
        "for word in doc_phrase1.noun_chunks:\n",
        "    print(word.text)"
      ]
    },
    {
      "cell_type": "code",
      "execution_count": 127,
      "metadata": {
        "id": "tY851y4EO1qC",
        "outputId": "c466e02d-208a-4f4b-9bc5-aec408fed387",
        "colab": {
          "base_uri": "https://localhost:8080/"
        }
      },
      "outputs": [
        {
          "output_type": "stream",
          "name": "stdout",
          "text": [
            "man\n",
            "news\n"
          ]
        }
      ],
      "source": [
        "# Root Text\n",
        "# the Main Noun\n",
        "for word in doc_phrase1.noun_chunks:\n",
        "    print(word.root.text)"
      ]
    },
    {
      "cell_type": "markdown",
      "metadata": {
        "id": "jvEC5-3LO1qJ"
      },
      "source": [
        "### Text Similarity With ML"
      ]
    },
    {
      "cell_type": "code",
      "execution_count": 162,
      "metadata": {
        "id": "ESBEz5URO1qJ"
      },
      "outputs": [],
      "source": [
        "# Using ML\n",
        "from sklearn.feature_extraction.text import CountVectorizer, TfidfVectorizer\n",
        "from sklearn.metrics.pairwise import cosine_similarity\n"
      ]
    },
    {
      "cell_type": "code",
      "execution_count": 130,
      "metadata": {
        "id": "9NSXB2NYO1qJ"
      },
      "outputs": [],
      "source": [
        "documents = ['wolf','dog','cat','bird','fish']\n"
      ]
    },
    {
      "cell_type": "code",
      "execution_count": 140,
      "metadata": {
        "id": "bm7v4cgCO1qJ"
      },
      "outputs": [],
      "source": [
        "vectorizer = CountVectorizer()\n",
        "features = vectorizer.fit_transform(documents).toarray()"
      ]
    },
    {
      "cell_type": "code",
      "execution_count": 141,
      "metadata": {
        "id": "r2zt7dmLO1qJ",
        "outputId": "fde81fb8-55f4-4da4-8c95-6354a44fb55a",
        "colab": {
          "base_uri": "https://localhost:8080/"
        }
      },
      "outputs": [
        {
          "output_type": "stream",
          "name": "stdout",
          "text": [
            "{'wolf': 4, 'dog': 2, 'cat': 1, 'bird': 0, 'fish': 3}\n"
          ]
        }
      ],
      "source": [
        "print(vectorizer.vocabulary_)\n"
      ]
    },
    {
      "cell_type": "code",
      "source": [
        "features"
      ],
      "metadata": {
        "colab": {
          "base_uri": "https://localhost:8080/"
        },
        "id": "sRmnZ-BYTGex",
        "outputId": "b5961017-6495-45b1-8332-befe32637f7e"
      },
      "execution_count": 142,
      "outputs": [
        {
          "output_type": "execute_result",
          "data": {
            "text/plain": [
              "array([[0, 0, 0, 0, 1],\n",
              "       [0, 0, 1, 0, 0],\n",
              "       [0, 1, 0, 0, 0],\n",
              "       [1, 0, 0, 0, 0],\n",
              "       [0, 0, 0, 1, 0]])"
            ]
          },
          "metadata": {},
          "execution_count": 142
        }
      ]
    },
    {
      "cell_type": "code",
      "execution_count": 146,
      "metadata": {
        "id": "tV0sTNddO1qJ",
        "outputId": "f5377214-6644-4601-920f-2834c7cfa677",
        "colab": {
          "base_uri": "https://localhost:8080/"
        }
      },
      "outputs": [
        {
          "output_type": "execute_result",
          "data": {
            "text/plain": [
              "array([[1., 0., 0., 0., 0.]])"
            ]
          },
          "metadata": {},
          "execution_count": 146
        }
      ],
      "source": [
        "cosine_similarity([features[0]],features)"
      ]
    },
    {
      "cell_type": "markdown",
      "metadata": {
        "id": "f847yB0EO1qK"
      },
      "source": [
        "### Sentence Similarity\n"
      ]
    },
    {
      "cell_type": "code",
      "execution_count": 155,
      "metadata": {
        "id": "t6S1GgXfO1qK"
      },
      "outputs": [],
      "source": [
        "# Using Three Sentences\n",
        "corpus1 = [\"I like that bachelor and bachelor\",\"I like that unmarried man\",\"I don't like the married man\"]\n",
        "corpus2 = [\"Jane is very nice.\", \"Is Jane very nice?\"]\n",
        "corpus3 = [\"He is a bachelor\",\"He is an unmarried man\"]\n",
        "corpus4 = [\"She is a wife\",\"She is a wife\"]\n",
        "corpus5 = [\"He is a king\",\"He is a doctor\"]\n",
        "\n",
        "documents = corpus1 + corpus2 + corpus3 + corpus4 + corpus5"
      ]
    },
    {
      "cell_type": "code",
      "execution_count": 156,
      "metadata": {
        "id": "riwiPrZVO1qL"
      },
      "outputs": [],
      "source": [
        "vectorizer = CountVectorizer()\n",
        "features = vectorizer.fit_transform(documents).toarray()"
      ]
    },
    {
      "cell_type": "code",
      "execution_count": 157,
      "metadata": {
        "id": "JIGd-WxUO1qL",
        "colab": {
          "base_uri": "https://localhost:8080/"
        },
        "outputId": "031507ce-c702-473e-f578-7126f4386904"
      },
      "outputs": [
        {
          "output_type": "stream",
          "name": "stdout",
          "text": [
            "{'like': 9, 'that': 14, 'bachelor': 2, 'and': 1, 'unmarried': 16, 'man': 10, 'don': 4, 'the': 15, 'married': 11, 'jane': 7, 'is': 6, 'very': 17, 'nice': 12, 'he': 5, 'an': 0, 'she': 13, 'wife': 18, 'king': 8, 'doctor': 3}\n"
          ]
        }
      ],
      "source": [
        "print(vectorizer.vocabulary_)\n"
      ]
    },
    {
      "cell_type": "code",
      "source": [
        "features"
      ],
      "metadata": {
        "colab": {
          "base_uri": "https://localhost:8080/"
        },
        "id": "VinTkCz0TvL0",
        "outputId": "4b0e1bf4-070e-496f-d744-fc2d542fed78"
      },
      "execution_count": 158,
      "outputs": [
        {
          "output_type": "execute_result",
          "data": {
            "text/plain": [
              "array([[0, 1, 2, 0, 0, 0, 0, 0, 0, 1, 0, 0, 0, 0, 1, 0, 0, 0, 0],\n",
              "       [0, 0, 0, 0, 0, 0, 0, 0, 0, 1, 1, 0, 0, 0, 1, 0, 1, 0, 0],\n",
              "       [0, 0, 0, 0, 1, 0, 0, 0, 0, 1, 1, 1, 0, 0, 0, 1, 0, 0, 0],\n",
              "       [0, 0, 0, 0, 0, 0, 1, 1, 0, 0, 0, 0, 1, 0, 0, 0, 0, 1, 0],\n",
              "       [0, 0, 0, 0, 0, 0, 1, 1, 0, 0, 0, 0, 1, 0, 0, 0, 0, 1, 0],\n",
              "       [0, 0, 1, 0, 0, 1, 1, 0, 0, 0, 0, 0, 0, 0, 0, 0, 0, 0, 0],\n",
              "       [1, 0, 0, 0, 0, 1, 1, 0, 0, 0, 1, 0, 0, 0, 0, 0, 1, 0, 0],\n",
              "       [0, 0, 0, 0, 0, 0, 1, 0, 0, 0, 0, 0, 0, 1, 0, 0, 0, 0, 1],\n",
              "       [0, 0, 0, 0, 0, 0, 1, 0, 0, 0, 0, 0, 0, 1, 0, 0, 0, 0, 1],\n",
              "       [0, 0, 0, 0, 0, 1, 1, 0, 1, 0, 0, 0, 0, 0, 0, 0, 0, 0, 0],\n",
              "       [0, 0, 0, 1, 0, 1, 1, 0, 0, 0, 0, 0, 0, 0, 0, 0, 0, 0, 0]])"
            ]
          },
          "metadata": {},
          "execution_count": 158
        }
      ]
    },
    {
      "cell_type": "code",
      "source": [
        "cosine_similarity([features[0]],features)"
      ],
      "metadata": {
        "colab": {
          "base_uri": "https://localhost:8080/"
        },
        "id": "rCzTKaZcUEvi",
        "outputId": "d2a4e58a-70dc-4c03-b748-a081f624e205"
      },
      "execution_count": 159,
      "outputs": [
        {
          "output_type": "execute_result",
          "data": {
            "text/plain": [
              "array([[1.        , 0.37796447, 0.16903085, 0.        , 0.        ,\n",
              "        0.43643578, 0.        , 0.        , 0.        , 0.        ,\n",
              "        0.        ]])"
            ]
          },
          "metadata": {},
          "execution_count": 159
        }
      ]
    },
    {
      "cell_type": "code",
      "source": [
        "vectorizer = TfidfVectorizer()\n",
        "features = vectorizer.fit_transform(documents).toarray()"
      ],
      "metadata": {
        "id": "5IPAZghkU02s"
      },
      "execution_count": 163,
      "outputs": []
    },
    {
      "cell_type": "code",
      "source": [
        "print(vectorizer.vocabulary_)"
      ],
      "metadata": {
        "colab": {
          "base_uri": "https://localhost:8080/"
        },
        "id": "4cxLbUlYU_qQ",
        "outputId": "5002a1b4-5d3e-4899-b2f6-9931a36a4cb3"
      },
      "execution_count": 164,
      "outputs": [
        {
          "output_type": "stream",
          "name": "stdout",
          "text": [
            "{'like': 9, 'that': 14, 'bachelor': 2, 'and': 1, 'unmarried': 16, 'man': 10, 'don': 4, 'the': 15, 'married': 11, 'jane': 7, 'is': 6, 'very': 17, 'nice': 12, 'he': 5, 'an': 0, 'she': 13, 'wife': 18, 'king': 8, 'doctor': 3}\n"
          ]
        }
      ]
    },
    {
      "cell_type": "code",
      "source": [
        "features"
      ],
      "metadata": {
        "colab": {
          "base_uri": "https://localhost:8080/"
        },
        "id": "boudupUsVBLz",
        "outputId": "ba20765f-05f3-43ca-ce83-d561ef6e582e"
      },
      "execution_count": 165,
      "outputs": [
        {
          "output_type": "execute_result",
          "data": {
            "text/plain": [
              "array([[0.        , 0.43776435, 0.74837005, 0.        , 0.        ,\n",
              "        0.        , 0.        , 0.        , 0.        , 0.32907478,\n",
              "        0.        , 0.        , 0.        , 0.        , 0.37418503,\n",
              "        0.        , 0.        , 0.        , 0.        ],\n",
              "       [0.        , 0.        , 0.        , 0.        , 0.        ,\n",
              "        0.        , 0.        , 0.        , 0.        , 0.46696806,\n",
              "        0.46696806, 0.        , 0.        , 0.        , 0.530981  ,\n",
              "        0.        , 0.530981  , 0.        , 0.        ],\n",
              "       [0.        , 0.        , 0.        , 0.        , 0.49205853,\n",
              "        0.        , 0.        , 0.        , 0.        , 0.36988863,\n",
              "        0.36988863, 0.49205853, 0.        , 0.        , 0.        ,\n",
              "        0.49205853, 0.        , 0.        , 0.        ],\n",
              "       [0.        , 0.        , 0.        , 0.        , 0.        ,\n",
              "        0.        , 0.29744623, 0.55121857, 0.        , 0.        ,\n",
              "        0.        , 0.        , 0.55121857, 0.        , 0.        ,\n",
              "        0.        , 0.        , 0.55121857, 0.        ],\n",
              "       [0.        , 0.        , 0.        , 0.        , 0.        ,\n",
              "        0.        , 0.29744623, 0.55121857, 0.        , 0.        ,\n",
              "        0.        , 0.        , 0.55121857, 0.        , 0.        ,\n",
              "        0.        , 0.        , 0.55121857, 0.        ],\n",
              "       [0.        , 0.        , 0.72378747, 0.        , 0.        ,\n",
              "        0.56884884, 0.39056714, 0.        , 0.        , 0.        ,\n",
              "        0.        , 0.        , 0.        , 0.        , 0.        ,\n",
              "        0.        , 0.        , 0.        , 0.        ],\n",
              "       [0.58126342, 0.        , 0.        , 0.        , 0.        ,\n",
              "        0.39048542, 0.26810422, 0.        , 0.        , 0.        ,\n",
              "        0.43694544, 0.        , 0.        , 0.        , 0.        ,\n",
              "        0.        , 0.49684281, 0.        , 0.        ],\n",
              "       [0.        , 0.        , 0.        , 0.        , 0.        ,\n",
              "        0.        , 0.3564959 , 0.        , 0.        , 0.        ,\n",
              "        0.        , 0.        , 0.        , 0.66064766, 0.        ,\n",
              "        0.        , 0.        , 0.        , 0.66064766],\n",
              "       [0.        , 0.        , 0.        , 0.        , 0.        ,\n",
              "        0.        , 0.3564959 , 0.        , 0.        , 0.        ,\n",
              "        0.        , 0.        , 0.        , 0.66064766, 0.        ,\n",
              "        0.        , 0.        , 0.        , 0.66064766],\n",
              "       [0.        , 0.        , 0.        , 0.        , 0.        ,\n",
              "        0.52077413, 0.35755942, 0.        , 0.77520679, 0.        ,\n",
              "        0.        , 0.        , 0.        , 0.        , 0.        ,\n",
              "        0.        , 0.        , 0.        , 0.        ],\n",
              "       [0.        , 0.        , 0.        , 0.77520679, 0.        ,\n",
              "        0.52077413, 0.35755942, 0.        , 0.        , 0.        ,\n",
              "        0.        , 0.        , 0.        , 0.        , 0.        ,\n",
              "        0.        , 0.        , 0.        , 0.        ]])"
            ]
          },
          "metadata": {},
          "execution_count": 165
        }
      ]
    },
    {
      "cell_type": "code",
      "source": [
        "cosine_similarity([features[0]],features)"
      ],
      "metadata": {
        "colab": {
          "base_uri": "https://localhost:8080/"
        },
        "id": "jRUEKcUuVFbr",
        "outputId": "b446718e-2651-4fa9-98c8-453c28a10552"
      },
      "execution_count": 166,
      "outputs": [
        {
          "output_type": "execute_result",
          "data": {
            "text/plain": [
              "array([[1.        , 0.35235255, 0.12172102, 0.        , 0.        ,\n",
              "        0.54166087, 0.        , 0.        , 0.        , 0.        ,\n",
              "        0.        ]])"
            ]
          },
          "metadata": {},
          "execution_count": 166
        }
      ]
    }
  ],
  "metadata": {
    "kernelspec": {
      "display_name": "Python 3",
      "language": "python",
      "name": "python3"
    },
    "language_info": {
      "codemirror_mode": {
        "name": "ipython",
        "version": 3
      },
      "file_extension": ".py",
      "mimetype": "text/x-python",
      "name": "python",
      "nbconvert_exporter": "python",
      "pygments_lexer": "ipython3",
      "version": "3.5.2"
    },
    "colab": {
      "provenance": []
    }
  },
  "nbformat": 4,
  "nbformat_minor": 0
}