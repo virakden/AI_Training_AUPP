{
  "cells": [
    {
      "cell_type": "markdown",
      "metadata": {
        "id": "_3m0aMvGhjap"
      },
      "source": [
        "# Gradient Descent with Python"
      ]
    },
    {
      "cell_type": "code",
      "execution_count": 1,
      "metadata": {
        "id": "TyJKWtroSGcz"
      },
      "outputs": [],
      "source": [
        "import numpy as np\n",
        "import statsmodels.api as sm\n",
        "import matplotlib.pyplot as plt"
      ]
    },
    {
      "cell_type": "markdown",
      "metadata": {
        "id": "0vVdUc0HQ7wI"
      },
      "source": [
        "## Gradient Descent Intuition"
      ]
    },
    {
      "cell_type": "markdown",
      "metadata": {
        "id": "ff4zcoUyRmMk"
      },
      "source": [
        "Define a loss function (cost function)"
      ]
    },
    {
      "cell_type": "code",
      "execution_count": 4,
      "metadata": {
        "id": "c2l17CuppXdU"
      },
      "outputs": [],
      "source": [
        "def loss(resid):\n",
        "  return np.power(resid,2) # squared error"
      ]
    },
    {
      "cell_type": "markdown",
      "metadata": {
        "id": "m17mGM1siKAu"
      },
      "source": [
        "Plot the cost function for demonstration purposes with sample data"
      ]
    },
    {
      "cell_type": "code",
      "execution_count": 5,
      "metadata": {
        "colab": {
          "base_uri": "https://localhost:8080/",
          "height": 265
        },
        "id": "BSQeHsEIpvNY",
        "outputId": "071b9866-4c24-4705-a97c-d91bff8eb9d9"
      },
      "outputs": [
        {
          "data": {
            "image/png": "[encoded data removed]",
            "text/plain": [
              "<Figure size 640x480 with 1 Axes>"
            ]
          },
          "metadata": {},
          "output_type": "display_data"
        }
      ],
      "source": [
        "y = np.linspace(-100, 100, 50) # dummy data for y and y_hat\n",
        "y_hat = y + y*np.random.randint(-1, 1)\n",
        "residuals = y_hat - y\n",
        "plt.plot(residuals, loss(residuals), 'r');"
      ]
    },
    {
      "cell_type": "markdown",
      "metadata": {
        "id": "zmBhqG_diUn9"
      },
      "source": [
        "You can see that this cost function has one minimum: When the residuals are 0, the cost function is also 0.\n",
        "\n",
        "If this were the cost function for a regression model, our goal would be to estimate the parameters for b0, b1, etc., so that the residuals become 0. In OLS, we can calculate these parameters directly.\n",
        "\n",
        "But how do we get these parameters if we cannot calculate them directly because the function is too complex or the data set is too large?\n",
        "\n",
        "This is exactly where gradient descent helps us!"
      ]
    },
    {
      "cell_type": "markdown",
      "metadata": {
        "id": "qQQJgELCRWs5"
      },
      "source": [
        "### Batch Gradient descent\n",
        "\n",
        "Before we apply gradient descent to regression problems, let's try it out in a simple setting \n",
        "\n",
        "Suppose our goal is to find the minimum of a loss function given some initial value for a residual."
      ]
    },
    {
      "cell_type": "code",
      "execution_count": 6,
      "metadata": {
        "id": "wOvy7PFNZ0pi"
      },
      "outputs": [],
      "source": [
        "def gradient_descent(gradient, start, learn_rate, n_iter=50):\n",
        "  # gradient... function that calculates the gradient for the current observation.\n",
        "  # start... initial value to start with on loss function\n",
        "  # learn_rate... defines the step size\n",
        "  # n_iter... maximum number of times we want to iterate (taking steps)\n",
        "  \n",
        "  plot_points = [start] # for demonstration purposes\n",
        "  \n",
        "  # Set start value\n",
        "  b = start\n",
        "\n",
        "  # Gradient descent loop\n",
        "  for _ in range(n_iter):\n",
        "\n",
        "    # Calculate next step size using learning rate and currently observed gradient\n",
        "    step_size = -learn_rate * gradient(b)\n",
        "    \n",
        "    # Add step size to observed point and continue loop\n",
        "    b += step_size\n",
        "\n",
        "    # Collect values for b for plotting (demo purposes)\n",
        "    plot_points.append(b)\n",
        "  \n",
        "  return b, plot_points"
      ]
    },
    {
      "cell_type": "markdown",
      "metadata": {
        "id": "1QYwyX-xlIid"
      },
      "source": [
        "Define the function which calculates the gradients.\n",
        "\n",
        "The gradient (derivative) of our loss function `residual**2` is `2*residual`"
      ]
    },
    {
      "cell_type": "code",
      "execution_count": 7,
      "metadata": {
        "id": "USIELKLtsGbM"
      },
      "outputs": [],
      "source": [
        "def gradient(resid):\n",
        "  return 2*resid"
      ]
    },
    {
      "cell_type": "markdown",
      "metadata": {
        "id": "By9f5EphlH2N"
      },
      "source": [
        "Run the Gradient Descent algorithm to find the minimum of the loss function."
      ]
    },
    {
      "cell_type": "code",
      "execution_count": 8,
      "metadata": {
        "id": "adJq042aRV9r"
      },
      "outputs": [],
      "source": [
        "b, points = gradient_descent(gradient=gradient, start=100.0, learn_rate=0.1)"
      ]
    },
    {
      "cell_type": "markdown",
      "metadata": {
        "id": "dd_Otlj1lqGs"
      },
      "source": [
        "Check the result for `b`\n"
      ]
    },
    {
      "cell_type": "code",
      "execution_count": 9,
      "metadata": {
        "colab": {
          "base_uri": "https://localhost:8080/"
        },
        "id": "_6j8PKhzbEBF",
        "outputId": "a24e77a8-a64b-4011-906d-b2d6a1ebe22c"
      },
      "outputs": [
        {
          "data": {
            "text/plain": [
              "0.0014272476927059603"
            ]
          },
          "execution_count": 9,
          "metadata": {},
          "output_type": "execute_result"
        }
      ],
      "source": [
        "b"
      ]
    },
    {
      "cell_type": "markdown",
      "metadata": {
        "id": "h--t2LhwdLnq"
      },
      "source": [
        "Indeed, very close to zero!"
      ]
    },
    {
      "cell_type": "markdown",
      "metadata": {
        "id": "tnlwsAKTmOdC"
      },
      "source": [
        "See how the algorithm worked (plot the individual points that it stepped through):"
      ]
    },
    {
      "cell_type": "code",
      "execution_count": 10,
      "metadata": {
        "colab": {
          "base_uri": "https://localhost:8080/",
          "height": 374
        },
        "id": "fm1eHi-kbOfq",
        "outputId": "c49e1dd5-7e4d-44c8-dda0-48e137c4ec54"
      },
      "outputs": [
        {
          "data": {
            "image/png": "[encoded data removed]",
            "text/plain": [
              "<Figure size 800x600 with 1 Axes>"
            ]
          },
          "metadata": {},
          "output_type": "display_data"
        }
      ],
      "source": [
        "fig, ax = plt.subplots(figsize=(8,6))\n",
        "ax.plot(residuals, loss(residuals), '-')\n",
        "ax.plot(points, loss(points), 'o-', label=\"Gradient Descent\")\n",
        "ax.legend(loc='best');"
      ]
    },
    {
      "cell_type": "markdown",
      "metadata": {
        "id": "kWhkRi1wwJb0"
      },
      "source": [
        "See how the steps get smaller the closer the gradient gets to the minimum (Why? Learning rate stays the same, but derivates become smaller)"
      ]
    },
    {
      "cell_type": "markdown",
      "metadata": {
        "id": "Gv5kL3OsdpIf"
      },
      "source": [
        "### Learning rate impact\n",
        "\n",
        "Let's see what happens if we increase the learning rate..."
      ]
    },
    {
      "cell_type": "code",
      "execution_count": 11,
      "metadata": {
        "colab": {
          "base_uri": "https://localhost:8080/",
          "height": 391
        },
        "id": "ancxaW0Idjoa",
        "outputId": "e3630f08-05b5-4c5e-8baf-824af35a013a"
      },
      "outputs": [
        {
          "name": "stdout",
          "output_type": "stream",
          "text": [
            "0.001427247692705966\n"
          ]
        },
        {
          "data": {
            "image/png": "[encoded data removed]",
            "text/plain": [
              "<Figure size 800x600 with 1 Axes>"
            ]
          },
          "metadata": {},
          "output_type": "display_data"
        }
      ],
      "source": [
        "b, points = gradient_descent(gradient=gradient, start=100, learn_rate=0.9)\n",
        "print(b)\n",
        "fig, ax = plt.subplots(figsize=(8,6))\n",
        "ax.plot(residuals, loss(residuals), '-')\n",
        "ax.plot(points, loss(points), 'o-', label=\"Gradient Descent\")\n",
        "ax.legend(loc='best');"
      ]
    },
    {
      "cell_type": "markdown",
      "metadata": {
        "id": "Ncba8V4FwYm7"
      },
      "source": [
        "The gradient will still find the minimum in this case, but it takes longer. \n",
        "\n",
        "If the learning rate is too big, it might even be that the algorithm does not converge at all."
      ]
    },
    {
      "cell_type": "markdown",
      "metadata": {
        "id": "sSEgaVKBd6XY"
      },
      "source": [
        "Learning rate too small"
      ]
    },
    {
      "cell_type": "code",
      "execution_count": 12,
      "metadata": {
        "colab": {
          "base_uri": "https://localhost:8080/",
          "height": 391
        },
        "id": "rN9qo_d2d3Zy",
        "outputId": "7954e6ff-ecc0-49b0-fe63-0699c19f73da"
      },
      "outputs": [
        {
          "name": "stdout",
          "output_type": "stream",
          "text": [
            "36.41696800871172\n"
          ]
        },
        {
          "data": {
            "image/png": "[encoded data removed]",
            "text/plain": [
              "<Figure size 800x600 with 1 Axes>"
            ]
          },
          "metadata": {},
          "output_type": "display_data"
        }
      ],
      "source": [
        "v, points = gradient_descent(gradient=gradient, start=100, n_iter=50, learn_rate=0.01)\n",
        "print(v)\n",
        "fig, ax = plt.subplots(figsize=(8,6))\n",
        "ax.plot(residuals, loss(residuals), '-')\n",
        "ax.plot(points, loss(points), 'o-', label=\"Gradient Descent\")\n",
        "ax.legend(loc='best');"
      ]
    },
    {
      "cell_type": "markdown",
      "metadata": {
        "id": "tRtNne77wlnw"
      },
      "source": [
        "You can see that the algorithms descends into the right direction, but it did not reach the minimum because it reached the final number of iterations before."
      ]
    },
    {
      "cell_type": "markdown",
      "metadata": {
        "id": "S0AmadtQw0DN"
      },
      "source": [
        "## Estimating (regression) parameters using Gradient Descent"
      ]
    },
    {
      "cell_type": "markdown",
      "metadata": {
        "id": "yBxtvoA2tfQu"
      },
      "source": [
        "**Goal:** Estimate parameters of a regression model:\n",
        "\n",
        "`residuals` = `y_hat - y` = `b0 + b1 * x - y`\n",
        "\n",
        "**Solution:**\n",
        "\n",
        "Let gradient descent algorithm find the parameters\n",
        "\n",
        "* `b0` for the intercept to start with\n",
        "* `b1` for the slope value to start with\n",
        "* `x` for some observed values of x\n",
        "* `y` for the true values of the outcome variable\n",
        "\n",
        "With these values we can use Gradient Descent to find the best parameters for `b0` and `b1`."
      ]
    },
    {
      "cell_type": "markdown",
      "metadata": {
        "id": "Xup0oySVd-kI"
      },
      "source": [
        "### Gradient Descent for simple linear regression ( 1-dimensional input vector)\n",
        "\n",
        "We can define the Gradient Descent function as follows:"
      ]
    },
    {
      "cell_type": "code",
      "execution_count": 13,
      "metadata": {
        "id": "ww_YXyaQkpnt"
      },
      "outputs": [],
      "source": [
        "def gradient_descent(gradient, x, y, start_params, learn_rate, n_iter=50):\n",
        "  # gradient... function that calculates the gradient for the current observation.\n",
        "  # x... 1-dimensional array of values of the input variable\n",
        "  # y... 1-dimensional array of values for the outcome variable\n",
        "  # start_params... an array of two values for the intercept and slope\n",
        "  # learn_rate... defines the step size\n",
        "  # n_iter... maximum number of times we want to iterate (taking steps)\n",
        "\n",
        "  # start with random value for intercept and slope\n",
        "  b = start_params[0]\n",
        "  w = start_params[1]\n",
        "\n",
        "  # Gradient descent loop\n",
        "  for _ in range(n_iter):\n",
        "\n",
        "    # Calculate predicted values for y given the current parameters\n",
        "    y_hat = b + w * x\n",
        "\n",
        "    # Calculate the step size using learning rate and gradient\n",
        "    db, dw = gradient(x, y, y_hat)\n",
        "\n",
        "    # Update parameters  \n",
        "    b -= learn_rate*db\n",
        "    w -= learn_rate*dw\n",
        "  return b,w"
      ]
    },
    {
      "cell_type": "markdown",
      "metadata": {
        "id": "Blb7l0BRzQvi"
      },
      "source": [
        "### Function to calculate the gradient\n",
        "\n",
        "We can calculate the gradients for an observation (x, y) and their predicted value (x, y_hat) using the partial derivatives of the loss function.\n",
        "\n",
        "In this case our gradient function returns two gradients (derivatives) - one for the intercept and one for the slope."
      ]
    },
    {
      "cell_type": "code",
      "execution_count": 15,
      "metadata": {
        "id": "MgsjDoW7lEyz"
      },
      "outputs": [],
      "source": [
        "def gradient_mse(x, y, y_hat):\n",
        "    res =  y_hat - y\n",
        "    gradient_b0 = res.mean()\n",
        "    gradient_b1 = (res * x).mean()\n",
        "    return gradient_b0, gradient_b1"
      ]
    },
    {
      "cell_type": "markdown",
      "metadata": {
        "id": "NQI2dSr6z4vw"
      },
      "source": [
        "Let's plug in some numbers to see this in action!\n",
        "\n",
        "Gradient function... `gradient_rss`\n",
        "start_params... `[0.5, 0.5]` (can be anything)\n"
      ]
    },
    {
      "cell_type": "code",
      "execution_count": 16,
      "metadata": {
        "colab": {
          "base_uri": "https://localhost:8080/"
        },
        "id": "ATRgJTcslSHc",
        "outputId": "48d8c517-9c02-4034-cbb7-56423d0624c5"
      },
      "outputs": [
        {
          "data": {
            "text/plain": [
              "(5.633333278196915, 0.5400000013883347)"
            ]
          },
          "execution_count": 16,
          "metadata": {},
          "output_type": "execute_result"
        }
      ],
      "source": [
        "x = np.array([5, 15, 25, 35, 45, 55])\n",
        "y = np.array([5, 20, 14, 32, 22, 38])\n",
        "\n",
        "gradient_descent(gradient_mse, x, y, start_params=[0.5, 0.5], n_iter = 50000, learn_rate=0.0015)"
      ]
    },
    {
      "cell_type": "markdown",
      "metadata": {
        "id": "ZMbmXO950NDA"
      },
      "source": [
        "You can see that Gradient Descent calculated two estimated parameters  for the optimum of the intercept and the slope.\n",
        "\n",
        "Are these correct?\n",
        "\n",
        "We know that we could solve this simply regression directly using OLS. \n",
        "\n",
        "Let's compare the results:"
      ]
    },
    {
      "cell_type": "code",
      "execution_count": 17,
      "metadata": {
        "colab": {
          "base_uri": "https://localhost:8080/"
        },
        "id": "U5aWRJ_XtxrG",
        "outputId": "25ac10e5-2154-4c88-e362-c3f5ccfaf5fc"
      },
      "outputs": [
        {
          "name": "stdout",
          "output_type": "stream",
          "text": [
            "                            OLS Regression Results                            \n",
            "==============================================================================\n",
            "Dep. Variable:                      y   R-squared:                       0.716\n",
            "Model:                            OLS   Adj. R-squared:                  0.645\n",
            "Method:                 Least Squares   F-statistic:                     10.08\n",
            "Date:                Fri, 29 Mar 2024   Prob (F-statistic):             0.0337\n",
            "Time:                        14:43:35   Log-Likelihood:                -19.071\n",
            "No. Observations:                   6   AIC:                             42.14\n",
            "Df Residuals:                       4   BIC:                             41.73\n",
            "Df Model:                           1                                         \n",
            "Covariance Type:            nonrobust                                         \n",
            "==============================================================================\n",
            "                 coef    std err          t      P>|t|      [0.025      0.975]\n",
            "------------------------------------------------------------------------------\n",
            "const          5.6333      5.872      0.959      0.392     -10.670      21.936\n",
            "x1             0.5400      0.170      3.175      0.034       0.068       1.012\n",
            "==============================================================================\n",
            "Omnibus:                          nan   Durbin-Watson:                   3.606\n",
            "Prob(Omnibus):                    nan   Jarque-Bera (JB):                0.651\n",
            "Skew:                           0.008   Prob(JB):                        0.722\n",
            "Kurtosis:                       1.387   Cond. No.                         69.8\n",
            "==============================================================================\n",
            "\n",
            "Notes:\n",
            "[1] Standard Errors assume that the covariance matrix of the errors is correctly specified.\n"
          ]
        },
        {
          "name": "stderr",
          "output_type": "stream",
          "text": [
            "c:\\Users\\Rina\\anaconda3\\Lib\\site-packages\\statsmodels\\stats\\stattools.py:74: ValueWarning: omni_normtest is not valid with less than 8 observations; 6 samples were given.\n",
            "  warn(\"omni_normtest is not valid with less than 8 observations; %i \"\n"
          ]
        }
      ],
      "source": [
        "X = sm.add_constant(x)\n",
        "res = sm.OLS(y, X).fit()\n",
        "print(res.summary())"
      ]
    },
    {
      "cell_type": "markdown",
      "metadata": {
        "id": "c6JW4o7ItqXr"
      },
      "source": [
        "Voilà - Gradient Descent returned the same parameters for the intercept and the slope as OLS."
      ]
    },
    {
      "cell_type": "markdown",
      "metadata": {
        "id": "sCkF4SNFMIT-"
      },
      "source": [
        "Let's take a look at another, more complex example.\n",
        "\n",
        "## Logistic Regression / x n-dimensional\n",
        "\n",
        "This time we want to use Gradient Descent to find the best parameters for a logistic regression model with two input features.\n",
        "\n",
        "First, let's get some sample data:"
      ]
    },
    {
      "cell_type": "code",
      "execution_count": 18,
      "metadata": {
        "id": "gsemPgmhT28W"
      },
      "outputs": [],
      "source": [
        "from sklearn.datasets import make_moons\n",
        "X, y = make_moons(n_samples=100, noise=0.24, random_state = 123)"
      ]
    },
    {
      "cell_type": "markdown",
      "metadata": {
        "id": "rDsFmo0D0_Oh"
      },
      "source": [
        "You can see that we have two features here:"
      ]
    },
    {
      "cell_type": "code",
      "execution_count": 19,
      "metadata": {
        "colab": {
          "base_uri": "https://localhost:8080/"
        },
        "id": "MD8zeHsWW3mj",
        "outputId": "df4e28a9-b356-4c6b-f4a5-59038b2a17d1"
      },
      "outputs": [
        {
          "data": {
            "text/plain": [
              "array([[ 0.98374409,  0.29124036],\n",
              "       [ 0.99440139, -0.72199658],\n",
              "       [ 0.95299421, -0.1370648 ],\n",
              "       [-0.31932878,  0.94468081],\n",
              "       [ 0.1266951 , -0.62570906],\n",
              "       [ 1.30125697, -0.16532856],\n",
              "       [ 1.34768434,  0.50886218],\n",
              "       [-0.07554196,  0.23938342],\n",
              "       [ 1.22899247, -0.70541817],\n",
              "       [ 1.46820207,  0.29312048]])"
            ]
          },
          "execution_count": 19,
          "metadata": {},
          "output_type": "execute_result"
        }
      ],
      "source": [
        "X[:10]"
      ]
    },
    {
      "cell_type": "markdown",
      "metadata": {
        "id": "8WUFMzU21C5b"
      },
      "source": [
        "And an outcome variable which can be either 0 or 1:"
      ]
    },
    {
      "cell_type": "code",
      "execution_count": 20,
      "metadata": {
        "colab": {
          "base_uri": "https://localhost:8080/"
        },
        "id": "l9xl7UZoW9BK",
        "outputId": "87f5afba-2e06-4968-cb3f-e14dc31a84cb"
      },
      "outputs": [
        {
          "data": {
            "text/plain": [
              "array([0, 1, 1, 0, 1, 0, 0, 1, 1, 0], dtype=int64)"
            ]
          },
          "execution_count": 20,
          "metadata": {},
          "output_type": "execute_result"
        }
      ],
      "source": [
        "y[:10]"
      ]
    },
    {
      "cell_type": "markdown",
      "metadata": {
        "id": "xcQ9gqF61H4c"
      },
      "source": [
        "Let's define the functions we needed:"
      ]
    },
    {
      "cell_type": "code",
      "execution_count": 21,
      "metadata": {
        "id": "BOW2AzafOMVG"
      },
      "outputs": [],
      "source": [
        "def sigmoid(z):\n",
        "    return 1.0/(1 + np.exp(-z))"
      ]
    },
    {
      "cell_type": "code",
      "execution_count": 22,
      "metadata": {
        "id": "-b9qigJtOcDJ"
      },
      "outputs": [],
      "source": [
        "def gradients_log(X, y, y_hat):\n",
        "    m = X.shape[0] #m...training examples.\n",
        "    db = (1/m)*np.sum((y_hat - y)) # Bias gradient\n",
        "    dw = (1/m)*np.dot(X.T, (y_hat - y)) # Weights gradient\n",
        "    return db, dw"
      ]
    },
    {
      "cell_type": "markdown",
      "metadata": {
        "id": "JklepSUS1NOH"
      },
      "source": [
        "The Gradient Descent function looks very similar to the one above. We only had to make some modifications to account for the fact that `x` isn't a vector now, but a matrix `X`."
      ]
    },
    {
      "cell_type": "code",
      "execution_count": 28,
      "metadata": {
        "id": "3yzSqMbIMK5F"
      },
      "outputs": [],
      "source": [
        "def gradient_descent(gradients, X, y, start_weights, start_bias, n_iter, learn_rate):\n",
        "\n",
        "    # m... training examples\n",
        "    # n... features\n",
        "    m, n = X.shape\n",
        "    \n",
        "    # Transpose starting weights into same form as X\n",
        "    w = np.array([start_weights]).T\n",
        "    b = start_bias\n",
        "    \n",
        "    # Reshape y\n",
        "    y = y.reshape(m,1)\n",
        "    \n",
        "    # Gradient descent loop\n",
        "    for i in range(n_iter):\n",
        "        \n",
        "        # Calculating y_hat with current parameters\n",
        "        y_hat = sigmoid(np.dot(X, w) + b)\n",
        "        \n",
        "        # Calculate gradients\n",
        "        db, dw = gradients(X, y, y_hat)\n",
        "        \n",
        "        # Update parameters\n",
        "        b -= learn_rate*db\n",
        "        w -= learn_rate*dw\n",
        "        \n",
        "    # returning weights and bias\n",
        "    return w, b"
      ]
    },
    {
      "cell_type": "markdown",
      "metadata": {
        "id": "vktRCsLl13rG"
      },
      "source": [
        "Estimate the parameters for the logistic regression model "
      ]
    },
    {
      "cell_type": "code",
      "execution_count": 24,
      "metadata": {
        "id": "AWCqyKVyTeW4"
      },
      "outputs": [],
      "source": [
        "w, b = gradient_descent(gradients_log, X, y, start_weights = [0.5, 0.5], start_bias = 0, n_iter=100000, learn_rate=0.012)"
      ]
    },
    {
      "cell_type": "markdown",
      "metadata": {
        "id": "L-j2DSrE2BxM"
      },
      "source": [
        "Check intercept (bias):"
      ]
    },
    {
      "cell_type": "code",
      "execution_count": 25,
      "metadata": {
        "colab": {
          "base_uri": "https://localhost:8080/"
        },
        "id": "0MUhwFd91_Xz",
        "outputId": "76b88b38-8a32-42a2-9403-aeab39b72090"
      },
      "outputs": [
        {
          "data": {
            "text/plain": [
              "0.14951981693757316"
            ]
          },
          "execution_count": 25,
          "metadata": {},
          "output_type": "execute_result"
        }
      ],
      "source": [
        "b"
      ]
    },
    {
      "cell_type": "markdown",
      "metadata": {
        "id": "67nJGBRL2Dn9"
      },
      "source": [
        "Check coefficents (weights):"
      ]
    },
    {
      "cell_type": "code",
      "execution_count": 26,
      "metadata": {
        "colab": {
          "base_uri": "https://localhost:8080/"
        },
        "id": "pgLpr4VqUtBH",
        "outputId": "0d6a2b0f-1cda-41ef-e6f4-479663474615"
      },
      "outputs": [
        {
          "data": {
            "text/plain": [
              "array([[ 1.40887112],\n",
              "       [-4.46164433]])"
            ]
          },
          "execution_count": 26,
          "metadata": {},
          "output_type": "execute_result"
        }
      ],
      "source": [
        "w"
      ]
    },
    {
      "cell_type": "markdown",
      "metadata": {
        "id": "LkOw7Nb42KPI"
      },
      "source": [
        "Compare to Statsmodels approach:"
      ]
    },
    {
      "cell_type": "code",
      "execution_count": 27,
      "metadata": {
        "colab": {
          "base_uri": "https://localhost:8080/"
        },
        "id": "ibIK1epfPyw-",
        "outputId": "bee09f1f-71a5-4734-c463-63ba538a2128"
      },
      "outputs": [
        {
          "name": "stdout",
          "output_type": "stream",
          "text": [
            "Optimization terminated successfully.\n",
            "         Current function value: 0.317713\n",
            "         Iterations 7\n",
            "                           Logit Regression Results                           \n",
            "==============================================================================\n",
            "Dep. Variable:                      y   No. Observations:                  100\n",
            "Model:                          Logit   Df Residuals:                       97\n",
            "Method:                           MLE   Df Model:                            2\n",
            "Date:                Fri, 29 Mar 2024   Pseudo R-squ.:                  0.5416\n",
            "Time:                        14:45:17   Log-Likelihood:                -31.771\n",
            "converged:                       True   LL-Null:                       -69.315\n",
            "Covariance Type:            nonrobust   LLR p-value:                 4.956e-17\n",
            "==============================================================================\n",
            "                 coef    std err          z      P>|z|      [0.025      0.975]\n",
            "------------------------------------------------------------------------------\n",
            "const          0.1495      0.414      0.362      0.718      -0.661       0.960\n",
            "x1             1.4089      0.390      3.613      0.000       0.645       2.173\n",
            "x2            -4.4617      0.995     -4.484      0.000      -6.412      -2.511\n",
            "==============================================================================\n"
          ]
        }
      ],
      "source": [
        "res = sm.Logit(y, sm.add_constant(X)).fit()\n",
        "print(res.summary())"
      ]
    },
    {
      "cell_type": "markdown",
      "metadata": {
        "id": "6pitjavw2WJI"
      },
      "source": [
        "See how Gradient Descent found the same values as the constant, x1 and x2. \n",
        "\n",
        "The advantage of Gradient Descent is that it works well also for very large data sets and complex loss functions."
      ]
    },
    {
      "cell_type": "markdown",
      "metadata": {
        "id": "qtnXf0AkRfbf"
      },
      "source": [
        "## Stochastic Gradient Descent"
      ]
    },
    {
      "cell_type": "code",
      "execution_count": 29,
      "metadata": {
        "id": "_YHyAum9-T3l"
      },
      "outputs": [],
      "source": [
        "def loss(y, y_hat):\n",
        "    return -np.mean(y*(np.log(y_hat)) - (1-y)*np.log(1-y_hat))"
      ]
    },
    {
      "cell_type": "code",
      "execution_count": 30,
      "metadata": {
        "id": "QxJAcVOr57Va"
      },
      "outputs": [],
      "source": [
        "def shuffle_data(a, b):\n",
        "    assert len(a) == len(b)\n",
        "    p = np.random.permutation(len(a))\n",
        "    return a[p], b[p]"
      ]
    },
    {
      "cell_type": "code",
      "execution_count": 31,
      "metadata": {
        "id": "cuEskZ2P2qXs"
      },
      "outputs": [],
      "source": [
        "def sgd(gradient, X, y, start_weights, start_bias, epochs, learn_rate, batch_size = 1):\n",
        "    # batch_size... size of one batches\n",
        "    # epochs... total number of iterations over the whole dataset\n",
        "\n",
        "    # m... training examples\n",
        "    # n... features\n",
        "    m, n = X.shape\n",
        "    \n",
        "    # Transpose starting weights into same form as X\n",
        "    w = np.array([start_weights]).T\n",
        "    b = start_bias\n",
        "\n",
        "    # Store losses to monitor learning process\n",
        "    losses = []\n",
        "    \n",
        "    # Reshape y\n",
        "    y = y.reshape(m,1)\n",
        "\n",
        "    # Shuffle data\n",
        "    #X, y = shuffle_data(X, y)\n",
        "    \n",
        "    # Gradient Descent loop\n",
        "    for epoch in range(epochs):\n",
        "      \n",
        "      # Iterate over multiple batches\n",
        "      for i in range((m-1)//batch_size + 1):\n",
        "          \n",
        "          # Define current batch\n",
        "          start_batch = i * batch_size\n",
        "          end_batch = start_batch + batch_size\n",
        "          x_batch = X[start_batch:end_batch]\n",
        "          y_batch = y[start_batch:end_batch]\n",
        "\n",
        "          # Calculating y_hat for current batch\n",
        "          y_hat = sigmoid(np.dot(x_batch, w) + b)\n",
        "          \n",
        "          # Calculate gradients for current batch\n",
        "          db, dw = gradient(x_batch, y_batch, y_hat)\n",
        "          \n",
        "          # Update parameters\n",
        "          b -= learn_rate*db\n",
        "          w -= learn_rate*dw\n",
        "      \n",
        "      # Keep track of losses per epoch\n",
        "      losses.append(loss(y, sigmoid(np.dot(X, w) + b)))\n",
        "\n",
        "    # returning weights, bias and losses\n",
        "    return w, b, losses"
      ]
    },
    {
      "cell_type": "code",
      "execution_count": 32,
      "metadata": {
        "id": "ainFpcn74nsL"
      },
      "outputs": [],
      "source": [
        "w, b, losses = sgd(gradients_log, X, y, epochs = 1000, start_weights = [0.5, 0.5], start_bias = 0, learn_rate=0.005)"
      ]
    },
    {
      "cell_type": "code",
      "execution_count": 33,
      "metadata": {
        "colab": {
          "base_uri": "https://localhost:8080/"
        },
        "id": "qsFBk_2C454Q",
        "outputId": "8f3a799a-c8ae-4656-c699-be71ca78a991"
      },
      "outputs": [
        {
          "name": "stdout",
          "output_type": "stream",
          "text": [
            "0.14983236871960567 [[ 1.41705602]\n",
            " [-4.4438035 ]]\n"
          ]
        }
      ],
      "source": [
        "print(b, w)"
      ]
    },
    {
      "cell_type": "code",
      "execution_count": 34,
      "metadata": {
        "colab": {
          "base_uri": "https://localhost:8080/"
        },
        "id": "k7ueMRt048ik",
        "outputId": "993a1d9e-7691-4c0c-80f6-892f5feafeea"
      },
      "outputs": [
        {
          "name": "stdout",
          "output_type": "stream",
          "text": [
            "                           Logit Regression Results                           \n",
            "==============================================================================\n",
            "Dep. Variable:                      y   No. Observations:                  100\n",
            "Model:                          Logit   Df Residuals:                       97\n",
            "Method:                           MLE   Df Model:                            2\n",
            "Date:                Fri, 29 Mar 2024   Pseudo R-squ.:                  0.5416\n",
            "Time:                        14:51:39   Log-Likelihood:                -31.771\n",
            "converged:                       True   LL-Null:                       -69.315\n",
            "Covariance Type:            nonrobust   LLR p-value:                 4.956e-17\n",
            "==============================================================================\n",
            "                 coef    std err          z      P>|z|      [0.025      0.975]\n",
            "------------------------------------------------------------------------------\n",
            "const          0.1495      0.414      0.362      0.718      -0.661       0.960\n",
            "x1             1.4089      0.390      3.613      0.000       0.645       2.173\n",
            "x2            -4.4617      0.995     -4.484      0.000      -6.412      -2.511\n",
            "==============================================================================\n"
          ]
        }
      ],
      "source": [
        "print(res.summary())"
      ]
    },
    {
      "cell_type": "markdown",
      "metadata": {
        "id": "o-uIUP9I7PzI"
      },
      "source": [
        "### Plot losses"
      ]
    },
    {
      "cell_type": "code",
      "execution_count": 35,
      "metadata": {
        "colab": {
          "base_uri": "https://localhost:8080/",
          "height": 282
        },
        "id": "Y1TBcim77LlO",
        "outputId": "eba6e19f-a420-4a2c-9538-3d1e83203ae9"
      },
      "outputs": [
        {
          "data": {
            "text/plain": [
              "[<matplotlib.lines.Line2D at 0x1903b4298d0>]"
            ]
          },
          "execution_count": 35,
          "metadata": {},
          "output_type": "execute_result"
        },
        {
          "data": {
            "image/png": "[encoded data removed]",
            "text/plain": [
              "<Figure size 640x480 with 1 Axes>"
            ]
          },
          "metadata": {},
          "output_type": "display_data"
        }
      ],
      "source": [
        "plt.plot(losses)"
      ]
    },
    {
      "cell_type": "markdown",
      "metadata": {
        "id": "QVBOQyei7Vt6"
      },
      "source": [
        "We can see that Gradient Descent quickly converged at the beginning. \n",
        "\n",
        "For large trainings we can monitor this loss to inspect the training progress and can stop the training if needed."
      ]
    },
    {
      "cell_type": "markdown",
      "metadata": {
        "id": "XMiUzbrL6kJM"
      },
      "source": [
        "### Mini-Batch Gradient Descent"
      ]
    },
    {
      "cell_type": "code",
      "execution_count": 36,
      "metadata": {
        "id": "3x5RaIF16jca"
      },
      "outputs": [],
      "source": [
        "w, b, losses = sgd(gradients_log, X, y, batch_size = 100, epochs = 5000, start_weights = [0.5, 0.5], start_bias = 0, learn_rate=0.25)"
      ]
    },
    {
      "cell_type": "code",
      "execution_count": 37,
      "metadata": {
        "colab": {
          "base_uri": "https://localhost:8080/"
        },
        "id": "ly3ww7uf6sRB",
        "outputId": "6e1c0953-1e4e-485b-db88-dd00a26dd768"
      },
      "outputs": [
        {
          "name": "stdout",
          "output_type": "stream",
          "text": [
            "0.14952100159921947 [[ 1.40887174]\n",
            " [-4.46165102]]\n"
          ]
        }
      ],
      "source": [
        "print(b, w)"
      ]
    },
    {
      "cell_type": "code",
      "execution_count": 38,
      "metadata": {
        "colab": {
          "base_uri": "https://localhost:8080/"
        },
        "id": "J0GliZ0q7lYB",
        "outputId": "9600441b-98e8-481c-b258-c3b00d47eb96"
      },
      "outputs": [
        {
          "name": "stdout",
          "output_type": "stream",
          "text": [
            "                           Logit Regression Results                           \n",
            "==============================================================================\n",
            "Dep. Variable:                      y   No. Observations:                  100\n",
            "Model:                          Logit   Df Residuals:                       97\n",
            "Method:                           MLE   Df Model:                            2\n",
            "Date:                Fri, 29 Mar 2024   Pseudo R-squ.:                  0.5416\n",
            "Time:                        14:51:54   Log-Likelihood:                -31.771\n",
            "converged:                       True   LL-Null:                       -69.315\n",
            "Covariance Type:            nonrobust   LLR p-value:                 4.956e-17\n",
            "==============================================================================\n",
            "                 coef    std err          z      P>|z|      [0.025      0.975]\n",
            "------------------------------------------------------------------------------\n",
            "const          0.1495      0.414      0.362      0.718      -0.661       0.960\n",
            "x1             1.4089      0.390      3.613      0.000       0.645       2.173\n",
            "x2            -4.4617      0.995     -4.484      0.000      -6.412      -2.511\n",
            "==============================================================================\n"
          ]
        }
      ],
      "source": [
        "print(res.summary())"
      ]
    }
  ],
  "metadata": {
    "colab": {
      "provenance": []
    },
    "kernelspec": {
      "display_name": "Python 3",
      "name": "python3"
    },
    "language_info": {
      "codemirror_mode": {
        "name": "ipython",
        "version": 3
      },
      "file_extension": ".py",
      "mimetype": "text/x-python",
      "name": "python",
      "nbconvert_exporter": "python",
      "pygments_lexer": "ipython3",
      "version": "3.11.5"
    }
  },
  "nbformat": 4,
  "nbformat_minor": 0
}
