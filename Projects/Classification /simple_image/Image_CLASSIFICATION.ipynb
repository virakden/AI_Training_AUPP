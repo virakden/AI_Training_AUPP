{
  "cells": [
    {
      "cell_type": "markdown",
      "metadata": {
        "id": "Cm1XpLftPi4A"
      },
      "source": [
        "# Computer Vision\n",
        "\n"
      ]
    },
    {
      "cell_type": "code",
      "execution_count": null,
      "metadata": {
        "id": "RsGqx_ai_N8F"
      },
      "outputs": [],
      "source": [
        "# Import Tensorflow 2.0\n",
        "# !pip install tensorflow\n",
        "import tensorflow as tf\n",
        "\n",
        "import matplotlib.pyplot as plt\n",
        "import numpy as np\n",
        "import random\n",
        "from tqdm import tqdm"
      ]
    },
    {
      "cell_type": "markdown",
      "metadata": {
        "id": "HKjrdUtX_N8J"
      },
      "source": [
        "## 1.0 CIFAR100  dataset\n",
        "\n",
        "https://www.tensorflow.org/datasets/catalog/cifar100\n",
        "\n",
        "Let's download and load the dataset and display a few random samples from it:\n",
        "\n"
      ]
    },
    {
      "cell_type": "code",
      "execution_count": null,
      "metadata": {
        "id": "p2dQsHI3_N8K"
      },
      "outputs": [],
      "source": [
        "cifar100  = tf.keras.datasets.cifar100\n",
        "(train_images, train_labels), (test_images, test_labels) = cifar100 .load_data()\n"
      ]
    },
    {
      "cell_type": "code",
      "source": [
        "print(type(train_images))\n",
        "print(train_images.shape)\n",
        "print(type(train_labels))\n",
        "print(train_labels.shape)"
      ],
      "metadata": {
        "id": "2kVC4uJAyrq3"
      },
      "execution_count": null,
      "outputs": []
    },
    {
      "cell_type": "code",
      "source": [
        "print(type(test_images))\n",
        "print(test_images.shape)\n",
        "print(type(test_labels))\n",
        "print(test_labels.shape)"
      ],
      "metadata": {
        "id": "vje887dVMZQV"
      },
      "execution_count": null,
      "outputs": []
    },
    {
      "cell_type": "code",
      "source": [
        "train_images = (train_images/255.).astype(np.float32)\n",
        "train_labels = (train_labels).astype(np.int64)\n",
        "test_images = (test_images/255.).astype(np.float32)\n",
        "test_labels = (test_labels).astype(np.int64)"
      ],
      "metadata": {
        "id": "7vy5ML6WyrEN"
      },
      "execution_count": null,
      "outputs": []
    },
    {
      "cell_type": "markdown",
      "metadata": {
        "id": "5ZtUqOqePsRD"
      },
      "source": [
        "\n",
        "\n",
        "Let's visualize what some of these images and their corresponding training labels look like."
      ]
    },
    {
      "cell_type": "code",
      "execution_count": null,
      "metadata": {
        "id": "bDBsR2lP_N8O",
        "scrolled": true
      },
      "outputs": [],
      "source": [
        "plt.figure(figsize=(10,10))\n",
        "random_inds = np.random.choice(60000,36)\n",
        "for i in range(36):\n",
        "    plt.subplot(6,6,i+1)\n",
        "    plt.xticks([])\n",
        "    plt.yticks([])\n",
        "    plt.grid(False)\n",
        "    image_ind = random_inds[i]\n",
        "    plt.imshow(np.squeeze(train_images[image_ind]), cmap=plt.cm.binary)\n",
        "    plt.xlabel(train_labels[image_ind])\n"
      ]
    },
    {
      "cell_type": "markdown",
      "metadata": {
        "id": "V6hd3Nt1_N8q"
      },
      "source": [
        "## 2.0 Neural Network for CIFA100 Classification\n",
        "\n",
        "**Objective** is to\n",
        "\n",
        "1. build a neural network for classifying images.\n",
        "\n",
        "2. train the neural network model.\n",
        "\n",
        "3. evaluate the model.\n",
        "\n",
        "\n",
        "\n"
      ]
    },
    {
      "cell_type": "markdown",
      "metadata": {
        "id": "rphS2rMIymyZ"
      },
      "source": [
        "### Fully connected neural network architecture\n",
        "\n",
        "\n"
      ]
    },
    {
      "cell_type": "code",
      "execution_count": null,
      "metadata": {
        "id": "MMZsbjAkDKpU"
      },
      "outputs": [],
      "source": [
        "def build_fc_model():\n",
        "  fc_model = tf.keras.Sequential([\n",
        "      # First define a Flatten layer\n",
        "      tf.keras.layers.Flatten(), ## Input Pixels\n",
        "\n",
        "      ## TO DO: Define the network architecture.\n",
        "\n",
        "      ## YOUR CODES:\n",
        "\n",
        "\n",
        "      ## END OF YOUR CODES\n",
        "\n",
        "\n",
        "      tf.keras.layers.Dense(100, activation=tf.nn.softmax) ## Output Layers\n",
        "\n",
        "\n",
        "  ])\n",
        "  return fc_model\n",
        "\n",
        "model = build_fc_model()"
      ]
    },
    {
      "cell_type": "markdown",
      "metadata": {
        "id": "gut8A_7rCaW6"
      },
      "source": [
        "\n",
        "\n",
        "### Compile the model\n",
        "\n"
      ]
    },
    {
      "cell_type": "markdown",
      "source": [
        "### Model Summary"
      ],
      "metadata": {
        "id": "9qiZcxCww3mc"
      }
    },
    {
      "cell_type": "code",
      "source": [
        "## TO DO: Print out the summary of the built network.\n",
        "\n",
        "## YOUR CODES:\n",
        "\n",
        "\n",
        "## END OF YOUR CODES\n",
        "\n",
        "\n"
      ],
      "metadata": {
        "id": "9mVK2m8E0m12"
      },
      "execution_count": null,
      "outputs": []
    },
    {
      "cell_type": "markdown",
      "metadata": {
        "id": "qKF6uW-BCaW-"
      },
      "source": [
        "### Train the model\n",
        "\n"
      ]
    },
    {
      "cell_type": "code",
      "execution_count": null,
      "metadata": {
        "id": "EFMbIqIvQ2X0"
      },
      "outputs": [],
      "source": [
        "## TO DO: Model training\n",
        "\n",
        "## YOUR CODES:\n",
        "\n",
        "\n",
        "## END OF YOUR CODES\n",
        "\n"
      ]
    },
    {
      "cell_type": "markdown",
      "metadata": {
        "id": "oEw4bZgGCaXB"
      },
      "source": [
        "### Evaluate accuracy on the test dataset\n",
        "\n"
      ]
    },
    {
      "cell_type": "code",
      "execution_count": null,
      "metadata": {
        "id": "VflXLEeECaXC"
      },
      "outputs": [],
      "source": [
        "## TO DO: Evaluate the model on the test dataset\n",
        "\n",
        "## YOUR CODES:\n",
        "\n",
        "\n",
        "## END OF YOUR CODES\n"
      ]
    },
    {
      "cell_type": "markdown",
      "metadata": {
        "id": "baIw9bDf8v6Z"
      },
      "source": [
        "## 3.0 Convolutional Neural Network (CNN)"
      ]
    },
    {
      "cell_type": "code",
      "execution_count": null,
      "metadata": {
        "id": "vec9qcJs-9W5"
      },
      "outputs": [],
      "source": [
        "def build_cnn_model():\n",
        "    cnn_model = tf.keras.Sequential([\n",
        "\n",
        "      ## TO DO: Define the network architecture.\n",
        "\n",
        "      ## YOUR CODES:\n",
        "\n",
        "\n",
        "      ## END OF YOUR CODES\n",
        "\n",
        "      tf.keras.layers.Dense(10, activation=tf.nn.softmax)\n",
        "      # [TODO Dense layer to output classification probabilities]\n",
        "    ])\n",
        "\n",
        "    return cnn_model\n",
        "\n",
        "cnn_model = build_cnn_model()\n",
        "# Initialize the model by passing some data through\n",
        "cnn_model.predict(train_images[[0]])\n",
        "# Print the summary of the layers in the model.\n",
        "print(cnn_model.summary())"
      ]
    },
    {
      "cell_type": "markdown",
      "metadata": {
        "id": "kUAXIBynCih2"
      },
      "source": [
        "### Train and test the CNN model\n",
        "\n"
      ]
    },
    {
      "cell_type": "code",
      "execution_count": null,
      "metadata": {
        "id": "vheyanDkCg6a"
      },
      "outputs": [],
      "source": [
        "\n",
        "\n",
        "\n",
        "cnn_model.compile(optimizer=tf.keras.optimizers.Adam(learning_rate=1e-3),\n",
        "              loss='sparse_categorical_crossentropy',\n",
        "              metrics=['accuracy'])\n"
      ]
    },
    {
      "cell_type": "code",
      "execution_count": null,
      "metadata": {
        "id": "YdrGZVmWDK4p"
      },
      "outputs": [],
      "source": [
        "## TO DO: Model training\n",
        "\n",
        "## YOUR CODES:\n",
        "\n",
        "\n",
        "## END OF YOUR CODES"
      ]
    },
    {
      "cell_type": "code",
      "execution_count": null,
      "metadata": {
        "id": "JDm4znZcDtNl"
      },
      "outputs": [],
      "source": [
        "## TO DO: Evaluate the model on the test dataset\n",
        "\n",
        "## YOUR CODES:\n",
        "\n",
        "\n",
        "## END OF YOUR CODES"
      ]
    },
    {
      "cell_type": "markdown",
      "source": [
        "## 4.0 Model Deployment on Gradio"
      ],
      "metadata": {
        "id": "1wHhZoaD1v3F"
      }
    },
    {
      "cell_type": "code",
      "source": [
        "## TO DO: Model deployment on Gradio\n",
        "\n",
        "## YOUR CODES:\n",
        "\n",
        "\n",
        "## END OF YOUR CODES"
      ],
      "metadata": {
        "id": "nnPk7GM210PM"
      },
      "execution_count": null,
      "outputs": []
    }
  ],
  "metadata": {
    "accelerator": "GPU",
    "colab": {
      "provenance": [],
      "gpuType": "T4"
    },
    "kernelspec": {
      "display_name": "Python 3",
      "name": "python3"
    },
    "language_info": {
      "codemirror_mode": {
        "name": "ipython",
        "version": 3
      },
      "file_extension": ".py",
      "mimetype": "text/x-python",
      "name": "python",
      "nbconvert_exporter": "python",
      "pygments_lexer": "ipython3",
      "version": "3.9.6"
    }
  },
  "nbformat": 4,
  "nbformat_minor": 0
}