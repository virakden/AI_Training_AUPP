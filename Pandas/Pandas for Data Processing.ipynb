{
 "cells": [
  {
   "cell_type": "markdown",
   "metadata": {},
   "source": [
    "## Pandas for Data Cleaning and Processing \n",
    "\n",
    "Pandas is a powerful library in Python for data manipulation and analysis. It provides numerous functions for data cleaning and processing. Here are some common functions along with their example uses:\n",
    "\n",
    "\n",
    "Sources: \n",
    "\n",
    "https://www.kdnuggets.com/data-cleaning-with-pandas\n",
    "\n",
    "https://archive.ics.uci.edu/dataset/53/iris\n",
    "\n",
    "https://www.freecodecamp.org/news/data-cleaning-and-preprocessing-with-pandasbdvhj/\n",
    "\n",
    "ChatGPT3.5\n"
   ]
  },
  {
   "cell_type": "markdown",
   "metadata": {},
   "source": []
  },
  {
   "cell_type": "markdown",
   "metadata": {},
   "source": [
    "### 0.0 Reading data \n"
   ]
  },
  {
   "cell_type": "code",
   "execution_count": 9,
   "metadata": {},
   "outputs": [
    {
     "data": {
      "text/plain": [
       "'\\n\\n#df = pd.read_excel(\\'file.xlsx\\')\\n\\n\\nimport sqlite3\\n# Connect to SQL database\\nconn = sqlite3.connect(\\'database.db\\')\\n# Load data from SQL query into DataFrame\\ndf = pd.read_sql_query(\"SELECT * FROM table_name\", conn)\\n\\ndf = pd.read_clipboard()\\n\\ndf = pd.read_json(\\'file.json\\')\\n\\nurl = \\'https://example.com/data.csv\\'\\ndf = pd.read_csv(url)\\n\\n\\n'"
      ]
     },
     "execution_count": 9,
     "metadata": {},
     "output_type": "execute_result"
    }
   ],
   "source": [
    "import pandas as pd\n",
    "# Load CSV file into DataFrame\n",
    "df = pd.read_csv('iris.data.csv')\n",
    "\n",
    "'''\n",
    "\n",
    "#df = pd.read_excel('file.xlsx')\n",
    "\n",
    "\n",
    "import sqlite3\n",
    "# Connect to SQL database\n",
    "conn = sqlite3.connect('database.db')\n",
    "# Load data from SQL query into DataFrame\n",
    "df = pd.read_sql_query(\"SELECT * FROM table_name\", conn)\n",
    "\n",
    "df = pd.read_clipboard()\n",
    "\n",
    "df = pd.read_json('file.json')\n",
    "\n",
    "url = 'https://example.com/data.csv'\n",
    "df = pd.read_csv(url)\n",
    "\n",
    "\n",
    "'''"
   ]
  },
  {
   "cell_type": "markdown",
   "metadata": {},
   "source": [
    "### 1.0 Explore the dataset\n",
    " "
   ]
  },
  {
   "cell_type": "code",
   "execution_count": 10,
   "metadata": {},
   "outputs": [
    {
     "name": "stdout",
     "output_type": "stream",
     "text": [
      "<class 'pandas.core.frame.DataFrame'>\n",
      "RangeIndex: 150 entries, 0 to 149\n",
      "Data columns (total 5 columns):\n",
      " #   Column        Non-Null Count  Dtype  \n",
      "---  ------        --------------  -----  \n",
      " 0   sepal length  150 non-null    float64\n",
      " 1   sepal width   150 non-null    float64\n",
      " 2   petal length  150 non-null    float64\n",
      " 3   petal width   150 non-null    float64\n",
      " 4   species       150 non-null    object \n",
      "dtypes: float64(4), object(1)\n",
      "memory usage: 6.0+ KB\n",
      "None\n"
     ]
    }
   ],
   "source": [
    "print(df.info())\n"
   ]
  },
  {
   "cell_type": "code",
   "execution_count": 11,
   "metadata": {},
   "outputs": [
    {
     "name": "stdout",
     "output_type": "stream",
     "text": [
      "       sepal length  sepal width  petal length  petal width\n",
      "count    150.000000   150.000000    150.000000   150.000000\n",
      "mean       5.843333     3.054000      3.758667     1.198667\n",
      "std        0.828066     0.433594      1.764420     0.763161\n",
      "min        4.300000     2.000000      1.000000     0.100000\n",
      "25%        5.100000     2.800000      1.600000     0.300000\n",
      "50%        5.800000     3.000000      4.350000     1.300000\n",
      "75%        6.400000     3.300000      5.100000     1.800000\n",
      "max        7.900000     4.400000      6.900000     2.500000\n"
     ]
    }
   ],
   "source": [
    "print(df.describe())"
   ]
  },
  {
   "cell_type": "code",
   "execution_count": 12,
   "metadata": {},
   "outputs": [
    {
     "name": "stdout",
     "output_type": "stream",
     "text": [
      "species\n",
      "Iris-setosa        50\n",
      "Iris-versicolor    50\n",
      "Iris-virginica     50\n",
      "Name: count, dtype: int64\n"
     ]
    }
   ],
   "source": [
    "#Checking Class Distribution\n",
    "print(df['species'].value_counts())"
   ]
  },
  {
   "cell_type": "markdown",
   "metadata": {},
   "source": [
    "### 3.0 Removing Missing Values"
   ]
  },
  {
   "cell_type": "code",
   "execution_count": 158,
   "metadata": {},
   "outputs": [],
   "source": [
    "df = pd.read_csv('missing_row.csv')"
   ]
  },
  {
   "cell_type": "code",
   "execution_count": 159,
   "metadata": {},
   "outputs": [
    {
     "name": "stdout",
     "output_type": "stream",
     "text": [
      "<class 'pandas.core.frame.DataFrame'>\n",
      "RangeIndex: 32 entries, 0 to 31\n",
      "Data columns (total 4 columns):\n",
      " #   Column    Non-Null Count  Dtype \n",
      "---  ------    --------------  ----- \n",
      " 0   Duration  32 non-null     int64 \n",
      " 1   Pulse     32 non-null     int64 \n",
      " 2   Maxpulse  32 non-null     int64 \n",
      " 3   Calories  31 non-null     object\n",
      "dtypes: int64(3), object(1)\n",
      "memory usage: 1.1+ KB\n"
     ]
    }
   ],
   "source": [
    "df.info()"
   ]
  },
  {
   "cell_type": "code",
   "execution_count": 115,
   "metadata": {},
   "outputs": [
    {
     "data": {
      "text/html": [
       "<div>\n",
       "<style scoped>\n",
       "    .dataframe tbody tr th:only-of-type {\n",
       "        vertical-align: middle;\n",
       "    }\n",
       "\n",
       "    .dataframe tbody tr th {\n",
       "        vertical-align: top;\n",
       "    }\n",
       "\n",
       "    .dataframe thead th {\n",
       "        text-align: right;\n",
       "    }\n",
       "</style>\n",
       "<table border=\"1\" class=\"dataframe\">\n",
       "  <thead>\n",
       "    <tr style=\"text-align: right;\">\n",
       "      <th></th>\n",
       "      <th>Duration</th>\n",
       "      <th>Pulse</th>\n",
       "      <th>Maxpulse</th>\n",
       "      <th>Calories</th>\n",
       "    </tr>\n",
       "  </thead>\n",
       "  <tbody>\n",
       "    <tr>\n",
       "      <th>0</th>\n",
       "      <td>60</td>\n",
       "      <td>110</td>\n",
       "      <td>130</td>\n",
       "      <td>409.1</td>\n",
       "    </tr>\n",
       "    <tr>\n",
       "      <th>1</th>\n",
       "      <td>60</td>\n",
       "      <td>117</td>\n",
       "      <td>145</td>\n",
       "      <td>479.0</td>\n",
       "    </tr>\n",
       "    <tr>\n",
       "      <th>2</th>\n",
       "      <td>60</td>\n",
       "      <td>103</td>\n",
       "      <td>135</td>\n",
       "      <td>340.0</td>\n",
       "    </tr>\n",
       "    <tr>\n",
       "      <th>3</th>\n",
       "      <td>45</td>\n",
       "      <td>109</td>\n",
       "      <td>175</td>\n",
       "      <td>282.4</td>\n",
       "    </tr>\n",
       "    <tr>\n",
       "      <th>4</th>\n",
       "      <td>45</td>\n",
       "      <td>117</td>\n",
       "      <td>148</td>\n",
       "      <td>406.0</td>\n",
       "    </tr>\n",
       "  </tbody>\n",
       "</table>\n",
       "</div>"
      ],
      "text/plain": [
       "   Duration  Pulse  Maxpulse Calories\n",
       "0        60    110       130    409.1\n",
       "1        60    117       145    479.0\n",
       "2        60    103       135    340.0\n",
       "3        45    109       175    282.4\n",
       "4        45    117       148    406.0"
      ]
     },
     "execution_count": 115,
     "metadata": {},
     "output_type": "execute_result"
    }
   ],
   "source": [
    "df.head()"
   ]
  },
  {
   "cell_type": "code",
   "execution_count": 160,
   "metadata": {},
   "outputs": [
    {
     "name": "stdout",
     "output_type": "stream",
     "text": [
      "Duration    0\n",
      "Pulse       0\n",
      "Maxpulse    0\n",
      "Calories    1\n",
      "dtype: int64\n"
     ]
    }
   ],
   "source": [
    "#Check for missing values\n",
    "print(df.isnull().sum())\n",
    "\n"
   ]
  },
  {
   "cell_type": "code",
   "execution_count": 161,
   "metadata": {},
   "outputs": [],
   "source": [
    "df['Calories'] = df['Calories'].astype(float)"
   ]
  },
  {
   "cell_type": "code",
   "execution_count": 162,
   "metadata": {},
   "outputs": [
    {
     "name": "stdout",
     "output_type": "stream",
     "text": [
      "Duration      int64\n",
      "Pulse         int64\n",
      "Maxpulse      int64\n",
      "Calories    float64\n",
      "dtype: object\n"
     ]
    }
   ],
   "source": [
    "#Display updated data types\n",
    "print(df.dtypes)"
   ]
  },
  {
   "cell_type": "code",
   "execution_count": 163,
   "metadata": {},
   "outputs": [
    {
     "name": "stdout",
     "output_type": "stream",
     "text": [
      "<class 'pandas.core.frame.DataFrame'>\n",
      "Index: 30 entries, 0 to 31\n",
      "Data columns (total 4 columns):\n",
      " #   Column    Non-Null Count  Dtype  \n",
      "---  ------    --------------  -----  \n",
      " 0   Duration  30 non-null     int64  \n",
      " 1   Pulse     30 non-null     int64  \n",
      " 2   Maxpulse  30 non-null     int64  \n",
      " 3   Calories  30 non-null     float64\n",
      "dtypes: float64(1), int64(3)\n",
      "memory usage: 1.2 KB\n"
     ]
    }
   ],
   "source": [
    "#Drop rows with missing valiues and place it in a new variable \"df_cleaned\"\n",
    "df_cleaned = df.dropna()\n",
    "\n",
    "df_cleaned.info()"
   ]
  },
  {
   "cell_type": "code",
   "execution_count": 164,
   "metadata": {},
   "outputs": [],
   "source": [
    "df['Calories'].fillna(df['Calories'].mean(), inplace=True)\n"
   ]
  },
  {
   "cell_type": "code",
   "execution_count": 165,
   "metadata": {},
   "outputs": [
    {
     "name": "stdout",
     "output_type": "stream",
     "text": [
      "<class 'pandas.core.frame.DataFrame'>\n",
      "RangeIndex: 32 entries, 0 to 31\n",
      "Data columns (total 4 columns):\n",
      " #   Column    Non-Null Count  Dtype  \n",
      "---  ------    --------------  -----  \n",
      " 0   Duration  32 non-null     int64  \n",
      " 1   Pulse     32 non-null     int64  \n",
      " 2   Maxpulse  32 non-null     int64  \n",
      " 3   Calories  32 non-null     float64\n",
      "dtypes: float64(1), int64(3)\n",
      "memory usage: 1.1 KB\n"
     ]
    }
   ],
   "source": [
    "df.info()"
   ]
  },
  {
   "cell_type": "markdown",
   "metadata": {},
   "source": [
    "### 4.0 How to Handle Outliers"
   ]
  },
  {
   "cell_type": "code",
   "execution_count": 166,
   "metadata": {},
   "outputs": [
    {
     "data": {
      "text/html": [
       "<div>\n",
       "<style scoped>\n",
       "    .dataframe tbody tr th:only-of-type {\n",
       "        vertical-align: middle;\n",
       "    }\n",
       "\n",
       "    .dataframe tbody tr th {\n",
       "        vertical-align: top;\n",
       "    }\n",
       "\n",
       "    .dataframe thead th {\n",
       "        text-align: right;\n",
       "    }\n",
       "</style>\n",
       "<table border=\"1\" class=\"dataframe\">\n",
       "  <thead>\n",
       "    <tr style=\"text-align: right;\">\n",
       "      <th></th>\n",
       "      <th>Duration</th>\n",
       "      <th>Pulse</th>\n",
       "      <th>Maxpulse</th>\n",
       "      <th>Calories</th>\n",
       "    </tr>\n",
       "  </thead>\n",
       "  <tbody>\n",
       "    <tr>\n",
       "      <th>count</th>\n",
       "      <td>32.00000</td>\n",
       "      <td>32.000000</td>\n",
       "      <td>32.000000</td>\n",
       "      <td>32.000000</td>\n",
       "    </tr>\n",
       "    <tr>\n",
       "      <th>mean</th>\n",
       "      <td>55.93750</td>\n",
       "      <td>103.500000</td>\n",
       "      <td>128.500000</td>\n",
       "      <td>304.680000</td>\n",
       "    </tr>\n",
       "    <tr>\n",
       "      <th>std</th>\n",
       "      <td>7.66617</td>\n",
       "      <td>7.832933</td>\n",
       "      <td>12.998759</td>\n",
       "      <td>63.839129</td>\n",
       "    </tr>\n",
       "    <tr>\n",
       "      <th>min</th>\n",
       "      <td>30.00000</td>\n",
       "      <td>90.000000</td>\n",
       "      <td>101.000000</td>\n",
       "      <td>195.100000</td>\n",
       "    </tr>\n",
       "    <tr>\n",
       "      <th>25%</th>\n",
       "      <td>57.50000</td>\n",
       "      <td>100.000000</td>\n",
       "      <td>120.000000</td>\n",
       "      <td>250.700000</td>\n",
       "    </tr>\n",
       "    <tr>\n",
       "      <th>50%</th>\n",
       "      <td>60.00000</td>\n",
       "      <td>102.500000</td>\n",
       "      <td>127.500000</td>\n",
       "      <td>300.000000</td>\n",
       "    </tr>\n",
       "    <tr>\n",
       "      <th>75%</th>\n",
       "      <td>60.00000</td>\n",
       "      <td>106.500000</td>\n",
       "      <td>132.250000</td>\n",
       "      <td>341.325000</td>\n",
       "    </tr>\n",
       "    <tr>\n",
       "      <th>max</th>\n",
       "      <td>60.00000</td>\n",
       "      <td>130.000000</td>\n",
       "      <td>175.000000</td>\n",
       "      <td>479.000000</td>\n",
       "    </tr>\n",
       "  </tbody>\n",
       "</table>\n",
       "</div>"
      ],
      "text/plain": [
       "       Duration       Pulse    Maxpulse    Calories\n",
       "count  32.00000   32.000000   32.000000   32.000000\n",
       "mean   55.93750  103.500000  128.500000  304.680000\n",
       "std     7.66617    7.832933   12.998759   63.839129\n",
       "min    30.00000   90.000000  101.000000  195.100000\n",
       "25%    57.50000  100.000000  120.000000  250.700000\n",
       "50%    60.00000  102.500000  127.500000  300.000000\n",
       "75%    60.00000  106.500000  132.250000  341.325000\n",
       "max    60.00000  130.000000  175.000000  479.000000"
      ]
     },
     "execution_count": 166,
     "metadata": {},
     "output_type": "execute_result"
    }
   ],
   "source": [
    "df.describe()"
   ]
  },
  {
   "cell_type": "code",
   "execution_count": 167,
   "metadata": {},
   "outputs": [
    {
     "data": {
      "text/html": [
       "<div>\n",
       "<style scoped>\n",
       "    .dataframe tbody tr th:only-of-type {\n",
       "        vertical-align: middle;\n",
       "    }\n",
       "\n",
       "    .dataframe tbody tr th {\n",
       "        vertical-align: top;\n",
       "    }\n",
       "\n",
       "    .dataframe thead th {\n",
       "        text-align: right;\n",
       "    }\n",
       "</style>\n",
       "<table border=\"1\" class=\"dataframe\">\n",
       "  <thead>\n",
       "    <tr style=\"text-align: right;\">\n",
       "      <th></th>\n",
       "      <th>count</th>\n",
       "      <th>mean</th>\n",
       "      <th>std</th>\n",
       "      <th>min</th>\n",
       "      <th>25%</th>\n",
       "      <th>50%</th>\n",
       "      <th>75%</th>\n",
       "      <th>max</th>\n",
       "    </tr>\n",
       "  </thead>\n",
       "  <tbody>\n",
       "    <tr>\n",
       "      <th>Duration</th>\n",
       "      <td>32.0</td>\n",
       "      <td>55.9375</td>\n",
       "      <td>7.666170</td>\n",
       "      <td>30.0</td>\n",
       "      <td>57.5</td>\n",
       "      <td>60.0</td>\n",
       "      <td>60.000</td>\n",
       "      <td>60.0</td>\n",
       "    </tr>\n",
       "    <tr>\n",
       "      <th>Pulse</th>\n",
       "      <td>32.0</td>\n",
       "      <td>103.5000</td>\n",
       "      <td>7.832933</td>\n",
       "      <td>90.0</td>\n",
       "      <td>100.0</td>\n",
       "      <td>102.5</td>\n",
       "      <td>106.500</td>\n",
       "      <td>130.0</td>\n",
       "    </tr>\n",
       "    <tr>\n",
       "      <th>Maxpulse</th>\n",
       "      <td>32.0</td>\n",
       "      <td>128.5000</td>\n",
       "      <td>12.998759</td>\n",
       "      <td>101.0</td>\n",
       "      <td>120.0</td>\n",
       "      <td>127.5</td>\n",
       "      <td>132.250</td>\n",
       "      <td>175.0</td>\n",
       "    </tr>\n",
       "    <tr>\n",
       "      <th>Calories</th>\n",
       "      <td>32.0</td>\n",
       "      <td>304.6800</td>\n",
       "      <td>63.839129</td>\n",
       "      <td>195.1</td>\n",
       "      <td>250.7</td>\n",
       "      <td>300.0</td>\n",
       "      <td>341.325</td>\n",
       "      <td>479.0</td>\n",
       "    </tr>\n",
       "  </tbody>\n",
       "</table>\n",
       "</div>"
      ],
      "text/plain": [
       "          count      mean        std    min    25%    50%      75%    max\n",
       "Duration   32.0   55.9375   7.666170   30.0   57.5   60.0   60.000   60.0\n",
       "Pulse      32.0  103.5000   7.832933   90.0  100.0  102.5  106.500  130.0\n",
       "Maxpulse   32.0  128.5000  12.998759  101.0  120.0  127.5  132.250  175.0\n",
       "Calories   32.0  304.6800  63.839129  195.1  250.7  300.0  341.325  479.0"
      ]
     },
     "execution_count": 167,
     "metadata": {},
     "output_type": "execute_result"
    }
   ],
   "source": [
    "df.describe().T"
   ]
  },
  {
   "cell_type": "code",
   "execution_count": 168,
   "metadata": {},
   "outputs": [
    {
     "data": {
      "text/plain": [
       "<Axes: >"
      ]
     },
     "execution_count": 168,
     "metadata": {},
     "output_type": "execute_result"
    },
    {
     "data": {
      "image/png": "[encoded data removed]",
      "text/plain": [
       "<Figure size 640x480 with 1 Axes>"
      ]
     },
     "metadata": {},
     "output_type": "display_data"
    }
   ],
   "source": [
    "df['Duration'].hist(bins=20)"
   ]
  },
  {
   "cell_type": "code",
   "execution_count": 169,
   "metadata": {},
   "outputs": [
    {
     "data": {
      "text/plain": [
       "<Axes: >"
      ]
     },
     "execution_count": 169,
     "metadata": {},
     "output_type": "execute_result"
    },
    {
     "data": {
      "image/png": "[encoded data removed]",
      "text/plain": [
       "<Figure size 640x480 with 1 Axes>"
      ]
     },
     "metadata": {},
     "output_type": "display_data"
    }
   ],
   "source": [
    "df['Pulse'].hist(bins=20)"
   ]
  },
  {
   "cell_type": "code",
   "execution_count": 170,
   "metadata": {},
   "outputs": [
    {
     "data": {
      "text/plain": [
       "<Axes: >"
      ]
     },
     "execution_count": 170,
     "metadata": {},
     "output_type": "execute_result"
    },
    {
     "data": {
      "image/png": "[encoded data removed]",
      "text/plain": [
       "<Figure size 640x480 with 1 Axes>"
      ]
     },
     "metadata": {},
     "output_type": "display_data"
    }
   ],
   "source": [
    "df['Maxpulse'].hist(bins=20)"
   ]
  },
  {
   "cell_type": "code",
   "execution_count": 171,
   "metadata": {},
   "outputs": [
    {
     "data": {
      "text/plain": [
       "<Axes: >"
      ]
     },
     "execution_count": 171,
     "metadata": {},
     "output_type": "execute_result"
    },
    {
     "data": {
      "image/png": "[encoded data removed]",
      "text/plain": [
       "<Figure size 640x480 with 1 Axes>"
      ]
     },
     "metadata": {},
     "output_type": "display_data"
    }
   ],
   "source": [
    "df['Calories'].hist(bins=20)"
   ]
  },
  {
   "cell_type": "code",
   "execution_count": 172,
   "metadata": {},
   "outputs": [
    {
     "data": {
      "text/plain": [
       "<Axes: >"
      ]
     },
     "execution_count": 172,
     "metadata": {},
     "output_type": "execute_result"
    },
    {
     "data": {
      "image/png": "[encoded data removed]",
      "text/plain": [
       "<Figure size 640x480 with 1 Axes>"
      ]
     },
     "metadata": {},
     "output_type": "display_data"
    }
   ],
   "source": [
    "df['Calories'].plot(kind='box')"
   ]
  },
  {
   "cell_type": "code",
   "execution_count": 173,
   "metadata": {},
   "outputs": [
    {
     "data": {
      "text/plain": [
       "<Axes: >"
      ]
     },
     "execution_count": 173,
     "metadata": {},
     "output_type": "execute_result"
    },
    {
     "data": {
      "image/png": "[encoded data removed]",
      "text/plain": [
       "<Figure size 640x480 with 1 Axes>"
      ]
     },
     "metadata": {},
     "output_type": "display_data"
    }
   ],
   "source": [
    "df.plot(kind='box')"
   ]
  },
  {
   "cell_type": "code",
   "execution_count": 175,
   "metadata": {},
   "outputs": [],
   "source": [
    "def normalize_column(col):\n",
    "    return (col-col.min())/(col.max()-col.min())\n",
    "\n",
    "df_norm = df.apply(normalize_column,axis=0) # axis=0 means column-wise"
   ]
  },
  {
   "cell_type": "code",
   "execution_count": 176,
   "metadata": {},
   "outputs": [
    {
     "data": {
      "text/html": [
       "<div>\n",
       "<style scoped>\n",
       "    .dataframe tbody tr th:only-of-type {\n",
       "        vertical-align: middle;\n",
       "    }\n",
       "\n",
       "    .dataframe tbody tr th {\n",
       "        vertical-align: top;\n",
       "    }\n",
       "\n",
       "    .dataframe thead th {\n",
       "        text-align: right;\n",
       "    }\n",
       "</style>\n",
       "<table border=\"1\" class=\"dataframe\">\n",
       "  <thead>\n",
       "    <tr style=\"text-align: right;\">\n",
       "      <th></th>\n",
       "      <th>count</th>\n",
       "      <th>mean</th>\n",
       "      <th>std</th>\n",
       "      <th>min</th>\n",
       "      <th>25%</th>\n",
       "      <th>50%</th>\n",
       "      <th>75%</th>\n",
       "      <th>max</th>\n",
       "    </tr>\n",
       "  </thead>\n",
       "  <tbody>\n",
       "    <tr>\n",
       "      <th>Duration</th>\n",
       "      <td>32.0</td>\n",
       "      <td>0.864583</td>\n",
       "      <td>0.255539</td>\n",
       "      <td>0.0</td>\n",
       "      <td>0.916667</td>\n",
       "      <td>1.000000</td>\n",
       "      <td>1.000000</td>\n",
       "      <td>1.0</td>\n",
       "    </tr>\n",
       "    <tr>\n",
       "      <th>Pulse</th>\n",
       "      <td>32.0</td>\n",
       "      <td>0.337500</td>\n",
       "      <td>0.195823</td>\n",
       "      <td>0.0</td>\n",
       "      <td>0.250000</td>\n",
       "      <td>0.312500</td>\n",
       "      <td>0.412500</td>\n",
       "      <td>1.0</td>\n",
       "    </tr>\n",
       "    <tr>\n",
       "      <th>Maxpulse</th>\n",
       "      <td>32.0</td>\n",
       "      <td>0.371622</td>\n",
       "      <td>0.175659</td>\n",
       "      <td>0.0</td>\n",
       "      <td>0.256757</td>\n",
       "      <td>0.358108</td>\n",
       "      <td>0.422297</td>\n",
       "      <td>1.0</td>\n",
       "    </tr>\n",
       "    <tr>\n",
       "      <th>Calories</th>\n",
       "      <td>32.0</td>\n",
       "      <td>0.385981</td>\n",
       "      <td>0.224865</td>\n",
       "      <td>0.0</td>\n",
       "      <td>0.195844</td>\n",
       "      <td>0.369496</td>\n",
       "      <td>0.515058</td>\n",
       "      <td>1.0</td>\n",
       "    </tr>\n",
       "  </tbody>\n",
       "</table>\n",
       "</div>"
      ],
      "text/plain": [
       "          count      mean       std  min       25%       50%       75%  max\n",
       "Duration   32.0  0.864583  0.255539  0.0  0.916667  1.000000  1.000000  1.0\n",
       "Pulse      32.0  0.337500  0.195823  0.0  0.250000  0.312500  0.412500  1.0\n",
       "Maxpulse   32.0  0.371622  0.175659  0.0  0.256757  0.358108  0.422297  1.0\n",
       "Calories   32.0  0.385981  0.224865  0.0  0.195844  0.369496  0.515058  1.0"
      ]
     },
     "execution_count": 176,
     "metadata": {},
     "output_type": "execute_result"
    }
   ],
   "source": [
    "df_norm.describe().T"
   ]
  },
  {
   "cell_type": "code",
   "execution_count": 178,
   "metadata": {},
   "outputs": [
    {
     "data": {
      "text/plain": [
       "<Axes: >"
      ]
     },
     "execution_count": 178,
     "metadata": {},
     "output_type": "execute_result"
    },
    {
     "data": {
      "image/png": "[encoded data removed]",
      "text/plain": [
       "<Figure size 640x480 with 1 Axes>"
      ]
     },
     "metadata": {},
     "output_type": "display_data"
    }
   ],
   "source": [
    "df_norm.plot(kind='box')"
   ]
  },
  {
   "cell_type": "code",
   "execution_count": 140,
   "metadata": {},
   "outputs": [],
   "source": [
    "Q1 = df['Calories'].quantile(0.25)\n",
    "Q3 = df['Calories'].quantile(0.75)\n",
    "IQR = Q3 - Q1\n",
    "lower_bound = Q1 - 1.5 * IQR\n",
    "upper_bound = Q3 + 1.5 * IQR\n",
    "df_no_outliers = df[df['Calories'].between(lower_bound, upper_bound)]"
   ]
  },
  {
   "cell_type": "code",
   "execution_count": 141,
   "metadata": {},
   "outputs": [
    {
     "name": "stdout",
     "output_type": "stream",
     "text": [
      "<class 'pandas.core.frame.DataFrame'>\n",
      "Index: 31 entries, 0 to 31\n",
      "Data columns (total 4 columns):\n",
      " #   Column    Non-Null Count  Dtype  \n",
      "---  ------    --------------  -----  \n",
      " 0   Duration  31 non-null     int64  \n",
      " 1   Pulse     31 non-null     int64  \n",
      " 2   Maxpulse  31 non-null     int64  \n",
      " 3   Calories  31 non-null     float64\n",
      "dtypes: float64(1), int64(3)\n",
      "memory usage: 1.2 KB\n"
     ]
    }
   ],
   "source": [
    "df_no_outliers.info()"
   ]
  },
  {
   "cell_type": "markdown",
   "metadata": {},
   "source": [
    "### 5.0 How to Remove Duplicates"
   ]
  },
  {
   "cell_type": "code",
   "execution_count": 142,
   "metadata": {},
   "outputs": [
    {
     "name": "stdout",
     "output_type": "stream",
     "text": [
      "Number of duplicate rows: 1\n"
     ]
    }
   ],
   "source": [
    "duplicate_rows = df.duplicated()\n",
    "print(\"Number of duplicate rows:\", duplicate_rows.sum())"
   ]
  },
  {
   "cell_type": "code",
   "execution_count": 143,
   "metadata": {},
   "outputs": [
    {
     "data": {
      "text/html": [
       "<div>\n",
       "<style scoped>\n",
       "    .dataframe tbody tr th:only-of-type {\n",
       "        vertical-align: middle;\n",
       "    }\n",
       "\n",
       "    .dataframe tbody tr th {\n",
       "        vertical-align: top;\n",
       "    }\n",
       "\n",
       "    .dataframe thead th {\n",
       "        text-align: right;\n",
       "    }\n",
       "</style>\n",
       "<table border=\"1\" class=\"dataframe\">\n",
       "  <thead>\n",
       "    <tr style=\"text-align: right;\">\n",
       "      <th></th>\n",
       "      <th>Duration</th>\n",
       "      <th>Pulse</th>\n",
       "      <th>Maxpulse</th>\n",
       "      <th>Calories</th>\n",
       "    </tr>\n",
       "  </thead>\n",
       "  <tbody>\n",
       "    <tr>\n",
       "      <th>12</th>\n",
       "      <td>60</td>\n",
       "      <td>100</td>\n",
       "      <td>120</td>\n",
       "      <td>250.7</td>\n",
       "    </tr>\n",
       "  </tbody>\n",
       "</table>\n",
       "</div>"
      ],
      "text/plain": [
       "    Duration  Pulse  Maxpulse  Calories\n",
       "12        60    100       120     250.7"
      ]
     },
     "execution_count": 143,
     "metadata": {},
     "output_type": "execute_result"
    }
   ],
   "source": [
    "df[df.duplicated()]"
   ]
  },
  {
   "cell_type": "code",
   "execution_count": 144,
   "metadata": {},
   "outputs": [],
   "source": [
    "df_no_dup = df.drop_duplicates(inplace=False)"
   ]
  },
  {
   "cell_type": "code",
   "execution_count": 138,
   "metadata": {},
   "outputs": [
    {
     "name": "stdout",
     "output_type": "stream",
     "text": [
      "<class 'pandas.core.frame.DataFrame'>\n",
      "Index: 31 entries, 0 to 31\n",
      "Data columns (total 4 columns):\n",
      " #   Column    Non-Null Count  Dtype  \n",
      "---  ------    --------------  -----  \n",
      " 0   Duration  31 non-null     int64  \n",
      " 1   Pulse     31 non-null     int64  \n",
      " 2   Maxpulse  31 non-null     int64  \n",
      " 3   Calories  31 non-null     float64\n",
      "dtypes: float64(1), int64(3)\n",
      "memory usage: 1.2 KB\n"
     ]
    }
   ],
   "source": [
    "df_no_dup.info()"
   ]
  },
  {
   "cell_type": "markdown",
   "metadata": {},
   "source": [
    "### 6.0 Create New Attributes"
   ]
  },
  {
   "cell_type": "code",
   "execution_count": 145,
   "metadata": {},
   "outputs": [],
   "source": [
    "## to seconds\n",
    "def to_second(x):\n",
    "    return x * 60\n",
    "\n",
    "df['Duration (mins)'] = df['Duration'].apply(to_second)"
   ]
  },
  {
   "cell_type": "code",
   "execution_count": 146,
   "metadata": {},
   "outputs": [
    {
     "data": {
      "text/html": [
       "<div>\n",
       "<style scoped>\n",
       "    .dataframe tbody tr th:only-of-type {\n",
       "        vertical-align: middle;\n",
       "    }\n",
       "\n",
       "    .dataframe tbody tr th {\n",
       "        vertical-align: top;\n",
       "    }\n",
       "\n",
       "    .dataframe thead th {\n",
       "        text-align: right;\n",
       "    }\n",
       "</style>\n",
       "<table border=\"1\" class=\"dataframe\">\n",
       "  <thead>\n",
       "    <tr style=\"text-align: right;\">\n",
       "      <th></th>\n",
       "      <th>Duration</th>\n",
       "      <th>Pulse</th>\n",
       "      <th>Maxpulse</th>\n",
       "      <th>Calories</th>\n",
       "      <th>Duration (mins)</th>\n",
       "    </tr>\n",
       "  </thead>\n",
       "  <tbody>\n",
       "    <tr>\n",
       "      <th>0</th>\n",
       "      <td>60</td>\n",
       "      <td>110</td>\n",
       "      <td>130</td>\n",
       "      <td>409.1</td>\n",
       "      <td>3600</td>\n",
       "    </tr>\n",
       "    <tr>\n",
       "      <th>1</th>\n",
       "      <td>60</td>\n",
       "      <td>117</td>\n",
       "      <td>145</td>\n",
       "      <td>479.0</td>\n",
       "      <td>3600</td>\n",
       "    </tr>\n",
       "    <tr>\n",
       "      <th>2</th>\n",
       "      <td>60</td>\n",
       "      <td>103</td>\n",
       "      <td>135</td>\n",
       "      <td>340.0</td>\n",
       "      <td>3600</td>\n",
       "    </tr>\n",
       "    <tr>\n",
       "      <th>3</th>\n",
       "      <td>45</td>\n",
       "      <td>109</td>\n",
       "      <td>175</td>\n",
       "      <td>282.4</td>\n",
       "      <td>2700</td>\n",
       "    </tr>\n",
       "    <tr>\n",
       "      <th>4</th>\n",
       "      <td>45</td>\n",
       "      <td>117</td>\n",
       "      <td>148</td>\n",
       "      <td>406.0</td>\n",
       "      <td>2700</td>\n",
       "    </tr>\n",
       "  </tbody>\n",
       "</table>\n",
       "</div>"
      ],
      "text/plain": [
       "   Duration  Pulse  Maxpulse  Calories  Duration (mins)\n",
       "0        60    110       130     409.1             3600\n",
       "1        60    117       145     479.0             3600\n",
       "2        60    103       135     340.0             3600\n",
       "3        45    109       175     282.4             2700\n",
       "4        45    117       148     406.0             2700"
      ]
     },
     "execution_count": 146,
     "metadata": {},
     "output_type": "execute_result"
    }
   ],
   "source": [
    "df.head()"
   ]
  },
  {
   "cell_type": "code",
   "execution_count": 147,
   "metadata": {},
   "outputs": [
    {
     "data": {
      "text/html": [
       "<div>\n",
       "<style scoped>\n",
       "    .dataframe tbody tr th:only-of-type {\n",
       "        vertical-align: middle;\n",
       "    }\n",
       "\n",
       "    .dataframe tbody tr th {\n",
       "        vertical-align: top;\n",
       "    }\n",
       "\n",
       "    .dataframe thead th {\n",
       "        text-align: right;\n",
       "    }\n",
       "</style>\n",
       "<table border=\"1\" class=\"dataframe\">\n",
       "  <thead>\n",
       "    <tr style=\"text-align: right;\">\n",
       "      <th></th>\n",
       "      <th>Duration</th>\n",
       "      <th>Pulse</th>\n",
       "      <th>Maxpulse</th>\n",
       "      <th>Calories</th>\n",
       "      <th>Duration (mins)</th>\n",
       "    </tr>\n",
       "  </thead>\n",
       "  <tbody>\n",
       "    <tr>\n",
       "      <th>count</th>\n",
       "      <td>32.00000</td>\n",
       "      <td>32.000000</td>\n",
       "      <td>32.000000</td>\n",
       "      <td>32.000000</td>\n",
       "      <td>32.000000</td>\n",
       "    </tr>\n",
       "    <tr>\n",
       "      <th>mean</th>\n",
       "      <td>55.93750</td>\n",
       "      <td>103.500000</td>\n",
       "      <td>128.500000</td>\n",
       "      <td>304.680000</td>\n",
       "      <td>3356.250000</td>\n",
       "    </tr>\n",
       "    <tr>\n",
       "      <th>std</th>\n",
       "      <td>7.66617</td>\n",
       "      <td>7.832933</td>\n",
       "      <td>12.998759</td>\n",
       "      <td>63.839129</td>\n",
       "      <td>459.970195</td>\n",
       "    </tr>\n",
       "    <tr>\n",
       "      <th>min</th>\n",
       "      <td>30.00000</td>\n",
       "      <td>90.000000</td>\n",
       "      <td>101.000000</td>\n",
       "      <td>195.100000</td>\n",
       "      <td>1800.000000</td>\n",
       "    </tr>\n",
       "    <tr>\n",
       "      <th>25%</th>\n",
       "      <td>57.50000</td>\n",
       "      <td>100.000000</td>\n",
       "      <td>120.000000</td>\n",
       "      <td>250.700000</td>\n",
       "      <td>3450.000000</td>\n",
       "    </tr>\n",
       "    <tr>\n",
       "      <th>50%</th>\n",
       "      <td>60.00000</td>\n",
       "      <td>102.500000</td>\n",
       "      <td>127.500000</td>\n",
       "      <td>300.000000</td>\n",
       "      <td>3600.000000</td>\n",
       "    </tr>\n",
       "    <tr>\n",
       "      <th>75%</th>\n",
       "      <td>60.00000</td>\n",
       "      <td>106.500000</td>\n",
       "      <td>132.250000</td>\n",
       "      <td>341.325000</td>\n",
       "      <td>3600.000000</td>\n",
       "    </tr>\n",
       "    <tr>\n",
       "      <th>max</th>\n",
       "      <td>60.00000</td>\n",
       "      <td>130.000000</td>\n",
       "      <td>175.000000</td>\n",
       "      <td>479.000000</td>\n",
       "      <td>3600.000000</td>\n",
       "    </tr>\n",
       "  </tbody>\n",
       "</table>\n",
       "</div>"
      ],
      "text/plain": [
       "       Duration       Pulse    Maxpulse    Calories  Duration (mins)\n",
       "count  32.00000   32.000000   32.000000   32.000000        32.000000\n",
       "mean   55.93750  103.500000  128.500000  304.680000      3356.250000\n",
       "std     7.66617    7.832933   12.998759   63.839129       459.970195\n",
       "min    30.00000   90.000000  101.000000  195.100000      1800.000000\n",
       "25%    57.50000  100.000000  120.000000  250.700000      3450.000000\n",
       "50%    60.00000  102.500000  127.500000  300.000000      3600.000000\n",
       "75%    60.00000  106.500000  132.250000  341.325000      3600.000000\n",
       "max    60.00000  130.000000  175.000000  479.000000      3600.000000"
      ]
     },
     "execution_count": 147,
     "metadata": {},
     "output_type": "execute_result"
    }
   ],
   "source": [
    "df.describe()"
   ]
  },
  {
   "cell_type": "code",
   "execution_count": 148,
   "metadata": {},
   "outputs": [],
   "source": [
    "df['Maxpulse Group'] = pd.cut(df['Maxpulse'],bins=[100,120,140,200],labels=['Low','Base','High'])"
   ]
  },
  {
   "cell_type": "code",
   "execution_count": 149,
   "metadata": {},
   "outputs": [
    {
     "data": {
      "text/plain": [
       "Maxpulse Group\n",
       "Base    18\n",
       "Low     10\n",
       "High     4\n",
       "Name: count, dtype: int64"
      ]
     },
     "execution_count": 149,
     "metadata": {},
     "output_type": "execute_result"
    }
   ],
   "source": [
    "df['Maxpulse Group'].value_counts()"
   ]
  },
  {
   "cell_type": "code",
   "execution_count": 150,
   "metadata": {},
   "outputs": [
    {
     "data": {
      "text/plain": [
       "Maxpulse\n",
       "Low     12\n",
       "Base    12\n",
       "High     8\n",
       "Name: count, dtype: int64"
      ]
     },
     "execution_count": 150,
     "metadata": {},
     "output_type": "execute_result"
    }
   ],
   "source": [
    "pd.qcut(df['Maxpulse'],q=3,labels=['Low','Base','High']).value_counts()"
   ]
  },
  {
   "cell_type": "code",
   "execution_count": 151,
   "metadata": {},
   "outputs": [
    {
     "data": {
      "text/plain": [
       "Maxpulse\n",
       "Low     0.375\n",
       "Base    0.375\n",
       "High    0.250\n",
       "Name: proportion, dtype: float64"
      ]
     },
     "execution_count": 151,
     "metadata": {},
     "output_type": "execute_result"
    }
   ],
   "source": [
    "pd.qcut(df['Maxpulse'],q=3,labels=['Low','Base','High']).value_counts(normalize=True)"
   ]
  },
  {
   "cell_type": "code",
   "execution_count": 152,
   "metadata": {},
   "outputs": [
    {
     "data": {
      "text/plain": [
       "<Axes: xlabel='Maxpulse'>"
      ]
     },
     "execution_count": 152,
     "metadata": {},
     "output_type": "execute_result"
    },
    {
     "data": {
      "image/png": "[encoded data removed]",
      "text/plain": [
       "<Figure size 640x480 with 1 Axes>"
      ]
     },
     "metadata": {},
     "output_type": "display_data"
    }
   ],
   "source": [
    "pd.qcut(df['Maxpulse'],q=3,labels=['Low','Base','High']).value_counts(normalize=True).plot(kind='bar')"
   ]
  },
  {
   "cell_type": "code",
   "execution_count": 153,
   "metadata": {},
   "outputs": [
    {
     "name": "stdout",
     "output_type": "stream",
     "text": [
      "Help on function qcut in module pandas.core.reshape.tile:\n",
      "\n",
      "qcut(x, q, labels=None, retbins: 'bool' = False, precision: 'int' = 3, duplicates: 'str' = 'raise')\n",
      "    Quantile-based discretization function.\n",
      "    \n",
      "    Discretize variable into equal-sized buckets based on rank or based\n",
      "    on sample quantiles. For example 1000 values for 10 quantiles would\n",
      "    produce a Categorical object indicating quantile membership for each data point.\n",
      "    \n",
      "    Parameters\n",
      "    ----------\n",
      "    x : 1d ndarray or Series\n",
      "    q : int or list-like of float\n",
      "        Number of quantiles. 10 for deciles, 4 for quartiles, etc. Alternately\n",
      "        array of quantiles, e.g. [0, .25, .5, .75, 1.] for quartiles.\n",
      "    labels : array or False, default None\n",
      "        Used as labels for the resulting bins. Must be of the same length as\n",
      "        the resulting bins. If False, return only integer indicators of the\n",
      "        bins. If True, raises an error.\n",
      "    retbins : bool, optional\n",
      "        Whether to return the (bins, labels) or not. Can be useful if bins\n",
      "        is given as a scalar.\n",
      "    precision : int, optional\n",
      "        The precision at which to store and display the bins labels.\n",
      "    duplicates : {default 'raise', 'drop'}, optional\n",
      "        If bin edges are not unique, raise ValueError or drop non-uniques.\n",
      "    \n",
      "    Returns\n",
      "    -------\n",
      "    out : Categorical or Series or array of integers if labels is False\n",
      "        The return type (Categorical or Series) depends on the input: a Series\n",
      "        of type category if input is a Series else Categorical. Bins are\n",
      "        represented as categories when categorical data is returned.\n",
      "    bins : ndarray of floats\n",
      "        Returned only if `retbins` is True.\n",
      "    \n",
      "    Notes\n",
      "    -----\n",
      "    Out of bounds values will be NA in the resulting Categorical object\n",
      "    \n",
      "    Examples\n",
      "    --------\n",
      "    >>> pd.qcut(range(5), 4)\n",
      "    ... # doctest: +ELLIPSIS\n",
      "    [(-0.001, 1.0], (-0.001, 1.0], (1.0, 2.0], (2.0, 3.0], (3.0, 4.0]]\n",
      "    Categories (4, interval[float64, right]): [(-0.001, 1.0] < (1.0, 2.0] ...\n",
      "    \n",
      "    >>> pd.qcut(range(5), 3, labels=[\"good\", \"medium\", \"bad\"])\n",
      "    ... # doctest: +SKIP\n",
      "    [good, good, medium, bad, bad]\n",
      "    Categories (3, object): [good < medium < bad]\n",
      "    \n",
      "    >>> pd.qcut(range(5), 4, labels=False)\n",
      "    array([0, 0, 1, 2, 3])\n",
      "\n"
     ]
    }
   ],
   "source": [
    "help(pd.qcut)"
   ]
  },
  {
   "cell_type": "code",
   "execution_count": 155,
   "metadata": {},
   "outputs": [
    {
     "data": {
      "text/html": [
       "<div>\n",
       "<style scoped>\n",
       "    .dataframe tbody tr th:only-of-type {\n",
       "        vertical-align: middle;\n",
       "    }\n",
       "\n",
       "    .dataframe tbody tr th {\n",
       "        vertical-align: top;\n",
       "    }\n",
       "\n",
       "    .dataframe thead tr th {\n",
       "        text-align: left;\n",
       "    }\n",
       "\n",
       "    .dataframe thead tr:last-of-type th {\n",
       "        text-align: right;\n",
       "    }\n",
       "</style>\n",
       "<table border=\"1\" class=\"dataframe\">\n",
       "  <thead>\n",
       "    <tr>\n",
       "      <th></th>\n",
       "      <th colspan=\"2\" halign=\"left\">Duration</th>\n",
       "      <th colspan=\"2\" halign=\"left\">Pulse</th>\n",
       "      <th colspan=\"2\" halign=\"left\">Maxpulse</th>\n",
       "      <th colspan=\"2\" halign=\"left\">Calories</th>\n",
       "      <th colspan=\"2\" halign=\"left\">Duration (mins)</th>\n",
       "    </tr>\n",
       "    <tr>\n",
       "      <th></th>\n",
       "      <th>mean</th>\n",
       "      <th>std</th>\n",
       "      <th>mean</th>\n",
       "      <th>std</th>\n",
       "      <th>mean</th>\n",
       "      <th>std</th>\n",
       "      <th>mean</th>\n",
       "      <th>std</th>\n",
       "      <th>mean</th>\n",
       "      <th>std</th>\n",
       "    </tr>\n",
       "    <tr>\n",
       "      <th>Maxpulse Group</th>\n",
       "      <th></th>\n",
       "      <th></th>\n",
       "      <th></th>\n",
       "      <th></th>\n",
       "      <th></th>\n",
       "      <th></th>\n",
       "      <th></th>\n",
       "      <th></th>\n",
       "      <th></th>\n",
       "      <th></th>\n",
       "    </tr>\n",
       "  </thead>\n",
       "  <tbody>\n",
       "    <tr>\n",
       "      <th>Low</th>\n",
       "      <td>57.000000</td>\n",
       "      <td>6.324555</td>\n",
       "      <td>100.200000</td>\n",
       "      <td>11.213088</td>\n",
       "      <td>116.500000</td>\n",
       "      <td>6.078194</td>\n",
       "      <td>263.728000</td>\n",
       "      <td>30.679966</td>\n",
       "      <td>3420.000000</td>\n",
       "      <td>379.473319</td>\n",
       "    </tr>\n",
       "    <tr>\n",
       "      <th>Base</th>\n",
       "      <td>56.111111</td>\n",
       "      <td>8.323524</td>\n",
       "      <td>103.555556</td>\n",
       "      <td>3.958940</td>\n",
       "      <td>129.555556</td>\n",
       "      <td>4.119141</td>\n",
       "      <td>311.987778</td>\n",
       "      <td>58.601069</td>\n",
       "      <td>3366.666667</td>\n",
       "      <td>499.411418</td>\n",
       "    </tr>\n",
       "    <tr>\n",
       "      <th>High</th>\n",
       "      <td>52.500000</td>\n",
       "      <td>8.660254</td>\n",
       "      <td>111.500000</td>\n",
       "      <td>6.806859</td>\n",
       "      <td>153.750000</td>\n",
       "      <td>14.221463</td>\n",
       "      <td>374.175000</td>\n",
       "      <td>86.482228</td>\n",
       "      <td>3150.000000</td>\n",
       "      <td>519.615242</td>\n",
       "    </tr>\n",
       "  </tbody>\n",
       "</table>\n",
       "</div>"
      ],
      "text/plain": [
       "                 Duration                 Pulse               Maxpulse  \\\n",
       "                     mean       std        mean        std        mean   \n",
       "Maxpulse Group                                                           \n",
       "Low             57.000000  6.324555  100.200000  11.213088  116.500000   \n",
       "Base            56.111111  8.323524  103.555556   3.958940  129.555556   \n",
       "High            52.500000  8.660254  111.500000   6.806859  153.750000   \n",
       "\n",
       "                             Calories            Duration (mins)              \n",
       "                      std        mean        std            mean         std  \n",
       "Maxpulse Group                                                                \n",
       "Low              6.078194  263.728000  30.679966     3420.000000  379.473319  \n",
       "Base             4.119141  311.987778  58.601069     3366.666667  499.411418  \n",
       "High            14.221463  374.175000  86.482228     3150.000000  519.615242  "
      ]
     },
     "execution_count": 155,
     "metadata": {},
     "output_type": "execute_result"
    }
   ],
   "source": [
    "import numpy as np\n",
    "df.groupby(['Maxpulse Group']).agg([np.mean,np.std])"
   ]
  },
  {
   "cell_type": "markdown",
   "metadata": {},
   "source": [
    "### 7.0 Work with Date times\n",
    "\n",
    "Converting a column of strings to datetime format using pd.to_datetime().\n",
    "\n",
    "Extracting components of the date such as year, month, day, and weekday using dt.year, dt.month, dt.day, and dt.weekday.\n",
    "\n",
    "Filtering the DataFrame based on a date range.\n",
    "\n",
    "Resampling the DataFrame to a different frequency using resample(), in this case, resampling to daily frequency and calculating the mean.\n"
   ]
  },
  {
   "cell_type": "code",
   "execution_count": 101,
   "metadata": {},
   "outputs": [],
   "source": [
    "# Import necessary libraries\n",
    "import pandas as pd\n",
    "\n",
    "# Create a DataFrame with dates\n",
    "data = {'date': ['2024-03-01', '2024-03-02', '2024-03-03', '2024-03-04', '2024-03-05'],\n",
    "        'value': [10, 20, 15, 25, 30]}\n",
    "df = pd.DataFrame(data)\n",
    "\n",
    "\n"
   ]
  },
  {
   "cell_type": "code",
   "execution_count": 102,
   "metadata": {},
   "outputs": [
    {
     "name": "stdout",
     "output_type": "stream",
     "text": [
      "Original DataFrame:\n",
      "        date  value\n",
      "0 2024-03-01     10\n",
      "1 2024-03-02     20\n",
      "2 2024-03-03     15\n",
      "3 2024-03-04     25\n",
      "4 2024-03-05     30\n"
     ]
    }
   ],
   "source": [
    "# Convert the 'date' column to datetime format\n",
    "df['date'] = pd.to_datetime(df['date'])\n",
    "\n",
    "# Print the DataFrame\n",
    "print(\"Original DataFrame:\")\n",
    "print(df)\n",
    "\n"
   ]
  },
  {
   "cell_type": "code",
   "execution_count": 103,
   "metadata": {},
   "outputs": [
    {
     "name": "stdout",
     "output_type": "stream",
     "text": [
      "\n",
      "DataFrame with Date Components:\n",
      "        date  value  year  month  day  weekday\n",
      "0 2024-03-01     10  2024      3    1        4\n",
      "1 2024-03-02     20  2024      3    2        5\n",
      "2 2024-03-03     15  2024      3    3        6\n",
      "3 2024-03-04     25  2024      3    4        0\n",
      "4 2024-03-05     30  2024      3    5        1\n"
     ]
    }
   ],
   "source": [
    "# Extracting date components\n",
    "df['year'] = df['date'].dt.year\n",
    "df['month'] = df['date'].dt.month\n",
    "df['day'] = df['date'].dt.day\n",
    "df['weekday'] = df['date'].dt.weekday  # Monday is 0, Sunday is 6\n",
    "\n",
    "# Print the DataFrame with date components\n",
    "print(\"\\nDataFrame with Date Components:\")\n",
    "print(df)\n",
    "\n"
   ]
  },
  {
   "cell_type": "code",
   "execution_count": 104,
   "metadata": {},
   "outputs": [
    {
     "name": "stdout",
     "output_type": "stream",
     "text": [
      "\n",
      "Filtered DataFrame by Date Range:\n",
      "        date  value  year  month  day  weekday\n",
      "1 2024-03-02     20  2024      3    2        5\n",
      "2 2024-03-03     15  2024      3    3        6\n",
      "3 2024-03-04     25  2024      3    4        0\n"
     ]
    }
   ],
   "source": [
    "# Filtering by date range\n",
    "start_date = '2024-03-02'\n",
    "end_date = '2024-03-04'\n",
    "filtered_df = df[(df['date'] >= start_date) & (df['date'] <= end_date)]\n",
    "\n",
    "# Print filtered DataFrame\n",
    "print(\"\\nFiltered DataFrame by Date Range:\")\n",
    "print(filtered_df)\n",
    "\n"
   ]
  },
  {
   "cell_type": "code",
   "execution_count": 105,
   "metadata": {},
   "outputs": [
    {
     "name": "stdout",
     "output_type": "stream",
     "text": [
      "\n",
      "Daily Resampled DataFrame:\n",
      "            value    year  month  day  weekday\n",
      "date                                          \n",
      "2024-03-01   10.0  2024.0    3.0  1.0      4.0\n",
      "2024-03-02   20.0  2024.0    3.0  2.0      5.0\n",
      "2024-03-03   15.0  2024.0    3.0  3.0      6.0\n",
      "2024-03-04   25.0  2024.0    3.0  4.0      0.0\n",
      "2024-03-05   30.0  2024.0    3.0  5.0      1.0\n"
     ]
    }
   ],
   "source": [
    "# Resampling by date\n",
    "df.set_index('date', inplace=True)\n",
    "daily_df = df.resample('D').mean()  # Resample to daily frequency and calculate mean\n",
    "print(\"\\nDaily Resampled DataFrame:\")\n",
    "print(daily_df)"
   ]
  },
  {
   "cell_type": "markdown",
   "metadata": {},
   "source": [
    "### 8.0 Merge Dataframes\n",
    "\n",
    "Inner Join: Only includes rows with keys that appear in both DataFrames.\n",
    "\n",
    "Left Join: Includes all rows from the left DataFrame and matching rows from the right DataFrame.\n",
    "\n",
    "Right Join: Includes all rows from the right DataFrame and matching rows from the left DataFrame.\n",
    "\n",
    "Outer Join: Includes all rows from both DataFrames, filling in missing values with NaN where necessary.\n",
    "\n",
    "Merge on Multiple Keys: Merges DataFrames on multiple key columns.\n",
    "\n",
    "\n",
    "You can customize merging behavior by specifying the how parameter ('inner', 'left', 'right', 'outer') and the on parameter to specify the column(s) to join on. Additionally, Pandas supports merging on indexes and merging with different suffixes for overlapping columns."
   ]
  },
  {
   "cell_type": "code",
   "execution_count": 106,
   "metadata": {},
   "outputs": [
    {
     "name": "stdout",
     "output_type": "stream",
     "text": [
      "Inner Join:\n",
      "  key  value_left  value_right\n",
      "0   B           2            5\n",
      "1   C           3            6\n",
      "2   D           4            7\n"
     ]
    }
   ],
   "source": [
    "# Import necessary libraries\n",
    "import pandas as pd\n",
    "\n",
    "# Create two DataFrames\n",
    "left_df = pd.DataFrame({'key': ['A', 'B', 'C', 'D'],\n",
    "                        'value_left': [1, 2, 3, 4]})\n",
    "right_df = pd.DataFrame({'key': ['B', 'C', 'D', 'E'],\n",
    "                         'value_right': [5, 6, 7, 8]})\n",
    "\n",
    "# Inner join\n",
    "inner_join_df = pd.merge(left_df, right_df, on='key', how='inner')\n",
    "print(\"Inner Join:\")\n",
    "print(inner_join_df)\n",
    "\n",
    "\n"
   ]
  },
  {
   "cell_type": "code",
   "execution_count": 107,
   "metadata": {},
   "outputs": [
    {
     "name": "stdout",
     "output_type": "stream",
     "text": [
      "\n",
      "Left Join:\n",
      "  key  value_left  value_right\n",
      "0   A           1          NaN\n",
      "1   B           2          5.0\n",
      "2   C           3          6.0\n",
      "3   D           4          7.0\n"
     ]
    }
   ],
   "source": [
    "# Left join\n",
    "left_join_df = pd.merge(left_df, right_df, on='key', how='left')\n",
    "print(\"\\nLeft Join:\")\n",
    "print(left_join_df)\n",
    "\n"
   ]
  },
  {
   "cell_type": "code",
   "execution_count": 108,
   "metadata": {},
   "outputs": [
    {
     "name": "stdout",
     "output_type": "stream",
     "text": [
      "\n",
      "Right Join:\n",
      "  key  value_left  value_right\n",
      "0   B         2.0            5\n",
      "1   C         3.0            6\n",
      "2   D         4.0            7\n",
      "3   E         NaN            8\n"
     ]
    }
   ],
   "source": [
    "# Right join\n",
    "right_join_df = pd.merge(left_df, right_df, on='key', how='right')\n",
    "print(\"\\nRight Join:\")\n",
    "print(right_join_df)\n",
    "\n"
   ]
  },
  {
   "cell_type": "code",
   "execution_count": 109,
   "metadata": {},
   "outputs": [
    {
     "name": "stdout",
     "output_type": "stream",
     "text": [
      "\n",
      "Outer Join:\n",
      "  key  value_left  value_right\n",
      "0   A         1.0          NaN\n",
      "1   B         2.0          5.0\n",
      "2   C         3.0          6.0\n",
      "3   D         4.0          7.0\n",
      "4   E         NaN          8.0\n"
     ]
    }
   ],
   "source": [
    "# Outer join\n",
    "outer_join_df = pd.merge(left_df, right_df, on='key', how='outer')\n",
    "print(\"\\nOuter Join:\")\n",
    "print(outer_join_df)\n",
    "\n"
   ]
  },
  {
   "cell_type": "code",
   "execution_count": 110,
   "metadata": {},
   "outputs": [
    {
     "name": "stdout",
     "output_type": "stream",
     "text": [
      "\n",
      "Merge on Multiple Keys:\n",
      "  key1 key2  value_left  value_right\n",
      "0    B    Y           2            5\n",
      "1    C    Z           3            6\n",
      "2    D    W           4            7\n"
     ]
    }
   ],
   "source": [
    "# Merge on multiple keys\n",
    "left_multikey_df = pd.DataFrame({'key1': ['A', 'B', 'C', 'D'],\n",
    "                                 'key2': ['X', 'Y', 'Z', 'W'],\n",
    "                                 'value_left': [1, 2, 3, 4]})\n",
    "right_multikey_df = pd.DataFrame({'key1': ['B', 'C', 'D', 'E'],\n",
    "                                  'key2': ['Y', 'Z', 'W', 'X'],\n",
    "                                  'value_right': [5, 6, 7, 8]})\n",
    "multikey_join_df = pd.merge(left_multikey_df, right_multikey_df, on=['key1', 'key2'], how='inner')\n",
    "print(\"\\nMerge on Multiple Keys:\")\n",
    "print(multikey_join_df)"
   ]
  }
 ],
 "metadata": {
  "kernelspec": {
   "display_name": "base",
   "language": "python",
   "name": "python3"
  },
  "language_info": {
   "codemirror_mode": {
    "name": "ipython",
    "version": 3
   },
   "file_extension": ".py",
   "mimetype": "text/x-python",
   "name": "python",
   "nbconvert_exporter": "python",
   "pygments_lexer": "ipython3",
   "version": "3.11.5"
  }
 },
 "nbformat": 4,
 "nbformat_minor": 2
}
