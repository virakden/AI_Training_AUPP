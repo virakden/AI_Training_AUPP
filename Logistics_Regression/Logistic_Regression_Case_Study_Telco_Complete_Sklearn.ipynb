{
  "cells": [
    {
      "cell_type": "markdown",
      "metadata": {
        "id": "LdIhbgGBG9E2"
      },
      "source": [
        "## Problem - Customer Churn\n",
        "\n",
        "We work for a fictitious telecommunications company \n",
        "\n",
        "One of the most important goals of the company is to increase customer loyalty. \n",
        "\n",
        "One strategy to achieve this goal is to identify customers who are likely to churn and approach them before they leave.\n",
        "\n",
        "To do this, we'll look at historical customer data and see if we can develop a model that predicts churn based on various customer factors such as contract length, monthly payments, demographic information, etc.\n",
        "\n",
        "This model would then help us to identify customers with a high risk of churn early enough so marketing could still address them e.g. with promotional packages."
      ]
    },
    {
      "cell_type": "markdown",
      "metadata": {
        "id": "ij0UcVCgHA-V"
      },
      "source": [
        "## Import Packages"
      ]
    },
    {
      "cell_type": "code",
      "execution_count": 1,
      "metadata": {},
      "outputs": [],
      "source": [
        "import numpy as np\n",
        "import pandas as pd\n",
        "import statsmodels.api as sm\n",
        "import matplotlib.pyplot as plt"
      ]
    },
    {
      "cell_type": "markdown",
      "metadata": {
        "id": "v70H61uIUW9c"
      },
      "source": [
        "### Get Data"
      ]
    },
    {
      "cell_type": "code",
      "execution_count": 2,
      "metadata": {
        "id": "GLZMuYPhUOz9"
      },
      "outputs": [],
      "source": [
        "import numpy as np\n",
        "import pandas as pd\n",
        "import statsmodels.api as sm\n",
        "import matplotlib.pyplot as plt\n",
        "df = pd.read_csv(\"https://raw.githubusercontent.com/IBM/telco-customer-churn-on-icp4d/master/data/Telco-Customer-Churn.csv\")\n",
        "df = df.query(\"Contract == 'Month-to-month'\")"
      ]
    },
    {
      "cell_type": "markdown",
      "metadata": {
        "id": "ZnNZyOzcbuey"
      },
      "source": [
        "## Training-Testing Split"
      ]
    },
    {
      "cell_type": "code",
      "execution_count": 3,
      "metadata": {
        "id": "c5PmPwqKb7z5"
      },
      "outputs": [],
      "source": [
        "from sklearn.model_selection import train_test_split\n",
        "\n",
        "# Define X and y\n",
        "X = df.loc[:,['MonthlyCharges', 'tenure', 'SeniorCitizen']]\n",
        "y = df['Churn']\n",
        "y = y.map(dict(Yes=1, No=0))\n",
        "\n",
        "X_train, X_test, y_train, y_test = train_test_split(X, y, test_size=0.2, random_state=123, stratify = y)"
      ]
    },
    {
      "cell_type": "code",
      "execution_count": 4,
      "metadata": {
        "colab": {
          "base_uri": "https://localhost:8080/"
        },
        "id": "D9q0g7bicF51",
        "outputId": "da4e474b-d5a5-4545-9ffc-98510bdaec50"
      },
      "outputs": [
        {
          "name": "stdout",
          "output_type": "stream",
          "text": [
            "3100 775\n"
          ]
        }
      ],
      "source": [
        "print(len(X_train), len(X_test))"
      ]
    },
    {
      "cell_type": "markdown",
      "metadata": {
        "id": "uMl1sIkacexx"
      },
      "source": [
        "Inspect distribution of target in training and test set"
      ]
    },
    {
      "cell_type": "code",
      "execution_count": 5,
      "metadata": {
        "colab": {
          "base_uri": "https://localhost:8080/"
        },
        "id": "M68isfuUciO4",
        "outputId": "8874e67b-0536-43e3-ec8d-4ea00d5f04b0"
      },
      "outputs": [
        {
          "name": "stdout",
          "output_type": "stream",
          "text": [
            "Churn\n",
            "0    0.572903\n",
            "1    0.427097\n",
            "Name: proportion, dtype: float64\n",
            "Churn\n",
            "0    0.572903\n",
            "1    0.427097\n",
            "Name: proportion, dtype: float64\n"
          ]
        }
      ],
      "source": [
        "print(pd.Series(y_train).value_counts(normalize = True))\n",
        "print(pd.Series(y_test).value_counts(normalize = True))"
      ]
    },
    {
      "cell_type": "markdown",
      "metadata": {
        "id": "aaqwZMU2cJuf"
      },
      "source": [
        "### Model training with sklearn"
      ]
    },
    {
      "cell_type": "code",
      "execution_count": 7,
      "metadata": {
        "colab": {
          "base_uri": "https://localhost:8080/"
        },
        "id": "n-SH0zhJcL5_",
        "outputId": "47b12a8b-35d0-45d6-cda5-cd66dca96586"
      },
      "outputs": [
        {
          "name": "stdout",
          "output_type": "stream",
          "text": [
            "[[ 0.02558182 -0.0420351   0.63308752]]\n",
            "0.675483870967742\n"
          ]
        }
      ],
      "source": [
        "# Define Model\n",
        "from sklearn import linear_model\n",
        "model = linear_model.LogisticRegression(fit_intercept = True)\n",
        "\n",
        "# Train Model\n",
        "model.fit(X_train, y_train)\n",
        "\n",
        "# Show model\n",
        "print(model.coef_)\n",
        "\n",
        "# Model Performance (Accuracy)\n",
        "print(model.score(X_train, y_train))"
      ]
    },
    {
      "cell_type": "markdown",
      "metadata": {},
      "source": [
        "### Confusion Matrix"
      ]
    },
    {
      "cell_type": "code",
      "execution_count": 8,
      "metadata": {},
      "outputs": [
        {
          "data": {
            "image/png": "[encoded data removed]",
            "text/plain": [
              "<Figure size 640x480 with 2 Axes>"
            ]
          },
          "metadata": {},
          "output_type": "display_data"
        }
      ],
      "source": [
        "from sklearn.metrics import confusion_matrix, ConfusionMatrixDisplay\n",
        "y_pred = model.predict(X_train)\n",
        "\n",
        "cm = confusion_matrix(y_train, y_pred, labels = model.classes_)\n",
        "plt = ConfusionMatrixDisplay(confusion_matrix=cm, display_labels=model .classes_)\n",
        "plt.plot(cmap = \"Blues\");"
      ]
    },
    {
      "cell_type": "markdown",
      "metadata": {},
      "source": [
        "### Accuracy Metric"
      ]
    },
    {
      "cell_type": "code",
      "execution_count": 9,
      "metadata": {
        "colab": {
          "base_uri": "https://localhost:8080/"
        },
        "id": "_DvrYvEDZZbl",
        "outputId": "7a70f631-6886-46f5-ede8-36a661ac8535"
      },
      "outputs": [
        {
          "data": {
            "text/plain": [
              "0.675483870967742"
            ]
          },
          "execution_count": 9,
          "metadata": {},
          "output_type": "execute_result"
        }
      ],
      "source": [
        "from sklearn.metrics import accuracy_score\n",
        "y_pred = model.predict(X_train)\n",
        "accuracy_score(y_pred, y_train)"
      ]
    },
    {
      "cell_type": "markdown",
      "metadata": {},
      "source": [
        "### F1 Metric"
      ]
    },
    {
      "cell_type": "code",
      "execution_count": 10,
      "metadata": {},
      "outputs": [
        {
          "data": {
            "text/plain": [
              "0.5963081861958266"
            ]
          },
          "execution_count": 10,
          "metadata": {},
          "output_type": "execute_result"
        }
      ],
      "source": [
        "from sklearn.metrics import f1_score\n",
        "y_pred = model.predict(X_train)\n",
        "f1_score(y_pred, y_train)"
      ]
    }
  ],
  "metadata": {
    "colab": {
      "provenance": [],
      "toc_visible": true
    },
    "kernelspec": {
      "display_name": "Python 3",
      "name": "python3"
    },
    "language_info": {
      "codemirror_mode": {
        "name": "ipython",
        "version": 3
      },
      "file_extension": ".py",
      "mimetype": "text/x-python",
      "name": "python",
      "nbconvert_exporter": "python",
      "pygments_lexer": "ipython3",
      "version": "3.11.5"
    }
  },
  "nbformat": 4,
  "nbformat_minor": 0
}
