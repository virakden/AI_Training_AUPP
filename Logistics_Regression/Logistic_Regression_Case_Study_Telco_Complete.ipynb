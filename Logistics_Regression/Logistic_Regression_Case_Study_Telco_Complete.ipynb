{
  "cells": [
    {
      "cell_type": "markdown",
      "metadata": {
        "id": "LdIhbgGBG9E2"
      },
      "source": [
        "## Problem - Customer Churn\n",
        "\n",
        "We work for a fictitious telecommunications company \n",
        "\n",
        "One of the most important goals of the company is to increase customer loyalty. \n",
        "\n",
        "One strategy to achieve this goal is to identify customers who are likely to churn and approach them before they leave.\n",
        "\n",
        "To do this, we'll look at historical customer data and see if we can develop a model that predicts churn based on various customer factors such as contract length, monthly payments, demographic information, etc.\n",
        "\n",
        "This model would then help us to identify customers with a high risk of churn early enough so marketing could still address them e.g. with promotional packages."
      ]
    },
    {
      "cell_type": "markdown",
      "metadata": {
        "id": "ij0UcVCgHA-V"
      },
      "source": [
        "## Import Packages"
      ]
    },
    {
      "cell_type": "code",
      "execution_count": 47,
      "metadata": {
        "id": "T9Jkr5px_56I"
      },
      "outputs": [],
      "source": [
        "import numpy as np\n",
        "import pandas as pd\n",
        "import statsmodels.api as sm\n",
        "import matplotlib.pyplot as plt"
      ]
    },
    {
      "cell_type": "markdown",
      "metadata": {
        "id": "v70H61uIUW9c"
      },
      "source": [
        "### Get Data"
      ]
    },
    {
      "cell_type": "code",
      "execution_count": 48,
      "metadata": {
        "id": "GLZMuYPhUOz9"
      },
      "outputs": [],
      "source": [
        "\n",
        "df = pd.read_csv(\"https://raw.githubusercontent.com/IBM/telco-customer-churn-on-icp4d/master/data/Telco-Customer-Churn.csv\")\n",
        "df = df.query(\"Contract == 'Month-to-month'\")"
      ]
    },
    {
      "cell_type": "markdown",
      "metadata": {
        "id": "ZnNZyOzcbuey"
      },
      "source": [
        "## Training-Testing Split"
      ]
    },
    {
      "cell_type": "code",
      "execution_count": 49,
      "metadata": {
        "id": "c5PmPwqKb7z5"
      },
      "outputs": [],
      "source": [
        "from sklearn.model_selection import train_test_split\n",
        "\n",
        "# Define X and y\n",
        "X = df.loc[:,['MonthlyCharges', 'tenure', 'SeniorCitizen']]\n",
        "y = df['Churn']\n",
        "y = y.map(dict(Yes=1, No=0))\n",
        "\n",
        "X_train, X_test, y_train, y_test = train_test_split(X, y, test_size=0.2, random_state=123, stratify = y)"
      ]
    },
    {
      "cell_type": "code",
      "execution_count": 50,
      "metadata": {
        "colab": {
          "base_uri": "https://localhost:8080/"
        },
        "id": "D9q0g7bicF51",
        "outputId": "da4e474b-d5a5-4545-9ffc-98510bdaec50"
      },
      "outputs": [
        {
          "name": "stdout",
          "output_type": "stream",
          "text": [
            "3100 775\n"
          ]
        }
      ],
      "source": [
        "print(len(X_train), len(X_test))"
      ]
    },
    {
      "cell_type": "markdown",
      "metadata": {
        "id": "uMl1sIkacexx"
      },
      "source": [
        "Inspect distribution of target in training and test set"
      ]
    },
    {
      "cell_type": "code",
      "execution_count": 51,
      "metadata": {
        "colab": {
          "base_uri": "https://localhost:8080/"
        },
        "id": "M68isfuUciO4",
        "outputId": "8874e67b-0536-43e3-ec8d-4ea00d5f04b0"
      },
      "outputs": [
        {
          "name": "stdout",
          "output_type": "stream",
          "text": [
            "Churn\n",
            "0    0.572903\n",
            "1    0.427097\n",
            "Name: proportion, dtype: float64\n",
            "Churn\n",
            "0    0.572903\n",
            "1    0.427097\n",
            "Name: proportion, dtype: float64\n"
          ]
        }
      ],
      "source": [
        "print(pd.Series(y_train).value_counts(normalize = True))\n",
        "print(pd.Series(y_test).value_counts(normalize = True))"
      ]
    },
    {
      "cell_type": "markdown",
      "metadata": {
        "id": "aaqwZMU2cJuf"
      },
      "source": [
        "### Model training with sklearn"
      ]
    },
    {
      "cell_type": "code",
      "execution_count": 52,
      "metadata": {
        "colab": {
          "base_uri": "https://localhost:8080/"
        },
        "id": "n-SH0zhJcL5_",
        "outputId": "47b12a8b-35d0-45d6-cda5-cd66dca96586"
      },
      "outputs": [
        {
          "name": "stdout",
          "output_type": "stream",
          "text": [
            "[[ 0.02558182 -0.0420351   0.63308752]]\n",
            "0.675483870967742\n"
          ]
        }
      ],
      "source": [
        "# Define Model\n",
        "from sklearn import linear_model\n",
        "model = linear_model.LogisticRegression(fit_intercept = True)\n",
        "\n",
        "# Train Model\n",
        "model.fit(X_train, y_train)\n",
        "\n",
        "# Show model\n",
        "print(model.coef_)\n",
        "\n",
        "# Model Performance (Accuracy)\n",
        "print(model.score(X_train, y_train))"
      ]
    },
    {
      "cell_type": "code",
      "execution_count": 53,
      "metadata": {
        "colab": {
          "base_uri": "https://localhost:8080/"
        },
        "id": "_DvrYvEDZZbl",
        "outputId": "7a70f631-6886-46f5-ede8-36a661ac8535"
      },
      "outputs": [
        {
          "data": {
            "text/plain": [
              "0.5963081861958266"
            ]
          },
          "execution_count": 53,
          "metadata": {},
          "output_type": "execute_result"
        }
      ],
      "source": [
        "from sklearn.metrics import f1_score\n",
        "y_pred = model.predict(X_train)\n",
        "f1_score(y_pred, y_train)"
      ]
    },
    {
      "cell_type": "markdown",
      "metadata": {
        "id": "ej_6xt--eQSw"
      },
      "source": [
        "Evaluate on test set? Not so fast..."
      ]
    },
    {
      "cell_type": "markdown",
      "metadata": {
        "id": "5xwXA45PdRta"
      },
      "source": [
        "## Training with Cross-Validation \n",
        "### Implement CV (almost) from scratch with sklearn"
      ]
    },
    {
      "cell_type": "code",
      "execution_count": 54,
      "metadata": {
        "colab": {
          "base_uri": "https://localhost:8080/",
          "height": 419
        },
        "id": "kfT_Svy4dXpC",
        "outputId": "535a3a2d-f46c-476f-e346-fc9fa2896838"
      },
      "outputs": [
        {
          "data": {
            "text/html": [
              "<div>\n",
              "<style scoped>\n",
              "    .dataframe tbody tr th:only-of-type {\n",
              "        vertical-align: middle;\n",
              "    }\n",
              "\n",
              "    .dataframe tbody tr th {\n",
              "        vertical-align: top;\n",
              "    }\n",
              "\n",
              "    .dataframe thead th {\n",
              "        text-align: right;\n",
              "    }\n",
              "</style>\n",
              "<table border=\"1\" class=\"dataframe\">\n",
              "  <thead>\n",
              "    <tr style=\"text-align: right;\">\n",
              "      <th></th>\n",
              "      <th>MonthlyCharges</th>\n",
              "      <th>tenure</th>\n",
              "      <th>SeniorCitizen</th>\n",
              "      <th>target</th>\n",
              "      <th>kfold</th>\n",
              "    </tr>\n",
              "  </thead>\n",
              "  <tbody>\n",
              "    <tr>\n",
              "      <th>0</th>\n",
              "      <td>30.35</td>\n",
              "      <td>23</td>\n",
              "      <td>0</td>\n",
              "      <td>0</td>\n",
              "      <td>0</td>\n",
              "    </tr>\n",
              "    <tr>\n",
              "      <th>1</th>\n",
              "      <td>74.45</td>\n",
              "      <td>1</td>\n",
              "      <td>1</td>\n",
              "      <td>1</td>\n",
              "      <td>0</td>\n",
              "    </tr>\n",
              "    <tr>\n",
              "      <th>2</th>\n",
              "      <td>75.60</td>\n",
              "      <td>23</td>\n",
              "      <td>0</td>\n",
              "      <td>1</td>\n",
              "      <td>0</td>\n",
              "    </tr>\n",
              "    <tr>\n",
              "      <th>3</th>\n",
              "      <td>79.10</td>\n",
              "      <td>3</td>\n",
              "      <td>0</td>\n",
              "      <td>1</td>\n",
              "      <td>0</td>\n",
              "    </tr>\n",
              "    <tr>\n",
              "      <th>4</th>\n",
              "      <td>70.05</td>\n",
              "      <td>9</td>\n",
              "      <td>0</td>\n",
              "      <td>0</td>\n",
              "      <td>0</td>\n",
              "    </tr>\n",
              "    <tr>\n",
              "      <th>...</th>\n",
              "      <td>...</td>\n",
              "      <td>...</td>\n",
              "      <td>...</td>\n",
              "      <td>...</td>\n",
              "      <td>...</td>\n",
              "    </tr>\n",
              "    <tr>\n",
              "      <th>3095</th>\n",
              "      <td>19.65</td>\n",
              "      <td>1</td>\n",
              "      <td>0</td>\n",
              "      <td>1</td>\n",
              "      <td>4</td>\n",
              "    </tr>\n",
              "    <tr>\n",
              "      <th>3096</th>\n",
              "      <td>73.75</td>\n",
              "      <td>4</td>\n",
              "      <td>0</td>\n",
              "      <td>1</td>\n",
              "      <td>4</td>\n",
              "    </tr>\n",
              "    <tr>\n",
              "      <th>3097</th>\n",
              "      <td>64.10</td>\n",
              "      <td>40</td>\n",
              "      <td>0</td>\n",
              "      <td>0</td>\n",
              "      <td>4</td>\n",
              "    </tr>\n",
              "    <tr>\n",
              "      <th>3098</th>\n",
              "      <td>94.20</td>\n",
              "      <td>8</td>\n",
              "      <td>0</td>\n",
              "      <td>1</td>\n",
              "      <td>4</td>\n",
              "    </tr>\n",
              "    <tr>\n",
              "      <th>3099</th>\n",
              "      <td>19.50</td>\n",
              "      <td>2</td>\n",
              "      <td>0</td>\n",
              "      <td>0</td>\n",
              "      <td>4</td>\n",
              "    </tr>\n",
              "  </tbody>\n",
              "</table>\n",
              "<p>3100 rows × 5 columns</p>\n",
              "</div>"
            ],
            "text/plain": [
              "      MonthlyCharges  tenure  SeniorCitizen  target kfold\n",
              "0              30.35      23              0       0     0\n",
              "1              74.45       1              1       1     0\n",
              "2              75.60      23              0       1     0\n",
              "3              79.10       3              0       1     0\n",
              "4              70.05       9              0       0     0\n",
              "...              ...     ...            ...     ...   ...\n",
              "3095           19.65       1              0       1     4\n",
              "3096           73.75       4              0       1     4\n",
              "3097           64.10      40              0       0     4\n",
              "3098           94.20       8              0       1     4\n",
              "3099           19.50       2              0       0     4\n",
              "\n",
              "[3100 rows x 5 columns]"
            ]
          },
          "execution_count": 54,
          "metadata": {},
          "output_type": "execute_result"
        }
      ],
      "source": [
        "from sklearn import model_selection\n",
        "# Set parameter k\n",
        "k = 5\n",
        "\n",
        "# Concat X_train and y_train\n",
        "kfold_df = X_train.copy()\n",
        "kfold_df['target'] = y_train\n",
        "\n",
        "# Shuffle the rows of the data frame\n",
        "kfold_df = kfold_df.sample(frac=1, replace=False, random_state=123).reset_index(drop = True)\n",
        "kfold_df['kfold'] = \"\"\n",
        "\n",
        "# Initiate KFold class from scikit-learn\n",
        "kf = model_selection.KFold(n_splits=k)\n",
        "\n",
        "# Populate the kfold column\n",
        "for fold, (train, validation) in enumerate(kf.split(X=kfold_df)):\n",
        " kfold_df.loc[validation, 'kfold'] = fold\n",
        "\n",
        "# Inspect training data frame\n",
        "kfold_df"
      ]
    },
    {
      "cell_type": "markdown",
      "metadata": {
        "id": "nmxnAiI-ddh-"
      },
      "source": [
        "Cross validation training loop"
      ]
    },
    {
      "cell_type": "code",
      "execution_count": 55,
      "metadata": {
        "colab": {
          "base_uri": "https://localhost:8080/"
        },
        "id": "nnEmaubndcuL",
        "outputId": "d8e9e5d8-9f22-4dff-dca8-5ddb5a7b774a"
      },
      "outputs": [
        {
          "name": "stdout",
          "output_type": "stream",
          "text": [
            "Fold = 0, F1 = 0.5756302521008403\n",
            "Fold = 1, F1 = 0.588957055214724\n",
            "Fold = 2, F1 = 0.58\n",
            "Fold = 3, F1 = 0.6457925636007827\n",
            "Fold = 4, F1 = 0.5692007797270955\n",
            "Average model F1-Score is 0.5919161301286884\n"
          ]
        }
      ],
      "source": [
        "# Train Model with Cross-Validation\n",
        "mean_f1 = []\n",
        "\n",
        "model = linear_model.LogisticRegression(fit_intercept = True)\n",
        "\n",
        "for fold in range(0,k):\n",
        "\n",
        "  # Training data is all but the provided fold\n",
        "  fold_df = kfold_df[kfold_df['kfold'] != fold].reset_index(drop = True)\n",
        "\n",
        "  # Validation fold is the fold provided\n",
        "  valid_df = kfold_df[kfold_df['kfold'] == fold].reset_index(drop = True)\n",
        "\n",
        "  # Assign feature & target columns\n",
        "  X_train_cv = fold_df.drop(\"target\", axis = 1)\n",
        "  y_train_cv = fold_df['target']\n",
        "\n",
        "  # Same for validation set\n",
        "  X_valid_cv = valid_df.drop(\"target\", axis = 1)\n",
        "  y_valid_cv = valid_df['target']\n",
        "\n",
        "  # Fit the model on training data\n",
        "  model.fit(X_train_cv, y_train_cv)\n",
        "\n",
        "  # Get predictions for validation samples\n",
        "  predictions = model.predict(X_valid_cv)\n",
        "\n",
        "  # Evaluate model\n",
        "  f1 = f1_score(y_valid_cv, predictions)\n",
        "  print(f\"Fold = {fold}, F1 = {f1}\")\n",
        "\n",
        "  mean_f1.append(f1)\n",
        "\n",
        "print(f\"Average model F1-Score is {np.mean(mean_f1)}\")"
      ]
    },
    {
      "cell_type": "markdown",
      "metadata": {
        "id": "E7EyWJxxeGR4"
      },
      "source": [
        "Great - we have validated our model accuracy using cross validation! Let's try different models / hyperparameters."
      ]
    },
    {
      "cell_type": "markdown",
      "metadata": {
        "id": "zMXOA2_BeWZ_"
      },
      "source": [
        "## Grid Search with CV"
      ]
    },
    {
      "cell_type": "markdown",
      "metadata": {
        "id": "daJU1aODebgY"
      },
      "source": [
        "Hyperparameter tuning"
      ]
    },
    {
      "cell_type": "code",
      "execution_count": 56,
      "metadata": {
        "colab": {
          "base_uri": "https://localhost:8080/"
        },
        "id": "T4mwp90Tea1B",
        "outputId": "caeec9b6-9621-4647-9230-46a50e711aa3"
      },
      "outputs": [
        {
          "data": {
            "text/html": [
              "<style>#sk-container-id-7 {color: black;}#sk-container-id-7 pre{padding: 0;}#sk-container-id-7 div.sk-toggleable {background-color: white;}#sk-container-id-7 label.sk-toggleable__label {cursor: pointer;display: block;width: 100%;margin-bottom: 0;padding: 0.3em;box-sizing: border-box;text-align: center;}#sk-container-id-7 label.sk-toggleable__label-arrow:before {content: \"▸\";float: left;margin-right: 0.25em;color: #696969;}#sk-container-id-7 label.sk-toggleable__label-arrow:hover:before {color: black;}#sk-container-id-7 div.sk-estimator:hover label.sk-toggleable__label-arrow:before {color: black;}#sk-container-id-7 div.sk-toggleable__content {max-height: 0;max-width: 0;overflow: hidden;text-align: left;background-color: #f0f8ff;}#sk-container-id-7 div.sk-toggleable__content pre {margin: 0.2em;color: black;border-radius: 0.25em;background-color: #f0f8ff;}#sk-container-id-7 input.sk-toggleable__control:checked~div.sk-toggleable__content {max-height: 200px;max-width: 100%;overflow: auto;}#sk-container-id-7 input.sk-toggleable__control:checked~label.sk-toggleable__label-arrow:before {content: \"▾\";}#sk-container-id-7 div.sk-estimator input.sk-toggleable__control:checked~label.sk-toggleable__label {background-color: #d4ebff;}#sk-container-id-7 div.sk-label input.sk-toggleable__control:checked~label.sk-toggleable__label {background-color: #d4ebff;}#sk-container-id-7 input.sk-hidden--visually {border: 0;clip: rect(1px 1px 1px 1px);clip: rect(1px, 1px, 1px, 1px);height: 1px;margin: -1px;overflow: hidden;padding: 0;position: absolute;width: 1px;}#sk-container-id-7 div.sk-estimator {font-family: monospace;background-color: #f0f8ff;border: 1px dotted black;border-radius: 0.25em;box-sizing: border-box;margin-bottom: 0.5em;}#sk-container-id-7 div.sk-estimator:hover {background-color: #d4ebff;}#sk-container-id-7 div.sk-parallel-item::after {content: \"\";width: 100%;border-bottom: 1px solid gray;flex-grow: 1;}#sk-container-id-7 div.sk-label:hover label.sk-toggleable__label {background-color: #d4ebff;}#sk-container-id-7 div.sk-serial::before {content: \"\";position: absolute;border-left: 1px solid gray;box-sizing: border-box;top: 0;bottom: 0;left: 50%;z-index: 0;}#sk-container-id-7 div.sk-serial {display: flex;flex-direction: column;align-items: center;background-color: white;padding-right: 0.2em;padding-left: 0.2em;position: relative;}#sk-container-id-7 div.sk-item {position: relative;z-index: 1;}#sk-container-id-7 div.sk-parallel {display: flex;align-items: stretch;justify-content: center;background-color: white;position: relative;}#sk-container-id-7 div.sk-item::before, #sk-container-id-7 div.sk-parallel-item::before {content: \"\";position: absolute;border-left: 1px solid gray;box-sizing: border-box;top: 0;bottom: 0;left: 50%;z-index: -1;}#sk-container-id-7 div.sk-parallel-item {display: flex;flex-direction: column;z-index: 1;position: relative;background-color: white;}#sk-container-id-7 div.sk-parallel-item:first-child::after {align-self: flex-end;width: 50%;}#sk-container-id-7 div.sk-parallel-item:last-child::after {align-self: flex-start;width: 50%;}#sk-container-id-7 div.sk-parallel-item:only-child::after {width: 0;}#sk-container-id-7 div.sk-dashed-wrapped {border: 1px dashed gray;margin: 0 0.4em 0.5em 0.4em;box-sizing: border-box;padding-bottom: 0.4em;background-color: white;}#sk-container-id-7 div.sk-label label {font-family: monospace;font-weight: bold;display: inline-block;line-height: 1.2em;}#sk-container-id-7 div.sk-label-container {text-align: center;}#sk-container-id-7 div.sk-container {/* jupyter's `normalize.less` sets `[hidden] { display: none; }` but bootstrap.min.css set `[hidden] { display: none !important; }` so we also need the `!important` here to be able to override the default hidden behavior on the sphinx rendered scikit-learn.org. See: https://github.com/scikit-learn/scikit-learn/issues/21755 */display: inline-block !important;position: relative;}#sk-container-id-7 div.sk-text-repr-fallback {display: none;}</style><div id=\"sk-container-id-7\" class=\"sk-top-container\"><div class=\"sk-text-repr-fallback\"><pre>GridSearchCV(cv=5, estimator=LogisticRegression(max_iter=1000),\n",
              "             param_grid={&#x27;class_weight&#x27;: [None, &#x27;balanced&#x27;],\n",
              "                         &#x27;solver&#x27;: [&#x27;newton-cg&#x27;, &#x27;lbfgs&#x27;, &#x27;liblinear&#x27;, &#x27;sag&#x27;,\n",
              "                                    &#x27;saga&#x27;]},\n",
              "             scoring=&#x27;f1&#x27;)</pre><b>In a Jupyter environment, please rerun this cell to show the HTML representation or trust the notebook. <br />On GitHub, the HTML representation is unable to render, please try loading this page with nbviewer.org.</b></div><div class=\"sk-container\" hidden><div class=\"sk-item sk-dashed-wrapped\"><div class=\"sk-label-container\"><div class=\"sk-label sk-toggleable\"><input class=\"sk-toggleable__control sk-hidden--visually\" id=\"sk-estimator-id-11\" type=\"checkbox\" ><label for=\"sk-estimator-id-11\" class=\"sk-toggleable__label sk-toggleable__label-arrow\">GridSearchCV</label><div class=\"sk-toggleable__content\"><pre>GridSearchCV(cv=5, estimator=LogisticRegression(max_iter=1000),\n",
              "             param_grid={&#x27;class_weight&#x27;: [None, &#x27;balanced&#x27;],\n",
              "                         &#x27;solver&#x27;: [&#x27;newton-cg&#x27;, &#x27;lbfgs&#x27;, &#x27;liblinear&#x27;, &#x27;sag&#x27;,\n",
              "                                    &#x27;saga&#x27;]},\n",
              "             scoring=&#x27;f1&#x27;)</pre></div></div></div><div class=\"sk-parallel\"><div class=\"sk-parallel-item\"><div class=\"sk-item\"><div class=\"sk-label-container\"><div class=\"sk-label sk-toggleable\"><input class=\"sk-toggleable__control sk-hidden--visually\" id=\"sk-estimator-id-12\" type=\"checkbox\" ><label for=\"sk-estimator-id-12\" class=\"sk-toggleable__label sk-toggleable__label-arrow\">estimator: LogisticRegression</label><div class=\"sk-toggleable__content\"><pre>LogisticRegression(max_iter=1000)</pre></div></div></div><div class=\"sk-serial\"><div class=\"sk-item\"><div class=\"sk-estimator sk-toggleable\"><input class=\"sk-toggleable__control sk-hidden--visually\" id=\"sk-estimator-id-13\" type=\"checkbox\" ><label for=\"sk-estimator-id-13\" class=\"sk-toggleable__label sk-toggleable__label-arrow\">LogisticRegression</label><div class=\"sk-toggleable__content\"><pre>LogisticRegression(max_iter=1000)</pre></div></div></div></div></div></div></div></div></div></div>"
            ],
            "text/plain": [
              "GridSearchCV(cv=5, estimator=LogisticRegression(max_iter=1000),\n",
              "             param_grid={'class_weight': [None, 'balanced'],\n",
              "                         'solver': ['newton-cg', 'lbfgs', 'liblinear', 'sag',\n",
              "                                    'saga']},\n",
              "             scoring='f1')"
            ]
          },
          "execution_count": 56,
          "metadata": {},
          "output_type": "execute_result"
        }
      ],
      "source": [
        "from sklearn.model_selection import GridSearchCV\n",
        "\n",
        "model = linear_model.LogisticRegression(fit_intercept = True, max_iter = 1000)\n",
        "\n",
        "# Define grid\n",
        "parameters = {'class_weight': [None, 'balanced'], 'solver':['newton-cg', 'lbfgs', 'liblinear', 'sag', 'saga']}\n",
        "\n",
        "grid_search = GridSearchCV(model, parameters, cv = k, scoring = \"f1\")\n",
        "grid_search.fit(X_train, y_train)"
      ]
    },
    {
      "cell_type": "code",
      "execution_count": 57,
      "metadata": {
        "colab": {
          "base_uri": "https://localhost:8080/",
          "height": 780
        },
        "id": "BXTTJz7Dfdoz",
        "outputId": "66e8d2fe-a086-4c6c-c61f-16ccf4984296"
      },
      "outputs": [
        {
          "data": {
            "text/html": [
              "<div>\n",
              "<style scoped>\n",
              "    .dataframe tbody tr th:only-of-type {\n",
              "        vertical-align: middle;\n",
              "    }\n",
              "\n",
              "    .dataframe tbody tr th {\n",
              "        vertical-align: top;\n",
              "    }\n",
              "\n",
              "    .dataframe thead th {\n",
              "        text-align: right;\n",
              "    }\n",
              "</style>\n",
              "<table border=\"1\" class=\"dataframe\">\n",
              "  <thead>\n",
              "    <tr style=\"text-align: right;\">\n",
              "      <th></th>\n",
              "      <th>mean_fit_time</th>\n",
              "      <th>std_fit_time</th>\n",
              "      <th>mean_score_time</th>\n",
              "      <th>std_score_time</th>\n",
              "      <th>param_class_weight</th>\n",
              "      <th>param_solver</th>\n",
              "      <th>params</th>\n",
              "      <th>split0_test_score</th>\n",
              "      <th>split1_test_score</th>\n",
              "      <th>split2_test_score</th>\n",
              "      <th>split3_test_score</th>\n",
              "      <th>split4_test_score</th>\n",
              "      <th>mean_test_score</th>\n",
              "      <th>std_test_score</th>\n",
              "      <th>rank_test_score</th>\n",
              "    </tr>\n",
              "  </thead>\n",
              "  <tbody>\n",
              "    <tr>\n",
              "      <th>9</th>\n",
              "      <td>0.095131</td>\n",
              "      <td>0.003779</td>\n",
              "      <td>0.003206</td>\n",
              "      <td>2.500654e-04</td>\n",
              "      <td>balanced</td>\n",
              "      <td>saga</td>\n",
              "      <td>{'class_weight': 'balanced', 'solver': 'saga'}</td>\n",
              "      <td>0.596187</td>\n",
              "      <td>0.612389</td>\n",
              "      <td>0.605634</td>\n",
              "      <td>0.636364</td>\n",
              "      <td>0.636678</td>\n",
              "      <td>0.617450</td>\n",
              "      <td>0.016400</td>\n",
              "      <td>1</td>\n",
              "    </tr>\n",
              "    <tr>\n",
              "      <th>8</th>\n",
              "      <td>0.060822</td>\n",
              "      <td>0.008081</td>\n",
              "      <td>0.003200</td>\n",
              "      <td>3.990572e-04</td>\n",
              "      <td>balanced</td>\n",
              "      <td>sag</td>\n",
              "      <td>{'class_weight': 'balanced', 'solver': 'sag'}</td>\n",
              "      <td>0.596187</td>\n",
              "      <td>0.612389</td>\n",
              "      <td>0.604240</td>\n",
              "      <td>0.637478</td>\n",
              "      <td>0.636678</td>\n",
              "      <td>0.617395</td>\n",
              "      <td>0.016870</td>\n",
              "      <td>2</td>\n",
              "    </tr>\n",
              "    <tr>\n",
              "      <th>7</th>\n",
              "      <td>0.005402</td>\n",
              "      <td>0.000800</td>\n",
              "      <td>0.003624</td>\n",
              "      <td>5.082412e-04</td>\n",
              "      <td>balanced</td>\n",
              "      <td>liblinear</td>\n",
              "      <td>{'class_weight': 'balanced', 'solver': 'liblin...</td>\n",
              "      <td>0.596187</td>\n",
              "      <td>0.612389</td>\n",
              "      <td>0.604240</td>\n",
              "      <td>0.636364</td>\n",
              "      <td>0.636678</td>\n",
              "      <td>0.617172</td>\n",
              "      <td>0.016609</td>\n",
              "      <td>3</td>\n",
              "    </tr>\n",
              "    <tr>\n",
              "      <th>5</th>\n",
              "      <td>0.013408</td>\n",
              "      <td>0.001585</td>\n",
              "      <td>0.004100</td>\n",
              "      <td>6.045334e-04</td>\n",
              "      <td>balanced</td>\n",
              "      <td>newton-cg</td>\n",
              "      <td>{'class_weight': 'balanced', 'solver': 'newton...</td>\n",
              "      <td>0.596187</td>\n",
              "      <td>0.609929</td>\n",
              "      <td>0.602837</td>\n",
              "      <td>0.637478</td>\n",
              "      <td>0.635417</td>\n",
              "      <td>0.616370</td>\n",
              "      <td>0.016972</td>\n",
              "      <td>4</td>\n",
              "    </tr>\n",
              "    <tr>\n",
              "      <th>6</th>\n",
              "      <td>0.011808</td>\n",
              "      <td>0.000709</td>\n",
              "      <td>0.003830</td>\n",
              "      <td>4.184156e-04</td>\n",
              "      <td>balanced</td>\n",
              "      <td>lbfgs</td>\n",
              "      <td>{'class_weight': 'balanced', 'solver': 'lbfgs'}</td>\n",
              "      <td>0.596187</td>\n",
              "      <td>0.609929</td>\n",
              "      <td>0.602837</td>\n",
              "      <td>0.637478</td>\n",
              "      <td>0.635417</td>\n",
              "      <td>0.616370</td>\n",
              "      <td>0.016972</td>\n",
              "      <td>4</td>\n",
              "    </tr>\n",
              "    <tr>\n",
              "      <th>0</th>\n",
              "      <td>0.013514</td>\n",
              "      <td>0.001687</td>\n",
              "      <td>0.003822</td>\n",
              "      <td>7.806644e-04</td>\n",
              "      <td>None</td>\n",
              "      <td>newton-cg</td>\n",
              "      <td>{'class_weight': None, 'solver': 'newton-cg'}</td>\n",
              "      <td>0.572565</td>\n",
              "      <td>0.572000</td>\n",
              "      <td>0.592000</td>\n",
              "      <td>0.631365</td>\n",
              "      <td>0.605210</td>\n",
              "      <td>0.594628</td>\n",
              "      <td>0.022214</td>\n",
              "      <td>6</td>\n",
              "    </tr>\n",
              "    <tr>\n",
              "      <th>1</th>\n",
              "      <td>0.011127</td>\n",
              "      <td>0.000698</td>\n",
              "      <td>0.003800</td>\n",
              "      <td>3.999955e-04</td>\n",
              "      <td>None</td>\n",
              "      <td>lbfgs</td>\n",
              "      <td>{'class_weight': None, 'solver': 'lbfgs'}</td>\n",
              "      <td>0.572565</td>\n",
              "      <td>0.572000</td>\n",
              "      <td>0.592000</td>\n",
              "      <td>0.631365</td>\n",
              "      <td>0.605210</td>\n",
              "      <td>0.594628</td>\n",
              "      <td>0.022214</td>\n",
              "      <td>6</td>\n",
              "    </tr>\n",
              "    <tr>\n",
              "      <th>2</th>\n",
              "      <td>0.006206</td>\n",
              "      <td>0.001716</td>\n",
              "      <td>0.004312</td>\n",
              "      <td>5.648758e-04</td>\n",
              "      <td>None</td>\n",
              "      <td>liblinear</td>\n",
              "      <td>{'class_weight': None, 'solver': 'liblinear'}</td>\n",
              "      <td>0.572565</td>\n",
              "      <td>0.570281</td>\n",
              "      <td>0.592000</td>\n",
              "      <td>0.631365</td>\n",
              "      <td>0.600000</td>\n",
              "      <td>0.593242</td>\n",
              "      <td>0.022160</td>\n",
              "      <td>8</td>\n",
              "    </tr>\n",
              "    <tr>\n",
              "      <th>3</th>\n",
              "      <td>0.057059</td>\n",
              "      <td>0.008987</td>\n",
              "      <td>0.003295</td>\n",
              "      <td>4.333612e-04</td>\n",
              "      <td>None</td>\n",
              "      <td>sag</td>\n",
              "      <td>{'class_weight': None, 'solver': 'sag'}</td>\n",
              "      <td>0.572565</td>\n",
              "      <td>0.570281</td>\n",
              "      <td>0.592000</td>\n",
              "      <td>0.631365</td>\n",
              "      <td>0.600000</td>\n",
              "      <td>0.593242</td>\n",
              "      <td>0.022160</td>\n",
              "      <td>8</td>\n",
              "    </tr>\n",
              "    <tr>\n",
              "      <th>4</th>\n",
              "      <td>0.095928</td>\n",
              "      <td>0.005703</td>\n",
              "      <td>0.002998</td>\n",
              "      <td>7.231594e-07</td>\n",
              "      <td>None</td>\n",
              "      <td>saga</td>\n",
              "      <td>{'class_weight': None, 'solver': 'saga'}</td>\n",
              "      <td>0.572565</td>\n",
              "      <td>0.570281</td>\n",
              "      <td>0.592000</td>\n",
              "      <td>0.627291</td>\n",
              "      <td>0.600000</td>\n",
              "      <td>0.592427</td>\n",
              "      <td>0.020775</td>\n",
              "      <td>10</td>\n",
              "    </tr>\n",
              "  </tbody>\n",
              "</table>\n",
              "</div>"
            ],
            "text/plain": [
              "   mean_fit_time  std_fit_time  mean_score_time  std_score_time  \\\n",
              "9       0.095131      0.003779         0.003206    2.500654e-04   \n",
              "8       0.060822      0.008081         0.003200    3.990572e-04   \n",
              "7       0.005402      0.000800         0.003624    5.082412e-04   \n",
              "5       0.013408      0.001585         0.004100    6.045334e-04   \n",
              "6       0.011808      0.000709         0.003830    4.184156e-04   \n",
              "0       0.013514      0.001687         0.003822    7.806644e-04   \n",
              "1       0.011127      0.000698         0.003800    3.999955e-04   \n",
              "2       0.006206      0.001716         0.004312    5.648758e-04   \n",
              "3       0.057059      0.008987         0.003295    4.333612e-04   \n",
              "4       0.095928      0.005703         0.002998    7.231594e-07   \n",
              "\n",
              "  param_class_weight param_solver  \\\n",
              "9           balanced         saga   \n",
              "8           balanced          sag   \n",
              "7           balanced    liblinear   \n",
              "5           balanced    newton-cg   \n",
              "6           balanced        lbfgs   \n",
              "0               None    newton-cg   \n",
              "1               None        lbfgs   \n",
              "2               None    liblinear   \n",
              "3               None          sag   \n",
              "4               None         saga   \n",
              "\n",
              "                                              params  split0_test_score  \\\n",
              "9     {'class_weight': 'balanced', 'solver': 'saga'}           0.596187   \n",
              "8      {'class_weight': 'balanced', 'solver': 'sag'}           0.596187   \n",
              "7  {'class_weight': 'balanced', 'solver': 'liblin...           0.596187   \n",
              "5  {'class_weight': 'balanced', 'solver': 'newton...           0.596187   \n",
              "6    {'class_weight': 'balanced', 'solver': 'lbfgs'}           0.596187   \n",
              "0      {'class_weight': None, 'solver': 'newton-cg'}           0.572565   \n",
              "1          {'class_weight': None, 'solver': 'lbfgs'}           0.572565   \n",
              "2      {'class_weight': None, 'solver': 'liblinear'}           0.572565   \n",
              "3            {'class_weight': None, 'solver': 'sag'}           0.572565   \n",
              "4           {'class_weight': None, 'solver': 'saga'}           0.572565   \n",
              "\n",
              "   split1_test_score  split2_test_score  split3_test_score  split4_test_score  \\\n",
              "9           0.612389           0.605634           0.636364           0.636678   \n",
              "8           0.612389           0.604240           0.637478           0.636678   \n",
              "7           0.612389           0.604240           0.636364           0.636678   \n",
              "5           0.609929           0.602837           0.637478           0.635417   \n",
              "6           0.609929           0.602837           0.637478           0.635417   \n",
              "0           0.572000           0.592000           0.631365           0.605210   \n",
              "1           0.572000           0.592000           0.631365           0.605210   \n",
              "2           0.570281           0.592000           0.631365           0.600000   \n",
              "3           0.570281           0.592000           0.631365           0.600000   \n",
              "4           0.570281           0.592000           0.627291           0.600000   \n",
              "\n",
              "   mean_test_score  std_test_score  rank_test_score  \n",
              "9         0.617450        0.016400                1  \n",
              "8         0.617395        0.016870                2  \n",
              "7         0.617172        0.016609                3  \n",
              "5         0.616370        0.016972                4  \n",
              "6         0.616370        0.016972                4  \n",
              "0         0.594628        0.022214                6  \n",
              "1         0.594628        0.022214                6  \n",
              "2         0.593242        0.022160                8  \n",
              "3         0.593242        0.022160                8  \n",
              "4         0.592427        0.020775               10  "
            ]
          },
          "execution_count": 57,
          "metadata": {},
          "output_type": "execute_result"
        }
      ],
      "source": [
        "pd.DataFrame((grid_search.cv_results_)).sort_values(\"rank_test_score\")"
      ]
    },
    {
      "cell_type": "code",
      "execution_count": 58,
      "metadata": {
        "colab": {
          "base_uri": "https://localhost:8080/"
        },
        "id": "LwR65Cw6iMFL",
        "outputId": "4c888af7-af59-404a-88eb-5a30a475cffc"
      },
      "outputs": [
        {
          "data": {
            "text/html": [
              "<style>#sk-container-id-8 {color: black;}#sk-container-id-8 pre{padding: 0;}#sk-container-id-8 div.sk-toggleable {background-color: white;}#sk-container-id-8 label.sk-toggleable__label {cursor: pointer;display: block;width: 100%;margin-bottom: 0;padding: 0.3em;box-sizing: border-box;text-align: center;}#sk-container-id-8 label.sk-toggleable__label-arrow:before {content: \"▸\";float: left;margin-right: 0.25em;color: #696969;}#sk-container-id-8 label.sk-toggleable__label-arrow:hover:before {color: black;}#sk-container-id-8 div.sk-estimator:hover label.sk-toggleable__label-arrow:before {color: black;}#sk-container-id-8 div.sk-toggleable__content {max-height: 0;max-width: 0;overflow: hidden;text-align: left;background-color: #f0f8ff;}#sk-container-id-8 div.sk-toggleable__content pre {margin: 0.2em;color: black;border-radius: 0.25em;background-color: #f0f8ff;}#sk-container-id-8 input.sk-toggleable__control:checked~div.sk-toggleable__content {max-height: 200px;max-width: 100%;overflow: auto;}#sk-container-id-8 input.sk-toggleable__control:checked~label.sk-toggleable__label-arrow:before {content: \"▾\";}#sk-container-id-8 div.sk-estimator input.sk-toggleable__control:checked~label.sk-toggleable__label {background-color: #d4ebff;}#sk-container-id-8 div.sk-label input.sk-toggleable__control:checked~label.sk-toggleable__label {background-color: #d4ebff;}#sk-container-id-8 input.sk-hidden--visually {border: 0;clip: rect(1px 1px 1px 1px);clip: rect(1px, 1px, 1px, 1px);height: 1px;margin: -1px;overflow: hidden;padding: 0;position: absolute;width: 1px;}#sk-container-id-8 div.sk-estimator {font-family: monospace;background-color: #f0f8ff;border: 1px dotted black;border-radius: 0.25em;box-sizing: border-box;margin-bottom: 0.5em;}#sk-container-id-8 div.sk-estimator:hover {background-color: #d4ebff;}#sk-container-id-8 div.sk-parallel-item::after {content: \"\";width: 100%;border-bottom: 1px solid gray;flex-grow: 1;}#sk-container-id-8 div.sk-label:hover label.sk-toggleable__label {background-color: #d4ebff;}#sk-container-id-8 div.sk-serial::before {content: \"\";position: absolute;border-left: 1px solid gray;box-sizing: border-box;top: 0;bottom: 0;left: 50%;z-index: 0;}#sk-container-id-8 div.sk-serial {display: flex;flex-direction: column;align-items: center;background-color: white;padding-right: 0.2em;padding-left: 0.2em;position: relative;}#sk-container-id-8 div.sk-item {position: relative;z-index: 1;}#sk-container-id-8 div.sk-parallel {display: flex;align-items: stretch;justify-content: center;background-color: white;position: relative;}#sk-container-id-8 div.sk-item::before, #sk-container-id-8 div.sk-parallel-item::before {content: \"\";position: absolute;border-left: 1px solid gray;box-sizing: border-box;top: 0;bottom: 0;left: 50%;z-index: -1;}#sk-container-id-8 div.sk-parallel-item {display: flex;flex-direction: column;z-index: 1;position: relative;background-color: white;}#sk-container-id-8 div.sk-parallel-item:first-child::after {align-self: flex-end;width: 50%;}#sk-container-id-8 div.sk-parallel-item:last-child::after {align-self: flex-start;width: 50%;}#sk-container-id-8 div.sk-parallel-item:only-child::after {width: 0;}#sk-container-id-8 div.sk-dashed-wrapped {border: 1px dashed gray;margin: 0 0.4em 0.5em 0.4em;box-sizing: border-box;padding-bottom: 0.4em;background-color: white;}#sk-container-id-8 div.sk-label label {font-family: monospace;font-weight: bold;display: inline-block;line-height: 1.2em;}#sk-container-id-8 div.sk-label-container {text-align: center;}#sk-container-id-8 div.sk-container {/* jupyter's `normalize.less` sets `[hidden] { display: none; }` but bootstrap.min.css set `[hidden] { display: none !important; }` so we also need the `!important` here to be able to override the default hidden behavior on the sphinx rendered scikit-learn.org. See: https://github.com/scikit-learn/scikit-learn/issues/21755 */display: inline-block !important;position: relative;}#sk-container-id-8 div.sk-text-repr-fallback {display: none;}</style><div id=\"sk-container-id-8\" class=\"sk-top-container\"><div class=\"sk-text-repr-fallback\"><pre>LogisticRegression(class_weight=&#x27;balanced&#x27;, max_iter=1000, solver=&#x27;saga&#x27;)</pre><b>In a Jupyter environment, please rerun this cell to show the HTML representation or trust the notebook. <br />On GitHub, the HTML representation is unable to render, please try loading this page with nbviewer.org.</b></div><div class=\"sk-container\" hidden><div class=\"sk-item\"><div class=\"sk-estimator sk-toggleable\"><input class=\"sk-toggleable__control sk-hidden--visually\" id=\"sk-estimator-id-14\" type=\"checkbox\" checked><label for=\"sk-estimator-id-14\" class=\"sk-toggleable__label sk-toggleable__label-arrow\">LogisticRegression</label><div class=\"sk-toggleable__content\"><pre>LogisticRegression(class_weight=&#x27;balanced&#x27;, max_iter=1000, solver=&#x27;saga&#x27;)</pre></div></div></div></div></div>"
            ],
            "text/plain": [
              "LogisticRegression(class_weight='balanced', max_iter=1000, solver='saga')"
            ]
          },
          "execution_count": 58,
          "metadata": {},
          "output_type": "execute_result"
        }
      ],
      "source": [
        "grid_search.best_estimator_"
      ]
    },
    {
      "cell_type": "code",
      "execution_count": 59,
      "metadata": {
        "colab": {
          "base_uri": "https://localhost:8080/"
        },
        "id": "RN5gW8Y9iS0D",
        "outputId": "277ebf52-9597-45d1-f859-64f13cb08621"
      },
      "outputs": [
        {
          "data": {
            "text/html": [
              "<style>#sk-container-id-9 {color: black;}#sk-container-id-9 pre{padding: 0;}#sk-container-id-9 div.sk-toggleable {background-color: white;}#sk-container-id-9 label.sk-toggleable__label {cursor: pointer;display: block;width: 100%;margin-bottom: 0;padding: 0.3em;box-sizing: border-box;text-align: center;}#sk-container-id-9 label.sk-toggleable__label-arrow:before {content: \"▸\";float: left;margin-right: 0.25em;color: #696969;}#sk-container-id-9 label.sk-toggleable__label-arrow:hover:before {color: black;}#sk-container-id-9 div.sk-estimator:hover label.sk-toggleable__label-arrow:before {color: black;}#sk-container-id-9 div.sk-toggleable__content {max-height: 0;max-width: 0;overflow: hidden;text-align: left;background-color: #f0f8ff;}#sk-container-id-9 div.sk-toggleable__content pre {margin: 0.2em;color: black;border-radius: 0.25em;background-color: #f0f8ff;}#sk-container-id-9 input.sk-toggleable__control:checked~div.sk-toggleable__content {max-height: 200px;max-width: 100%;overflow: auto;}#sk-container-id-9 input.sk-toggleable__control:checked~label.sk-toggleable__label-arrow:before {content: \"▾\";}#sk-container-id-9 div.sk-estimator input.sk-toggleable__control:checked~label.sk-toggleable__label {background-color: #d4ebff;}#sk-container-id-9 div.sk-label input.sk-toggleable__control:checked~label.sk-toggleable__label {background-color: #d4ebff;}#sk-container-id-9 input.sk-hidden--visually {border: 0;clip: rect(1px 1px 1px 1px);clip: rect(1px, 1px, 1px, 1px);height: 1px;margin: -1px;overflow: hidden;padding: 0;position: absolute;width: 1px;}#sk-container-id-9 div.sk-estimator {font-family: monospace;background-color: #f0f8ff;border: 1px dotted black;border-radius: 0.25em;box-sizing: border-box;margin-bottom: 0.5em;}#sk-container-id-9 div.sk-estimator:hover {background-color: #d4ebff;}#sk-container-id-9 div.sk-parallel-item::after {content: \"\";width: 100%;border-bottom: 1px solid gray;flex-grow: 1;}#sk-container-id-9 div.sk-label:hover label.sk-toggleable__label {background-color: #d4ebff;}#sk-container-id-9 div.sk-serial::before {content: \"\";position: absolute;border-left: 1px solid gray;box-sizing: border-box;top: 0;bottom: 0;left: 50%;z-index: 0;}#sk-container-id-9 div.sk-serial {display: flex;flex-direction: column;align-items: center;background-color: white;padding-right: 0.2em;padding-left: 0.2em;position: relative;}#sk-container-id-9 div.sk-item {position: relative;z-index: 1;}#sk-container-id-9 div.sk-parallel {display: flex;align-items: stretch;justify-content: center;background-color: white;position: relative;}#sk-container-id-9 div.sk-item::before, #sk-container-id-9 div.sk-parallel-item::before {content: \"\";position: absolute;border-left: 1px solid gray;box-sizing: border-box;top: 0;bottom: 0;left: 50%;z-index: -1;}#sk-container-id-9 div.sk-parallel-item {display: flex;flex-direction: column;z-index: 1;position: relative;background-color: white;}#sk-container-id-9 div.sk-parallel-item:first-child::after {align-self: flex-end;width: 50%;}#sk-container-id-9 div.sk-parallel-item:last-child::after {align-self: flex-start;width: 50%;}#sk-container-id-9 div.sk-parallel-item:only-child::after {width: 0;}#sk-container-id-9 div.sk-dashed-wrapped {border: 1px dashed gray;margin: 0 0.4em 0.5em 0.4em;box-sizing: border-box;padding-bottom: 0.4em;background-color: white;}#sk-container-id-9 div.sk-label label {font-family: monospace;font-weight: bold;display: inline-block;line-height: 1.2em;}#sk-container-id-9 div.sk-label-container {text-align: center;}#sk-container-id-9 div.sk-container {/* jupyter's `normalize.less` sets `[hidden] { display: none; }` but bootstrap.min.css set `[hidden] { display: none !important; }` so we also need the `!important` here to be able to override the default hidden behavior on the sphinx rendered scikit-learn.org. See: https://github.com/scikit-learn/scikit-learn/issues/21755 */display: inline-block !important;position: relative;}#sk-container-id-9 div.sk-text-repr-fallback {display: none;}</style><div id=\"sk-container-id-9\" class=\"sk-top-container\"><div class=\"sk-text-repr-fallback\"><pre>LogisticRegression(class_weight=&#x27;balanced&#x27;, max_iter=1000, solver=&#x27;saga&#x27;)</pre><b>In a Jupyter environment, please rerun this cell to show the HTML representation or trust the notebook. <br />On GitHub, the HTML representation is unable to render, please try loading this page with nbviewer.org.</b></div><div class=\"sk-container\" hidden><div class=\"sk-item\"><div class=\"sk-estimator sk-toggleable\"><input class=\"sk-toggleable__control sk-hidden--visually\" id=\"sk-estimator-id-15\" type=\"checkbox\" checked><label for=\"sk-estimator-id-15\" class=\"sk-toggleable__label sk-toggleable__label-arrow\">LogisticRegression</label><div class=\"sk-toggleable__content\"><pre>LogisticRegression(class_weight=&#x27;balanced&#x27;, max_iter=1000, solver=&#x27;saga&#x27;)</pre></div></div></div></div></div>"
            ],
            "text/plain": [
              "LogisticRegression(class_weight='balanced', max_iter=1000, solver='saga')"
            ]
          },
          "execution_count": 59,
          "metadata": {},
          "output_type": "execute_result"
        }
      ],
      "source": [
        "# Train model on full training set with best estimator\n",
        "best_model = grid_search.best_estimator_\n",
        "\n",
        "# Fit the model on training data\n",
        "best_model.fit(X_train, y_train)"
      ]
    },
    {
      "cell_type": "markdown",
      "metadata": {
        "id": "Ig6phLENcEWN"
      },
      "source": [
        "Inspect Confusion Matrix"
      ]
    },
    {
      "cell_type": "code",
      "execution_count": 60,
      "metadata": {
        "colab": {
          "base_uri": "https://localhost:8080/",
          "height": 279
        },
        "id": "MCnFfRuqb4Xn",
        "outputId": "845b44d0-64ae-45da-bf64-256f1fa2d533"
      },
      "outputs": [
        {
          "data": {
            "image/png": "[encoded data removed]",
            "text/plain": [
              "<Figure size 640x480 with 2 Axes>"
            ]
          },
          "metadata": {},
          "output_type": "display_data"
        }
      ],
      "source": [
        "from sklearn.metrics import confusion_matrix, ConfusionMatrixDisplay,f1_score, roc_curve, roc_auc_score\n",
        "y_pred = best_model.predict(X_train)\n",
        "\n",
        "cm = confusion_matrix(y_train, y_pred, labels = best_model.classes_)\n",
        "conf  = ConfusionMatrixDisplay(confusion_matrix=cm, display_labels=best_model .classes_)\n",
        "conf.plot(cmap = \"Blues\");"
      ]
    },
    {
      "cell_type": "markdown",
      "metadata": {
        "id": "iRXDSVD4dYV7"
      },
      "source": [
        "* **Top left**: Actual negative, negative positive = True Negatives\n",
        "* **Top right**: Actual negative, predicted positive = False Positives\n",
        "* **Bottom left**: Actual positive, predicted negative = False Negatives\n",
        "* **Bottom right**: Actual positive, predicted positive = True Positives"
      ]
    },
    {
      "cell_type": "markdown",
      "metadata": {
        "id": "BIaPiE2FIy7I"
      },
      "source": [
        "### Evaluation"
      ]
    },
    {
      "cell_type": "code",
      "execution_count": 61,
      "metadata": {
        "colab": {
          "base_uri": "https://localhost:8080/"
        },
        "id": "NvyzEKqrHew5",
        "outputId": "26c8ad40-b8bf-4c9c-d990-8cc502a09581"
      },
      "outputs": [
        {
          "data": {
            "text/plain": [
              "0.6289655172413793"
            ]
          },
          "execution_count": 61,
          "metadata": {},
          "output_type": "execute_result"
        }
      ],
      "source": [
        "# Calculate F1-Score for test set\n",
        "y_pred = best_model.predict(X_test)\n",
        "f1_score(y_test, y_pred)"
      ]
    },
    {
      "cell_type": "code",
      "execution_count": 62,
      "metadata": {},
      "outputs": [
        {
          "data": {
            "image/png": "[encoded data removed]",
            "text/plain": [
              "<Figure size 640x480 with 1 Axes>"
            ]
          },
          "metadata": {},
          "output_type": "display_data"
        }
      ],
      "source": [
        "#define metrics\n",
        "y_pred_proba = best_model.predict_proba(X_test)[:,1]\n",
        "fpr, tpr, _ = roc_curve(y_test,  y_pred_proba)\n",
        "auc = roc_auc_score(y_test, y_pred_proba)\n",
        "\n",
        "#create ROC curve\n",
        "plt.plot(fpr,tpr,label=\"AUC=\"+str(auc))\n",
        "plt.ylabel('True Positive Rate')\n",
        "plt.xlabel('False Positive Rate')\n",
        "plt.legend(loc=4)\n",
        "plt.show()"
      ]
    }
  ],
  "metadata": {
    "colab": {
      "provenance": [],
      "toc_visible": true
    },
    "kernelspec": {
      "display_name": "Python 3",
      "name": "python3"
    },
    "language_info": {
      "codemirror_mode": {
        "name": "ipython",
        "version": 3
      },
      "file_extension": ".py",
      "mimetype": "text/x-python",
      "name": "python",
      "nbconvert_exporter": "python",
      "pygments_lexer": "ipython3",
      "version": "3.11.5"
    }
  },
  "nbformat": 4,
  "nbformat_minor": 0
}
