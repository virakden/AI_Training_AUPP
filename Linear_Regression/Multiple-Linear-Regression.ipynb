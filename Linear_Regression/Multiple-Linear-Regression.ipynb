{
  "cells": [
    {
      "cell_type": "markdown",
      "metadata": {
        "id": "6f-tq0l_kPtS"
      },
      "source": [
        "# Multiple Linear Regression"
      ]
    },
    {
      "cell_type": "markdown",
      "metadata": {
        "id": "_z3PBRdlltaz"
      },
      "source": [
        "## Import libraries"
      ]
    },
    {
      "cell_type": "code",
      "execution_count": 1,
      "metadata": {
        "id": "om10j4CNW3lz"
      },
      "outputs": [],
      "source": [
        "import numpy as np\n",
        "import pandas as pd\n",
        "import statsmodels.api as sm\n",
        "import matplotlib.pyplot as plt\n",
        "np.random.seed(123)"
      ]
    },
    {
      "cell_type": "markdown",
      "metadata": {
        "id": "7Zn9BipAcew2"
      },
      "source": [
        "### Multiple Linear Regression (OLS estimation)\n",
        "Simulate data for x and y:"
      ]
    },
    {
      "cell_type": "code",
      "execution_count": 2,
      "metadata": {
        "id": "EZy28DaOl1tA"
      },
      "outputs": [],
      "source": [
        "nsample = 50\n",
        "x1 = np.linspace(1, 10, nsample)\n",
        "x2 = np.sqrt(x1)"
      ]
    },
    {
      "cell_type": "code",
      "execution_count": 3,
      "metadata": {
        "colab": {
          "base_uri": "https://localhost:8080/"
        },
        "id": "pGIj6i9emCxe",
        "outputId": "515eebab-e2b0-4286-b4ab-631aa7824646"
      },
      "outputs": [
        {
          "data": {
            "text/plain": [
              "array([1.        , 1.18367347, 1.36734694, 1.55102041, 1.73469388])"
            ]
          },
          "execution_count": 3,
          "metadata": {},
          "output_type": "execute_result"
        }
      ],
      "source": [
        "x1[:5]"
      ]
    },
    {
      "cell_type": "code",
      "execution_count": 4,
      "metadata": {
        "colab": {
          "base_uri": "https://localhost:8080/"
        },
        "id": "yPouIXxImEvh",
        "outputId": "50b4120a-c001-449b-c979-4b5412adf663"
      },
      "outputs": [
        {
          "data": {
            "text/plain": [
              "array([1.        , 1.08796759, 1.16933611, 1.2453997 , 1.31707778])"
            ]
          },
          "execution_count": 4,
          "metadata": {},
          "output_type": "execute_result"
        }
      ],
      "source": [
        "x2[:5]"
      ]
    },
    {
      "cell_type": "code",
      "execution_count": 5,
      "metadata": {
        "colab": {
          "base_uri": "https://localhost:8080/"
        },
        "id": "DWfUBfCrl86N",
        "outputId": "794adaed-4715-44ae-ca15-fb5e1eab2edd"
      },
      "outputs": [
        {
          "data": {
            "text/plain": [
              "array([[1.        , 1.        ],\n",
              "       [1.18367347, 1.08796759],\n",
              "       [1.36734694, 1.16933611],\n",
              "       [1.55102041, 1.2453997 ],\n",
              "       [1.73469388, 1.31707778]])"
            ]
          },
          "execution_count": 5,
          "metadata": {},
          "output_type": "execute_result"
        }
      ],
      "source": [
        "X = np.column_stack((x1, x2))\n",
        "X[:5]"
      ]
    },
    {
      "cell_type": "code",
      "execution_count": 6,
      "metadata": {
        "colab": {
          "base_uri": "https://localhost:8080/"
        },
        "id": "zQ-W4yoAmLKe",
        "outputId": "f16d2921-b0ee-4f8d-d3b3-e6361ab91f58"
      },
      "outputs": [
        {
          "data": {
            "text/plain": [
              "array([[1.        , 1.        , 1.        ],\n",
              "       [1.        , 1.18367347, 1.08796759],\n",
              "       [1.        , 1.36734694, 1.16933611],\n",
              "       [1.        , 1.55102041, 1.2453997 ],\n",
              "       [1.        , 1.73469388, 1.31707778]])"
            ]
          },
          "execution_count": 6,
          "metadata": {},
          "output_type": "execute_result"
        }
      ],
      "source": [
        "X = sm.add_constant(X)\n",
        "X[:5]"
      ]
    },
    {
      "cell_type": "code",
      "execution_count": 7,
      "metadata": {
        "id": "ZARLQ5I0cs-n"
      },
      "outputs": [],
      "source": [
        "# b0, b1, b2 coefficients\n",
        "beta = [2, 0.5, 10]\n",
        "\n",
        "# random error\n",
        "e = np.random.normal(size=nsample)\n",
        "\n",
        "# linear equation\n",
        "y = np.dot(X, beta) + e"
      ]
    },
    {
      "cell_type": "code",
      "execution_count": 9,
      "metadata": {
        "colab": {
          "base_uri": "https://localhost:8080/",
          "height": 206
        },
        "id": "thZb8sQUdZJA",
        "outputId": "fa63ebba-81b4-4611-ea08-2a56323f5f86"
      },
      "outputs": [
        {
          "data": {
            "text/html": [
              "<div>\n",
              "<style scoped>\n",
              "    .dataframe tbody tr th:only-of-type {\n",
              "        vertical-align: middle;\n",
              "    }\n",
              "\n",
              "    .dataframe tbody tr th {\n",
              "        vertical-align: top;\n",
              "    }\n",
              "\n",
              "    .dataframe thead th {\n",
              "        text-align: right;\n",
              "    }\n",
              "</style>\n",
              "<table border=\"1\" class=\"dataframe\">\n",
              "  <thead>\n",
              "    <tr style=\"text-align: right;\">\n",
              "      <th></th>\n",
              "      <th>y</th>\n",
              "      <th>x1</th>\n",
              "      <th>x2</th>\n",
              "    </tr>\n",
              "  </thead>\n",
              "  <tbody>\n",
              "    <tr>\n",
              "      <th>0</th>\n",
              "      <td>11.414369</td>\n",
              "      <td>1.000000</td>\n",
              "      <td>1.000000</td>\n",
              "    </tr>\n",
              "    <tr>\n",
              "      <th>1</th>\n",
              "      <td>14.468858</td>\n",
              "      <td>1.183673</td>\n",
              "      <td>1.087968</td>\n",
              "    </tr>\n",
              "    <tr>\n",
              "      <th>2</th>\n",
              "      <td>14.660013</td>\n",
              "      <td>1.367347</td>\n",
              "      <td>1.169336</td>\n",
              "    </tr>\n",
              "    <tr>\n",
              "      <th>3</th>\n",
              "      <td>13.723212</td>\n",
              "      <td>1.551020</td>\n",
              "      <td>1.245400</td>\n",
              "    </tr>\n",
              "    <tr>\n",
              "      <th>4</th>\n",
              "      <td>15.459524</td>\n",
              "      <td>1.734694</td>\n",
              "      <td>1.317078</td>\n",
              "    </tr>\n",
              "  </tbody>\n",
              "</table>\n",
              "</div>"
            ],
            "text/plain": [
              "           y        x1        x2\n",
              "0  11.414369  1.000000  1.000000\n",
              "1  14.468858  1.183673  1.087968\n",
              "2  14.660013  1.367347  1.169336\n",
              "3  13.723212  1.551020  1.245400\n",
              "4  15.459524  1.734694  1.317078"
            ]
          },
          "execution_count": 9,
          "metadata": {},
          "output_type": "execute_result"
        }
      ],
      "source": [
        "sample_df = pd.DataFrame({\"y\":y, \"x1\": x1, \"x2\": x2})\n",
        "sample_df.head()"
      ]
    },
    {
      "cell_type": "code",
      "execution_count": 13,
      "metadata": {
        "colab": {
          "base_uri": "https://localhost:8080/",
          "height": 319
        },
        "id": "0yl9o5I_dsYQ",
        "outputId": "243e9f29-3695-4425-a163-7ecb9592a1f1"
      },
      "outputs": [
        {
          "data": {
            "text/plain": [
              "<Figure size 640x480 with 0 Axes>"
            ]
          },
          "metadata": {},
          "output_type": "display_data"
        }
      ],
      "source": [
        "from mpl_toolkits.mplot3d import Axes3D\n",
        "fig = plt.figure()\n",
        "ax = Axes3D(fig)\n",
        "ax.scatter3D(sample_df[\"y\"], sample_df[\"x1\"], sample_df[\"x2\"], )\n",
        "plt.show()"
      ]
    },
    {
      "cell_type": "code",
      "execution_count": 14,
      "metadata": {
        "colab": {
          "base_uri": "https://localhost:8080/"
        },
        "id": "UCdsXBDoe2T3",
        "outputId": "c2f1896b-9fb6-4efc-d6f4-18d842f648d7"
      },
      "outputs": [
        {
          "name": "stdout",
          "output_type": "stream",
          "text": [
            "                            OLS Regression Results                            \n",
            "==============================================================================\n",
            "Dep. Variable:                      y   R-squared:                       0.976\n",
            "Model:                            OLS   Adj. R-squared:                  0.975\n",
            "Method:                 Least Squares   F-statistic:                     950.0\n",
            "Date:                Mon, 18 Mar 2024   Prob (F-statistic):           9.87e-39\n",
            "Time:                        14:18:15   Log-Likelihood:                -79.344\n",
            "No. Observations:                  50   AIC:                             164.7\n",
            "Df Residuals:                      47   BIC:                             170.4\n",
            "Df Model:                           2                                         \n",
            "Covariance Type:            nonrobust                                         \n",
            "==============================================================================\n",
            "                 coef    std err          t      P>|t|      [0.025      0.975]\n",
            "------------------------------------------------------------------------------\n",
            "const          2.5097      2.189      1.146      0.257      -1.894       6.914\n",
            "x1             0.7072      0.490      1.442      0.156      -0.279       1.694\n",
            "x2             9.2776      2.131      4.353      0.000       4.990      13.565\n",
            "==============================================================================\n",
            "Omnibus:                        0.104   Durbin-Watson:                   1.704\n",
            "Prob(Omnibus):                  0.949   Jarque-Bera (JB):                0.306\n",
            "Skew:                           0.036   Prob(JB):                        0.858\n",
            "Kurtosis:                       2.623   Cond. No.                         118.\n",
            "==============================================================================\n",
            "\n",
            "Notes:\n",
            "[1] Standard Errors assume that the covariance matrix of the errors is correctly specified.\n"
          ]
        }
      ],
      "source": [
        "res = sm.OLS(y, X).fit()\n",
        "print(res.summary())"
      ]
    },
    {
      "cell_type": "markdown",
      "metadata": {
        "id": "KMV1tYYVZBZP"
      },
      "source": [
        "### OLS for non-linear curve but linear in parameters\n",
        "Let's try OLS with a non-linear relationship between x and y:"
      ]
    },
    {
      "cell_type": "code",
      "execution_count": 15,
      "metadata": {
        "id": "G2KvNQmIWyE2"
      },
      "outputs": [],
      "source": [
        "nsample = 20\n",
        "x1 = np.linspace(1, 20, nsample)\n",
        "x2 = x1**2\n",
        "x3 = x1**3\n",
        "\n",
        "X = np.column_stack((x1, x2, x3))\n",
        "X = sm.add_constant(X)\n",
        "\n",
        "beta = [5, 0.5, 0.5, -0.02]\n",
        "e = np.random.normal(size=nsample)\n",
        "\n",
        "y = np.dot(X, beta) + e"
      ]
    },
    {
      "cell_type": "code",
      "execution_count": 16,
      "metadata": {
        "colab": {
          "base_uri": "https://localhost:8080/",
          "height": 283
        },
        "id": "QjkEO9OEXHlP",
        "outputId": "4692c37f-9866-4364-9799-0046256c4bd4"
      },
      "outputs": [
        {
          "data": {
            "text/plain": [
              "<matplotlib.collections.PathCollection at 0x273817b38d0>"
            ]
          },
          "execution_count": 16,
          "metadata": {},
          "output_type": "execute_result"
        },
        {
          "data": {
            "image/png": "[encoded data removed]",
            "text/plain": [
              "<Figure size 640x480 with 1 Axes>"
            ]
          },
          "metadata": {},
          "output_type": "display_data"
        }
      ],
      "source": [
        "plt.scatter(x1, y)"
      ]
    },
    {
      "cell_type": "code",
      "execution_count": 17,
      "metadata": {
        "colab": {
          "base_uri": "https://localhost:8080/"
        },
        "id": "h7U-sf1gYBEh",
        "outputId": "c2ca5f7a-7fd5-46e5-f9bb-179b331e8cf6"
      },
      "outputs": [
        {
          "name": "stdout",
          "output_type": "stream",
          "text": [
            "                            OLS Regression Results                            \n",
            "==============================================================================\n",
            "Dep. Variable:                      y   R-squared:                       0.998\n",
            "Model:                            OLS   Adj. R-squared:                  0.998\n",
            "Method:                 Least Squares   F-statistic:                     2659.\n",
            "Date:                Mon, 18 Mar 2024   Prob (F-statistic):           8.59e-22\n",
            "Time:                        14:18:33   Log-Likelihood:                -25.217\n",
            "No. Observations:                  20   AIC:                             58.43\n",
            "Df Residuals:                      16   BIC:                             62.42\n",
            "Df Model:                           3                                         \n",
            "Covariance Type:            nonrobust                                         \n",
            "==============================================================================\n",
            "                 coef    std err          t      P>|t|      [0.025      0.975]\n",
            "------------------------------------------------------------------------------\n",
            "const          3.0308      1.043      2.907      0.010       0.820       5.241\n",
            "x1             1.3620      0.420      3.246      0.005       0.473       2.251\n",
            "x2             0.4224      0.046      9.217      0.000       0.325       0.520\n",
            "x3            -0.0181      0.001    -12.562      0.000      -0.021      -0.015\n",
            "==============================================================================\n",
            "Omnibus:                        0.032   Durbin-Watson:                   2.462\n",
            "Prob(Omnibus):                  0.984   Jarque-Bera (JB):                0.119\n",
            "Skew:                          -0.058   Prob(JB):                        0.942\n",
            "Kurtosis:                       2.641   Cond. No.                     1.72e+04\n",
            "==============================================================================\n",
            "\n",
            "Notes:\n",
            "[1] Standard Errors assume that the covariance matrix of the errors is correctly specified.\n",
            "[2] The condition number is large, 1.72e+04. This might indicate that there are\n",
            "strong multicollinearity or other numerical problems.\n"
          ]
        }
      ],
      "source": [
        "res = sm.OLS(y, X).fit()\n",
        "print(res.summary())"
      ]
    },
    {
      "cell_type": "code",
      "execution_count": 18,
      "metadata": {
        "id": "6nUVPG-vYE28"
      },
      "outputs": [
        {
          "data": {
            "image/png": "[encoded data removed]",
            "text/plain": [
              "<Figure size 800x600 with 1 Axes>"
            ]
          },
          "metadata": {},
          "output_type": "display_data"
        }
      ],
      "source": [
        "fig, ax = plt.subplots(figsize=(8,6))\n",
        "\n",
        "ax.plot(x1, y, 'o', label=\"data\")\n",
        "ax.plot(x1, res.fittedvalues, 'r-', label=\"OLS\")\n",
        "ax.legend(loc='best');"
      ]
    },
    {
      "cell_type": "markdown",
      "metadata": {},
      "source": [
        "## Prediction bands"
      ]
    },
    {
      "cell_type": "code",
      "execution_count": 22,
      "metadata": {},
      "outputs": [
        {
          "data": {
            "image/png": "[encoded data removed]",
            "text/plain": [
              "<Figure size 640x480 with 1 Axes>"
            ]
          },
          "metadata": {},
          "output_type": "display_data"
        }
      ],
      "source": [
        "pred_ols = res.get_prediction()\n",
        "\n",
        "iv_l = pred_ols.summary_frame()['obs_ci_lower']\n",
        "iv_u = pred_ols.summary_frame()['obs_ci_upper']\n",
        "\n",
        "fig,ax = plt.subplots()\n",
        "ax.plot(x1, y, 'o', label=\"data\")\n",
        "ax.plot(x1, res.fittedvalues, 'r--', label=\"OLS\")\n",
        "ax.plot(x1, iv_l, 'b--', label=\"OLS\")\n",
        "ax.plot(x1, iv_u, 'g--', label=\"OLS\")\n",
        "ax.legend(loc='best');"
      ]
    }
  ],
  "metadata": {
    "colab": {
      "provenance": []
    },
    "kernelspec": {
      "display_name": "Python 3",
      "name": "python3"
    },
    "language_info": {
      "codemirror_mode": {
        "name": "ipython",
        "version": 3
      },
      "file_extension": ".py",
      "mimetype": "text/x-python",
      "name": "python",
      "nbconvert_exporter": "python",
      "pygments_lexer": "ipython3",
      "version": "3.11.5"
    }
  },
  "nbformat": 4,
  "nbformat_minor": 0
}
