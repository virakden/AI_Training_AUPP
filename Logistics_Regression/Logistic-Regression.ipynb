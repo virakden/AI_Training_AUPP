{
  "cells": [
    {
      "cell_type": "markdown",
      "metadata": {
        "id": "LcCMefvtFr91"
      },
      "source": [
        "# Logistic Regression in Python With Statsmodels"
      ]
    },
    {
      "cell_type": "markdown",
      "metadata": {
        "id": "49gtyWx5FyHD"
      },
      "source": [
        "## Import packages"
      ]
    },
    {
      "cell_type": "code",
      "execution_count": 2,
      "metadata": {
        "id": "L9qKCoQUUZu9"
      },
      "outputs": [],
      "source": [
        "import numpy as np\n",
        "import statsmodels.api as sm\n",
        "import matplotlib.pyplot as plt\n",
        "np.random.seed(123)"
      ]
    },
    {
      "cell_type": "markdown",
      "metadata": {
        "id": "qUHUvrpXF5nS"
      },
      "source": [
        "## Generate Data\n",
        "\n",
        "Problem statement: Try to predict if a plane will land on time (less than 15 minutes delay on arrival) given information on the departure delay.\n",
        "\n",
        "We collected 30 measurements for a single flight connection."
      ]
    },
    {
      "cell_type": "code",
      "execution_count": 3,
      "metadata": {
        "id": "vNWLUiscUsg4"
      },
      "outputs": [],
      "source": [
        "arrival_delay_minutes = [-2, 20, 0, -9, -21, 1, -9, 40, -17, 16, -23, 39, 0, -16, -21, -32, -49, -41, 23, -15, -13, -55, -9, 24, 16, 23, 6, -8, 15, 11]\n",
        "arrival_delay_15 = [0, 1, 0, 0, 0, 0, 0, 1, 0, 1, 0, 1, 0, 0, 0, 0, 0, 0, 1, 0, 0, 0, 0, 1, 1, 1, 0, 0, 1, 0]\n",
        "departure_delay_minutes = [5, 0, 10, 0, 0, 13, 0, 27, 0, 20, 0, 27, 0, 0, 1, 0, 0, 0, 7, 0, 1, 0, 0, 33, 12, 16, 12, 5, 22, 25]\n",
        "#departure_delay_5 = [1, 0, 1, 0, 0, 0, 0, 1, 0, 1, 0, 1, 0, 0, 0, 0, 0, 0, 0, 0, 0, 0, 0, 1, 0, 1, 0, 0, 1, 1]"
      ]
    },
    {
      "cell_type": "markdown",
      "metadata": {
        "id": "MiE-ZysHeH1p"
      },
      "source": [
        "Plot distribution"
      ]
    },
    {
      "cell_type": "code",
      "execution_count": 4,
      "metadata": {
        "colab": {
          "base_uri": "https://localhost:8080/",
          "height": 265
        },
        "id": "ZO_mMMUneJKu",
        "outputId": "37d182a0-785f-4c02-93c3-74e1d7741735"
      },
      "outputs": [
        {
          "data": {
            "image/png": "[encoded data removed]",
            "text/plain": [
              "<Figure size 640x480 with 1 Axes>"
            ]
          },
          "metadata": {},
          "output_type": "display_data"
        }
      ],
      "source": [
        "plt.scatter(departure_delay_minutes, arrival_delay_15);"
      ]
    },
    {
      "cell_type": "markdown",
      "metadata": {
        "id": "VdrX4aQjGTld"
      },
      "source": [
        "Be careful - points are overlapping!"
      ]
    },
    {
      "cell_type": "markdown",
      "metadata": {
        "id": "DkUA9LhHGUqR"
      },
      "source": [
        "## Buidling the Logistic Regression Model"
      ]
    },
    {
      "cell_type": "markdown",
      "metadata": {
        "id": "88JVUh6SGbOn"
      },
      "source": [
        "### `departure_delay_minutes` vs. `arrival_delay_15`"
      ]
    },
    {
      "cell_type": "code",
      "execution_count": 5,
      "metadata": {
        "colab": {
          "base_uri": "https://localhost:8080/"
        },
        "id": "MFmcgwHXfU0v",
        "outputId": "258a25ee-8700-42d6-fc68-36217ba4bb46"
      },
      "outputs": [
        {
          "name": "stdout",
          "output_type": "stream",
          "text": [
            "Optimization terminated successfully.\n",
            "         Current function value: 0.380940\n",
            "         Iterations 6\n"
          ]
        }
      ],
      "source": [
        "y = arrival_delay_15\n",
        "X = departure_delay_minutes\n",
        "X = sm.add_constant(X) # Add constant to estimte intercept parameter\n",
        "res = sm.Logit(y, X).fit()"
      ]
    },
    {
      "cell_type": "markdown",
      "metadata": {
        "id": "ojlkKo7MG6F6"
      },
      "source": [
        "#### Inspect Summary"
      ]
    },
    {
      "cell_type": "code",
      "execution_count": 6,
      "metadata": {
        "colab": {
          "base_uri": "https://localhost:8080/"
        },
        "id": "m0E31E2Cfspl",
        "outputId": "415aed42-36a0-4ed2-a569-29c8f2724ffe"
      },
      "outputs": [
        {
          "name": "stdout",
          "output_type": "stream",
          "text": [
            "                           Logit Regression Results                           \n",
            "==============================================================================\n",
            "Dep. Variable:                      y   No. Observations:                   30\n",
            "Model:                          Logit   Df Residuals:                       28\n",
            "Method:                           MLE   Df Model:                            1\n",
            "Date:                Wed, 27 Mar 2024   Pseudo R-squ.:                  0.3764\n",
            "Time:                        15:52:57   Log-Likelihood:                -11.428\n",
            "converged:                       True   LL-Null:                       -18.326\n",
            "Covariance Type:            nonrobust   LLR p-value:                 0.0002038\n",
            "==============================================================================\n",
            "                 coef    std err          z      P>|z|      [0.025      0.975]\n",
            "------------------------------------------------------------------------------\n",
            "const         -2.5057      0.805     -3.114      0.002      -4.083      -0.929\n",
            "x1             0.1730      0.060      2.877      0.004       0.055       0.291\n",
            "==============================================================================\n"
          ]
        }
      ],
      "source": [
        "print(res.summary())"
      ]
    },
    {
      "cell_type": "markdown",
      "metadata": {
        "id": "Nq_DL2ZwG_jc"
      },
      "source": [
        "#### Inspect fitted points"
      ]
    },
    {
      "cell_type": "code",
      "execution_count": 7,
      "metadata": {
        "colab": {
          "base_uri": "https://localhost:8080/"
        },
        "id": "fjHwNT5bgpvN",
        "outputId": "08c94daf-b0f7-4497-fdb5-4d50362f3bb4"
      },
      "outputs": [
        {
          "data": {
            "text/plain": [
              "array([0.16233506, 0.07545683, 0.31514541, 0.07545683, 0.07545683,\n",
              "       0.43602696, 0.07545683, 0.8969782 , 0.07545683, 0.72179728,\n",
              "       0.07545683, 0.8969782 , 0.07545683, 0.07545683, 0.08844409,\n",
              "       0.07545683, 0.07545683, 0.07545683, 0.21500056, 0.07545683,\n",
              "       0.08844409, 0.07545683, 0.07545683, 0.96090312, 0.39406448,\n",
              "       0.56502161, 0.39406448, 0.16233506, 0.78571843, 0.86034731])"
            ]
          },
          "execution_count": 7,
          "metadata": {},
          "output_type": "execute_result"
        }
      ],
      "source": [
        "res.predict()"
      ]
    },
    {
      "cell_type": "markdown",
      "metadata": {
        "id": "CYE-8ZZiHHRM"
      },
      "source": [
        "#### Plot fitted points"
      ]
    },
    {
      "cell_type": "code",
      "execution_count": 8,
      "metadata": {
        "colab": {
          "base_uri": "https://localhost:8080/",
          "height": 285
        },
        "id": "2zRLJC15fwv4",
        "outputId": "292eeb41-7e54-4f2e-b759-9426d5edfba3"
      },
      "outputs": [
        {
          "data": {
            "text/plain": [
              "<matplotlib.collections.PathCollection at 0x1489aed0d50>"
            ]
          },
          "execution_count": 8,
          "metadata": {},
          "output_type": "execute_result"
        },
        {
          "data": {
            "image/png": "[encoded data removed]",
            "text/plain": [
              "<Figure size 640x480 with 1 Axes>"
            ]
          },
          "metadata": {},
          "output_type": "display_data"
        }
      ],
      "source": [
        "plt.scatter(departure_delay_minutes, res.predict())\n",
        "plt.scatter(departure_delay_minutes, y)"
      ]
    },
    {
      "cell_type": "markdown",
      "metadata": {
        "id": "04KtP3NYHK-m"
      },
      "source": [
        "We can see the typical s-curve shape centered around 0.5 and converging to +1 and -1."
      ]
    },
    {
      "cell_type": "markdown",
      "metadata": {
        "id": "63d8_WyCJ5Rq"
      },
      "source": [
        "#### Predict new values"
      ]
    },
    {
      "cell_type": "code",
      "execution_count": 9,
      "metadata": {
        "colab": {
          "base_uri": "https://localhost:8080/"
        },
        "id": "Fs1tkKLVJ8L_",
        "outputId": "cb7f77d9-0d07-4355-d6cf-c41dbc9206f4"
      },
      "outputs": [
        {
          "data": {
            "text/plain": [
              "array([0.10341661, 0.03322953, 0.31514541, 0.52213825, 0.9949198 ])"
            ]
          },
          "execution_count": 9,
          "metadata": {},
          "output_type": "execute_result"
        }
      ],
      "source": [
        "X_new = [2, -5, 10, 15, 45]\n",
        "X_new = sm.add_constant(X_new)\n",
        "y_preds = res.predict(X_new)\n",
        "y_preds"
      ]
    },
    {
      "cell_type": "code",
      "execution_count": 11,
      "metadata": {},
      "outputs": [
        {
          "data": {
            "text/plain": [
              "array([False, False, False,  True,  True])"
            ]
          },
          "execution_count": 11,
          "metadata": {},
          "output_type": "execute_result"
        }
      ],
      "source": [
        "y_preds_label = y_preds > 0.5\n",
        "y_preds_label"
      ]
    }
  ],
  "metadata": {
    "colab": {
      "provenance": []
    },
    "kernelspec": {
      "display_name": "Python 3",
      "name": "python3"
    },
    "language_info": {
      "codemirror_mode": {
        "name": "ipython",
        "version": 3
      },
      "file_extension": ".py",
      "mimetype": "text/x-python",
      "name": "python",
      "nbconvert_exporter": "python",
      "pygments_lexer": "ipython3",
      "version": "3.11.5"
    }
  },
  "nbformat": 4,
  "nbformat_minor": 0
}
