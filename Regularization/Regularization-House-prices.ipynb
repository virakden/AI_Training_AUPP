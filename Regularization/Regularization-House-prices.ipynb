{
  "cells": [
    {
      "cell_type": "markdown",
      "metadata": {
        "id": "wC-I5TYllwl0"
      },
      "source": [
        "# Regularization"
      ]
    },
    {
      "cell_type": "code",
      "execution_count": 1,
      "metadata": {
        "id": "jjocq81VT6Kc"
      },
      "outputs": [],
      "source": [
        "import statsmodels.api as sm\n",
        "import pandas as pd\n",
        "import numpy as np\n",
        "from matplotlib import pyplot as plt\n",
        "np.random.seed(123)"
      ]
    },
    {
      "cell_type": "markdown",
      "metadata": {
        "id": "LqW1QRP4170s"
      },
      "source": [
        "### Sample data"
      ]
    },
    {
      "cell_type": "code",
      "execution_count": 2,
      "metadata": {
        "colab": {
          "base_uri": "https://localhost:8080/"
        },
        "id": "oobZLvpQ17eS",
        "outputId": "ce13af8a-3dc9-444d-92ab-0421a5e09c7a"
      },
      "outputs": [
        {
          "data": {
            "text/plain": [
              "{'data': array([[   8.3252    ,   41.        ,    6.98412698, ...,    2.55555556,\n",
              "           37.88      , -122.23      ],\n",
              "        [   8.3014    ,   21.        ,    6.23813708, ...,    2.10984183,\n",
              "           37.86      , -122.22      ],\n",
              "        [   7.2574    ,   52.        ,    8.28813559, ...,    2.80225989,\n",
              "           37.85      , -122.24      ],\n",
              "        ...,\n",
              "        [   1.7       ,   17.        ,    5.20554273, ...,    2.3256351 ,\n",
              "           39.43      , -121.22      ],\n",
              "        [   1.8672    ,   18.        ,    5.32951289, ...,    2.12320917,\n",
              "           39.43      , -121.32      ],\n",
              "        [   2.3886    ,   16.        ,    5.25471698, ...,    2.61698113,\n",
              "           39.37      , -121.24      ]]),\n",
              " 'target': array([4.526, 3.585, 3.521, ..., 0.923, 0.847, 0.894]),\n",
              " 'frame': None,\n",
              " 'target_names': ['MedHouseVal'],\n",
              " 'feature_names': ['MedInc',\n",
              "  'HouseAge',\n",
              "  'AveRooms',\n",
              "  'AveBedrms',\n",
              "  'Population',\n",
              "  'AveOccup',\n",
              "  'Latitude',\n",
              "  'Longitude'],\n",
              " 'DESCR': '.. _california_housing_dataset:\\n\\nCalifornia Housing dataset\\n--------------------------\\n\\n**Data Set Characteristics:**\\n\\n    :Number of Instances: 20640\\n\\n    :Number of Attributes: 8 numeric, predictive attributes and the target\\n\\n    :Attribute Information:\\n        - MedInc        median income in block group\\n        - HouseAge      median house age in block group\\n        - AveRooms      average number of rooms per household\\n        - AveBedrms     average number of bedrooms per household\\n        - Population    block group population\\n        - AveOccup      average number of household members\\n        - Latitude      block group latitude\\n        - Longitude     block group longitude\\n\\n    :Missing Attribute Values: None\\n\\nThis dataset was obtained from the StatLib repository.\\nhttps://www.dcc.fc.up.pt/~ltorgo/Regression/cal_housing.html\\n\\nThe target variable is the median house value for California districts,\\nexpressed in hundreds of thousands of dollars ($100,000).\\n\\nThis dataset was derived from the 1990 U.S. census, using one row per census\\nblock group. A block group is the smallest geographical unit for which the U.S.\\nCensus Bureau publishes sample data (a block group typically has a population\\nof 600 to 3,000 people).\\n\\nA household is a group of people residing within a home. Since the average\\nnumber of rooms and bedrooms in this dataset are provided per household, these\\ncolumns may take surprisingly large values for block groups with few households\\nand many empty houses, such as vacation resorts.\\n\\nIt can be downloaded/loaded using the\\n:func:`sklearn.datasets.fetch_california_housing` function.\\n\\n.. topic:: References\\n\\n    - Pace, R. Kelley and Ronald Barry, Sparse Spatial Autoregressions,\\n      Statistics and Probability Letters, 33 (1997) 291-297\\n'}"
            ]
          },
          "execution_count": 2,
          "metadata": {},
          "output_type": "execute_result"
        }
      ],
      "source": [
        "from sklearn.datasets import fetch_california_housing\n",
        "housing = fetch_california_housing()\n",
        "housing"
      ]
    },
    {
      "cell_type": "markdown",
      "metadata": {
        "id": "9Q5swNzQ5alb"
      },
      "source": [
        "## OLS Regression"
      ]
    },
    {
      "cell_type": "markdown",
      "metadata": {
        "id": "LlWD4b_N_4sw"
      },
      "source": [
        "## One feature"
      ]
    },
    {
      "cell_type": "code",
      "execution_count": 3,
      "metadata": {
        "colab": {
          "base_uri": "https://localhost:8080/"
        },
        "id": "ebAnNVLe2Wi8",
        "outputId": "f7f76eb1-012f-4b47-ac19-e124c956128a"
      },
      "outputs": [
        {
          "name": "stdout",
          "output_type": "stream",
          "text": [
            "                            OLS Regression Results                            \n",
            "==============================================================================\n",
            "Dep. Variable:                      y   R-squared:                       0.473\n",
            "Model:                            OLS   Adj. R-squared:                  0.473\n",
            "Method:                 Least Squares   F-statistic:                 1.856e+04\n",
            "Date:                Wed, 20 Mar 2024   Prob (F-statistic):               0.00\n",
            "Time:                        19:03:24   Log-Likelihood:                -25623.\n",
            "No. Observations:               20640   AIC:                         5.125e+04\n",
            "Df Residuals:                   20638   BIC:                         5.127e+04\n",
            "Df Model:                           1                                         \n",
            "Covariance Type:            nonrobust                                         \n",
            "==============================================================================\n",
            "                 coef    std err          t      P>|t|      [0.025      0.975]\n",
            "------------------------------------------------------------------------------\n",
            "const          0.4509      0.013     34.082      0.000       0.425       0.477\n",
            "x1             0.4179      0.003    136.223      0.000       0.412       0.424\n",
            "==============================================================================\n",
            "Omnibus:                     4245.795   Durbin-Watson:                   0.655\n",
            "Prob(Omnibus):                  0.000   Jarque-Bera (JB):             9273.446\n",
            "Skew:                           1.191   Prob(JB):                         0.00\n",
            "Kurtosis:                       5.260   Cond. No.                         10.2\n",
            "==============================================================================\n",
            "\n",
            "Notes:\n",
            "[1] Standard Errors assume that the covariance matrix of the errors is correctly specified.\n"
          ]
        }
      ],
      "source": [
        "X = housing['data'][:,:1]\n",
        "X = sm.add_constant(X)\n",
        "y = housing['target']\n",
        "res = sm.OLS(y, X).fit()\n",
        "print(res.summary())"
      ]
    },
    {
      "cell_type": "markdown",
      "metadata": {
        "id": "HGg_VrNj_qYV"
      },
      "source": [
        "## Plot x1 against predicted values to see the variation"
      ]
    },
    {
      "cell_type": "code",
      "execution_count": null,
      "metadata": {
        "id": "3zhexrRx_lMR"
      },
      "outputs": [],
      "source": [
        "x1 = housing['data'][:,0]"
      ]
    },
    {
      "cell_type": "code",
      "execution_count": null,
      "metadata": {
        "id": "70BQoKsN6d-E"
      },
      "outputs": [],
      "source": [
        "y_hat = res.fittedvalues"
      ]
    },
    {
      "cell_type": "code",
      "execution_count": null,
      "metadata": {
        "colab": {
          "base_uri": "https://localhost:8080/",
          "height": 286
        },
        "id": "JggXhrVW8Bte",
        "outputId": "85546840-717f-40dc-df63-a414274679a9"
      },
      "outputs": [
        {
          "data": {
            "text/plain": [
              "<matplotlib.collections.PathCollection at 0x7f7f7da3ba10>"
            ]
          },
          "execution_count": 186,
          "metadata": {},
          "output_type": "execute_result"
        },
        {
          "data": {
            "image/png": "[encoded data removed]",
            "text/plain": [
              "<Figure size 432x288 with 1 Axes>"
            ]
          },
          "metadata": {
            "needs_background": "light"
          },
          "output_type": "display_data"
        }
      ],
      "source": [
        "plt.scatter(x1, y_hat)"
      ]
    },
    {
      "cell_type": "markdown",
      "metadata": {
        "id": "jzAnXQ73__2D"
      },
      "source": [
        "Straight line - no variation because there's just one dimension!\n",
        "\n",
        "Let's add some variation by including more features:"
      ]
    },
    {
      "cell_type": "code",
      "execution_count": null,
      "metadata": {
        "colab": {
          "base_uri": "https://localhost:8080/"
        },
        "id": "qlX2cFNMAHEI",
        "outputId": "4655c97e-a694-457a-ca69-6b2d8f79c91a"
      },
      "outputs": [
        {
          "name": "stdout",
          "output_type": "stream",
          "text": [
            "                            OLS Regression Results                            \n",
            "==============================================================================\n",
            "Dep. Variable:                      y   R-squared:                       0.509\n",
            "Model:                            OLS   Adj. R-squared:                  0.509\n",
            "Method:                 Least Squares   F-statistic:                 1.070e+04\n",
            "Date:                Tue, 11 Oct 2022   Prob (F-statistic):               0.00\n",
            "Time:                        14:58:24   Log-Likelihood:                -24899.\n",
            "No. Observations:               20640   AIC:                         4.980e+04\n",
            "Df Residuals:                   20637   BIC:                         4.983e+04\n",
            "Df Model:                           2                                         \n",
            "Covariance Type:            nonrobust                                         \n",
            "==============================================================================\n",
            "                 coef    std err          t      P>|t|      [0.025      0.975]\n",
            "------------------------------------------------------------------------------\n",
            "const         -0.1019      0.019     -5.320      0.000      -0.139      -0.064\n",
            "x1             0.4317      0.003    144.689      0.000       0.426       0.438\n",
            "x2             0.0174      0.000     38.726      0.000       0.017       0.018\n",
            "==============================================================================\n",
            "Omnibus:                     4099.868   Durbin-Watson:                   0.787\n",
            "Prob(Omnibus):                  0.000   Jarque-Bera (JB):             9707.077\n",
            "Skew:                           1.118   Prob(JB):                         0.00\n",
            "Kurtosis:                       5.507   Cond. No.                         108.\n",
            "==============================================================================\n",
            "\n",
            "Notes:\n",
            "[1] Standard Errors assume that the covariance matrix of the errors is correctly specified.\n"
          ]
        }
      ],
      "source": [
        "X = housing['data'][:,:2]\n",
        "X = sm.add_constant(X)\n",
        "y = housing['target']\n",
        "res = sm.OLS(y, X).fit()\n",
        "print(res.summary())"
      ]
    },
    {
      "cell_type": "markdown",
      "metadata": {
        "id": "u2UmT3v6AKOX"
      },
      "source": [
        "R-Squared has increased. Now look at the variation of x1"
      ]
    },
    {
      "cell_type": "code",
      "execution_count": null,
      "metadata": {
        "colab": {
          "base_uri": "https://localhost:8080/",
          "height": 282
        },
        "id": "OxDqHZfLAOZ4",
        "outputId": "7c716e22-a73c-44a2-9308-96cb4e629122"
      },
      "outputs": [
        {
          "data": {
            "text/plain": [
              "<matplotlib.collections.PathCollection at 0x7f7f7da3b8d0>"
            ]
          },
          "execution_count": 188,
          "metadata": {},
          "output_type": "execute_result"
        },
        {
          "data": {
            "image/png": "[encoded data removed]",
            "text/plain": [
              "<Figure size 432x288 with 1 Axes>"
            ]
          },
          "metadata": {
            "needs_background": "light"
          },
          "output_type": "display_data"
        }
      ],
      "source": [
        "plt.scatter(x1, res.fittedvalues)"
      ]
    },
    {
      "cell_type": "markdown",
      "metadata": {
        "id": "okkpvgOzARkp"
      },
      "source": [
        "This variation has increased, because for each value of X there can be different ages for the houses that might also contribute to the house price."
      ]
    },
    {
      "cell_type": "code",
      "execution_count": null,
      "metadata": {
        "colab": {
          "base_uri": "https://localhost:8080/",
          "height": 282
        },
        "id": "VZpD71pIFnZ-",
        "outputId": "10268060-ca88-4fc5-9732-9e61ebcd4989"
      },
      "outputs": [
        {
          "data": {
            "text/plain": [
              "<matplotlib.collections.PathCollection at 0x7f7f7d9a3c10>"
            ]
          },
          "execution_count": 189,
          "metadata": {},
          "output_type": "execute_result"
        },
        {
          "data": {
            "image/png": "[encoded data removed]",
            "text/plain": [
              "<Figure size 432x288 with 1 Axes>"
            ]
          },
          "metadata": {
            "needs_background": "light"
          },
          "output_type": "display_data"
        }
      ],
      "source": [
        "x2 = housing['data'][:,2]\n",
        "plt.scatter(x2, res.fittedvalues)"
      ]
    },
    {
      "cell_type": "code",
      "execution_count": null,
      "metadata": {
        "colab": {
          "base_uri": "https://localhost:8080/"
        },
        "id": "kdsuqkDzAgD6",
        "outputId": "ba739042-7236-4b47-9c48-93f6c320762e"
      },
      "outputs": [
        {
          "name": "stdout",
          "output_type": "stream",
          "text": [
            "                            OLS Regression Results                            \n",
            "==============================================================================\n",
            "Dep. Variable:                      y   R-squared:                       0.540\n",
            "Model:                            OLS   Adj. R-squared:                  0.540\n",
            "Method:                 Least Squares   F-statistic:                     4032.\n",
            "Date:                Tue, 11 Oct 2022   Prob (F-statistic):               0.00\n",
            "Time:                        15:00:11   Log-Likelihood:                -24235.\n",
            "No. Observations:               20640   AIC:                         4.848e+04\n",
            "Df Residuals:                   20633   BIC:                         4.854e+04\n",
            "Df Model:                           6                                         \n",
            "Covariance Type:            nonrobust                                         \n",
            "==============================================================================\n",
            "                 coef    std err          t      P>|t|      [0.025      0.975]\n",
            "------------------------------------------------------------------------------\n",
            "const         -0.4391      0.028    -15.918      0.000      -0.493      -0.385\n",
            "x1             0.5369      0.004    130.183      0.000       0.529       0.545\n",
            "x2             0.0165      0.000     35.571      0.000       0.016       0.017\n",
            "x3            -0.2117      0.006    -35.237      0.000      -0.224      -0.200\n",
            "x4             0.9937      0.030     33.669      0.000       0.936       1.052\n",
            "x5          2.211e-05    5.1e-06      4.337      0.000    1.21e-05    3.21e-05\n",
            "x6            -0.0049      0.001     -9.262      0.000      -0.006      -0.004\n",
            "==============================================================================\n",
            "Omnibus:                     4480.630   Durbin-Watson:                   0.940\n",
            "Prob(Omnibus):                  0.000   Jarque-Bera (JB):            16778.766\n",
            "Skew:                           1.053   Prob(JB):                         0.00\n",
            "Kurtosis:                       6.883   Cond. No.                     1.16e+04\n",
            "==============================================================================\n",
            "\n",
            "Notes:\n",
            "[1] Standard Errors assume that the covariance matrix of the errors is correctly specified.\n",
            "[2] The condition number is large, 1.16e+04. This might indicate that there are\n",
            "strong multicollinearity or other numerical problems.\n"
          ]
        }
      ],
      "source": [
        "X = housing['data'][:,:6]\n",
        "X = sm.add_constant(X)\n",
        "y = housing['target']\n",
        "res = sm.OLS(y, X).fit()\n",
        "print(res.summary())"
      ]
    },
    {
      "cell_type": "code",
      "execution_count": null,
      "metadata": {
        "colab": {
          "base_uri": "https://localhost:8080/",
          "height": 282
        },
        "id": "oV7lhJtyAf-e",
        "outputId": "8048c016-e0c0-4e30-9361-69c9d7d60b88"
      },
      "outputs": [
        {
          "data": {
            "text/plain": [
              "<matplotlib.collections.PathCollection at 0x7f7f7d907d50>"
            ]
          },
          "execution_count": 202,
          "metadata": {},
          "output_type": "execute_result"
        },
        {
          "data": {
            "image/png": "[encoded data removed]",
            "text/plain": [
              "<Figure size 432x288 with 1 Axes>"
            ]
          },
          "metadata": {
            "needs_background": "light"
          },
          "output_type": "display_data"
        }
      ],
      "source": [
        "plt.scatter(x1, res.fittedvalues)"
      ]
    },
    {
      "cell_type": "markdown",
      "metadata": {
        "id": "MeUhoUL3AqhT"
      },
      "source": [
        "There's even more variation. We have added more bias to our model. It's likely that it won't perform well on the test set.\n",
        "\n",
        "How can we add variables without risking overfitting?\n",
        "\n",
        "Regularization!\n",
        "\n",
        "Do the same with Ridge Regression..."
      ]
    },
    {
      "cell_type": "markdown",
      "metadata": {
        "id": "5xGhWqqRGBCH"
      },
      "source": [
        "## Ridge Regression"
      ]
    },
    {
      "cell_type": "markdown",
      "metadata": {
        "id": "ei2Ntt5Df70V"
      },
      "source": [
        "Implementation in Statsmodels: \n",
        "\n",
        "`statsmodels.regression.linear_model.OLS.fit_regularized`:\n",
        "\n",
        "`L1_wt`: The fraction of the penalty given to the L1 penalty term. Must be between 0 and 1 (inclusive). If 0, the fit is a ridge fit, if 1 it is a lasso fit."
      ]
    },
    {
      "cell_type": "code",
      "execution_count": null,
      "metadata": {
        "id": "vVReu_KqA_l9"
      },
      "outputs": [],
      "source": [
        "X = housing['data'][:,:6]\n",
        "X = sm.add_constant(X)\n",
        "y = housing['target']\n",
        "res = sm.OLS(y, X).fit_regularized(alpha = 1, L1_wt = 0)"
      ]
    },
    {
      "cell_type": "code",
      "execution_count": null,
      "metadata": {
        "colab": {
          "base_uri": "https://localhost:8080/",
          "height": 282
        },
        "id": "TEGdGt4aAf4s",
        "outputId": "2e856af3-bf56-428a-a7ff-1410125a6a57"
      },
      "outputs": [
        {
          "data": {
            "text/plain": [
              "<matplotlib.collections.PathCollection at 0x7f7f7d37e3d0>"
            ]
          },
          "execution_count": 229,
          "metadata": {},
          "output_type": "execute_result"
        },
        {
          "data": {
            "image/png": "[encoded data removed]",
            "text/plain": [
              "<Figure size 432x288 with 1 Axes>"
            ]
          },
          "metadata": {
            "needs_background": "light"
          },
          "output_type": "display_data"
        }
      ],
      "source": [
        "plt.scatter(x1, res.fittedvalues)"
      ]
    },
    {
      "cell_type": "code",
      "execution_count": null,
      "metadata": {
        "colab": {
          "base_uri": "https://localhost:8080/"
        },
        "id": "PfLxTiXaBbIy",
        "outputId": "79b022ea-943e-4da7-8409-444263729958"
      },
      "outputs": [
        {
          "data": {
            "text/plain": [
              "array([ 1.26972885e-02,  3.47393975e-01,  1.99483465e-02,  9.45188602e-03,\n",
              "        7.77234124e-03,  5.62291332e-05, -4.16391069e-03])"
            ]
          },
          "execution_count": 230,
          "metadata": {},
          "output_type": "execute_result"
        }
      ],
      "source": [
        "res.params"
      ]
    },
    {
      "cell_type": "markdown",
      "metadata": {
        "id": "48U9btSLGG9a"
      },
      "source": [
        "We can see that we have removed the outlier points on the bottom, making our model probably a bit more robust when new data comes in."
      ]
    },
    {
      "cell_type": "markdown",
      "metadata": {
        "id": "RdSLlH9bCOwA"
      },
      "source": [
        "### Regularization too high"
      ]
    },
    {
      "cell_type": "code",
      "execution_count": null,
      "metadata": {
        "colab": {
          "base_uri": "https://localhost:8080/",
          "height": 282
        },
        "id": "dU8axTzlB-D6",
        "outputId": "4258c9c9-aa81-49d6-9a41-63f3eb4fa368"
      },
      "outputs": [
        {
          "data": {
            "text/plain": [
              "<matplotlib.collections.PathCollection at 0x7f7f7d22d710>"
            ]
          },
          "execution_count": 231,
          "metadata": {},
          "output_type": "execute_result"
        },
        {
          "data": {
            "image/png": "[encoded data removed]",
            "text/plain": [
              "<Figure size 432x288 with 1 Axes>"
            ]
          },
          "metadata": {
            "needs_background": "light"
          },
          "output_type": "display_data"
        }
      ],
      "source": [
        "X = housing['data'][:,:6]\n",
        "X = sm.add_constant(X)\n",
        "y = housing['target']\n",
        "res = sm.OLS(y, X).fit_regularized(alpha = 20, L1_wt = 0)\n",
        "plt.scatter(x1, res.fittedvalues)"
      ]
    },
    {
      "cell_type": "code",
      "execution_count": null,
      "metadata": {
        "colab": {
          "base_uri": "https://localhost:8080/"
        },
        "id": "qfWwKa_vCJ3A",
        "outputId": "39913856-eeca-4fb7-d760-9bff591cb0d9"
      },
      "outputs": [
        {
          "data": {
            "text/plain": [
              "array([ 0.00602548,  0.08500877,  0.03609578,  0.0448902 ,  0.00453917,\n",
              "        0.00023517, -0.00153011])"
            ]
          },
          "execution_count": 232,
          "metadata": {},
          "output_type": "execute_result"
        }
      ],
      "source": [
        "res.params"
      ]
    },
    {
      "cell_type": "markdown",
      "metadata": {
        "id": "kqCLbSi0C4wS"
      },
      "source": [
        "### Lasso regression"
      ]
    },
    {
      "cell_type": "code",
      "execution_count": null,
      "metadata": {
        "id": "Jbn-4EisBzRP"
      },
      "outputs": [],
      "source": [
        "X = housing['data'][:,:6]\n",
        "X = sm.add_constant(X)\n",
        "y = housing['target']\n",
        "res = sm.OLS(y, X).fit_regularized(alpha = 1, L1_wt = 1)"
      ]
    },
    {
      "cell_type": "code",
      "execution_count": null,
      "metadata": {
        "colab": {
          "base_uri": "https://localhost:8080/",
          "height": 282
        },
        "id": "HGgRaQnvBzLc",
        "outputId": "ddaeff9c-d20e-4cd1-d3f1-aa315d888bbe"
      },
      "outputs": [
        {
          "data": {
            "text/plain": [
              "<matplotlib.collections.PathCollection at 0x7f7f7d11ef90>"
            ]
          },
          "execution_count": 236,
          "metadata": {},
          "output_type": "execute_result"
        },
        {
          "data": {
            "image/png": "[encoded data removed]",
            "text/plain": [
              "<Figure size 432x288 with 1 Axes>"
            ]
          },
          "metadata": {
            "needs_background": "light"
          },
          "output_type": "display_data"
        }
      ],
      "source": [
        "plt.scatter(x1, res.fittedvalues)"
      ]
    },
    {
      "cell_type": "markdown",
      "metadata": {
        "id": "09WDc0K7DYdk"
      },
      "source": [
        "The result looks similar to Ridge regression, but take a look at the parameters (first one is intercept):"
      ]
    },
    {
      "cell_type": "code",
      "execution_count": null,
      "metadata": {
        "colab": {
          "base_uri": "https://localhost:8080/"
        },
        "id": "nJMkX-z_BzF-",
        "outputId": "321511ac-840a-4a07-dbe5-ee5983b191db"
      },
      "outputs": [
        {
          "data": {
            "text/plain": [
              "array([0.00000000e+00, 2.52657797e-01, 2.73587645e-02, 0.00000000e+00,\n",
              "       0.00000000e+00, 1.56101485e-04, 0.00000000e+00])"
            ]
          },
          "execution_count": 237,
          "metadata": {},
          "output_type": "execute_result"
        }
      ],
      "source": [
        "res.params"
      ]
    },
    {
      "cell_type": "markdown",
      "metadata": {
        "id": "fMHFO6oQlkIY"
      },
      "source": [
        "### Try other values for alpha"
      ]
    },
    {
      "cell_type": "code",
      "execution_count": null,
      "metadata": {
        "id": "GJMcrnwFliUA"
      },
      "outputs": [],
      "source": [
        "X = housing['data'][:,:6]\n",
        "X = sm.add_constant(X)\n",
        "y = housing['target']\n",
        "res = sm.OLS(y, X).fit_regularized(alpha = 10, L1_wt = 1)"
      ]
    },
    {
      "cell_type": "code",
      "execution_count": null,
      "metadata": {
        "colab": {
          "base_uri": "https://localhost:8080/",
          "height": 282
        },
        "id": "MMmDjdsmmfeD",
        "outputId": "cf5c6152-3892-4654-ce66-e2c897f6faa7"
      },
      "outputs": [
        {
          "data": {
            "text/plain": [
              "<matplotlib.collections.PathCollection at 0x7f7f7cca0490>"
            ]
          },
          "execution_count": 261,
          "metadata": {},
          "output_type": "execute_result"
        },
        {
          "data": {
            "image/png": "[encoded data removed]",
            "text/plain": [
              "<Figure size 432x288 with 1 Axes>"
            ]
          },
          "metadata": {
            "needs_background": "light"
          },
          "output_type": "display_data"
        }
      ],
      "source": [
        "plt.scatter(x1, res.fittedvalues)"
      ]
    },
    {
      "cell_type": "markdown",
      "metadata": {
        "id": "JX9uujVPDAU0"
      },
      "source": [
        "### Elastic net Regression"
      ]
    },
    {
      "cell_type": "code",
      "execution_count": null,
      "metadata": {
        "id": "I6C479RWC9BN"
      },
      "outputs": [],
      "source": [
        "X = housing['data'][:,:3]\n",
        "X = sm.add_constant(X)\n",
        "y = housing['target']\n",
        "res = sm.OLS(y, X).fit_regularized(alpha = 1, L1_wt = 0.5)"
      ]
    },
    {
      "cell_type": "code",
      "execution_count": null,
      "metadata": {
        "colab": {
          "base_uri": "https://localhost:8080/",
          "height": 282
        },
        "id": "tkD4o5PkDEiF",
        "outputId": "93a19928-fae6-4807-b813-2ce71ad5c6bb"
      },
      "outputs": [
        {
          "data": {
            "text/plain": [
              "<matplotlib.collections.PathCollection at 0x7f7f7d118650>"
            ]
          },
          "execution_count": 241,
          "metadata": {},
          "output_type": "execute_result"
        },
        {
          "data": {
            "image/png": "[encoded data removed]",
            "text/plain": [
              "<Figure size 432x288 with 1 Axes>"
            ]
          },
          "metadata": {
            "needs_background": "light"
          },
          "output_type": "display_data"
        }
      ],
      "source": [
        "plt.scatter(x1, res.fittedvalues)"
      ]
    },
    {
      "cell_type": "markdown",
      "metadata": {
        "id": "0SLMEgOODVgk"
      },
      "source": [
        "We still allow variation, but capture the overall trend."
      ]
    },
    {
      "cell_type": "code",
      "execution_count": null,
      "metadata": {
        "colab": {
          "base_uri": "https://localhost:8080/"
        },
        "id": "zYTg78BFDK-q",
        "outputId": "d4a7208b-c1cf-4963-f765-240626f4d663"
      },
      "outputs": [
        {
          "data": {
            "text/plain": [
              "array([0.        , 0.25048436, 0.03340317, 0.        ])"
            ]
          },
          "execution_count": 180,
          "metadata": {},
          "output_type": "execute_result"
        }
      ],
      "source": [
        "res.params"
      ]
    },
    {
      "cell_type": "markdown",
      "metadata": {
        "id": "wBphSn4VG0Oi"
      },
      "source": [
        "How do we know which one is best? For regularization it's hard to optimize with an R-Squared score (because we're decreasing the model fit on purpose). Best practice is to validate with new data using Cross-Validation - which we will cover later."
      ]
    }
  ],
  "metadata": {
    "colab": {
      "provenance": [],
      "toc_visible": true
    },
    "kernelspec": {
      "display_name": "Python 3",
      "name": "python3"
    },
    "language_info": {
      "codemirror_mode": {
        "name": "ipython",
        "version": 3
      },
      "file_extension": ".py",
      "mimetype": "text/x-python",
      "name": "python",
      "nbconvert_exporter": "python",
      "pygments_lexer": "ipython3",
      "version": "3.11.5"
    }
  },
  "nbformat": 4,
  "nbformat_minor": 0
}
