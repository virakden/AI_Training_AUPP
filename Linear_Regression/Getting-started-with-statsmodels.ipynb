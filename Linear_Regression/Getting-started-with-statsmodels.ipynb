{
  "cells": [
    {
      "cell_type": "markdown",
      "metadata": {
        "id": "faeiMCy_iQpd"
      },
      "source": [
        "# Getting started with statsmodels\n",
        "\n",
        "Python module that provides classes and functions for the estimation of many different statistical models, as well as for conducting statistical tests, and statistical data exploration."
      ]
    },
    {
      "cell_type": "code",
      "execution_count": 2,
      "metadata": {
        "colab": {
          "base_uri": "https://localhost:8080/"
        },
        "id": "RY7UkFPmiPEV",
        "outputId": "cedf7a2b-d6f2-4072-e282-3cd6d42beb4a"
      },
      "outputs": [
        {
          "name": "stdout",
          "output_type": "stream",
          "text": [
            "Requirement already satisfied: statsmodels in c:\\users\\rina\\anaconda3\\lib\\site-packages (0.14.0)\n",
            "Requirement already satisfied: numpy>=1.18 in c:\\users\\rina\\anaconda3\\lib\\site-packages (from statsmodels) (1.24.3)\n",
            "Requirement already satisfied: scipy!=1.9.2,>=1.4 in c:\\users\\rina\\anaconda3\\lib\\site-packages (from statsmodels) (1.11.1)\n",
            "Requirement already satisfied: pandas>=1.0 in c:\\users\\rina\\anaconda3\\lib\\site-packages (from statsmodels) (2.0.3)\n",
            "Requirement already satisfied: patsy>=0.5.2 in c:\\users\\rina\\anaconda3\\lib\\site-packages (from statsmodels) (0.5.3)\n",
            "Requirement already satisfied: packaging>=21.3 in c:\\users\\rina\\anaconda3\\lib\\site-packages (from statsmodels) (23.1)\n",
            "Requirement already satisfied: python-dateutil>=2.8.2 in c:\\users\\rina\\anaconda3\\lib\\site-packages (from pandas>=1.0->statsmodels) (2.8.2)\n",
            "Requirement already satisfied: pytz>=2020.1 in c:\\users\\rina\\anaconda3\\lib\\site-packages (from pandas>=1.0->statsmodels) (2023.3.post1)\n",
            "Requirement already satisfied: tzdata>=2022.1 in c:\\users\\rina\\anaconda3\\lib\\site-packages (from pandas>=1.0->statsmodels) (2023.3)\n",
            "Requirement already satisfied: six in c:\\users\\rina\\anaconda3\\lib\\site-packages (from patsy>=0.5.2->statsmodels) (1.16.0)\n",
            "Note: you may need to restart the kernel to use updated packages.\n"
          ]
        }
      ],
      "source": [
        "pip install statsmodels"
      ]
    },
    {
      "cell_type": "markdown",
      "metadata": {
        "id": "V8S-XC3klSxI"
      },
      "source": [
        "## Import"
      ]
    },
    {
      "cell_type": "code",
      "execution_count": 3,
      "metadata": {
        "id": "7-S54jh1im0d"
      },
      "outputs": [],
      "source": [
        "import numpy as np\n",
        "import pandas as pd\n",
        "import statsmodels.api as sm"
      ]
    },
    {
      "cell_type": "markdown",
      "metadata": {
        "id": "hn4KA2-JjDT-"
      },
      "source": [
        "## Create sample data"
      ]
    },
    {
      "cell_type": "code",
      "execution_count": 4,
      "metadata": {
        "id": "xKB3dNp6jEyf"
      },
      "outputs": [],
      "source": [
        "np.random.seed(123)\n",
        "nsample = 50\n",
        "x = np.linspace(0, 20, nsample)\n",
        "\n",
        "# Add constant 1, turn into matrix\n",
        "X = sm.add_constant(x)\n",
        "# b0: constant, b1: x1 coefficient\n",
        "beta = [1, 2.5]\n",
        "# Random error\n",
        "e = np.random.normal(size=nsample)\n",
        "\n",
        "y = np.dot(X, beta) + e"
      ]
    },
    {
      "cell_type": "code",
      "execution_count": 5,
      "metadata": {
        "colab": {
          "base_uri": "https://localhost:8080/",
          "height": 206
        },
        "id": "dZjzK0wt793G",
        "outputId": "8ae8a771-7754-473b-c898-7b5dd55656b3"
      },
      "outputs": [
        {
          "data": {
            "text/html": [
              "<div>\n",
              "<style scoped>\n",
              "    .dataframe tbody tr th:only-of-type {\n",
              "        vertical-align: middle;\n",
              "    }\n",
              "\n",
              "    .dataframe tbody tr th {\n",
              "        vertical-align: top;\n",
              "    }\n",
              "\n",
              "    .dataframe thead th {\n",
              "        text-align: right;\n",
              "    }\n",
              "</style>\n",
              "<table border=\"1\" class=\"dataframe\">\n",
              "  <thead>\n",
              "    <tr style=\"text-align: right;\">\n",
              "      <th></th>\n",
              "      <th>y</th>\n",
              "      <th>x1</th>\n",
              "    </tr>\n",
              "  </thead>\n",
              "  <tbody>\n",
              "    <tr>\n",
              "      <th>0</th>\n",
              "      <td>-0.085631</td>\n",
              "      <td>0.000000</td>\n",
              "    </tr>\n",
              "    <tr>\n",
              "      <th>1</th>\n",
              "      <td>3.017754</td>\n",
              "      <td>0.408163</td>\n",
              "    </tr>\n",
              "    <tr>\n",
              "      <th>2</th>\n",
              "      <td>3.323795</td>\n",
              "      <td>0.816327</td>\n",
              "    </tr>\n",
              "    <tr>\n",
              "      <th>3</th>\n",
              "      <td>2.554930</td>\n",
              "      <td>1.224490</td>\n",
              "    </tr>\n",
              "    <tr>\n",
              "      <th>4</th>\n",
              "      <td>4.503032</td>\n",
              "      <td>1.632653</td>\n",
              "    </tr>\n",
              "  </tbody>\n",
              "</table>\n",
              "</div>"
            ],
            "text/plain": [
              "          y        x1\n",
              "0 -0.085631  0.000000\n",
              "1  3.017754  0.408163\n",
              "2  3.323795  0.816327\n",
              "3  2.554930  1.224490\n",
              "4  4.503032  1.632653"
            ]
          },
          "execution_count": 5,
          "metadata": {},
          "output_type": "execute_result"
        }
      ],
      "source": [
        "sample_df = pd.DataFrame({\"y\":y, \"x1\": x})\n",
        "sample_df.head()"
      ]
    },
    {
      "cell_type": "code",
      "execution_count": 6,
      "metadata": {
        "colab": {
          "base_uri": "https://localhost:8080/",
          "height": 297
        },
        "id": "3sebxPPYabwK",
        "outputId": "fd3f53c6-0aea-4353-8fc4-30e4e6f54e52"
      },
      "outputs": [
        {
          "data": {
            "text/plain": [
              "<Axes: xlabel='x1', ylabel='y'>"
            ]
          },
          "execution_count": 6,
          "metadata": {},
          "output_type": "execute_result"
        },
        {
          "data": {
            "image/png": "[encoded data removed]",
            "text/plain": [
              "<Figure size 640x480 with 1 Axes>"
            ]
          },
          "metadata": {},
          "output_type": "display_data"
        }
      ],
      "source": [
        "sample_df.plot.scatter(\"x1\", \"y\")"
      ]
    },
    {
      "cell_type": "markdown",
      "metadata": {
        "id": "EUMPPF1PlX_w"
      },
      "source": [
        "## Calculate Pearson Coefficients"
      ]
    },
    {
      "cell_type": "code",
      "execution_count": 7,
      "metadata": {
        "colab": {
          "base_uri": "https://localhost:8080/"
        },
        "id": "SElrOnfSlcXe",
        "outputId": "98d26175-6f6e-40f8-8391-de5405cd57f4"
      },
      "outputs": [
        {
          "name": "stdout",
          "output_type": "stream",
          "text": [
            "          y       x1\n",
            "y   1.00000  0.99683\n",
            "x1  0.99683  1.00000\n"
          ]
        }
      ],
      "source": [
        "corr_matrix = sample_df.corr(method='pearson')\n",
        "print(corr_matrix)"
      ]
    },
    {
      "cell_type": "code",
      "execution_count": 8,
      "metadata": {
        "colab": {
          "base_uri": "https://localhost:8080/",
          "height": 663
        },
        "id": "qghP4eG8Bq2D",
        "outputId": "082b29ce-8c67-4a08-b2c0-30da97ca5c38"
      },
      "outputs": [
        {
          "data": {
            "image/png": "[encoded data removed]",
            "text/plain": [
              "<Figure size 600x500 with 2 Axes>"
            ]
          },
          "execution_count": 8,
          "metadata": {},
          "output_type": "execute_result"
        },
        {
          "data": {
            "image/png": "[encoded data removed]",
            "text/plain": [
              "<Figure size 600x500 with 2 Axes>"
            ]
          },
          "metadata": {},
          "output_type": "display_data"
        }
      ],
      "source": [
        "sm.graphics.plot_corr_grid([corr_matrix])"
      ]
    },
    {
      "cell_type": "markdown",
      "metadata": {
        "id": "eqDDzu9vlfp4"
      },
      "source": [
        "## Simple Linear Regression"
      ]
    },
    {
      "cell_type": "code",
      "execution_count": 9,
      "metadata": {
        "colab": {
          "base_uri": "https://localhost:8080/"
        },
        "id": "cyvbfqBGlSMF",
        "outputId": "7b45bade-9bd4-4b03-a1ac-0ae45345c0c2"
      },
      "outputs": [
        {
          "data": {
            "text/plain": [
              "array([-0.0856306 ,  3.01775361,  3.32379482,  2.55492978,  4.5030324 ,\n",
              "        7.75347735,  4.69576974,  7.71394451, 10.42920156,  9.31693307,\n",
              "       10.52519548, 12.12978083, 14.73628759, 13.62640413, 14.84173233,\n",
              "       15.87177117, 19.53246069, 20.53372486, 20.37140084, 20.7739415 ,\n",
              "       22.14553184, 23.91930346, 22.51314572, 25.6452168 , 24.23591525,\n",
              "       25.87245258, 28.43771744, 27.12233971, 29.43135985, 29.73008184,\n",
              "       31.35662553, 29.83406396, 31.88152812, 33.97359215, 36.62133998,\n",
              "       36.54065003, 37.73753979, 39.44332475, 38.89597386, 41.07954569,\n",
              "       41.01096001, 41.1090652 , 43.46624306, 45.45135688, 46.23654823,\n",
              "       46.90653685, 50.33114078, 49.37209583, 50.95832784, 53.23814334])"
            ]
          },
          "execution_count": 9,
          "metadata": {},
          "output_type": "execute_result"
        }
      ],
      "source": [
        "y"
      ]
    },
    {
      "cell_type": "code",
      "execution_count": 10,
      "metadata": {
        "colab": {
          "base_uri": "https://localhost:8080/"
        },
        "id": "rxGA3Ks2lUpW",
        "outputId": "a2f655e2-6791-4a88-fda0-880557f631ba"
      },
      "outputs": [
        {
          "data": {
            "text/plain": [
              "array([[ 1.        ,  0.        ],\n",
              "       [ 1.        ,  0.40816327],\n",
              "       [ 1.        ,  0.81632653],\n",
              "       [ 1.        ,  1.2244898 ],\n",
              "       [ 1.        ,  1.63265306],\n",
              "       [ 1.        ,  2.04081633],\n",
              "       [ 1.        ,  2.44897959],\n",
              "       [ 1.        ,  2.85714286],\n",
              "       [ 1.        ,  3.26530612],\n",
              "       [ 1.        ,  3.67346939],\n",
              "       [ 1.        ,  4.08163265],\n",
              "       [ 1.        ,  4.48979592],\n",
              "       [ 1.        ,  4.89795918],\n",
              "       [ 1.        ,  5.30612245],\n",
              "       [ 1.        ,  5.71428571],\n",
              "       [ 1.        ,  6.12244898],\n",
              "       [ 1.        ,  6.53061224],\n",
              "       [ 1.        ,  6.93877551],\n",
              "       [ 1.        ,  7.34693878],\n",
              "       [ 1.        ,  7.75510204],\n",
              "       [ 1.        ,  8.16326531],\n",
              "       [ 1.        ,  8.57142857],\n",
              "       [ 1.        ,  8.97959184],\n",
              "       [ 1.        ,  9.3877551 ],\n",
              "       [ 1.        ,  9.79591837],\n",
              "       [ 1.        , 10.20408163],\n",
              "       [ 1.        , 10.6122449 ],\n",
              "       [ 1.        , 11.02040816],\n",
              "       [ 1.        , 11.42857143],\n",
              "       [ 1.        , 11.83673469],\n",
              "       [ 1.        , 12.24489796],\n",
              "       [ 1.        , 12.65306122],\n",
              "       [ 1.        , 13.06122449],\n",
              "       [ 1.        , 13.46938776],\n",
              "       [ 1.        , 13.87755102],\n",
              "       [ 1.        , 14.28571429],\n",
              "       [ 1.        , 14.69387755],\n",
              "       [ 1.        , 15.10204082],\n",
              "       [ 1.        , 15.51020408],\n",
              "       [ 1.        , 15.91836735],\n",
              "       [ 1.        , 16.32653061],\n",
              "       [ 1.        , 16.73469388],\n",
              "       [ 1.        , 17.14285714],\n",
              "       [ 1.        , 17.55102041],\n",
              "       [ 1.        , 17.95918367],\n",
              "       [ 1.        , 18.36734694],\n",
              "       [ 1.        , 18.7755102 ],\n",
              "       [ 1.        , 19.18367347],\n",
              "       [ 1.        , 19.59183673],\n",
              "       [ 1.        , 20.        ]])"
            ]
          },
          "execution_count": 10,
          "metadata": {},
          "output_type": "execute_result"
        }
      ],
      "source": [
        "X"
      ]
    },
    {
      "cell_type": "code",
      "execution_count": 11,
      "metadata": {
        "colab": {
          "base_uri": "https://localhost:8080/"
        },
        "id": "84Sps9eGlhxj",
        "outputId": "5ce27a61-85ea-46b5-826a-6fe499461a89"
      },
      "outputs": [
        {
          "name": "stdout",
          "output_type": "stream",
          "text": [
            "                            OLS Regression Results                            \n",
            "==============================================================================\n",
            "Dep. Variable:                      y   R-squared:                       0.994\n",
            "Model:                            OLS   Adj. R-squared:                  0.994\n",
            "Method:                 Least Squares   F-statistic:                     7535.\n",
            "Date:                Mon, 18 Mar 2024   Prob (F-statistic):           1.97e-54\n",
            "Time:                        14:27:40   Log-Likelihood:                -79.405\n",
            "No. Observations:                  50   AIC:                             162.8\n",
            "Df Residuals:                      48   BIC:                             166.6\n",
            "Df Model:                           1                                         \n",
            "Covariance Type:            nonrobust                                         \n",
            "==============================================================================\n",
            "                 coef    std err          t      P>|t|      [0.025      0.975]\n",
            "------------------------------------------------------------------------------\n",
            "const          0.8224      0.337      2.442      0.018       0.145       1.500\n",
            "x1             2.5191      0.029     86.802      0.000       2.461       2.577\n",
            "==============================================================================\n",
            "Omnibus:                        0.096   Durbin-Watson:                   1.700\n",
            "Prob(Omnibus):                  0.953   Jarque-Bera (JB):                0.298\n",
            "Skew:                           0.030   Prob(JB):                        0.862\n",
            "Kurtosis:                       2.626   Cond. No.                         23.0\n",
            "==============================================================================\n",
            "\n",
            "Notes:\n",
            "[1] Standard Errors assume that the covariance matrix of the errors is correctly specified.\n"
          ]
        }
      ],
      "source": [
        "result = sm.OLS(y, X).fit()\n",
        "print(result.summary())"
      ]
    },
    {
      "cell_type": "code",
      "execution_count": 12,
      "metadata": {
        "colab": {
          "base_uri": "https://localhost:8080/"
        },
        "id": "it3KCmitEe-8",
        "outputId": "1f9aef7d-a36f-4295-d467-2fb22c03fd2e"
      },
      "outputs": [
        {
          "data": {
            "text/plain": [
              "array([0.82244348, 2.5190828 ])"
            ]
          },
          "execution_count": 12,
          "metadata": {},
          "output_type": "execute_result"
        }
      ],
      "source": [
        "result.params"
      ]
    },
    {
      "cell_type": "markdown",
      "metadata": {
        "id": "e7hJfBMjlh_o"
      },
      "source": [
        "## Plot regression"
      ]
    },
    {
      "cell_type": "code",
      "execution_count": 13,
      "metadata": {
        "colab": {
          "base_uri": "https://localhost:8080/",
          "height": 283
        },
        "id": "c4rYJ5YVImqi",
        "outputId": "1a2fd4f4-7648-4ed1-f293-8ddf5ad9126a"
      },
      "outputs": [
        {
          "data": {
            "text/plain": [
              "[<matplotlib.lines.Line2D at 0x2838213aa90>]"
            ]
          },
          "execution_count": 13,
          "metadata": {},
          "output_type": "execute_result"
        },
        {
          "data": {
            "image/png": "[encoded data removed]",
            "text/plain": [
              "<Figure size 640x480 with 1 Axes>"
            ]
          },
          "metadata": {},
          "output_type": "display_data"
        }
      ],
      "source": [
        "import matplotlib.pyplot as plt\n",
        "\n",
        "# Plot observed points\n",
        "plt.scatter(x, y)\n",
        "\n",
        "# Get Slope and Constant (intercept)\n",
        "b0, b1 = result.params[0], result.params[1]\n",
        "\n",
        "# draw  regression line\n",
        "plt.plot(x, b0 + b1*x, color='red', lw = 3)"
      ]
    },
    {
      "cell_type": "markdown",
      "metadata": {},
      "source": [
        "## Plot regression"
      ]
    },
    {
      "cell_type": "code",
      "execution_count": 15,
      "metadata": {},
      "outputs": [
        {
          "name": "stdout",
          "output_type": "stream",
          "text": [
            "Predictions for new data points:\n",
            "[0.82244348 5.86060907]\n"
          ]
        }
      ],
      "source": [
        "# Make predictions\n",
        "X_new = np.array([[0], [2]])  # New data points to predict\n",
        "X_new_with_const = sm.add_constant(X_new)\n",
        "predictions = result.predict(X_new_with_const)\n",
        "print(\"Predictions for new data points:\")\n",
        "print(predictions)"
      ]
    }
  ],
  "metadata": {
    "colab": {
      "provenance": []
    },
    "kernelspec": {
      "display_name": "Python 3",
      "name": "python3"
    },
    "language_info": {
      "codemirror_mode": {
        "name": "ipython",
        "version": 3
      },
      "file_extension": ".py",
      "mimetype": "text/x-python",
      "name": "python",
      "nbconvert_exporter": "python",
      "pygments_lexer": "ipython3",
      "version": "3.11.5"
    }
  },
  "nbformat": 4,
  "nbformat_minor": 0
}
