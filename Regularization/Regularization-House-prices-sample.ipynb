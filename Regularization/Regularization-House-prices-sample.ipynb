{
  "cells": [
    {
      "cell_type": "markdown",
      "metadata": {
        "id": "wC-I5TYllwl0"
      },
      "source": [
        "# Regularization"
      ]
    },
    {
      "cell_type": "code",
      "execution_count": 1,
      "metadata": {
        "id": "jjocq81VT6Kc"
      },
      "outputs": [],
      "source": [
        "import statsmodels.api as sm\n",
        "import pandas as pd\n",
        "import numpy as np\n",
        "from matplotlib import pyplot as plt\n",
        "np.random.seed(123)"
      ]
    },
    {
      "cell_type": "markdown",
      "metadata": {
        "id": "LqW1QRP4170s"
      },
      "source": [
        "### Sample data"
      ]
    },
    {
      "cell_type": "code",
      "execution_count": 2,
      "metadata": {
        "colab": {
          "base_uri": "https://localhost:8080/"
        },
        "id": "oobZLvpQ17eS",
        "outputId": "843e3edf-9099-48de-9c2a-8705788f6df2"
      },
      "outputs": [
        {
          "data": {
            "text/plain": [
              "{'data': array([[   8.3252    ,   41.        ,    6.98412698, ...,    2.55555556,\n",
              "           37.88      , -122.23      ],\n",
              "        [   8.3014    ,   21.        ,    6.23813708, ...,    2.10984183,\n",
              "           37.86      , -122.22      ],\n",
              "        [   7.2574    ,   52.        ,    8.28813559, ...,    2.80225989,\n",
              "           37.85      , -122.24      ],\n",
              "        ...,\n",
              "        [   1.7       ,   17.        ,    5.20554273, ...,    2.3256351 ,\n",
              "           39.43      , -121.22      ],\n",
              "        [   1.8672    ,   18.        ,    5.32951289, ...,    2.12320917,\n",
              "           39.43      , -121.32      ],\n",
              "        [   2.3886    ,   16.        ,    5.25471698, ...,    2.61698113,\n",
              "           39.37      , -121.24      ]]),\n",
              " 'target': array([4.526, 3.585, 3.521, ..., 0.923, 0.847, 0.894]),\n",
              " 'frame': None,\n",
              " 'target_names': ['MedHouseVal'],\n",
              " 'feature_names': ['MedInc',\n",
              "  'HouseAge',\n",
              "  'AveRooms',\n",
              "  'AveBedrms',\n",
              "  'Population',\n",
              "  'AveOccup',\n",
              "  'Latitude',\n",
              "  'Longitude'],\n",
              " 'DESCR': '.. _california_housing_dataset:\\n\\nCalifornia Housing dataset\\n--------------------------\\n\\n**Data Set Characteristics:**\\n\\n    :Number of Instances: 20640\\n\\n    :Number of Attributes: 8 numeric, predictive attributes and the target\\n\\n    :Attribute Information:\\n        - MedInc        median income in block group\\n        - HouseAge      median house age in block group\\n        - AveRooms      average number of rooms per household\\n        - AveBedrms     average number of bedrooms per household\\n        - Population    block group population\\n        - AveOccup      average number of household members\\n        - Latitude      block group latitude\\n        - Longitude     block group longitude\\n\\n    :Missing Attribute Values: None\\n\\nThis dataset was obtained from the StatLib repository.\\nhttps://www.dcc.fc.up.pt/~ltorgo/Regression/cal_housing.html\\n\\nThe target variable is the median house value for California districts,\\nexpressed in hundreds of thousands of dollars ($100,000).\\n\\nThis dataset was derived from the 1990 U.S. census, using one row per census\\nblock group. A block group is the smallest geographical unit for which the U.S.\\nCensus Bureau publishes sample data (a block group typically has a population\\nof 600 to 3,000 people).\\n\\nA household is a group of people residing within a home. Since the average\\nnumber of rooms and bedrooms in this dataset are provided per household, these\\ncolumns may take surprisingly large values for block groups with few households\\nand many empty houses, such as vacation resorts.\\n\\nIt can be downloaded/loaded using the\\n:func:`sklearn.datasets.fetch_california_housing` function.\\n\\n.. topic:: References\\n\\n    - Pace, R. Kelley and Ronald Barry, Sparse Spatial Autoregressions,\\n      Statistics and Probability Letters, 33 (1997) 291-297\\n'}"
            ]
          },
          "execution_count": 2,
          "metadata": {},
          "output_type": "execute_result"
        }
      ],
      "source": [
        "from sklearn.datasets import fetch_california_housing\n",
        "housing = fetch_california_housing()\n",
        "housing"
      ]
    },
    {
      "cell_type": "markdown",
      "metadata": {
        "id": "9Q5swNzQ5alb"
      },
      "source": [
        "## OLS Regression"
      ]
    },
    {
      "cell_type": "markdown",
      "metadata": {
        "id": "LlWD4b_N_4sw"
      },
      "source": [
        "### Exploring variation"
      ]
    },
    {
      "cell_type": "code",
      "execution_count": 3,
      "metadata": {
        "id": "gqzROUYo4Dlp"
      },
      "outputs": [],
      "source": [
        "topn = 20"
      ]
    },
    {
      "cell_type": "code",
      "execution_count": 4,
      "metadata": {
        "colab": {
          "base_uri": "https://localhost:8080/"
        },
        "id": "ebAnNVLe2Wi8",
        "outputId": "08bd6676-ae75-4224-eb09-cf1fa7003c33"
      },
      "outputs": [
        {
          "name": "stdout",
          "output_type": "stream",
          "text": [
            "                            OLS Regression Results                            \n",
            "==============================================================================\n",
            "Dep. Variable:                      y   R-squared:                       0.776\n",
            "Model:                            OLS   Adj. R-squared:                  0.764\n",
            "Method:                 Least Squares   F-statistic:                     62.44\n",
            "Date:                Fri, 22 Mar 2024   Prob (F-statistic):           2.92e-07\n",
            "Time:                        18:40:39   Log-Likelihood:                -10.134\n",
            "No. Observations:                  20   AIC:                             24.27\n",
            "Df Residuals:                      18   BIC:                             26.26\n",
            "Df Model:                           1                                         \n",
            "Covariance Type:            nonrobust                                         \n",
            "==============================================================================\n",
            "                 coef    std err          t      P>|t|      [0.025      0.975]\n",
            "------------------------------------------------------------------------------\n",
            "const          1.0572      0.206      5.138      0.000       0.625       1.489\n",
            "x1             0.3813      0.048      7.902      0.000       0.280       0.483\n",
            "==============================================================================\n",
            "Omnibus:                        0.611   Durbin-Watson:                   1.058\n",
            "Prob(Omnibus):                  0.737   Jarque-Bera (JB):                0.664\n",
            "Skew:                           0.330   Prob(JB):                        0.718\n",
            "Kurtosis:                       2.398   Cond. No.                         9.67\n",
            "==============================================================================\n",
            "\n",
            "Notes:\n",
            "[1] Standard Errors assume that the covariance matrix of the errors is correctly specified.\n"
          ]
        }
      ],
      "source": [
        "X = housing['data'][:topn,:1]\n",
        "X = sm.add_constant(X)\n",
        "y = housing['target'][:topn]\n",
        "res = sm.OLS(y, X).fit()\n",
        "print(res.summary())"
      ]
    },
    {
      "cell_type": "markdown",
      "metadata": {
        "id": "HGg_VrNj_qYV"
      },
      "source": [
        "### Plot x1 against predicted values to see the variation"
      ]
    },
    {
      "cell_type": "code",
      "execution_count": 5,
      "metadata": {
        "id": "3zhexrRx_lMR"
      },
      "outputs": [],
      "source": [
        "x1 = housing['data'][:topn,0]"
      ]
    },
    {
      "cell_type": "code",
      "execution_count": 6,
      "metadata": {
        "id": "70BQoKsN6d-E"
      },
      "outputs": [],
      "source": [
        "y_hat = res.fittedvalues"
      ]
    },
    {
      "cell_type": "code",
      "execution_count": 7,
      "metadata": {
        "colab": {
          "base_uri": "https://localhost:8080/",
          "height": 282
        },
        "id": "JggXhrVW8Bte",
        "outputId": "d3439fa2-9f31-4a1e-c2b3-e2e0c7a67ebc"
      },
      "outputs": [
        {
          "data": {
            "text/plain": [
              "<matplotlib.collections.PathCollection at 0x274111846d0>"
            ]
          },
          "execution_count": 7,
          "metadata": {},
          "output_type": "execute_result"
        },
        {
          "data": {
            "image/png": "[encoded data removed]",
            "text/plain": [
              "<Figure size 640x480 with 1 Axes>"
            ]
          },
          "metadata": {},
          "output_type": "display_data"
        }
      ],
      "source": [
        "plt.scatter(x1, y_hat)"
      ]
    },
    {
      "cell_type": "markdown",
      "metadata": {
        "id": "jzAnXQ73__2D"
      },
      "source": [
        "Straight line - no variation because there's just one dimension!\n",
        "\n",
        "Let's add some variation by including more features:"
      ]
    },
    {
      "cell_type": "code",
      "execution_count": 8,
      "metadata": {
        "colab": {
          "base_uri": "https://localhost:8080/"
        },
        "id": "qlX2cFNMAHEI",
        "outputId": "65110a17-a157-4a79-b22d-96a833c466ed"
      },
      "outputs": [
        {
          "name": "stdout",
          "output_type": "stream",
          "text": [
            "                            OLS Regression Results                            \n",
            "==============================================================================\n",
            "Dep. Variable:                      y   R-squared:                       0.796\n",
            "Model:                            OLS   Adj. R-squared:                  0.772\n",
            "Method:                 Least Squares   F-statistic:                     33.11\n",
            "Date:                Fri, 22 Mar 2024   Prob (F-statistic):           1.37e-06\n",
            "Time:                        18:44:48   Log-Likelihood:                -9.2232\n",
            "No. Observations:                  20   AIC:                             24.45\n",
            "Df Residuals:                      17   BIC:                             27.43\n",
            "Df Model:                           2                                         \n",
            "Covariance Type:            nonrobust                                         \n",
            "==============================================================================\n",
            "                 coef    std err          t      P>|t|      [0.025      0.975]\n",
            "------------------------------------------------------------------------------\n",
            "const         -0.1124      0.941     -0.119      0.906      -2.097       1.873\n",
            "x1             0.4253      0.059      7.247      0.000       0.301       0.549\n",
            "x2             0.0204      0.016      1.273      0.220      -0.013       0.054\n",
            "==============================================================================\n",
            "Omnibus:                        1.193   Durbin-Watson:                   1.175\n",
            "Prob(Omnibus):                  0.551   Jarque-Bera (JB):                1.051\n",
            "Skew:                           0.491   Prob(JB):                        0.591\n",
            "Kurtosis:                       2.455   Cond. No.                         505.\n",
            "==============================================================================\n",
            "\n",
            "Notes:\n",
            "[1] Standard Errors assume that the covariance matrix of the errors is correctly specified.\n"
          ]
        }
      ],
      "source": [
        "X = housing['data'][:topn,:2]\n",
        "X = sm.add_constant(X)\n",
        "y = housing['target'][:topn]\n",
        "res = sm.OLS(y, X).fit()\n",
        "print(res.summary())"
      ]
    },
    {
      "cell_type": "markdown",
      "metadata": {
        "id": "u2UmT3v6AKOX"
      },
      "source": [
        "R-Squared has increased. Now look at the variation of x1"
      ]
    },
    {
      "cell_type": "code",
      "execution_count": 9,
      "metadata": {
        "colab": {
          "base_uri": "https://localhost:8080/",
          "height": 282
        },
        "id": "OxDqHZfLAOZ4",
        "outputId": "bbeb52a5-6570-4be1-c00b-8a4991253d11"
      },
      "outputs": [
        {
          "data": {
            "text/plain": [
              "<matplotlib.collections.PathCollection at 0x27412019f90>"
            ]
          },
          "execution_count": 9,
          "metadata": {},
          "output_type": "execute_result"
        },
        {
          "data": {
            "image/png": "[encoded data removed]",
            "text/plain": [
              "<Figure size 640x480 with 1 Axes>"
            ]
          },
          "metadata": {},
          "output_type": "display_data"
        }
      ],
      "source": [
        "plt.scatter(x1, res.fittedvalues)"
      ]
    },
    {
      "cell_type": "markdown",
      "metadata": {
        "id": "okkpvgOzARkp"
      },
      "source": [
        "This variation has increased, because for each value of X there can be different ages for the houses that might also contribute to the house price."
      ]
    },
    {
      "cell_type": "code",
      "execution_count": 10,
      "metadata": {
        "colab": {
          "base_uri": "https://localhost:8080/",
          "height": 282
        },
        "id": "VZpD71pIFnZ-",
        "outputId": "d33bb3c8-739f-45aa-be85-0c7029f98ab8"
      },
      "outputs": [
        {
          "data": {
            "text/plain": [
              "<matplotlib.collections.PathCollection at 0x274121cbd90>"
            ]
          },
          "execution_count": 10,
          "metadata": {},
          "output_type": "execute_result"
        },
        {
          "data": {
            "image/png": "[encoded data removed]",
            "text/plain": [
              "<Figure size 640x480 with 1 Axes>"
            ]
          },
          "metadata": {},
          "output_type": "display_data"
        }
      ],
      "source": [
        "# House Age\n",
        "x2 = housing['data'][:topn,2]\n",
        "plt.scatter(x2, res.fittedvalues)"
      ]
    },
    {
      "cell_type": "code",
      "execution_count": 11,
      "metadata": {
        "colab": {
          "base_uri": "https://localhost:8080/"
        },
        "id": "kdsuqkDzAgD6",
        "outputId": "7bf2ccc8-e1c6-4ae2-91eb-94a610d6f58a"
      },
      "outputs": [
        {
          "name": "stdout",
          "output_type": "stream",
          "text": [
            "                            OLS Regression Results                            \n",
            "==============================================================================\n",
            "Dep. Variable:                      y   R-squared:                       0.847\n",
            "Model:                            OLS   Adj. R-squared:                  0.777\n",
            "Method:                 Least Squares   F-statistic:                     12.03\n",
            "Date:                Fri, 22 Mar 2024   Prob (F-statistic):           0.000118\n",
            "Time:                        19:01:27   Log-Likelihood:                -6.3046\n",
            "No. Observations:                  20   AIC:                             26.61\n",
            "Df Residuals:                      13   BIC:                             33.58\n",
            "Df Model:                           6                                         \n",
            "Covariance Type:            nonrobust                                         \n",
            "==============================================================================\n",
            "                 coef    std err          t      P>|t|      [0.025      0.975]\n",
            "------------------------------------------------------------------------------\n",
            "const          0.0179      3.635      0.005      0.996      -7.836       7.871\n",
            "x1             0.4674      0.115      4.067      0.001       0.219       0.716\n",
            "x2             0.0263      0.024      1.085      0.298      -0.026       0.079\n",
            "x3             0.0649      0.193      0.336      0.742      -0.352       0.482\n",
            "x4             1.3403      2.484      0.540      0.599      -4.026       6.707\n",
            "x5         -8.108e-05      0.000     -0.247      0.808      -0.001       0.001\n",
            "x6            -0.9980      0.538     -1.853      0.087      -2.161       0.165\n",
            "==============================================================================\n",
            "Omnibus:                        2.146   Durbin-Watson:                   2.067\n",
            "Prob(Omnibus):                  0.342   Jarque-Bera (JB):                1.369\n",
            "Skew:                           0.382   Prob(JB):                        0.504\n",
            "Kurtosis:                       1.971   Cond. No.                     4.92e+04\n",
            "==============================================================================\n",
            "\n",
            "Notes:\n",
            "[1] Standard Errors assume that the covariance matrix of the errors is correctly specified.\n",
            "[2] The condition number is large, 4.92e+04. This might indicate that there are\n",
            "strong multicollinearity or other numerical problems.\n"
          ]
        }
      ],
      "source": [
        "X = housing['data'][:topn,:6]\n",
        "X = sm.add_constant(X)\n",
        "y = housing['target'][:topn]\n",
        "res = sm.OLS(y, X).fit()\n",
        "print(res.summary())"
      ]
    },
    {
      "cell_type": "code",
      "execution_count": 12,
      "metadata": {
        "colab": {
          "base_uri": "https://localhost:8080/",
          "height": 282
        },
        "id": "oV7lhJtyAf-e",
        "outputId": "21c4db70-ec56-464e-c069-56b014202d4f"
      },
      "outputs": [
        {
          "data": {
            "text/plain": [
              "<matplotlib.collections.PathCollection at 0x27412249dd0>"
            ]
          },
          "execution_count": 12,
          "metadata": {},
          "output_type": "execute_result"
        },
        {
          "data": {
            "image/png": "[encoded data removed]",
            "text/plain": [
              "<Figure size 640x480 with 1 Axes>"
            ]
          },
          "metadata": {},
          "output_type": "display_data"
        }
      ],
      "source": [
        "plt.scatter(x1, res.fittedvalues)"
      ]
    },
    {
      "cell_type": "markdown",
      "metadata": {
        "id": "MeUhoUL3AqhT"
      },
      "source": [
        "Generally, the more variables we add to our model, the more variation will occur and increase the variance of our OLS regression.\n",
        "\n",
        "How can we add variables without risking overfitting?\n",
        "\n",
        "Regularization! (Adding bias)\n",
        "\n",
        "Do the same with Ridge Regression..."
      ]
    },
    {
      "cell_type": "markdown",
      "metadata": {
        "id": "5xGhWqqRGBCH"
      },
      "source": [
        "## Ridge Regression"
      ]
    },
    {
      "cell_type": "markdown",
      "metadata": {
        "id": "yeXo0LoR6XMl"
      },
      "source": [
        "Implementation in Statsmodels: \n",
        "\n",
        "`statsmodels.regression.linear_model.OLS.fit_regularized`:\n",
        "\n",
        "`L1_wt`: The fraction of the penalty given to the L1 penalty term. Must be between 0 and 1 (inclusive). If 0, the fit is a ridge fit, if 1 it is a lasso fit."
      ]
    },
    {
      "cell_type": "code",
      "execution_count": 13,
      "metadata": {
        "id": "vVReu_KqA_l9"
      },
      "outputs": [],
      "source": [
        "X = housing['data'][:topn,:6]\n",
        "X = sm.add_constant(X)\n",
        "y = housing['target'][:topn]\n",
        "res = sm.OLS(y, X).fit_regularized(alpha = 0.5, L1_wt = 0)"
      ]
    },
    {
      "cell_type": "code",
      "execution_count": 16,
      "metadata": {
        "colab": {
          "base_uri": "https://localhost:8080/",
          "height": 282
        },
        "id": "TEGdGt4aAf4s",
        "outputId": "04ed7acf-0c0b-4a42-ea34-0a2205360c52"
      },
      "outputs": [
        {
          "data": {
            "text/plain": [
              "<matplotlib.collections.PathCollection at 0x27413f8ff90>"
            ]
          },
          "execution_count": 16,
          "metadata": {},
          "output_type": "execute_result"
        },
        {
          "data": {
            "image/png": "[encoded data removed]",
            "text/plain": [
              "<Figure size 640x480 with 1 Axes>"
            ]
          },
          "metadata": {},
          "output_type": "display_data"
        }
      ],
      "source": [
        "plt.scatter(x1, res.fittedvalues)\n",
        "plt.scatter(x1, y)"
      ]
    },
    {
      "cell_type": "code",
      "execution_count": 17,
      "metadata": {
        "colab": {
          "base_uri": "https://localhost:8080/"
        },
        "id": "PfLxTiXaBbIy",
        "outputId": "33f92aa9-628a-4563-9539-558afe020e46"
      },
      "outputs": [
        {
          "data": {
            "text/plain": [
              "array([ 9.43710490e-03,  3.45901690e-01,  1.64002452e-02,  7.62706124e-02,\n",
              "        1.17731611e-02,  4.47719623e-05, -3.94367829e-02])"
            ]
          },
          "execution_count": 17,
          "metadata": {},
          "output_type": "execute_result"
        }
      ],
      "source": [
        "res.params"
      ]
    },
    {
      "cell_type": "markdown",
      "metadata": {
        "id": "48U9btSLGG9a"
      },
      "source": [
        "We can see that we have removed the outlier points on the bottom, making our model probably a bit more robust when new data comes in."
      ]
    },
    {
      "cell_type": "markdown",
      "metadata": {
        "id": "RdSLlH9bCOwA"
      },
      "source": [
        "### Regularization too high"
      ]
    },
    {
      "cell_type": "code",
      "execution_count": 22,
      "metadata": {
        "colab": {
          "base_uri": "https://localhost:8080/",
          "height": 282
        },
        "id": "dU8axTzlB-D6",
        "outputId": "a2282d81-1bfe-48da-8b7b-3432584f33c6"
      },
      "outputs": [
        {
          "data": {
            "text/plain": [
              "<matplotlib.collections.PathCollection at 0x274141c2f50>"
            ]
          },
          "execution_count": 22,
          "metadata": {},
          "output_type": "execute_result"
        },
        {
          "data": {
            "image/png": "[encoded data removed]",
            "text/plain": [
              "<Figure size 640x480 with 1 Axes>"
            ]
          },
          "metadata": {},
          "output_type": "display_data"
        }
      ],
      "source": [
        "X = housing['data'][:topn,:6]\n",
        "X = sm.add_constant(X)\n",
        "y = housing['target'][:topn]\n",
        "res = sm.OLS(y, X).fit_regularized(alpha = 50, L1_wt = 0)\n",
        "plt.scatter(x1, res.fittedvalues)\n",
        "plt.scatter(x1, y)"
      ]
    },
    {
      "cell_type": "code",
      "execution_count": null,
      "metadata": {
        "colab": {
          "base_uri": "https://localhost:8080/"
        },
        "id": "qfWwKa_vCJ3A",
        "outputId": "8979eed7-f743-4648-e77f-8fe8a6f6987a"
      },
      "outputs": [
        {
          "data": {
            "text/plain": [
              "array([0.00297732, 0.07678914, 0.02974868, 0.04176642, 0.00309189,\n",
              "       0.00047073, 0.00883524])"
            ]
          },
          "execution_count": 17,
          "metadata": {},
          "output_type": "execute_result"
        }
      ],
      "source": [
        "res.params"
      ]
    },
    {
      "cell_type": "code",
      "execution_count": null,
      "metadata": {
        "id": "QOFda74JxKhF"
      },
      "outputs": [],
      "source": []
    },
    {
      "cell_type": "code",
      "execution_count": null,
      "metadata": {
        "id": "PakvNiTyxKZz"
      },
      "outputs": [],
      "source": []
    },
    {
      "cell_type": "code",
      "execution_count": null,
      "metadata": {
        "id": "DEuDXAstxKWr"
      },
      "outputs": [],
      "source": []
    },
    {
      "cell_type": "code",
      "execution_count": null,
      "metadata": {
        "id": "2CJ3_3Z0xKOW"
      },
      "outputs": [],
      "source": []
    },
    {
      "cell_type": "markdown",
      "metadata": {
        "id": "kqCLbSi0C4wS"
      },
      "source": [
        "## Lasso regression\n",
        "\n",
        "Implementation in Statsmodels: \n",
        "\n",
        "`statsmodels.regression.linear_model.OLS.fit_regularized`:\n",
        "\n",
        "`L1_wt`: The fraction of the penalty given to the L1 penalty term. Must be between 0 and 1 (inclusive). If 0, the fit is a ridge fit, if 1 it is a lasso fit."
      ]
    },
    {
      "cell_type": "code",
      "execution_count": 23,
      "metadata": {
        "id": "Jbn-4EisBzRP"
      },
      "outputs": [],
      "source": [
        "X = housing['data'][:topn,:6]\n",
        "X = sm.add_constant(X)\n",
        "y = housing['target'][:topn]\n",
        "res = sm.OLS(y, X).fit_regularized(alpha = 0.8, L1_wt = 1)"
      ]
    },
    {
      "cell_type": "code",
      "execution_count": 25,
      "metadata": {
        "colab": {
          "base_uri": "https://localhost:8080/",
          "height": 282
        },
        "id": "HGgRaQnvBzLc",
        "outputId": "d376263e-3967-40b9-aba0-b306294bc1cb"
      },
      "outputs": [
        {
          "data": {
            "text/plain": [
              "<matplotlib.collections.PathCollection at 0x274142aded0>"
            ]
          },
          "execution_count": 25,
          "metadata": {},
          "output_type": "execute_result"
        },
        {
          "data": {
            "image/png": "[encoded data removed]",
            "text/plain": [
              "<Figure size 640x480 with 1 Axes>"
            ]
          },
          "metadata": {},
          "output_type": "display_data"
        }
      ],
      "source": [
        "plt.scatter(x1, res.fittedvalues)\n",
        "plt.scatter(x1, y)"
      ]
    },
    {
      "cell_type": "markdown",
      "metadata": {
        "id": "09WDc0K7DYdk"
      },
      "source": [
        "The result looks similar to Ridge regression, but take a look at the parameters (first one is intercept):"
      ]
    },
    {
      "cell_type": "code",
      "execution_count": 26,
      "metadata": {
        "colab": {
          "base_uri": "https://localhost:8080/"
        },
        "id": "nJMkX-z_BzF-",
        "outputId": "99d2c0c7-36dc-4b76-c752-12d2c5d726cd"
      },
      "outputs": [
        {
          "data": {
            "text/plain": [
              "array([0.        , 0.25907503, 0.02508605, 0.        , 0.        ,\n",
              "       0.00026565, 0.        ])"
            ]
          },
          "execution_count": 26,
          "metadata": {},
          "output_type": "execute_result"
        }
      ],
      "source": [
        "res.params"
      ]
    },
    {
      "cell_type": "markdown",
      "metadata": {
        "id": "fMHFO6oQlkIY"
      },
      "source": [
        "### Try other values for alpha"
      ]
    },
    {
      "cell_type": "code",
      "execution_count": null,
      "metadata": {
        "id": "GJMcrnwFliUA"
      },
      "outputs": [],
      "source": [
        "X = housing['data'][:topn,:6]\n",
        "X = sm.add_constant(X)\n",
        "y = housing['target'][:topn]\n",
        "res = sm.OLS(y, X).fit_regularized(alpha = 1.5, L1_wt = 1)"
      ]
    },
    {
      "cell_type": "code",
      "execution_count": null,
      "metadata": {
        "colab": {
          "base_uri": "https://localhost:8080/",
          "height": 282
        },
        "id": "MMmDjdsmmfeD",
        "outputId": "740bd717-20be-45a5-88a6-4035c1def0d7"
      },
      "outputs": [
        {
          "data": {
            "text/plain": [
              "<matplotlib.collections.PathCollection at 0x7f9fe8b49a50>"
            ]
          },
          "execution_count": 32,
          "metadata": {},
          "output_type": "execute_result"
        },
        {
          "data": {
            "image/png": "[encoded data removed]",
            "text/plain": [
              "<Figure size 432x288 with 1 Axes>"
            ]
          },
          "metadata": {
            "needs_background": "light"
          },
          "output_type": "display_data"
        }
      ],
      "source": [
        "plt.scatter(x1, res.fittedvalues)"
      ]
    },
    {
      "cell_type": "code",
      "execution_count": 27,
      "metadata": {
        "colab": {
          "base_uri": "https://localhost:8080/"
        },
        "id": "oYs4SHT9xLha",
        "outputId": "e9278688-ac55-4dbd-893f-f9d664b3f865"
      },
      "outputs": [
        {
          "data": {
            "text/plain": [
              "array([0.        , 0.25907503, 0.02508605, 0.        , 0.        ,\n",
              "       0.00026565, 0.        ])"
            ]
          },
          "execution_count": 27,
          "metadata": {},
          "output_type": "execute_result"
        }
      ],
      "source": [
        "res.params"
      ]
    },
    {
      "cell_type": "code",
      "execution_count": 28,
      "metadata": {
        "id": "bJtWOArPxOYP"
      },
      "outputs": [],
      "source": [
        "X = housing['data'][:topn,:6]\n",
        "X = sm.add_constant(X)\n",
        "y = housing['target'][:topn]\n",
        "res = sm.OLS(y, X).fit()"
      ]
    },
    {
      "cell_type": "code",
      "execution_count": 29,
      "metadata": {
        "colab": {
          "base_uri": "https://localhost:8080/"
        },
        "id": "cJZFPBFGxOVY",
        "outputId": "5f276b91-fa44-40e3-f04e-32f15b952adb"
      },
      "outputs": [
        {
          "name": "stdout",
          "output_type": "stream",
          "text": [
            "                            OLS Regression Results                            \n",
            "==============================================================================\n",
            "Dep. Variable:                      y   R-squared:                       0.847\n",
            "Model:                            OLS   Adj. R-squared:                  0.777\n",
            "Method:                 Least Squares   F-statistic:                     12.03\n",
            "Date:                Fri, 22 Mar 2024   Prob (F-statistic):           0.000118\n",
            "Time:                        20:14:31   Log-Likelihood:                -6.3046\n",
            "No. Observations:                  20   AIC:                             26.61\n",
            "Df Residuals:                      13   BIC:                             33.58\n",
            "Df Model:                           6                                         \n",
            "Covariance Type:            nonrobust                                         \n",
            "==============================================================================\n",
            "                 coef    std err          t      P>|t|      [0.025      0.975]\n",
            "------------------------------------------------------------------------------\n",
            "const          0.0179      3.635      0.005      0.996      -7.836       7.871\n",
            "x1             0.4674      0.115      4.067      0.001       0.219       0.716\n",
            "x2             0.0263      0.024      1.085      0.298      -0.026       0.079\n",
            "x3             0.0649      0.193      0.336      0.742      -0.352       0.482\n",
            "x4             1.3403      2.484      0.540      0.599      -4.026       6.707\n",
            "x5         -8.108e-05      0.000     -0.247      0.808      -0.001       0.001\n",
            "x6            -0.9980      0.538     -1.853      0.087      -2.161       0.165\n",
            "==============================================================================\n",
            "Omnibus:                        2.146   Durbin-Watson:                   2.067\n",
            "Prob(Omnibus):                  0.342   Jarque-Bera (JB):                1.369\n",
            "Skew:                           0.382   Prob(JB):                        0.504\n",
            "Kurtosis:                       1.971   Cond. No.                     4.92e+04\n",
            "==============================================================================\n",
            "\n",
            "Notes:\n",
            "[1] Standard Errors assume that the covariance matrix of the errors is correctly specified.\n",
            "[2] The condition number is large, 4.92e+04. This might indicate that there are\n",
            "strong multicollinearity or other numerical problems.\n"
          ]
        }
      ],
      "source": [
        "print(res.summary())"
      ]
    },
    {
      "cell_type": "code",
      "execution_count": null,
      "metadata": {
        "id": "BY4B32hlxOSP"
      },
      "outputs": [],
      "source": []
    },
    {
      "cell_type": "code",
      "execution_count": null,
      "metadata": {
        "id": "KTeYZ49JxOOn"
      },
      "outputs": [],
      "source": []
    },
    {
      "cell_type": "code",
      "execution_count": null,
      "metadata": {
        "id": "UqGzkJk-xOKs"
      },
      "outputs": [],
      "source": []
    },
    {
      "cell_type": "markdown",
      "metadata": {
        "id": "JX9uujVPDAU0"
      },
      "source": [
        "## Elasticnet Regression\n",
        "\n",
        "Implementation in Statsmodels: \n",
        "\n",
        "`statsmodels.regression.linear_model.OLS.fit_regularized`:\n",
        "\n",
        "`L1_wt`: The fraction of the penalty given to the L1 penalty term. Must be between 0 and 1 (inclusive). If 0, the fit is a ridge fit, if 1 it is a lasso fit."
      ]
    },
    {
      "cell_type": "code",
      "execution_count": null,
      "metadata": {
        "id": "I6C479RWC9BN"
      },
      "outputs": [],
      "source": [
        "X = housing['data'][:topn,:6]\n",
        "X = sm.add_constant(X)\n",
        "y = housing['target'][:topn]\n",
        "res = sm.OLS(y, X).fit_regularized(alpha = 0.5, L1_wt = 0.5)"
      ]
    },
    {
      "cell_type": "code",
      "execution_count": null,
      "metadata": {
        "colab": {
          "base_uri": "https://localhost:8080/",
          "height": 282
        },
        "id": "tkD4o5PkDEiF",
        "outputId": "f1148f04-4a53-474c-96ce-8fdb4547253a"
      },
      "outputs": [
        {
          "data": {
            "text/plain": [
              "<matplotlib.collections.PathCollection at 0x7f9fe8863d10>"
            ]
          },
          "execution_count": 46,
          "metadata": {},
          "output_type": "execute_result"
        },
        {
          "data": {
            "image/png": "[encoded data removed]",
            "text/plain": [
              "<Figure size 432x288 with 1 Axes>"
            ]
          },
          "metadata": {
            "needs_background": "light"
          },
          "output_type": "display_data"
        }
      ],
      "source": [
        "plt.scatter(x1, res.fittedvalues)"
      ]
    },
    {
      "cell_type": "markdown",
      "metadata": {
        "id": "0SLMEgOODVgk"
      },
      "source": [
        "We still allow variation, but capture the overall trend."
      ]
    },
    {
      "cell_type": "code",
      "execution_count": null,
      "metadata": {
        "colab": {
          "base_uri": "https://localhost:8080/"
        },
        "id": "zYTg78BFDK-q",
        "outputId": "47c26b96-bd6e-4ad4-9453-fc7ad7dca75d"
      },
      "outputs": [
        {
          "data": {
            "text/plain": [
              "array([0.00000000e+00, 3.51223025e-01, 2.14277789e-02, 0.00000000e+00,\n",
              "       0.00000000e+00, 1.10253819e-04, 0.00000000e+00])"
            ]
          },
          "execution_count": 47,
          "metadata": {},
          "output_type": "execute_result"
        }
      ],
      "source": [
        "res.params"
      ]
    },
    {
      "cell_type": "markdown",
      "metadata": {
        "id": "e_r-h2sF5Ya0"
      },
      "source": [
        "### More weight towards L1 (Lasso Regression)"
      ]
    },
    {
      "cell_type": "code",
      "execution_count": null,
      "metadata": {
        "colab": {
          "base_uri": "https://localhost:8080/",
          "height": 282
        },
        "id": "64kbfWSC5cMN",
        "outputId": "6fb60b94-8a4a-448c-c84e-689f3e10975c"
      },
      "outputs": [
        {
          "data": {
            "text/plain": [
              "<matplotlib.collections.PathCollection at 0x7f9fe87c9fd0>"
            ]
          },
          "execution_count": 48,
          "metadata": {},
          "output_type": "execute_result"
        },
        {
          "data": {
            "image/png": "[encoded data removed]",
            "text/plain": [
              "<Figure size 432x288 with 1 Axes>"
            ]
          },
          "metadata": {
            "needs_background": "light"
          },
          "output_type": "display_data"
        }
      ],
      "source": [
        "X = housing['data'][:topn,:6]\n",
        "X = sm.add_constant(X)\n",
        "y = housing['target'][:topn]\n",
        "res = sm.OLS(y, X).fit_regularized(alpha = 0.5, L1_wt = 0.8)\n",
        "plt.scatter(x1, res.fittedvalues)"
      ]
    },
    {
      "cell_type": "markdown",
      "metadata": {
        "id": "I4YTp3cv5gL6"
      },
      "source": [
        "### More weight towards L2 (Ridge Regression)"
      ]
    },
    {
      "cell_type": "code",
      "execution_count": null,
      "metadata": {
        "colab": {
          "base_uri": "https://localhost:8080/",
          "height": 282
        },
        "id": "-qJERHEQ5YLp",
        "outputId": "4b9885c0-366b-4277-e660-a062f093dd1d"
      },
      "outputs": [
        {
          "data": {
            "text/plain": [
              "<matplotlib.collections.PathCollection at 0x7f9fe8749190>"
            ]
          },
          "execution_count": 49,
          "metadata": {},
          "output_type": "execute_result"
        },
        {
          "data": {
            "image/png": "[encoded data removed]",
            "text/plain": [
              "<Figure size 432x288 with 1 Axes>"
            ]
          },
          "metadata": {
            "needs_background": "light"
          },
          "output_type": "display_data"
        }
      ],
      "source": [
        "X = housing['data'][:topn,:6]\n",
        "X = sm.add_constant(X)\n",
        "y = housing['target'][:topn]\n",
        "res = sm.OLS(y, X).fit_regularized(alpha = 0.5, L1_wt = 0.2)\n",
        "plt.scatter(x1, res.fittedvalues)"
      ]
    },
    {
      "cell_type": "markdown",
      "metadata": {
        "id": "wBphSn4VG0Oi"
      },
      "source": [
        "How do we know which one is best? Check with cross-validation!"
      ]
    },
    {
      "cell_type": "markdown",
      "metadata": {
        "id": "b2qR-vTzCY7k"
      },
      "source": [
        "### Predict values"
      ]
    },
    {
      "cell_type": "code",
      "execution_count": 31,
      "metadata": {
        "colab": {
          "base_uri": "https://localhost:8080/"
        },
        "id": "07Gqt06-DL6k",
        "outputId": "abff200f-b81b-4bff-a49e-97d53551dbd5"
      },
      "outputs": [
        {
          "data": {
            "text/plain": [
              "array([0.96217737, 0.61778574, 0.76560995, 0.75422506, 1.14271877,\n",
              "       1.440708  , 0.96500269, 0.13899928, 0.80554982])"
            ]
          },
          "execution_count": 31,
          "metadata": {},
          "output_type": "execute_result"
        }
      ],
      "source": [
        "new_data = housing['data'][1051:1100,:6]\n",
        "new_data = sm.add_constant(new_data)\n",
        "y_hat = res.predict(new_data)\n",
        "y_hat"
      ]
    },
    {
      "cell_type": "code",
      "execution_count": null,
      "metadata": {},
      "outputs": [],
      "source": [
        "y_aut   "
      ]
    }
  ],
  "metadata": {
    "colab": {
      "provenance": [],
      "toc_visible": true
    },
    "kernelspec": {
      "display_name": "Python 3",
      "name": "python3"
    },
    "language_info": {
      "codemirror_mode": {
        "name": "ipython",
        "version": 3
      },
      "file_extension": ".py",
      "mimetype": "text/x-python",
      "name": "python",
      "nbconvert_exporter": "python",
      "pygments_lexer": "ipython3",
      "version": "3.11.5"
    }
  },
  "nbformat": 4,
  "nbformat_minor": 0
}
