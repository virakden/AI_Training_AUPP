{
  "nbformat": 4,
  "nbformat_minor": 0,
  "metadata": {
    "colab": {
      "provenance": []
    },
    "kernelspec": {
      "name": "python3",
      "display_name": "Python 3"
    },
    "language_info": {
      "name": "python"
    }
  },
  "cells": [
    {
      "cell_type": "code",
      "execution_count": 16,
      "metadata": {
        "colab": {
          "base_uri": "https://localhost:8080/"
        },
        "id": "43_yZOafqQjc",
        "outputId": "de6ab584-bf6f-4bb7-b798-b51289268d6c"
      },
      "outputs": [
        {
          "output_type": "stream",
          "name": "stdout",
          "text": [
            "Requirement already satisfied: sumy in /usr/local/lib/python3.10/dist-packages (0.11.0)\n",
            "Requirement already satisfied: docopt<0.7,>=0.6.1 in /usr/local/lib/python3.10/dist-packages (from sumy) (0.6.2)\n",
            "Requirement already satisfied: breadability>=0.1.20 in /usr/local/lib/python3.10/dist-packages (from sumy) (0.1.20)\n",
            "Requirement already satisfied: requests>=2.7.0 in /usr/local/lib/python3.10/dist-packages (from sumy) (2.31.0)\n",
            "Requirement already satisfied: pycountry>=18.2.23 in /usr/local/lib/python3.10/dist-packages (from sumy) (24.6.1)\n",
            "Requirement already satisfied: nltk>=3.0.2 in /usr/local/lib/python3.10/dist-packages (from sumy) (3.8.1)\n",
            "Requirement already satisfied: chardet in /usr/local/lib/python3.10/dist-packages (from breadability>=0.1.20->sumy) (5.2.0)\n",
            "Requirement already satisfied: lxml>=2.0 in /usr/local/lib/python3.10/dist-packages (from breadability>=0.1.20->sumy) (4.9.4)\n",
            "Requirement already satisfied: click in /usr/local/lib/python3.10/dist-packages (from nltk>=3.0.2->sumy) (8.1.7)\n",
            "Requirement already satisfied: joblib in /usr/local/lib/python3.10/dist-packages (from nltk>=3.0.2->sumy) (1.4.2)\n",
            "Requirement already satisfied: regex>=2021.8.3 in /usr/local/lib/python3.10/dist-packages (from nltk>=3.0.2->sumy) (2024.5.15)\n",
            "Requirement already satisfied: tqdm in /usr/local/lib/python3.10/dist-packages (from nltk>=3.0.2->sumy) (4.66.4)\n",
            "Requirement already satisfied: charset-normalizer<4,>=2 in /usr/local/lib/python3.10/dist-packages (from requests>=2.7.0->sumy) (3.3.2)\n",
            "Requirement already satisfied: idna<4,>=2.5 in /usr/local/lib/python3.10/dist-packages (from requests>=2.7.0->sumy) (3.7)\n",
            "Requirement already satisfied: urllib3<3,>=1.21.1 in /usr/local/lib/python3.10/dist-packages (from requests>=2.7.0->sumy) (2.0.7)\n",
            "Requirement already satisfied: certifi>=2017.4.17 in /usr/local/lib/python3.10/dist-packages (from requests>=2.7.0->sumy) (2024.6.2)\n"
          ]
        }
      ],
      "source": [
        "!pip install sumy"
      ]
    },
    {
      "cell_type": "markdown",
      "source": [
        "Source: https://medium.com/@ondenyi.eric/extractive-text-summarization-techniques-with-sumy-3d3b127a0a32"
      ],
      "metadata": {
        "id": "_DP05nP9s_L-"
      }
    },
    {
      "cell_type": "code",
      "source": [
        "#Plain text parsers since we are parsing through text\n",
        "from sumy.parsers.plaintext import PlaintextParser\n",
        "\n",
        "#for tokenization\n",
        "from sumy.nlp.tokenizers import Tokenizer"
      ],
      "metadata": {
        "id": "AnTyFys1qR8U"
      },
      "execution_count": 17,
      "outputs": []
    },
    {
      "cell_type": "code",
      "source": [
        "!python -c \"import nltk; nltk.download('punkt')\""
      ],
      "metadata": {
        "colab": {
          "base_uri": "https://localhost:8080/"
        },
        "id": "bJYDLxvytIqq",
        "outputId": "0bc4d3a9-a7b4-4748-c772-99e4deb468d5"
      },
      "execution_count": 18,
      "outputs": [
        {
          "output_type": "stream",
          "name": "stdout",
          "text": [
            "[nltk_data] Downloading package punkt to /root/nltk_data...\n",
            "[nltk_data]   Package punkt is already up-to-date!\n"
          ]
        }
      ]
    },
    {
      "cell_type": "code",
      "source": [
        "#name of the plain-text file ~ bbc news dataset\n",
        "file = \"/content/text.txt\"\n",
        "parser = PlaintextParser.from_file(file, Tokenizer(\"english\"))"
      ],
      "metadata": {
        "id": "_A3Pb2ZDqcPx"
      },
      "execution_count": 19,
      "outputs": []
    },
    {
      "cell_type": "code",
      "source": [],
      "metadata": {
        "id": "RBENW9zMtLPI"
      },
      "execution_count": 19,
      "outputs": []
    },
    {
      "cell_type": "markdown",
      "source": [
        "1. Lex Rank"
      ],
      "metadata": {
        "id": "ZV3CN4W0tRCn"
      }
    },
    {
      "cell_type": "code",
      "source": [
        "from sumy.summarizers.lex_rank import LexRankSummarizer\n",
        "summarizer = LexRankSummarizer()\n",
        "#Summarize the document with 2 sentences\n",
        "summary = summarizer(parser.document, 2)\n",
        "for sentence in summary:\n",
        " print(sentence)"
      ],
      "metadata": {
        "colab": {
          "base_uri": "https://localhost:8080/"
        },
        "id": "c-bMhHhbtSHx",
        "outputId": "3b9dbd8f-d5b3-45e0-eb36-1ea17e91c54c"
      },
      "execution_count": 20,
      "outputs": [
        {
          "output_type": "stream",
          "name": "stdout",
          "text": [
            "Climate change, which is causing concerns about declining global agricultural output, is also part of the reason behind Vietnamese firms increasingly seeking to buy agricultural products or raw materials from abroad, including from Cambodia, to serve their production lines, he said.\n",
            "This growth reflects the two countries’ efforts to achieve a trade volume of $20 billion in the coming years, he said.\n"
          ]
        }
      ]
    },
    {
      "cell_type": "code",
      "source": [],
      "metadata": {
        "id": "GlCt9mThtVqM"
      },
      "execution_count": 20,
      "outputs": []
    },
    {
      "cell_type": "markdown",
      "source": [
        "2. Luhn"
      ],
      "metadata": {
        "id": "YFifgsg7tXle"
      }
    },
    {
      "cell_type": "code",
      "source": [
        "from sumy.summarizers.luhn import LuhnSummarizer\n",
        "summarizer_1 = LuhnSummarizer()\n",
        "summary_1 =summarizer_1(parser.document,2)\n",
        "for sentence in summary_1:\n",
        " print(sentence)"
      ],
      "metadata": {
        "colab": {
          "base_uri": "https://localhost:8080/"
        },
        "id": "ChOm6NLatass",
        "outputId": "2e9d8f53-f1d0-4407-99aa-3fd468de978a"
      },
      "execution_count": 21,
      "outputs": [
        {
          "output_type": "stream",
          "name": "stdout",
          "text": [
            "Cambodia has recorded a trade surplus with Vietnam in the first five months of 2024, making Vietnam the second biggest market for Cambodia’s products after the US.\n",
            "Figures from the General Department of Customs and Excise (GDCE) showed on Tuesday that in the first five months this year, Cambodia exported goods worth $1.88 billion to Vietnam, an increase of 42.6 percent, while imports from Vietnam were worth only $1.67 billion, an increase of eight percent compared to the same period last year.\n"
          ]
        }
      ]
    },
    {
      "cell_type": "code",
      "source": [],
      "metadata": {
        "id": "_RqXYvHpthqx"
      },
      "execution_count": 21,
      "outputs": []
    },
    {
      "cell_type": "markdown",
      "source": [
        "3. LSA"
      ],
      "metadata": {
        "id": "zK7A0Iccth14"
      }
    },
    {
      "cell_type": "code",
      "source": [
        "from sumy.summarizers.lsa import LsaSummarizer\n",
        "summarizer_2 = LsaSummarizer()\n",
        "summary_2 =summarizer_2(parser.document,2)\n",
        "for sentence in summary_2:\n",
        " print(sentence)"
      ],
      "metadata": {
        "colab": {
          "base_uri": "https://localhost:8080/"
        },
        "id": "KoHzA72BtjWH",
        "outputId": "29669842-d4fc-413c-d1ec-b1946f89c010"
      },
      "execution_count": 22,
      "outputs": [
        {
          "output_type": "stream",
          "name": "stdout",
          "text": [
            "“Vietnam has significantly increased its agricultural purchases from Cambodia after it opened up a free trade market with the European Union, which boosted Vietnam’s demand for raw materials,” said Penn Sovicheat, Secretary of State and spokesman at the Ministry of Commerce.\n",
            "Climate change, which is causing concerns about declining global agricultural output, is also part of the reason behind Vietnamese firms increasingly seeking to buy agricultural products or raw materials from abroad, including from Cambodia, to serve their production lines, he said.\n"
          ]
        }
      ]
    },
    {
      "cell_type": "markdown",
      "source": [
        "4. Text Rank"
      ],
      "metadata": {
        "id": "0XH2JNe7tp_Y"
      }
    },
    {
      "cell_type": "code",
      "source": [
        "from sumy.summarizers.text_rank import TextRankSummarizer\n",
        "summarizer_3 = TextRankSummarizer()\n",
        "summary_3 =summarizer_3(parser.document,2)\n",
        "for sentence in summary_3:\n",
        " print(sentence)"
      ],
      "metadata": {
        "colab": {
          "base_uri": "https://localhost:8080/"
        },
        "id": "SvHtbfr4tljz",
        "outputId": "e739b415-66f2-4dc7-a0c9-2cc1e0d73705"
      },
      "execution_count": 23,
      "outputs": [
        {
          "output_type": "stream",
          "name": "stdout",
          "text": [
            "Cambodia has recorded a trade surplus with Vietnam in the first five months of 2024, making Vietnam the second biggest market for Cambodia’s products after the US.\n",
            "Figures from the General Department of Customs and Excise (GDCE) showed on Tuesday that in the first five months this year, Cambodia exported goods worth $1.88 billion to Vietnam, an increase of 42.6 percent, while imports from Vietnam were worth only $1.67 billion, an increase of eight percent compared to the same period last year.\n"
          ]
        }
      ]
    }
  ]
}