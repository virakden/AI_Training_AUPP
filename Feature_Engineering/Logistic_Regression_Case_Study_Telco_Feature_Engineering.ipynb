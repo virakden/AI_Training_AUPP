{
  "cells": [
    {
      "cell_type": "markdown",
      "metadata": {
        "id": "LdIhbgGBG9E2"
      },
      "source": [
        "## Problem - Customer Churn\n",
        "\n",
        "We work for a fictitious telecommunications company \n",
        "\n",
        "One of the most important goals of the company is to increase customer loyalty. \n",
        "\n",
        "One strategy to achieve this goal is to identify customers who are likely to churn and approach them before they leave.\n",
        "\n",
        "To do this, we'll look at historical customer data and see if we can develop a model that predicts churn based on various customer factors such as contract length, monthly payments, demographic information, etc.\n",
        "\n",
        "This model would then help us to identify customers with a high risk of churn early enough so marketing could still address them e.g. with promotional packages."
      ]
    },
    {
      "cell_type": "markdown",
      "metadata": {
        "id": "LtEt6tbztF1F"
      },
      "source": [
        "## Feature Engineering"
      ]
    },
    {
      "cell_type": "markdown",
      "metadata": {
        "id": "7fzUSKA3eAwI"
      },
      "source": [
        "### Get Data"
      ]
    },
    {
      "cell_type": "code",
      "execution_count": 51,
      "metadata": {
        "id": "2c4E66GNeFmN"
      },
      "outputs": [],
      "source": [
        "import numpy as np\n",
        "import pandas as pd\n",
        "import matplotlib.pyplot as plt\n",
        "from sklearn.model_selection import train_test_split\n",
        "df = pd.read_csv(\"https://raw.githubusercontent.com/IBM/telco-customer-churn-on-icp4d/master/data/Telco-Customer-Churn.csv\")\n",
        "df = df.query(\"Contract == 'Month-to-month'\")"
      ]
    },
    {
      "cell_type": "code",
      "execution_count": 52,
      "metadata": {
        "id": "57jjLV_UtJLI"
      },
      "outputs": [],
      "source": [
        "# Define X and y\n",
        "X = df.drop(['Churn'], axis = 1)\n",
        "y = df['Churn']\n",
        "y = y.map(dict(Yes=1, No=0))\n",
        "\n",
        "# Stratified train test split\n",
        "X_train, X_test, y_train, y_test = train_test_split(X, y, test_size=0.2, random_state=123, stratify= y )"
      ]
    },
    {
      "cell_type": "code",
      "execution_count": 53,
      "metadata": {
        "colab": {
          "base_uri": "https://localhost:8080/"
        },
        "id": "-cRvcrOlx5Wb",
        "outputId": "d3350092-5e53-47c2-dff8-f58cb293992b"
      },
      "outputs": [
        {
          "name": "stdout",
          "output_type": "stream",
          "text": [
            "Churn\n",
            "0    0.572903\n",
            "1    0.427097\n",
            "Name: proportion, dtype: float64\n",
            "Churn\n",
            "0    0.572903\n",
            "1    0.427097\n",
            "Name: proportion, dtype: float64\n"
          ]
        }
      ],
      "source": [
        "print(pd.Series(y_train).value_counts(normalize = True))\n",
        "print(pd.Series(y_test).value_counts(normalize = True))"
      ]
    },
    {
      "cell_type": "code",
      "execution_count": 54,
      "metadata": {
        "colab": {
          "base_uri": "https://localhost:8080/",
          "height": 353
        },
        "id": "-uAwS7pUupDA",
        "outputId": "e4e7761f-68e0-414e-dfb2-fe248506fa73"
      },
      "outputs": [
        {
          "data": {
            "text/html": [
              "<div>\n",
              "<style scoped>\n",
              "    .dataframe tbody tr th:only-of-type {\n",
              "        vertical-align: middle;\n",
              "    }\n",
              "\n",
              "    .dataframe tbody tr th {\n",
              "        vertical-align: top;\n",
              "    }\n",
              "\n",
              "    .dataframe thead th {\n",
              "        text-align: right;\n",
              "    }\n",
              "</style>\n",
              "<table border=\"1\" class=\"dataframe\">\n",
              "  <thead>\n",
              "    <tr style=\"text-align: right;\">\n",
              "      <th></th>\n",
              "      <th>customerID</th>\n",
              "      <th>gender</th>\n",
              "      <th>SeniorCitizen</th>\n",
              "      <th>Partner</th>\n",
              "      <th>Dependents</th>\n",
              "      <th>tenure</th>\n",
              "      <th>PhoneService</th>\n",
              "      <th>MultipleLines</th>\n",
              "      <th>InternetService</th>\n",
              "      <th>OnlineSecurity</th>\n",
              "      <th>OnlineBackup</th>\n",
              "      <th>DeviceProtection</th>\n",
              "      <th>TechSupport</th>\n",
              "      <th>StreamingTV</th>\n",
              "      <th>StreamingMovies</th>\n",
              "      <th>Contract</th>\n",
              "      <th>PaperlessBilling</th>\n",
              "      <th>PaymentMethod</th>\n",
              "      <th>MonthlyCharges</th>\n",
              "      <th>TotalCharges</th>\n",
              "    </tr>\n",
              "  </thead>\n",
              "  <tbody>\n",
              "    <tr>\n",
              "      <th>6028</th>\n",
              "      <td>1871-MOWRM</td>\n",
              "      <td>Male</td>\n",
              "      <td>0</td>\n",
              "      <td>Yes</td>\n",
              "      <td>No</td>\n",
              "      <td>12</td>\n",
              "      <td>Yes</td>\n",
              "      <td>No</td>\n",
              "      <td>Fiber optic</td>\n",
              "      <td>Yes</td>\n",
              "      <td>No</td>\n",
              "      <td>No</td>\n",
              "      <td>Yes</td>\n",
              "      <td>No</td>\n",
              "      <td>No</td>\n",
              "      <td>Month-to-month</td>\n",
              "      <td>No</td>\n",
              "      <td>Bank transfer (automatic)</td>\n",
              "      <td>80.85</td>\n",
              "      <td>866.45</td>\n",
              "    </tr>\n",
              "    <tr>\n",
              "      <th>4645</th>\n",
              "      <td>5219-YIPTK</td>\n",
              "      <td>Female</td>\n",
              "      <td>0</td>\n",
              "      <td>Yes</td>\n",
              "      <td>No</td>\n",
              "      <td>33</td>\n",
              "      <td>Yes</td>\n",
              "      <td>Yes</td>\n",
              "      <td>Fiber optic</td>\n",
              "      <td>No</td>\n",
              "      <td>Yes</td>\n",
              "      <td>Yes</td>\n",
              "      <td>No</td>\n",
              "      <td>Yes</td>\n",
              "      <td>Yes</td>\n",
              "      <td>Month-to-month</td>\n",
              "      <td>Yes</td>\n",
              "      <td>Electronic check</td>\n",
              "      <td>104.40</td>\n",
              "      <td>3409.6</td>\n",
              "    </tr>\n",
              "    <tr>\n",
              "      <th>5958</th>\n",
              "      <td>6859-RKMZJ</td>\n",
              "      <td>Male</td>\n",
              "      <td>0</td>\n",
              "      <td>Yes</td>\n",
              "      <td>No</td>\n",
              "      <td>11</td>\n",
              "      <td>Yes</td>\n",
              "      <td>No</td>\n",
              "      <td>DSL</td>\n",
              "      <td>No</td>\n",
              "      <td>No</td>\n",
              "      <td>No</td>\n",
              "      <td>No</td>\n",
              "      <td>Yes</td>\n",
              "      <td>No</td>\n",
              "      <td>Month-to-month</td>\n",
              "      <td>Yes</td>\n",
              "      <td>Bank transfer (automatic)</td>\n",
              "      <td>55.05</td>\n",
              "      <td>608.15</td>\n",
              "    </tr>\n",
              "    <tr>\n",
              "      <th>6031</th>\n",
              "      <td>0282-NVSJS</td>\n",
              "      <td>Female</td>\n",
              "      <td>1</td>\n",
              "      <td>Yes</td>\n",
              "      <td>Yes</td>\n",
              "      <td>12</td>\n",
              "      <td>No</td>\n",
              "      <td>No phone service</td>\n",
              "      <td>DSL</td>\n",
              "      <td>No</td>\n",
              "      <td>No</td>\n",
              "      <td>No</td>\n",
              "      <td>Yes</td>\n",
              "      <td>No</td>\n",
              "      <td>No</td>\n",
              "      <td>Month-to-month</td>\n",
              "      <td>Yes</td>\n",
              "      <td>Mailed check</td>\n",
              "      <td>29.30</td>\n",
              "      <td>355.9</td>\n",
              "    </tr>\n",
              "    <tr>\n",
              "      <th>459</th>\n",
              "      <td>1452-VOQCH</td>\n",
              "      <td>Male</td>\n",
              "      <td>0</td>\n",
              "      <td>No</td>\n",
              "      <td>No</td>\n",
              "      <td>1</td>\n",
              "      <td>Yes</td>\n",
              "      <td>Yes</td>\n",
              "      <td>Fiber optic</td>\n",
              "      <td>No</td>\n",
              "      <td>No</td>\n",
              "      <td>No</td>\n",
              "      <td>No</td>\n",
              "      <td>No</td>\n",
              "      <td>No</td>\n",
              "      <td>Month-to-month</td>\n",
              "      <td>Yes</td>\n",
              "      <td>Electronic check</td>\n",
              "      <td>75.10</td>\n",
              "      <td>75.1</td>\n",
              "    </tr>\n",
              "  </tbody>\n",
              "</table>\n",
              "</div>"
            ],
            "text/plain": [
              "      customerID  gender  SeniorCitizen Partner Dependents  tenure  \\\n",
              "6028  1871-MOWRM    Male              0     Yes         No      12   \n",
              "4645  5219-YIPTK  Female              0     Yes         No      33   \n",
              "5958  6859-RKMZJ    Male              0     Yes         No      11   \n",
              "6031  0282-NVSJS  Female              1     Yes        Yes      12   \n",
              "459   1452-VOQCH    Male              0      No         No       1   \n",
              "\n",
              "     PhoneService     MultipleLines InternetService OnlineSecurity  \\\n",
              "6028          Yes                No     Fiber optic            Yes   \n",
              "4645          Yes               Yes     Fiber optic             No   \n",
              "5958          Yes                No             DSL             No   \n",
              "6031           No  No phone service             DSL             No   \n",
              "459           Yes               Yes     Fiber optic             No   \n",
              "\n",
              "     OnlineBackup DeviceProtection TechSupport StreamingTV StreamingMovies  \\\n",
              "6028           No               No         Yes          No              No   \n",
              "4645          Yes              Yes          No         Yes             Yes   \n",
              "5958           No               No          No         Yes              No   \n",
              "6031           No               No         Yes          No              No   \n",
              "459            No               No          No          No              No   \n",
              "\n",
              "            Contract PaperlessBilling              PaymentMethod  \\\n",
              "6028  Month-to-month               No  Bank transfer (automatic)   \n",
              "4645  Month-to-month              Yes           Electronic check   \n",
              "5958  Month-to-month              Yes  Bank transfer (automatic)   \n",
              "6031  Month-to-month              Yes               Mailed check   \n",
              "459   Month-to-month              Yes           Electronic check   \n",
              "\n",
              "      MonthlyCharges TotalCharges  \n",
              "6028           80.85       866.45  \n",
              "4645          104.40       3409.6  \n",
              "5958           55.05       608.15  \n",
              "6031           29.30        355.9  \n",
              "459            75.10         75.1  "
            ]
          },
          "execution_count": 54,
          "metadata": {},
          "output_type": "execute_result"
        }
      ],
      "source": [
        "X_train.head()"
      ]
    },
    {
      "cell_type": "markdown",
      "metadata": {
        "id": "n7W0lN1Uuu1X"
      },
      "source": [
        "Drop features we don't want to have:\n",
        "\n",
        "* `customerID` does not generalize\n",
        "* we don't want `gender` for ethical reasons\n",
        "* `Contract` is only Month-to-month as per our definition"
      ]
    },
    {
      "cell_type": "code",
      "execution_count": 55,
      "metadata": {
        "id": "oKMZP28AuuQl"
      },
      "outputs": [],
      "source": [
        "X_train = X_train.drop(['customerID', 'gender', 'Contract'], axis = 1)"
      ]
    },
    {
      "cell_type": "markdown",
      "metadata": {
        "id": "NiM8znWcvtOS"
      },
      "source": [
        "Separate numeric from categorical columns"
      ]
    },
    {
      "cell_type": "code",
      "execution_count": 56,
      "metadata": {
        "colab": {
          "base_uri": "https://localhost:8080/"
        },
        "id": "jVbsxluIvRaY",
        "outputId": "e13c8b50-1c7f-4704-f439-94cad049cab3"
      },
      "outputs": [
        {
          "data": {
            "text/plain": [
              "Index(['SeniorCitizen', 'tenure', 'MonthlyCharges'], dtype='object')"
            ]
          },
          "execution_count": 56,
          "metadata": {},
          "output_type": "execute_result"
        }
      ],
      "source": [
        "num_cols = X_train._get_numeric_data().columns\n",
        "num_cols"
      ]
    },
    {
      "cell_type": "markdown",
      "metadata": {
        "id": "TKYunCXtw4p1"
      },
      "source": [
        "Encode `SeniorCitizen` as string"
      ]
    },
    {
      "cell_type": "code",
      "execution_count": 57,
      "metadata": {
        "id": "uoZ_Cd56xQcF"
      },
      "outputs": [],
      "source": [
        "X_train['SeniorCitizen'] = X_train['SeniorCitizen'].astype(str)"
      ]
    },
    {
      "cell_type": "markdown",
      "metadata": {
        "id": "JV6VhsPMyqxh"
      },
      "source": [
        "Encode `TotalCharges` as numeric"
      ]
    },
    {
      "cell_type": "code",
      "execution_count": 58,
      "metadata": {
        "id": "9VY-CMNAyvi1"
      },
      "outputs": [],
      "source": [
        "X_train['TotalCharges'] = X_train['TotalCharges'].astype(float)"
      ]
    },
    {
      "cell_type": "code",
      "execution_count": 59,
      "metadata": {
        "colab": {
          "base_uri": "https://localhost:8080/"
        },
        "id": "v04G7eWvxK6g",
        "outputId": "c40796df-ac61-43b6-d7cb-e7099bedefa7"
      },
      "outputs": [
        {
          "data": {
            "text/plain": [
              "Index(['tenure', 'MonthlyCharges', 'TotalCharges'], dtype='object')"
            ]
          },
          "execution_count": 59,
          "metadata": {},
          "output_type": "execute_result"
        }
      ],
      "source": [
        "num_cols = X_train._get_numeric_data().columns\n",
        "num_cols"
      ]
    },
    {
      "cell_type": "code",
      "execution_count": 60,
      "metadata": {
        "colab": {
          "base_uri": "https://localhost:8080/"
        },
        "id": "DMLsTq7dv5CX",
        "outputId": "101edfb5-11e2-434f-f16c-8130dd6da0d8"
      },
      "outputs": [
        {
          "data": {
            "text/plain": [
              "Index(['SeniorCitizen', 'Partner', 'Dependents', 'PhoneService',\n",
              "       'MultipleLines', 'InternetService', 'OnlineSecurity', 'OnlineBackup',\n",
              "       'DeviceProtection', 'TechSupport', 'StreamingTV', 'StreamingMovies',\n",
              "       'PaperlessBilling', 'PaymentMethod'],\n",
              "      dtype='object')"
            ]
          },
          "execution_count": 60,
          "metadata": {},
          "output_type": "execute_result"
        }
      ],
      "source": [
        "cat_cols = X_train.drop(num_cols, axis = 1).columns\n",
        "cat_cols"
      ]
    },
    {
      "cell_type": "markdown",
      "metadata": {
        "id": "Ai8h8_kDwj8d"
      },
      "source": [
        "## Numeric columns: scaling"
      ]
    },
    {
      "cell_type": "code",
      "execution_count": 61,
      "metadata": {
        "colab": {
          "base_uri": "https://localhost:8080/",
          "height": 366
        },
        "id": "StayoTAOwmtX",
        "outputId": "51ae47d8-472e-4839-fdac-720d1efc23ed"
      },
      "outputs": [
        {
          "data": {
            "text/plain": [
              "array([[<Axes: title={'center': 'tenure'}>,\n",
              "        <Axes: title={'center': 'MonthlyCharges'}>],\n",
              "       [<Axes: title={'center': 'TotalCharges'}>, <Axes: >]], dtype=object)"
            ]
          },
          "execution_count": 61,
          "metadata": {},
          "output_type": "execute_result"
        },
        {
          "data": {
            "image/png": "[encoded data removed]",
            "text/plain": [
              "<Figure size 800x550 with 4 Axes>"
            ]
          },
          "metadata": {},
          "output_type": "display_data"
        }
      ],
      "source": [
        "X_train[num_cols].hist()"
      ]
    },
    {
      "cell_type": "markdown",
      "metadata": {
        "id": "rh1xT7e5zE4l"
      },
      "source": [
        "Log-Transform tenure and Total Charges"
      ]
    },
    {
      "cell_type": "code",
      "execution_count": 62,
      "metadata": {
        "id": "hyKHrLdezgBB"
      },
      "outputs": [],
      "source": [
        "from sklearn.preprocessing import power_transform"
      ]
    },
    {
      "cell_type": "code",
      "execution_count": 63,
      "metadata": {
        "id": "hJ2J_lNgzEZv"
      },
      "outputs": [],
      "source": [
        "X_train[['tenure_power', 'TotalCharges_power']] = power_transform(X_train[['tenure', 'TotalCharges']], method='box-cox')"
      ]
    },
    {
      "cell_type": "code",
      "execution_count": 64,
      "metadata": {
        "colab": {
          "base_uri": "https://localhost:8080/",
          "height": 332
        },
        "id": "7U7M841z0nU7",
        "outputId": "1f308f19-3966-4061-fe68-0a3c8e5b22a4"
      },
      "outputs": [
        {
          "data": {
            "text/plain": [
              "array([[<Axes: title={'center': 'tenure_power'}>,\n",
              "        <Axes: title={'center': 'TotalCharges_power'}>]], dtype=object)"
            ]
          },
          "execution_count": 64,
          "metadata": {},
          "output_type": "execute_result"
        },
        {
          "data": {
            "image/png": "[encoded data removed]",
            "text/plain": [
              "<Figure size 800x550 with 2 Axes>"
            ]
          },
          "metadata": {},
          "output_type": "display_data"
        }
      ],
      "source": [
        "X_train[['tenure_power', 'TotalCharges_power']].hist()"
      ]
    },
    {
      "cell_type": "markdown",
      "metadata": {
        "id": "Zg_NY6EZ1D15"
      },
      "source": [
        "Scale numeric features to the same scale:"
      ]
    },
    {
      "cell_type": "code",
      "execution_count": 65,
      "metadata": {
        "id": "xVWepIYU1crH"
      },
      "outputs": [],
      "source": [
        "def ab_scaler(x, a, b, max_x, min_x):\n",
        "  return a + ((x - min_x)*(b-a)) / (max_x - min_x)"
      ]
    },
    {
      "cell_type": "code",
      "execution_count": 66,
      "metadata": {
        "id": "85VRyfhw1OnA"
      },
      "outputs": [],
      "source": [
        "for column in ['tenure_power', 'TotalCharges_power', 'MonthlyCharges']:\n",
        "  max = X_train[column].max()\n",
        "  min = X_train[column].min()\n",
        "  new_col = str(column + \"_scaled\")\n",
        "  X_train[new_col] = X_train[column].apply(lambda x: ab_scaler(x =x, a=-1, b=1, max_x = max, min_x = min))"
      ]
    },
    {
      "cell_type": "code",
      "execution_count": 67,
      "metadata": {
        "id": "_QDyiwWq2oAt"
      },
      "outputs": [],
      "source": [
        "numeric_features = X_train.filter(regex='_scaled', axis=1).reset_index(drop = True)"
      ]
    },
    {
      "cell_type": "code",
      "execution_count": 68,
      "metadata": {
        "colab": {
          "base_uri": "https://localhost:8080/",
          "height": 366
        },
        "id": "TmKL85Y42-H1",
        "outputId": "ed7bb0b3-d7d7-4864-e351-4aede9e7522f"
      },
      "outputs": [
        {
          "data": {
            "text/plain": [
              "array([[<Axes: title={'center': 'tenure_power_scaled'}>,\n",
              "        <Axes: title={'center': 'TotalCharges_power_scaled'}>],\n",
              "       [<Axes: title={'center': 'MonthlyCharges_scaled'}>, <Axes: >]],\n",
              "      dtype=object)"
            ]
          },
          "execution_count": 68,
          "metadata": {},
          "output_type": "execute_result"
        },
        {
          "data": {
            "image/png": "[encoded data removed]",
            "text/plain": [
              "<Figure size 800x550 with 4 Axes>"
            ]
          },
          "metadata": {},
          "output_type": "display_data"
        }
      ],
      "source": [
        "numeric_features.hist()"
      ]
    },
    {
      "cell_type": "markdown",
      "metadata": {
        "id": "Wfkc2ciZ3Ivy"
      },
      "source": [
        "## Categorical Columns - Encoding"
      ]
    },
    {
      "cell_type": "code",
      "execution_count": 69,
      "metadata": {
        "colab": {
          "base_uri": "https://localhost:8080/"
        },
        "id": "2Fh8Whuy3O4n",
        "outputId": "d0e6c791-df99-4138-fdf1-2c1a0b05a391"
      },
      "outputs": [
        {
          "name": "stdout",
          "output_type": "stream",
          "text": [
            "SeniorCitizen\n",
            "0    2455\n",
            "1     645\n",
            "Name: count, dtype: int64\n",
            "Partner\n",
            "No     1984\n",
            "Yes    1116\n",
            "Name: count, dtype: int64\n",
            "Dependents\n",
            "No     2467\n",
            "Yes     633\n",
            "Name: count, dtype: int64\n",
            "PhoneService\n",
            "Yes    2790\n",
            "No      310\n",
            "Name: count, dtype: int64\n",
            "MultipleLines\n",
            "No                  1618\n",
            "Yes                 1172\n",
            "No phone service     310\n",
            "Name: count, dtype: int64\n",
            "InternetService\n",
            "Fiber optic    1698\n",
            "DSL             980\n",
            "No              422\n",
            "Name: count, dtype: int64\n",
            "OnlineSecurity\n",
            "No                     2102\n",
            "Yes                     576\n",
            "No internet service     422\n",
            "Name: count, dtype: int64\n",
            "OnlineBackup\n",
            "No                     1836\n",
            "Yes                     842\n",
            "No internet service     422\n",
            "Name: count, dtype: int64\n",
            "DeviceProtection\n",
            "No                     1932\n",
            "Yes                     746\n",
            "No internet service     422\n",
            "Name: count, dtype: int64\n",
            "TechSupport\n",
            "No                     2156\n",
            "Yes                     522\n",
            "No internet service     422\n",
            "Name: count, dtype: int64\n",
            "StreamingTV\n",
            "No                     1651\n",
            "Yes                    1027\n",
            "No internet service     422\n",
            "Name: count, dtype: int64\n",
            "StreamingMovies\n",
            "No                     1638\n",
            "Yes                    1040\n",
            "No internet service     422\n",
            "Name: count, dtype: int64\n",
            "PaperlessBilling\n",
            "Yes    2068\n",
            "No     1032\n",
            "Name: count, dtype: int64\n",
            "PaymentMethod\n",
            "Electronic check             1484\n",
            "Mailed check                  723\n",
            "Bank transfer (automatic)     456\n",
            "Credit card (automatic)       437\n",
            "Name: count, dtype: int64\n"
          ]
        }
      ],
      "source": [
        "for column in cat_cols:\n",
        "  print(X_train[column].value_counts())"
      ]
    },
    {
      "cell_type": "markdown",
      "metadata": {
        "id": "IWNm97n64P_X"
      },
      "source": [
        "Turn binary feature into numeric, and multi-class features into dummy variables"
      ]
    },
    {
      "cell_type": "markdown",
      "metadata": {
        "id": "XV9eEJiE4UX9"
      },
      "source": [
        "### Binary features"
      ]
    },
    {
      "cell_type": "code",
      "execution_count": 70,
      "metadata": {
        "id": "uRg2hgCp4fZH"
      },
      "outputs": [],
      "source": [
        "from sklearn.preprocessing import LabelEncoder\n",
        "encoder = LabelEncoder()"
      ]
    },
    {
      "cell_type": "code",
      "execution_count": 71,
      "metadata": {
        "id": "GHYVMSgO4i9a"
      },
      "outputs": [],
      "source": [
        "binary_cols = ['SeniorCitizen', 'Partner', 'Dependents', 'PhoneService', 'PaperlessBilling']\n",
        "\n",
        "for column in binary_cols:\n",
        "  new_col = str(column + \"_be\")\n",
        "  X_train[new_col] = encoder.fit_transform(X_train[column])"
      ]
    },
    {
      "cell_type": "code",
      "execution_count": 72,
      "metadata": {
        "id": "Syq95P1g54TL"
      },
      "outputs": [],
      "source": [
        "binary_features = X_train.filter(regex='_be', axis=1).reset_index(drop = True)"
      ]
    },
    {
      "cell_type": "code",
      "execution_count": 73,
      "metadata": {
        "colab": {
          "base_uri": "https://localhost:8080/",
          "height": 204
        },
        "id": "yXzd3yWf57IN",
        "outputId": "c6534d29-9ca2-45f5-9b1e-4ea6c6ad52f4"
      },
      "outputs": [
        {
          "data": {
            "text/html": [
              "<div>\n",
              "<style scoped>\n",
              "    .dataframe tbody tr th:only-of-type {\n",
              "        vertical-align: middle;\n",
              "    }\n",
              "\n",
              "    .dataframe tbody tr th {\n",
              "        vertical-align: top;\n",
              "    }\n",
              "\n",
              "    .dataframe thead th {\n",
              "        text-align: right;\n",
              "    }\n",
              "</style>\n",
              "<table border=\"1\" class=\"dataframe\">\n",
              "  <thead>\n",
              "    <tr style=\"text-align: right;\">\n",
              "      <th></th>\n",
              "      <th>SeniorCitizen_be</th>\n",
              "      <th>Partner_be</th>\n",
              "      <th>Dependents_be</th>\n",
              "      <th>PhoneService_be</th>\n",
              "      <th>PaperlessBilling_be</th>\n",
              "    </tr>\n",
              "  </thead>\n",
              "  <tbody>\n",
              "    <tr>\n",
              "      <th>0</th>\n",
              "      <td>0</td>\n",
              "      <td>1</td>\n",
              "      <td>0</td>\n",
              "      <td>1</td>\n",
              "      <td>0</td>\n",
              "    </tr>\n",
              "    <tr>\n",
              "      <th>1</th>\n",
              "      <td>0</td>\n",
              "      <td>1</td>\n",
              "      <td>0</td>\n",
              "      <td>1</td>\n",
              "      <td>1</td>\n",
              "    </tr>\n",
              "    <tr>\n",
              "      <th>2</th>\n",
              "      <td>0</td>\n",
              "      <td>1</td>\n",
              "      <td>0</td>\n",
              "      <td>1</td>\n",
              "      <td>1</td>\n",
              "    </tr>\n",
              "    <tr>\n",
              "      <th>3</th>\n",
              "      <td>1</td>\n",
              "      <td>1</td>\n",
              "      <td>1</td>\n",
              "      <td>0</td>\n",
              "      <td>1</td>\n",
              "    </tr>\n",
              "    <tr>\n",
              "      <th>4</th>\n",
              "      <td>0</td>\n",
              "      <td>0</td>\n",
              "      <td>0</td>\n",
              "      <td>1</td>\n",
              "      <td>1</td>\n",
              "    </tr>\n",
              "  </tbody>\n",
              "</table>\n",
              "</div>"
            ],
            "text/plain": [
              "   SeniorCitizen_be  Partner_be  Dependents_be  PhoneService_be  \\\n",
              "0                 0           1              0                1   \n",
              "1                 0           1              0                1   \n",
              "2                 0           1              0                1   \n",
              "3                 1           1              1                0   \n",
              "4                 0           0              0                1   \n",
              "\n",
              "   PaperlessBilling_be  \n",
              "0                    0  \n",
              "1                    1  \n",
              "2                    1  \n",
              "3                    1  \n",
              "4                    1  "
            ]
          },
          "execution_count": 73,
          "metadata": {},
          "output_type": "execute_result"
        }
      ],
      "source": [
        "binary_features.head()"
      ]
    },
    {
      "cell_type": "markdown",
      "metadata": {
        "id": "qxV-LEUe6Fav"
      },
      "source": [
        "### Multiclass features"
      ]
    },
    {
      "cell_type": "code",
      "execution_count": 74,
      "metadata": {
        "colab": {
          "base_uri": "https://localhost:8080/"
        },
        "id": "aFowV-s76Igy",
        "outputId": "1ed47256-fb7e-4f3c-9cc4-04c03fee3486"
      },
      "outputs": [
        {
          "data": {
            "text/plain": [
              "['OnlineBackup',\n",
              " 'InternetService',\n",
              " 'TechSupport',\n",
              " 'StreamingMovies',\n",
              " 'StreamingTV',\n",
              " 'MultipleLines',\n",
              " 'DeviceProtection',\n",
              " 'PaymentMethod',\n",
              " 'OnlineSecurity']"
            ]
          },
          "execution_count": 74,
          "metadata": {},
          "output_type": "execute_result"
        }
      ],
      "source": [
        "multiclass_cols = list(set(cat_cols) - set(binary_cols))\n",
        "multiclass_cols"
      ]
    },
    {
      "cell_type": "code",
      "execution_count": 75,
      "metadata": {
        "colab": {
          "base_uri": "https://localhost:8080/"
        },
        "id": "_x5vgicu7YS_",
        "outputId": "23629c3a-2e5d-4796-912a-7d152718b6d8"
      },
      "outputs": [
        {
          "data": {
            "text/plain": [
              "[array(['No', 'Yes', 'No internet service'], dtype=object),\n",
              " array(['Fiber optic', 'DSL', 'No'], dtype=object),\n",
              " array(['Yes', 'No', 'No internet service'], dtype=object),\n",
              " array(['No', 'Yes', 'No internet service'], dtype=object),\n",
              " array(['No', 'Yes', 'No internet service'], dtype=object),\n",
              " array(['No', 'Yes', 'No phone service'], dtype=object),\n",
              " array(['No', 'Yes', 'No internet service'], dtype=object),\n",
              " array(['Bank transfer (automatic)', 'Electronic check', 'Mailed check',\n",
              "        'Credit card (automatic)'], dtype=object),\n",
              " array(['Yes', 'No', 'No internet service'], dtype=object)]"
            ]
          },
          "execution_count": 75,
          "metadata": {},
          "output_type": "execute_result"
        }
      ],
      "source": [
        "categories = []\n",
        "\n",
        "for column in multiclass_cols:\n",
        "  categories.append(X_train[column].unique())\n",
        "\n",
        "categories"
      ]
    },
    {
      "cell_type": "code",
      "execution_count": 76,
      "metadata": {
        "id": "yJfRp2Yl7TnZ"
      },
      "outputs": [],
      "source": [
        "from sklearn.preprocessing import OneHotEncoder\n",
        "\n",
        "# specify categories explicitly to allow for same encoding during prediction\n",
        "onehot_encoder = OneHotEncoder(sparse=False, categories = categories)"
      ]
    },
    {
      "cell_type": "code",
      "execution_count": 77,
      "metadata": {
        "id": "3-abL3vw8At1"
      },
      "outputs": [
        {
          "name": "stderr",
          "output_type": "stream",
          "text": [
            "c:\\Users\\Rina\\anaconda3\\Lib\\site-packages\\sklearn\\preprocessing\\_encoders.py:972: FutureWarning: `sparse` was renamed to `sparse_output` in version 1.2 and will be removed in 1.4. `sparse_output` is ignored unless you leave `sparse` to its default value.\n",
            "  warnings.warn(\n"
          ]
        }
      ],
      "source": [
        "# Apply OneHotEncoder\n",
        "multiclass_features = onehot_encoder.fit_transform(X_train[multiclass_cols])"
      ]
    },
    {
      "cell_type": "code",
      "execution_count": 78,
      "metadata": {
        "id": "0sngXCsw9e2v"
      },
      "outputs": [],
      "source": [
        "multiclass_features = pd.DataFrame(multiclass_features, columns=onehot_encoder.get_feature_names_out())"
      ]
    },
    {
      "cell_type": "code",
      "execution_count": 79,
      "metadata": {
        "colab": {
          "base_uri": "https://localhost:8080/",
          "height": 331
        },
        "id": "NaTnTahQ_JDy",
        "outputId": "99b7c55b-c5c2-49d5-905e-6fd615e04ca9"
      },
      "outputs": [
        {
          "data": {
            "text/html": [
              "<div>\n",
              "<style scoped>\n",
              "    .dataframe tbody tr th:only-of-type {\n",
              "        vertical-align: middle;\n",
              "    }\n",
              "\n",
              "    .dataframe tbody tr th {\n",
              "        vertical-align: top;\n",
              "    }\n",
              "\n",
              "    .dataframe thead th {\n",
              "        text-align: right;\n",
              "    }\n",
              "</style>\n",
              "<table border=\"1\" class=\"dataframe\">\n",
              "  <thead>\n",
              "    <tr style=\"text-align: right;\">\n",
              "      <th></th>\n",
              "      <th>OnlineBackup_No</th>\n",
              "      <th>OnlineBackup_Yes</th>\n",
              "      <th>OnlineBackup_No internet service</th>\n",
              "      <th>InternetService_Fiber optic</th>\n",
              "      <th>InternetService_DSL</th>\n",
              "      <th>InternetService_No</th>\n",
              "      <th>TechSupport_Yes</th>\n",
              "      <th>TechSupport_No</th>\n",
              "      <th>TechSupport_No internet service</th>\n",
              "      <th>StreamingMovies_No</th>\n",
              "      <th>...</th>\n",
              "      <th>DeviceProtection_No</th>\n",
              "      <th>DeviceProtection_Yes</th>\n",
              "      <th>DeviceProtection_No internet service</th>\n",
              "      <th>PaymentMethod_Bank transfer (automatic)</th>\n",
              "      <th>PaymentMethod_Electronic check</th>\n",
              "      <th>PaymentMethod_Mailed check</th>\n",
              "      <th>PaymentMethod_Credit card (automatic)</th>\n",
              "      <th>OnlineSecurity_Yes</th>\n",
              "      <th>OnlineSecurity_No</th>\n",
              "      <th>OnlineSecurity_No internet service</th>\n",
              "    </tr>\n",
              "  </thead>\n",
              "  <tbody>\n",
              "    <tr>\n",
              "      <th>0</th>\n",
              "      <td>1.0</td>\n",
              "      <td>0.0</td>\n",
              "      <td>0.0</td>\n",
              "      <td>1.0</td>\n",
              "      <td>0.0</td>\n",
              "      <td>0.0</td>\n",
              "      <td>1.0</td>\n",
              "      <td>0.0</td>\n",
              "      <td>0.0</td>\n",
              "      <td>1.0</td>\n",
              "      <td>...</td>\n",
              "      <td>1.0</td>\n",
              "      <td>0.0</td>\n",
              "      <td>0.0</td>\n",
              "      <td>1.0</td>\n",
              "      <td>0.0</td>\n",
              "      <td>0.0</td>\n",
              "      <td>0.0</td>\n",
              "      <td>1.0</td>\n",
              "      <td>0.0</td>\n",
              "      <td>0.0</td>\n",
              "    </tr>\n",
              "    <tr>\n",
              "      <th>1</th>\n",
              "      <td>0.0</td>\n",
              "      <td>1.0</td>\n",
              "      <td>0.0</td>\n",
              "      <td>1.0</td>\n",
              "      <td>0.0</td>\n",
              "      <td>0.0</td>\n",
              "      <td>0.0</td>\n",
              "      <td>1.0</td>\n",
              "      <td>0.0</td>\n",
              "      <td>0.0</td>\n",
              "      <td>...</td>\n",
              "      <td>0.0</td>\n",
              "      <td>1.0</td>\n",
              "      <td>0.0</td>\n",
              "      <td>0.0</td>\n",
              "      <td>1.0</td>\n",
              "      <td>0.0</td>\n",
              "      <td>0.0</td>\n",
              "      <td>0.0</td>\n",
              "      <td>1.0</td>\n",
              "      <td>0.0</td>\n",
              "    </tr>\n",
              "    <tr>\n",
              "      <th>2</th>\n",
              "      <td>1.0</td>\n",
              "      <td>0.0</td>\n",
              "      <td>0.0</td>\n",
              "      <td>0.0</td>\n",
              "      <td>1.0</td>\n",
              "      <td>0.0</td>\n",
              "      <td>0.0</td>\n",
              "      <td>1.0</td>\n",
              "      <td>0.0</td>\n",
              "      <td>1.0</td>\n",
              "      <td>...</td>\n",
              "      <td>1.0</td>\n",
              "      <td>0.0</td>\n",
              "      <td>0.0</td>\n",
              "      <td>1.0</td>\n",
              "      <td>0.0</td>\n",
              "      <td>0.0</td>\n",
              "      <td>0.0</td>\n",
              "      <td>0.0</td>\n",
              "      <td>1.0</td>\n",
              "      <td>0.0</td>\n",
              "    </tr>\n",
              "    <tr>\n",
              "      <th>3</th>\n",
              "      <td>1.0</td>\n",
              "      <td>0.0</td>\n",
              "      <td>0.0</td>\n",
              "      <td>0.0</td>\n",
              "      <td>1.0</td>\n",
              "      <td>0.0</td>\n",
              "      <td>1.0</td>\n",
              "      <td>0.0</td>\n",
              "      <td>0.0</td>\n",
              "      <td>1.0</td>\n",
              "      <td>...</td>\n",
              "      <td>1.0</td>\n",
              "      <td>0.0</td>\n",
              "      <td>0.0</td>\n",
              "      <td>0.0</td>\n",
              "      <td>0.0</td>\n",
              "      <td>1.0</td>\n",
              "      <td>0.0</td>\n",
              "      <td>0.0</td>\n",
              "      <td>1.0</td>\n",
              "      <td>0.0</td>\n",
              "    </tr>\n",
              "    <tr>\n",
              "      <th>4</th>\n",
              "      <td>1.0</td>\n",
              "      <td>0.0</td>\n",
              "      <td>0.0</td>\n",
              "      <td>1.0</td>\n",
              "      <td>0.0</td>\n",
              "      <td>0.0</td>\n",
              "      <td>0.0</td>\n",
              "      <td>1.0</td>\n",
              "      <td>0.0</td>\n",
              "      <td>1.0</td>\n",
              "      <td>...</td>\n",
              "      <td>1.0</td>\n",
              "      <td>0.0</td>\n",
              "      <td>0.0</td>\n",
              "      <td>0.0</td>\n",
              "      <td>1.0</td>\n",
              "      <td>0.0</td>\n",
              "      <td>0.0</td>\n",
              "      <td>0.0</td>\n",
              "      <td>1.0</td>\n",
              "      <td>0.0</td>\n",
              "    </tr>\n",
              "  </tbody>\n",
              "</table>\n",
              "<p>5 rows × 28 columns</p>\n",
              "</div>"
            ],
            "text/plain": [
              "   OnlineBackup_No  OnlineBackup_Yes  OnlineBackup_No internet service  \\\n",
              "0              1.0               0.0                               0.0   \n",
              "1              0.0               1.0                               0.0   \n",
              "2              1.0               0.0                               0.0   \n",
              "3              1.0               0.0                               0.0   \n",
              "4              1.0               0.0                               0.0   \n",
              "\n",
              "   InternetService_Fiber optic  InternetService_DSL  InternetService_No  \\\n",
              "0                          1.0                  0.0                 0.0   \n",
              "1                          1.0                  0.0                 0.0   \n",
              "2                          0.0                  1.0                 0.0   \n",
              "3                          0.0                  1.0                 0.0   \n",
              "4                          1.0                  0.0                 0.0   \n",
              "\n",
              "   TechSupport_Yes  TechSupport_No  TechSupport_No internet service  \\\n",
              "0              1.0             0.0                              0.0   \n",
              "1              0.0             1.0                              0.0   \n",
              "2              0.0             1.0                              0.0   \n",
              "3              1.0             0.0                              0.0   \n",
              "4              0.0             1.0                              0.0   \n",
              "\n",
              "   StreamingMovies_No  ...  DeviceProtection_No  DeviceProtection_Yes  \\\n",
              "0                 1.0  ...                  1.0                   0.0   \n",
              "1                 0.0  ...                  0.0                   1.0   \n",
              "2                 1.0  ...                  1.0                   0.0   \n",
              "3                 1.0  ...                  1.0                   0.0   \n",
              "4                 1.0  ...                  1.0                   0.0   \n",
              "\n",
              "   DeviceProtection_No internet service  \\\n",
              "0                                   0.0   \n",
              "1                                   0.0   \n",
              "2                                   0.0   \n",
              "3                                   0.0   \n",
              "4                                   0.0   \n",
              "\n",
              "   PaymentMethod_Bank transfer (automatic)  PaymentMethod_Electronic check  \\\n",
              "0                                      1.0                             0.0   \n",
              "1                                      0.0                             1.0   \n",
              "2                                      1.0                             0.0   \n",
              "3                                      0.0                             0.0   \n",
              "4                                      0.0                             1.0   \n",
              "\n",
              "   PaymentMethod_Mailed check  PaymentMethod_Credit card (automatic)  \\\n",
              "0                         0.0                                    0.0   \n",
              "1                         0.0                                    0.0   \n",
              "2                         0.0                                    0.0   \n",
              "3                         1.0                                    0.0   \n",
              "4                         0.0                                    0.0   \n",
              "\n",
              "   OnlineSecurity_Yes  OnlineSecurity_No  OnlineSecurity_No internet service  \n",
              "0                 1.0                0.0                                 0.0  \n",
              "1                 0.0                1.0                                 0.0  \n",
              "2                 0.0                1.0                                 0.0  \n",
              "3                 0.0                1.0                                 0.0  \n",
              "4                 0.0                1.0                                 0.0  \n",
              "\n",
              "[5 rows x 28 columns]"
            ]
          },
          "execution_count": 79,
          "metadata": {},
          "output_type": "execute_result"
        }
      ],
      "source": [
        "multiclass_features.head()"
      ]
    },
    {
      "cell_type": "markdown",
      "metadata": {
        "id": "55mPbxpU8Wgh"
      },
      "source": [
        "### Build feature dataframe"
      ]
    },
    {
      "cell_type": "code",
      "execution_count": 80,
      "metadata": {
        "id": "vULaywKP8X8j"
      },
      "outputs": [],
      "source": [
        "X_train_fe = pd.concat([numeric_features, binary_features, multiclass_features], axis = 1)"
      ]
    },
    {
      "cell_type": "code",
      "execution_count": 81,
      "metadata": {
        "colab": {
          "base_uri": "https://localhost:8080/",
          "height": 331
        },
        "id": "8N4lWHZmAfa8",
        "outputId": "e175572d-744f-4542-c8fa-2a5d3d4e38b7"
      },
      "outputs": [
        {
          "data": {
            "text/html": [
              "<div>\n",
              "<style scoped>\n",
              "    .dataframe tbody tr th:only-of-type {\n",
              "        vertical-align: middle;\n",
              "    }\n",
              "\n",
              "    .dataframe tbody tr th {\n",
              "        vertical-align: top;\n",
              "    }\n",
              "\n",
              "    .dataframe thead th {\n",
              "        text-align: right;\n",
              "    }\n",
              "</style>\n",
              "<table border=\"1\" class=\"dataframe\">\n",
              "  <thead>\n",
              "    <tr style=\"text-align: right;\">\n",
              "      <th></th>\n",
              "      <th>tenure_power_scaled</th>\n",
              "      <th>TotalCharges_power_scaled</th>\n",
              "      <th>MonthlyCharges_scaled</th>\n",
              "      <th>SeniorCitizen_be</th>\n",
              "      <th>Partner_be</th>\n",
              "      <th>Dependents_be</th>\n",
              "      <th>PhoneService_be</th>\n",
              "      <th>PaperlessBilling_be</th>\n",
              "      <th>OnlineBackup_No</th>\n",
              "      <th>OnlineBackup_Yes</th>\n",
              "      <th>...</th>\n",
              "      <th>DeviceProtection_No</th>\n",
              "      <th>DeviceProtection_Yes</th>\n",
              "      <th>DeviceProtection_No internet service</th>\n",
              "      <th>PaymentMethod_Bank transfer (automatic)</th>\n",
              "      <th>PaymentMethod_Electronic check</th>\n",
              "      <th>PaymentMethod_Mailed check</th>\n",
              "      <th>PaymentMethod_Credit card (automatic)</th>\n",
              "      <th>OnlineSecurity_Yes</th>\n",
              "      <th>OnlineSecurity_No</th>\n",
              "      <th>OnlineSecurity_No internet service</th>\n",
              "    </tr>\n",
              "  </thead>\n",
              "  <tbody>\n",
              "    <tr>\n",
              "      <th>0</th>\n",
              "      <td>-0.037704</td>\n",
              "      <td>0.066415</td>\n",
              "      <td>0.258359</td>\n",
              "      <td>0</td>\n",
              "      <td>1</td>\n",
              "      <td>0</td>\n",
              "      <td>1</td>\n",
              "      <td>0</td>\n",
              "      <td>1.0</td>\n",
              "      <td>0.0</td>\n",
              "      <td>...</td>\n",
              "      <td>1.0</td>\n",
              "      <td>0.0</td>\n",
              "      <td>0.0</td>\n",
              "      <td>1.0</td>\n",
              "      <td>0.0</td>\n",
              "      <td>0.0</td>\n",
              "      <td>0.0</td>\n",
              "      <td>1.0</td>\n",
              "      <td>0.0</td>\n",
              "      <td>0.0</td>\n",
              "    </tr>\n",
              "    <tr>\n",
              "      <th>1</th>\n",
              "      <td>0.504461</td>\n",
              "      <td>0.605726</td>\n",
              "      <td>0.735562</td>\n",
              "      <td>0</td>\n",
              "      <td>1</td>\n",
              "      <td>0</td>\n",
              "      <td>1</td>\n",
              "      <td>1</td>\n",
              "      <td>0.0</td>\n",
              "      <td>1.0</td>\n",
              "      <td>...</td>\n",
              "      <td>0.0</td>\n",
              "      <td>1.0</td>\n",
              "      <td>0.0</td>\n",
              "      <td>0.0</td>\n",
              "      <td>1.0</td>\n",
              "      <td>0.0</td>\n",
              "      <td>0.0</td>\n",
              "      <td>0.0</td>\n",
              "      <td>1.0</td>\n",
              "      <td>0.0</td>\n",
              "    </tr>\n",
              "    <tr>\n",
              "      <th>2</th>\n",
              "      <td>-0.079644</td>\n",
              "      <td>-0.057262</td>\n",
              "      <td>-0.264438</td>\n",
              "      <td>0</td>\n",
              "      <td>1</td>\n",
              "      <td>0</td>\n",
              "      <td>1</td>\n",
              "      <td>1</td>\n",
              "      <td>1.0</td>\n",
              "      <td>0.0</td>\n",
              "      <td>...</td>\n",
              "      <td>1.0</td>\n",
              "      <td>0.0</td>\n",
              "      <td>0.0</td>\n",
              "      <td>1.0</td>\n",
              "      <td>0.0</td>\n",
              "      <td>0.0</td>\n",
              "      <td>0.0</td>\n",
              "      <td>0.0</td>\n",
              "      <td>1.0</td>\n",
              "      <td>0.0</td>\n",
              "    </tr>\n",
              "    <tr>\n",
              "      <th>3</th>\n",
              "      <td>-0.037704</td>\n",
              "      <td>-0.233416</td>\n",
              "      <td>-0.786221</td>\n",
              "      <td>1</td>\n",
              "      <td>1</td>\n",
              "      <td>1</td>\n",
              "      <td>0</td>\n",
              "      <td>1</td>\n",
              "      <td>1.0</td>\n",
              "      <td>0.0</td>\n",
              "      <td>...</td>\n",
              "      <td>1.0</td>\n",
              "      <td>0.0</td>\n",
              "      <td>0.0</td>\n",
              "      <td>0.0</td>\n",
              "      <td>0.0</td>\n",
              "      <td>1.0</td>\n",
              "      <td>0.0</td>\n",
              "      <td>0.0</td>\n",
              "      <td>1.0</td>\n",
              "      <td>0.0</td>\n",
              "    </tr>\n",
              "    <tr>\n",
              "      <th>4</th>\n",
              "      <td>-1.000000</td>\n",
              "      <td>-0.677466</td>\n",
              "      <td>0.141844</td>\n",
              "      <td>0</td>\n",
              "      <td>0</td>\n",
              "      <td>0</td>\n",
              "      <td>1</td>\n",
              "      <td>1</td>\n",
              "      <td>1.0</td>\n",
              "      <td>0.0</td>\n",
              "      <td>...</td>\n",
              "      <td>1.0</td>\n",
              "      <td>0.0</td>\n",
              "      <td>0.0</td>\n",
              "      <td>0.0</td>\n",
              "      <td>1.0</td>\n",
              "      <td>0.0</td>\n",
              "      <td>0.0</td>\n",
              "      <td>0.0</td>\n",
              "      <td>1.0</td>\n",
              "      <td>0.0</td>\n",
              "    </tr>\n",
              "  </tbody>\n",
              "</table>\n",
              "<p>5 rows × 36 columns</p>\n",
              "</div>"
            ],
            "text/plain": [
              "   tenure_power_scaled  TotalCharges_power_scaled  MonthlyCharges_scaled  \\\n",
              "0            -0.037704                   0.066415               0.258359   \n",
              "1             0.504461                   0.605726               0.735562   \n",
              "2            -0.079644                  -0.057262              -0.264438   \n",
              "3            -0.037704                  -0.233416              -0.786221   \n",
              "4            -1.000000                  -0.677466               0.141844   \n",
              "\n",
              "   SeniorCitizen_be  Partner_be  Dependents_be  PhoneService_be  \\\n",
              "0                 0           1              0                1   \n",
              "1                 0           1              0                1   \n",
              "2                 0           1              0                1   \n",
              "3                 1           1              1                0   \n",
              "4                 0           0              0                1   \n",
              "\n",
              "   PaperlessBilling_be  OnlineBackup_No  OnlineBackup_Yes  ...  \\\n",
              "0                    0              1.0               0.0  ...   \n",
              "1                    1              0.0               1.0  ...   \n",
              "2                    1              1.0               0.0  ...   \n",
              "3                    1              1.0               0.0  ...   \n",
              "4                    1              1.0               0.0  ...   \n",
              "\n",
              "   DeviceProtection_No  DeviceProtection_Yes  \\\n",
              "0                  1.0                   0.0   \n",
              "1                  0.0                   1.0   \n",
              "2                  1.0                   0.0   \n",
              "3                  1.0                   0.0   \n",
              "4                  1.0                   0.0   \n",
              "\n",
              "   DeviceProtection_No internet service  \\\n",
              "0                                   0.0   \n",
              "1                                   0.0   \n",
              "2                                   0.0   \n",
              "3                                   0.0   \n",
              "4                                   0.0   \n",
              "\n",
              "   PaymentMethod_Bank transfer (automatic)  PaymentMethod_Electronic check  \\\n",
              "0                                      1.0                             0.0   \n",
              "1                                      0.0                             1.0   \n",
              "2                                      1.0                             0.0   \n",
              "3                                      0.0                             0.0   \n",
              "4                                      0.0                             1.0   \n",
              "\n",
              "   PaymentMethod_Mailed check  PaymentMethod_Credit card (automatic)  \\\n",
              "0                         0.0                                    0.0   \n",
              "1                         0.0                                    0.0   \n",
              "2                         0.0                                    0.0   \n",
              "3                         1.0                                    0.0   \n",
              "4                         0.0                                    0.0   \n",
              "\n",
              "   OnlineSecurity_Yes  OnlineSecurity_No  OnlineSecurity_No internet service  \n",
              "0                 1.0                0.0                                 0.0  \n",
              "1                 0.0                1.0                                 0.0  \n",
              "2                 0.0                1.0                                 0.0  \n",
              "3                 0.0                1.0                                 0.0  \n",
              "4                 0.0                1.0                                 0.0  \n",
              "\n",
              "[5 rows x 36 columns]"
            ]
          },
          "execution_count": 81,
          "metadata": {},
          "output_type": "execute_result"
        }
      ],
      "source": [
        "X_train_fe.head()"
      ]
    },
    {
      "cell_type": "markdown",
      "metadata": {
        "id": "TG3tzcs0ApBF"
      },
      "source": [
        "### Feature selection"
      ]
    },
    {
      "cell_type": "code",
      "execution_count": 82,
      "metadata": {
        "id": "kyfjicOB24ZO"
      },
      "outputs": [
        {
          "data": {
            "text/html": [
              "<style>#sk-container-id-3 {color: black;}#sk-container-id-3 pre{padding: 0;}#sk-container-id-3 div.sk-toggleable {background-color: white;}#sk-container-id-3 label.sk-toggleable__label {cursor: pointer;display: block;width: 100%;margin-bottom: 0;padding: 0.3em;box-sizing: border-box;text-align: center;}#sk-container-id-3 label.sk-toggleable__label-arrow:before {content: \"▸\";float: left;margin-right: 0.25em;color: #696969;}#sk-container-id-3 label.sk-toggleable__label-arrow:hover:before {color: black;}#sk-container-id-3 div.sk-estimator:hover label.sk-toggleable__label-arrow:before {color: black;}#sk-container-id-3 div.sk-toggleable__content {max-height: 0;max-width: 0;overflow: hidden;text-align: left;background-color: #f0f8ff;}#sk-container-id-3 div.sk-toggleable__content pre {margin: 0.2em;color: black;border-radius: 0.25em;background-color: #f0f8ff;}#sk-container-id-3 input.sk-toggleable__control:checked~div.sk-toggleable__content {max-height: 200px;max-width: 100%;overflow: auto;}#sk-container-id-3 input.sk-toggleable__control:checked~label.sk-toggleable__label-arrow:before {content: \"▾\";}#sk-container-id-3 div.sk-estimator input.sk-toggleable__control:checked~label.sk-toggleable__label {background-color: #d4ebff;}#sk-container-id-3 div.sk-label input.sk-toggleable__control:checked~label.sk-toggleable__label {background-color: #d4ebff;}#sk-container-id-3 input.sk-hidden--visually {border: 0;clip: rect(1px 1px 1px 1px);clip: rect(1px, 1px, 1px, 1px);height: 1px;margin: -1px;overflow: hidden;padding: 0;position: absolute;width: 1px;}#sk-container-id-3 div.sk-estimator {font-family: monospace;background-color: #f0f8ff;border: 1px dotted black;border-radius: 0.25em;box-sizing: border-box;margin-bottom: 0.5em;}#sk-container-id-3 div.sk-estimator:hover {background-color: #d4ebff;}#sk-container-id-3 div.sk-parallel-item::after {content: \"\";width: 100%;border-bottom: 1px solid gray;flex-grow: 1;}#sk-container-id-3 div.sk-label:hover label.sk-toggleable__label {background-color: #d4ebff;}#sk-container-id-3 div.sk-serial::before {content: \"\";position: absolute;border-left: 1px solid gray;box-sizing: border-box;top: 0;bottom: 0;left: 50%;z-index: 0;}#sk-container-id-3 div.sk-serial {display: flex;flex-direction: column;align-items: center;background-color: white;padding-right: 0.2em;padding-left: 0.2em;position: relative;}#sk-container-id-3 div.sk-item {position: relative;z-index: 1;}#sk-container-id-3 div.sk-parallel {display: flex;align-items: stretch;justify-content: center;background-color: white;position: relative;}#sk-container-id-3 div.sk-item::before, #sk-container-id-3 div.sk-parallel-item::before {content: \"\";position: absolute;border-left: 1px solid gray;box-sizing: border-box;top: 0;bottom: 0;left: 50%;z-index: -1;}#sk-container-id-3 div.sk-parallel-item {display: flex;flex-direction: column;z-index: 1;position: relative;background-color: white;}#sk-container-id-3 div.sk-parallel-item:first-child::after {align-self: flex-end;width: 50%;}#sk-container-id-3 div.sk-parallel-item:last-child::after {align-self: flex-start;width: 50%;}#sk-container-id-3 div.sk-parallel-item:only-child::after {width: 0;}#sk-container-id-3 div.sk-dashed-wrapped {border: 1px dashed gray;margin: 0 0.4em 0.5em 0.4em;box-sizing: border-box;padding-bottom: 0.4em;background-color: white;}#sk-container-id-3 div.sk-label label {font-family: monospace;font-weight: bold;display: inline-block;line-height: 1.2em;}#sk-container-id-3 div.sk-label-container {text-align: center;}#sk-container-id-3 div.sk-container {/* jupyter's `normalize.less` sets `[hidden] { display: none; }` but bootstrap.min.css set `[hidden] { display: none !important; }` so we also need the `!important` here to be able to override the default hidden behavior on the sphinx rendered scikit-learn.org. See: https://github.com/scikit-learn/scikit-learn/issues/21755 */display: inline-block !important;position: relative;}#sk-container-id-3 div.sk-text-repr-fallback {display: none;}</style><div id=\"sk-container-id-3\" class=\"sk-top-container\"><div class=\"sk-text-repr-fallback\"><pre>RFECV(cv=5, estimator=LogisticRegression(), min_features_to_select=3,\n",
              "      scoring=&#x27;f1&#x27;)</pre><b>In a Jupyter environment, please rerun this cell to show the HTML representation or trust the notebook. <br />On GitHub, the HTML representation is unable to render, please try loading this page with nbviewer.org.</b></div><div class=\"sk-container\" hidden><div class=\"sk-item sk-dashed-wrapped\"><div class=\"sk-label-container\"><div class=\"sk-label sk-toggleable\"><input class=\"sk-toggleable__control sk-hidden--visually\" id=\"sk-estimator-id-5\" type=\"checkbox\" ><label for=\"sk-estimator-id-5\" class=\"sk-toggleable__label sk-toggleable__label-arrow\">RFECV</label><div class=\"sk-toggleable__content\"><pre>RFECV(cv=5, estimator=LogisticRegression(), min_features_to_select=3,\n",
              "      scoring=&#x27;f1&#x27;)</pre></div></div></div><div class=\"sk-parallel\"><div class=\"sk-parallel-item\"><div class=\"sk-item\"><div class=\"sk-label-container\"><div class=\"sk-label sk-toggleable\"><input class=\"sk-toggleable__control sk-hidden--visually\" id=\"sk-estimator-id-6\" type=\"checkbox\" ><label for=\"sk-estimator-id-6\" class=\"sk-toggleable__label sk-toggleable__label-arrow\">estimator: LogisticRegression</label><div class=\"sk-toggleable__content\"><pre>LogisticRegression()</pre></div></div></div><div class=\"sk-serial\"><div class=\"sk-item\"><div class=\"sk-estimator sk-toggleable\"><input class=\"sk-toggleable__control sk-hidden--visually\" id=\"sk-estimator-id-7\" type=\"checkbox\" ><label for=\"sk-estimator-id-7\" class=\"sk-toggleable__label sk-toggleable__label-arrow\">LogisticRegression</label><div class=\"sk-toggleable__content\"><pre>LogisticRegression()</pre></div></div></div></div></div></div></div></div></div></div>"
            ],
            "text/plain": [
              "RFECV(cv=5, estimator=LogisticRegression(), min_features_to_select=3,\n",
              "      scoring='f1')"
            ]
          },
          "execution_count": 82,
          "metadata": {},
          "output_type": "execute_result"
        }
      ],
      "source": [
        "from sklearn.feature_selection import RFECV\n",
        "from sklearn import linear_model\n",
        "model = linear_model.LogisticRegression()\n",
        "\n",
        "selector = RFECV(\n",
        "    estimator=model,\n",
        "    min_features_to_select=3,\n",
        "    scoring=\"f1\",\n",
        "    cv=5,\n",
        ")\n",
        "\n",
        "selector.fit(X_train_fe, y_train)\n"
      ]
    },
    {
      "cell_type": "markdown",
      "metadata": {},
      "source": [
        "`.support_` gives a boolean mask with False values for discarded features which we can use to filter the training dataframe"
      ]
    },
    {
      "cell_type": "code",
      "execution_count": 83,
      "metadata": {},
      "outputs": [
        {
          "data": {
            "text/plain": [
              "13"
            ]
          },
          "execution_count": 83,
          "metadata": {},
          "output_type": "execute_result"
        }
      ],
      "source": [
        "\n",
        "X_train_fe.columns[selector.support_]\n",
        "len(X_train_fe.columns[selector.support_])"
      ]
    },
    {
      "cell_type": "code",
      "execution_count": 84,
      "metadata": {},
      "outputs": [
        {
          "name": "stdout",
          "output_type": "stream",
          "text": [
            "Requirement already satisfied: yellowbrick in c:\\users\\rina\\anaconda3\\lib\\site-packages (1.5)\n",
            "Requirement already satisfied: matplotlib!=3.0.0,>=2.0.2 in c:\\users\\rina\\anaconda3\\lib\\site-packages (from yellowbrick) (3.7.2)\n",
            "Requirement already satisfied: scipy>=1.0.0 in c:\\users\\rina\\anaconda3\\lib\\site-packages (from yellowbrick) (1.11.1)\n",
            "Requirement already satisfied: scikit-learn>=1.0.0 in c:\\users\\rina\\anaconda3\\lib\\site-packages (from yellowbrick) (1.3.0)\n",
            "Requirement already satisfied: numpy>=1.16.0 in c:\\users\\rina\\anaconda3\\lib\\site-packages (from yellowbrick) (1.24.3)\n",
            "Requirement already satisfied: cycler>=0.10.0 in c:\\users\\rina\\anaconda3\\lib\\site-packages (from yellowbrick) (0.11.0)\n",
            "Requirement already satisfied: contourpy>=1.0.1 in c:\\users\\rina\\anaconda3\\lib\\site-packages (from matplotlib!=3.0.0,>=2.0.2->yellowbrick) (1.0.5)\n",
            "Requirement already satisfied: fonttools>=4.22.0 in c:\\users\\rina\\anaconda3\\lib\\site-packages (from matplotlib!=3.0.0,>=2.0.2->yellowbrick) (4.25.0)\n",
            "Requirement already satisfied: kiwisolver>=1.0.1 in c:\\users\\rina\\anaconda3\\lib\\site-packages (from matplotlib!=3.0.0,>=2.0.2->yellowbrick) (1.4.4)\n",
            "Requirement already satisfied: packaging>=20.0 in c:\\users\\rina\\anaconda3\\lib\\site-packages (from matplotlib!=3.0.0,>=2.0.2->yellowbrick) (23.1)\n",
            "Requirement already satisfied: pillow>=6.2.0 in c:\\users\\rina\\anaconda3\\lib\\site-packages (from matplotlib!=3.0.0,>=2.0.2->yellowbrick) (9.4.0)\n",
            "Requirement already satisfied: pyparsing<3.1,>=2.3.1 in c:\\users\\rina\\anaconda3\\lib\\site-packages (from matplotlib!=3.0.0,>=2.0.2->yellowbrick) (3.0.9)\n",
            "Requirement already satisfied: python-dateutil>=2.7 in c:\\users\\rina\\anaconda3\\lib\\site-packages (from matplotlib!=3.0.0,>=2.0.2->yellowbrick) (2.8.2)\n",
            "Requirement already satisfied: joblib>=1.1.1 in c:\\users\\rina\\anaconda3\\lib\\site-packages (from scikit-learn>=1.0.0->yellowbrick) (1.2.0)\n",
            "Requirement already satisfied: threadpoolctl>=2.0.0 in c:\\users\\rina\\anaconda3\\lib\\site-packages (from scikit-learn>=1.0.0->yellowbrick) (2.2.0)\n",
            "Requirement already satisfied: six>=1.5 in c:\\users\\rina\\anaconda3\\lib\\site-packages (from python-dateutil>=2.7->matplotlib!=3.0.0,>=2.0.2->yellowbrick) (1.16.0)\n"
          ]
        }
      ],
      "source": [
        "!pip install yellowbrick"
      ]
    },
    {
      "cell_type": "code",
      "execution_count": 85,
      "metadata": {},
      "outputs": [],
      "source": [
        "from yellowbrick.model_selection import RFECV"
      ]
    },
    {
      "cell_type": "code",
      "execution_count": 86,
      "metadata": {},
      "outputs": [
        {
          "data": {
            "image/png": "[encoded data removed]",
            "text/plain": [
              "<Figure size 800x550 with 1 Axes>"
            ]
          },
          "metadata": {},
          "output_type": "display_data"
        },
        {
          "data": {
            "text/plain": [
              "<Axes: title={'center': 'RFECV for LogisticRegression'}, xlabel='Number of Features Selected', ylabel='Score'>"
            ]
          },
          "execution_count": 86,
          "metadata": {},
          "output_type": "execute_result"
        }
      ],
      "source": [
        "# Instantiate RFECV visualizer with a linear SVM classifier\n",
        "visualizer = RFECV(    estimator=model,\n",
        "    min_features_to_select=3,\n",
        "    scoring=\"f1\",\n",
        "    cv=5,)\n",
        "\n",
        "visualizer.fit(X_train_fe, y_train)      # Fit the data to the visualizer\n",
        "visualizer.show()      "
      ]
    },
    {
      "cell_type": "markdown",
      "metadata": {},
      "source": [
        "Keep only the important features"
      ]
    },
    {
      "cell_type": "code",
      "execution_count": 87,
      "metadata": {
        "colab": {
          "base_uri": "https://localhost:8080/",
          "height": 302
        },
        "id": "kl1-SVmm5QCF",
        "outputId": "715de683-34ab-41fe-eff5-353bcd3f967f"
      },
      "outputs": [
        {
          "data": {
            "text/html": [
              "<div>\n",
              "<style scoped>\n",
              "    .dataframe tbody tr th:only-of-type {\n",
              "        vertical-align: middle;\n",
              "    }\n",
              "\n",
              "    .dataframe tbody tr th {\n",
              "        vertical-align: top;\n",
              "    }\n",
              "\n",
              "    .dataframe thead th {\n",
              "        text-align: right;\n",
              "    }\n",
              "</style>\n",
              "<table border=\"1\" class=\"dataframe\">\n",
              "  <thead>\n",
              "    <tr style=\"text-align: right;\">\n",
              "      <th></th>\n",
              "      <th>tenure_power_scaled</th>\n",
              "      <th>TotalCharges_power_scaled</th>\n",
              "      <th>SeniorCitizen_be</th>\n",
              "      <th>PaperlessBilling_be</th>\n",
              "      <th>InternetService_Fiber optic</th>\n",
              "      <th>InternetService_DSL</th>\n",
              "      <th>TechSupport_No</th>\n",
              "      <th>StreamingMovies_No internet service</th>\n",
              "      <th>StreamingTV_Yes</th>\n",
              "      <th>StreamingTV_No internet service</th>\n",
              "      <th>MultipleLines_No</th>\n",
              "      <th>PaymentMethod_Electronic check</th>\n",
              "      <th>OnlineSecurity_No</th>\n",
              "    </tr>\n",
              "  </thead>\n",
              "  <tbody>\n",
              "    <tr>\n",
              "      <th>0</th>\n",
              "      <td>-0.037704</td>\n",
              "      <td>0.066415</td>\n",
              "      <td>0</td>\n",
              "      <td>0</td>\n",
              "      <td>1.0</td>\n",
              "      <td>0.0</td>\n",
              "      <td>0.0</td>\n",
              "      <td>0.0</td>\n",
              "      <td>0.0</td>\n",
              "      <td>0.0</td>\n",
              "      <td>1.0</td>\n",
              "      <td>0.0</td>\n",
              "      <td>0.0</td>\n",
              "    </tr>\n",
              "    <tr>\n",
              "      <th>1</th>\n",
              "      <td>0.504461</td>\n",
              "      <td>0.605726</td>\n",
              "      <td>0</td>\n",
              "      <td>1</td>\n",
              "      <td>1.0</td>\n",
              "      <td>0.0</td>\n",
              "      <td>1.0</td>\n",
              "      <td>0.0</td>\n",
              "      <td>1.0</td>\n",
              "      <td>0.0</td>\n",
              "      <td>0.0</td>\n",
              "      <td>1.0</td>\n",
              "      <td>1.0</td>\n",
              "    </tr>\n",
              "    <tr>\n",
              "      <th>2</th>\n",
              "      <td>-0.079644</td>\n",
              "      <td>-0.057262</td>\n",
              "      <td>0</td>\n",
              "      <td>1</td>\n",
              "      <td>0.0</td>\n",
              "      <td>1.0</td>\n",
              "      <td>1.0</td>\n",
              "      <td>0.0</td>\n",
              "      <td>1.0</td>\n",
              "      <td>0.0</td>\n",
              "      <td>1.0</td>\n",
              "      <td>0.0</td>\n",
              "      <td>1.0</td>\n",
              "    </tr>\n",
              "    <tr>\n",
              "      <th>3</th>\n",
              "      <td>-0.037704</td>\n",
              "      <td>-0.233416</td>\n",
              "      <td>1</td>\n",
              "      <td>1</td>\n",
              "      <td>0.0</td>\n",
              "      <td>1.0</td>\n",
              "      <td>0.0</td>\n",
              "      <td>0.0</td>\n",
              "      <td>0.0</td>\n",
              "      <td>0.0</td>\n",
              "      <td>0.0</td>\n",
              "      <td>0.0</td>\n",
              "      <td>1.0</td>\n",
              "    </tr>\n",
              "    <tr>\n",
              "      <th>4</th>\n",
              "      <td>-1.000000</td>\n",
              "      <td>-0.677466</td>\n",
              "      <td>0</td>\n",
              "      <td>1</td>\n",
              "      <td>1.0</td>\n",
              "      <td>0.0</td>\n",
              "      <td>1.0</td>\n",
              "      <td>0.0</td>\n",
              "      <td>0.0</td>\n",
              "      <td>0.0</td>\n",
              "      <td>0.0</td>\n",
              "      <td>1.0</td>\n",
              "      <td>1.0</td>\n",
              "    </tr>\n",
              "  </tbody>\n",
              "</table>\n",
              "</div>"
            ],
            "text/plain": [
              "   tenure_power_scaled  TotalCharges_power_scaled  SeniorCitizen_be  \\\n",
              "0            -0.037704                   0.066415                 0   \n",
              "1             0.504461                   0.605726                 0   \n",
              "2            -0.079644                  -0.057262                 0   \n",
              "3            -0.037704                  -0.233416                 1   \n",
              "4            -1.000000                  -0.677466                 0   \n",
              "\n",
              "   PaperlessBilling_be  InternetService_Fiber optic  InternetService_DSL  \\\n",
              "0                    0                          1.0                  0.0   \n",
              "1                    1                          1.0                  0.0   \n",
              "2                    1                          0.0                  1.0   \n",
              "3                    1                          0.0                  1.0   \n",
              "4                    1                          1.0                  0.0   \n",
              "\n",
              "   TechSupport_No  StreamingMovies_No internet service  StreamingTV_Yes  \\\n",
              "0             0.0                                  0.0              0.0   \n",
              "1             1.0                                  0.0              1.0   \n",
              "2             1.0                                  0.0              1.0   \n",
              "3             0.0                                  0.0              0.0   \n",
              "4             1.0                                  0.0              0.0   \n",
              "\n",
              "   StreamingTV_No internet service  MultipleLines_No  \\\n",
              "0                              0.0               1.0   \n",
              "1                              0.0               0.0   \n",
              "2                              0.0               1.0   \n",
              "3                              0.0               0.0   \n",
              "4                              0.0               0.0   \n",
              "\n",
              "   PaymentMethod_Electronic check  OnlineSecurity_No  \n",
              "0                             0.0                0.0  \n",
              "1                             1.0                1.0  \n",
              "2                             0.0                1.0  \n",
              "3                             0.0                1.0  \n",
              "4                             1.0                1.0  "
            ]
          },
          "execution_count": 87,
          "metadata": {},
          "output_type": "execute_result"
        }
      ],
      "source": [
        "X_train_fe = X_train_fe.loc[:,selector.support_]\n",
        "X_train_fe.head()"
      ]
    },
    {
      "cell_type": "markdown",
      "metadata": {
        "id": "OGlpeCfHAiKy"
      },
      "source": [
        "## Model training"
      ]
    },
    {
      "cell_type": "code",
      "execution_count": 88,
      "metadata": {
        "colab": {
          "base_uri": "https://localhost:8080/"
        },
        "id": "PZ5ushEDAl0a",
        "outputId": "21ec7c3e-8330-41a5-8554-4513587cc20b"
      },
      "outputs": [
        {
          "data": {
            "text/html": [
              "<style>#sk-container-id-4 {color: black;}#sk-container-id-4 pre{padding: 0;}#sk-container-id-4 div.sk-toggleable {background-color: white;}#sk-container-id-4 label.sk-toggleable__label {cursor: pointer;display: block;width: 100%;margin-bottom: 0;padding: 0.3em;box-sizing: border-box;text-align: center;}#sk-container-id-4 label.sk-toggleable__label-arrow:before {content: \"▸\";float: left;margin-right: 0.25em;color: #696969;}#sk-container-id-4 label.sk-toggleable__label-arrow:hover:before {color: black;}#sk-container-id-4 div.sk-estimator:hover label.sk-toggleable__label-arrow:before {color: black;}#sk-container-id-4 div.sk-toggleable__content {max-height: 0;max-width: 0;overflow: hidden;text-align: left;background-color: #f0f8ff;}#sk-container-id-4 div.sk-toggleable__content pre {margin: 0.2em;color: black;border-radius: 0.25em;background-color: #f0f8ff;}#sk-container-id-4 input.sk-toggleable__control:checked~div.sk-toggleable__content {max-height: 200px;max-width: 100%;overflow: auto;}#sk-container-id-4 input.sk-toggleable__control:checked~label.sk-toggleable__label-arrow:before {content: \"▾\";}#sk-container-id-4 div.sk-estimator input.sk-toggleable__control:checked~label.sk-toggleable__label {background-color: #d4ebff;}#sk-container-id-4 div.sk-label input.sk-toggleable__control:checked~label.sk-toggleable__label {background-color: #d4ebff;}#sk-container-id-4 input.sk-hidden--visually {border: 0;clip: rect(1px 1px 1px 1px);clip: rect(1px, 1px, 1px, 1px);height: 1px;margin: -1px;overflow: hidden;padding: 0;position: absolute;width: 1px;}#sk-container-id-4 div.sk-estimator {font-family: monospace;background-color: #f0f8ff;border: 1px dotted black;border-radius: 0.25em;box-sizing: border-box;margin-bottom: 0.5em;}#sk-container-id-4 div.sk-estimator:hover {background-color: #d4ebff;}#sk-container-id-4 div.sk-parallel-item::after {content: \"\";width: 100%;border-bottom: 1px solid gray;flex-grow: 1;}#sk-container-id-4 div.sk-label:hover label.sk-toggleable__label {background-color: #d4ebff;}#sk-container-id-4 div.sk-serial::before {content: \"\";position: absolute;border-left: 1px solid gray;box-sizing: border-box;top: 0;bottom: 0;left: 50%;z-index: 0;}#sk-container-id-4 div.sk-serial {display: flex;flex-direction: column;align-items: center;background-color: white;padding-right: 0.2em;padding-left: 0.2em;position: relative;}#sk-container-id-4 div.sk-item {position: relative;z-index: 1;}#sk-container-id-4 div.sk-parallel {display: flex;align-items: stretch;justify-content: center;background-color: white;position: relative;}#sk-container-id-4 div.sk-item::before, #sk-container-id-4 div.sk-parallel-item::before {content: \"\";position: absolute;border-left: 1px solid gray;box-sizing: border-box;top: 0;bottom: 0;left: 50%;z-index: -1;}#sk-container-id-4 div.sk-parallel-item {display: flex;flex-direction: column;z-index: 1;position: relative;background-color: white;}#sk-container-id-4 div.sk-parallel-item:first-child::after {align-self: flex-end;width: 50%;}#sk-container-id-4 div.sk-parallel-item:last-child::after {align-self: flex-start;width: 50%;}#sk-container-id-4 div.sk-parallel-item:only-child::after {width: 0;}#sk-container-id-4 div.sk-dashed-wrapped {border: 1px dashed gray;margin: 0 0.4em 0.5em 0.4em;box-sizing: border-box;padding-bottom: 0.4em;background-color: white;}#sk-container-id-4 div.sk-label label {font-family: monospace;font-weight: bold;display: inline-block;line-height: 1.2em;}#sk-container-id-4 div.sk-label-container {text-align: center;}#sk-container-id-4 div.sk-container {/* jupyter's `normalize.less` sets `[hidden] { display: none; }` but bootstrap.min.css set `[hidden] { display: none !important; }` so we also need the `!important` here to be able to override the default hidden behavior on the sphinx rendered scikit-learn.org. See: https://github.com/scikit-learn/scikit-learn/issues/21755 */display: inline-block !important;position: relative;}#sk-container-id-4 div.sk-text-repr-fallback {display: none;}</style><div id=\"sk-container-id-4\" class=\"sk-top-container\"><div class=\"sk-text-repr-fallback\"><pre>GridSearchCV(cv=5, estimator=LogisticRegression(max_iter=1000),\n",
              "             param_grid={&#x27;class_weight&#x27;: [None, &#x27;balanced&#x27;],\n",
              "                         &#x27;solver&#x27;: [&#x27;newton-cg&#x27;, &#x27;lbfgs&#x27;, &#x27;liblinear&#x27;, &#x27;sag&#x27;,\n",
              "                                    &#x27;saga&#x27;]},\n",
              "             scoring=&#x27;f1&#x27;)</pre><b>In a Jupyter environment, please rerun this cell to show the HTML representation or trust the notebook. <br />On GitHub, the HTML representation is unable to render, please try loading this page with nbviewer.org.</b></div><div class=\"sk-container\" hidden><div class=\"sk-item sk-dashed-wrapped\"><div class=\"sk-label-container\"><div class=\"sk-label sk-toggleable\"><input class=\"sk-toggleable__control sk-hidden--visually\" id=\"sk-estimator-id-8\" type=\"checkbox\" ><label for=\"sk-estimator-id-8\" class=\"sk-toggleable__label sk-toggleable__label-arrow\">GridSearchCV</label><div class=\"sk-toggleable__content\"><pre>GridSearchCV(cv=5, estimator=LogisticRegression(max_iter=1000),\n",
              "             param_grid={&#x27;class_weight&#x27;: [None, &#x27;balanced&#x27;],\n",
              "                         &#x27;solver&#x27;: [&#x27;newton-cg&#x27;, &#x27;lbfgs&#x27;, &#x27;liblinear&#x27;, &#x27;sag&#x27;,\n",
              "                                    &#x27;saga&#x27;]},\n",
              "             scoring=&#x27;f1&#x27;)</pre></div></div></div><div class=\"sk-parallel\"><div class=\"sk-parallel-item\"><div class=\"sk-item\"><div class=\"sk-label-container\"><div class=\"sk-label sk-toggleable\"><input class=\"sk-toggleable__control sk-hidden--visually\" id=\"sk-estimator-id-9\" type=\"checkbox\" ><label for=\"sk-estimator-id-9\" class=\"sk-toggleable__label sk-toggleable__label-arrow\">estimator: LogisticRegression</label><div class=\"sk-toggleable__content\"><pre>LogisticRegression(max_iter=1000)</pre></div></div></div><div class=\"sk-serial\"><div class=\"sk-item\"><div class=\"sk-estimator sk-toggleable\"><input class=\"sk-toggleable__control sk-hidden--visually\" id=\"sk-estimator-id-10\" type=\"checkbox\" ><label for=\"sk-estimator-id-10\" class=\"sk-toggleable__label sk-toggleable__label-arrow\">LogisticRegression</label><div class=\"sk-toggleable__content\"><pre>LogisticRegression(max_iter=1000)</pre></div></div></div></div></div></div></div></div></div></div>"
            ],
            "text/plain": [
              "GridSearchCV(cv=5, estimator=LogisticRegression(max_iter=1000),\n",
              "             param_grid={'class_weight': [None, 'balanced'],\n",
              "                         'solver': ['newton-cg', 'lbfgs', 'liblinear', 'sag',\n",
              "                                    'saga']},\n",
              "             scoring='f1')"
            ]
          },
          "execution_count": 88,
          "metadata": {},
          "output_type": "execute_result"
        }
      ],
      "source": [
        "from sklearn.model_selection import GridSearchCV\n",
        "\n",
        "# Define grid\n",
        "parameters = {'class_weight': [None, 'balanced'], 'solver':['newton-cg', 'lbfgs', 'liblinear', 'sag', 'saga']}\n",
        "\n",
        "model = linear_model.LogisticRegression(fit_intercept = True, max_iter = 1000)\n",
        "\n",
        "grid_search = GridSearchCV(model, parameters, cv = 5, scoring = \"f1\")\n",
        "grid_search.fit(X_train_fe, y_train)"
      ]
    },
    {
      "cell_type": "code",
      "execution_count": 89,
      "metadata": {
        "colab": {
          "base_uri": "https://localhost:8080/",
          "height": 455
        },
        "id": "lxWf0GquAlw1",
        "outputId": "d05a1f17-b955-434a-b3f0-b27829d8c289"
      },
      "outputs": [
        {
          "data": {
            "text/html": [
              "<div>\n",
              "<style scoped>\n",
              "    .dataframe tbody tr th:only-of-type {\n",
              "        vertical-align: middle;\n",
              "    }\n",
              "\n",
              "    .dataframe tbody tr th {\n",
              "        vertical-align: top;\n",
              "    }\n",
              "\n",
              "    .dataframe thead th {\n",
              "        text-align: right;\n",
              "    }\n",
              "</style>\n",
              "<table border=\"1\" class=\"dataframe\">\n",
              "  <thead>\n",
              "    <tr style=\"text-align: right;\">\n",
              "      <th></th>\n",
              "      <th>mean_fit_time</th>\n",
              "      <th>std_fit_time</th>\n",
              "      <th>mean_score_time</th>\n",
              "      <th>std_score_time</th>\n",
              "      <th>param_class_weight</th>\n",
              "      <th>param_solver</th>\n",
              "      <th>params</th>\n",
              "      <th>split0_test_score</th>\n",
              "      <th>split1_test_score</th>\n",
              "      <th>split2_test_score</th>\n",
              "      <th>split3_test_score</th>\n",
              "      <th>split4_test_score</th>\n",
              "      <th>mean_test_score</th>\n",
              "      <th>std_test_score</th>\n",
              "      <th>rank_test_score</th>\n",
              "    </tr>\n",
              "  </thead>\n",
              "  <tbody>\n",
              "    <tr>\n",
              "      <th>7</th>\n",
              "      <td>0.009458</td>\n",
              "      <td>0.006478</td>\n",
              "      <td>0.001351</td>\n",
              "      <td>0.002703</td>\n",
              "      <td>balanced</td>\n",
              "      <td>liblinear</td>\n",
              "      <td>{'class_weight': 'balanced', 'solver': 'liblin...</td>\n",
              "      <td>0.646749</td>\n",
              "      <td>0.663102</td>\n",
              "      <td>0.677656</td>\n",
              "      <td>0.696915</td>\n",
              "      <td>0.660714</td>\n",
              "      <td>0.669027</td>\n",
              "      <td>0.017045</td>\n",
              "      <td>1</td>\n",
              "    </tr>\n",
              "    <tr>\n",
              "      <th>5</th>\n",
              "      <td>0.017286</td>\n",
              "      <td>0.002110</td>\n",
              "      <td>0.000000</td>\n",
              "      <td>0.000000</td>\n",
              "      <td>balanced</td>\n",
              "      <td>newton-cg</td>\n",
              "      <td>{'class_weight': 'balanced', 'solver': 'newton...</td>\n",
              "      <td>0.649123</td>\n",
              "      <td>0.661922</td>\n",
              "      <td>0.673993</td>\n",
              "      <td>0.696915</td>\n",
              "      <td>0.660714</td>\n",
              "      <td>0.668533</td>\n",
              "      <td>0.016229</td>\n",
              "      <td>2</td>\n",
              "    </tr>\n",
              "    <tr>\n",
              "      <th>6</th>\n",
              "      <td>0.008630</td>\n",
              "      <td>0.007372</td>\n",
              "      <td>0.003130</td>\n",
              "      <td>0.006260</td>\n",
              "      <td>balanced</td>\n",
              "      <td>lbfgs</td>\n",
              "      <td>{'class_weight': 'balanced', 'solver': 'lbfgs'}</td>\n",
              "      <td>0.649123</td>\n",
              "      <td>0.661922</td>\n",
              "      <td>0.673993</td>\n",
              "      <td>0.696915</td>\n",
              "      <td>0.660714</td>\n",
              "      <td>0.668533</td>\n",
              "      <td>0.016229</td>\n",
              "      <td>2</td>\n",
              "    </tr>\n",
              "    <tr>\n",
              "      <th>8</th>\n",
              "      <td>0.019024</td>\n",
              "      <td>0.003854</td>\n",
              "      <td>0.000000</td>\n",
              "      <td>0.000000</td>\n",
              "      <td>balanced</td>\n",
              "      <td>sag</td>\n",
              "      <td>{'class_weight': 'balanced', 'solver': 'sag'}</td>\n",
              "      <td>0.649123</td>\n",
              "      <td>0.661922</td>\n",
              "      <td>0.673993</td>\n",
              "      <td>0.696915</td>\n",
              "      <td>0.660714</td>\n",
              "      <td>0.668533</td>\n",
              "      <td>0.016229</td>\n",
              "      <td>2</td>\n",
              "    </tr>\n",
              "    <tr>\n",
              "      <th>9</th>\n",
              "      <td>0.032260</td>\n",
              "      <td>0.002487</td>\n",
              "      <td>0.001395</td>\n",
              "      <td>0.002790</td>\n",
              "      <td>balanced</td>\n",
              "      <td>saga</td>\n",
              "      <td>{'class_weight': 'balanced', 'solver': 'saga'}</td>\n",
              "      <td>0.649123</td>\n",
              "      <td>0.661922</td>\n",
              "      <td>0.673993</td>\n",
              "      <td>0.696915</td>\n",
              "      <td>0.660714</td>\n",
              "      <td>0.668533</td>\n",
              "      <td>0.016229</td>\n",
              "      <td>2</td>\n",
              "    </tr>\n",
              "  </tbody>\n",
              "</table>\n",
              "</div>"
            ],
            "text/plain": [
              "   mean_fit_time  std_fit_time  mean_score_time  std_score_time  \\\n",
              "7       0.009458      0.006478         0.001351        0.002703   \n",
              "5       0.017286      0.002110         0.000000        0.000000   \n",
              "6       0.008630      0.007372         0.003130        0.006260   \n",
              "8       0.019024      0.003854         0.000000        0.000000   \n",
              "9       0.032260      0.002487         0.001395        0.002790   \n",
              "\n",
              "  param_class_weight param_solver  \\\n",
              "7           balanced    liblinear   \n",
              "5           balanced    newton-cg   \n",
              "6           balanced        lbfgs   \n",
              "8           balanced          sag   \n",
              "9           balanced         saga   \n",
              "\n",
              "                                              params  split0_test_score  \\\n",
              "7  {'class_weight': 'balanced', 'solver': 'liblin...           0.646749   \n",
              "5  {'class_weight': 'balanced', 'solver': 'newton...           0.649123   \n",
              "6    {'class_weight': 'balanced', 'solver': 'lbfgs'}           0.649123   \n",
              "8      {'class_weight': 'balanced', 'solver': 'sag'}           0.649123   \n",
              "9     {'class_weight': 'balanced', 'solver': 'saga'}           0.649123   \n",
              "\n",
              "   split1_test_score  split2_test_score  split3_test_score  split4_test_score  \\\n",
              "7           0.663102           0.677656           0.696915           0.660714   \n",
              "5           0.661922           0.673993           0.696915           0.660714   \n",
              "6           0.661922           0.673993           0.696915           0.660714   \n",
              "8           0.661922           0.673993           0.696915           0.660714   \n",
              "9           0.661922           0.673993           0.696915           0.660714   \n",
              "\n",
              "   mean_test_score  std_test_score  rank_test_score  \n",
              "7         0.669027        0.017045                1  \n",
              "5         0.668533        0.016229                2  \n",
              "6         0.668533        0.016229                2  \n",
              "8         0.668533        0.016229                2  \n",
              "9         0.668533        0.016229                2  "
            ]
          },
          "execution_count": 89,
          "metadata": {},
          "output_type": "execute_result"
        }
      ],
      "source": [
        "pd.DataFrame((grid_search.cv_results_)).sort_values(\"rank_test_score\").head()"
      ]
    },
    {
      "cell_type": "markdown",
      "metadata": {
        "id": "roBqqMdpBd86"
      },
      "source": [
        "Train on all training data"
      ]
    },
    {
      "cell_type": "code",
      "execution_count": 90,
      "metadata": {
        "colab": {
          "base_uri": "https://localhost:8080/"
        },
        "id": "cJ81-AY-AlqX",
        "outputId": "37be4269-900f-41a5-9767-2474edbb4d9a"
      },
      "outputs": [
        {
          "data": {
            "text/html": [
              "<style>#sk-container-id-5 {color: black;}#sk-container-id-5 pre{padding: 0;}#sk-container-id-5 div.sk-toggleable {background-color: white;}#sk-container-id-5 label.sk-toggleable__label {cursor: pointer;display: block;width: 100%;margin-bottom: 0;padding: 0.3em;box-sizing: border-box;text-align: center;}#sk-container-id-5 label.sk-toggleable__label-arrow:before {content: \"▸\";float: left;margin-right: 0.25em;color: #696969;}#sk-container-id-5 label.sk-toggleable__label-arrow:hover:before {color: black;}#sk-container-id-5 div.sk-estimator:hover label.sk-toggleable__label-arrow:before {color: black;}#sk-container-id-5 div.sk-toggleable__content {max-height: 0;max-width: 0;overflow: hidden;text-align: left;background-color: #f0f8ff;}#sk-container-id-5 div.sk-toggleable__content pre {margin: 0.2em;color: black;border-radius: 0.25em;background-color: #f0f8ff;}#sk-container-id-5 input.sk-toggleable__control:checked~div.sk-toggleable__content {max-height: 200px;max-width: 100%;overflow: auto;}#sk-container-id-5 input.sk-toggleable__control:checked~label.sk-toggleable__label-arrow:before {content: \"▾\";}#sk-container-id-5 div.sk-estimator input.sk-toggleable__control:checked~label.sk-toggleable__label {background-color: #d4ebff;}#sk-container-id-5 div.sk-label input.sk-toggleable__control:checked~label.sk-toggleable__label {background-color: #d4ebff;}#sk-container-id-5 input.sk-hidden--visually {border: 0;clip: rect(1px 1px 1px 1px);clip: rect(1px, 1px, 1px, 1px);height: 1px;margin: -1px;overflow: hidden;padding: 0;position: absolute;width: 1px;}#sk-container-id-5 div.sk-estimator {font-family: monospace;background-color: #f0f8ff;border: 1px dotted black;border-radius: 0.25em;box-sizing: border-box;margin-bottom: 0.5em;}#sk-container-id-5 div.sk-estimator:hover {background-color: #d4ebff;}#sk-container-id-5 div.sk-parallel-item::after {content: \"\";width: 100%;border-bottom: 1px solid gray;flex-grow: 1;}#sk-container-id-5 div.sk-label:hover label.sk-toggleable__label {background-color: #d4ebff;}#sk-container-id-5 div.sk-serial::before {content: \"\";position: absolute;border-left: 1px solid gray;box-sizing: border-box;top: 0;bottom: 0;left: 50%;z-index: 0;}#sk-container-id-5 div.sk-serial {display: flex;flex-direction: column;align-items: center;background-color: white;padding-right: 0.2em;padding-left: 0.2em;position: relative;}#sk-container-id-5 div.sk-item {position: relative;z-index: 1;}#sk-container-id-5 div.sk-parallel {display: flex;align-items: stretch;justify-content: center;background-color: white;position: relative;}#sk-container-id-5 div.sk-item::before, #sk-container-id-5 div.sk-parallel-item::before {content: \"\";position: absolute;border-left: 1px solid gray;box-sizing: border-box;top: 0;bottom: 0;left: 50%;z-index: -1;}#sk-container-id-5 div.sk-parallel-item {display: flex;flex-direction: column;z-index: 1;position: relative;background-color: white;}#sk-container-id-5 div.sk-parallel-item:first-child::after {align-self: flex-end;width: 50%;}#sk-container-id-5 div.sk-parallel-item:last-child::after {align-self: flex-start;width: 50%;}#sk-container-id-5 div.sk-parallel-item:only-child::after {width: 0;}#sk-container-id-5 div.sk-dashed-wrapped {border: 1px dashed gray;margin: 0 0.4em 0.5em 0.4em;box-sizing: border-box;padding-bottom: 0.4em;background-color: white;}#sk-container-id-5 div.sk-label label {font-family: monospace;font-weight: bold;display: inline-block;line-height: 1.2em;}#sk-container-id-5 div.sk-label-container {text-align: center;}#sk-container-id-5 div.sk-container {/* jupyter's `normalize.less` sets `[hidden] { display: none; }` but bootstrap.min.css set `[hidden] { display: none !important; }` so we also need the `!important` here to be able to override the default hidden behavior on the sphinx rendered scikit-learn.org. See: https://github.com/scikit-learn/scikit-learn/issues/21755 */display: inline-block !important;position: relative;}#sk-container-id-5 div.sk-text-repr-fallback {display: none;}</style><div id=\"sk-container-id-5\" class=\"sk-top-container\"><div class=\"sk-text-repr-fallback\"><pre>LogisticRegression(class_weight=&#x27;balanced&#x27;, max_iter=1000, solver=&#x27;liblinear&#x27;)</pre><b>In a Jupyter environment, please rerun this cell to show the HTML representation or trust the notebook. <br />On GitHub, the HTML representation is unable to render, please try loading this page with nbviewer.org.</b></div><div class=\"sk-container\" hidden><div class=\"sk-item\"><div class=\"sk-estimator sk-toggleable\"><input class=\"sk-toggleable__control sk-hidden--visually\" id=\"sk-estimator-id-11\" type=\"checkbox\" checked><label for=\"sk-estimator-id-11\" class=\"sk-toggleable__label sk-toggleable__label-arrow\">LogisticRegression</label><div class=\"sk-toggleable__content\"><pre>LogisticRegression(class_weight=&#x27;balanced&#x27;, max_iter=1000, solver=&#x27;liblinear&#x27;)</pre></div></div></div></div></div>"
            ],
            "text/plain": [
              "LogisticRegression(class_weight='balanced', max_iter=1000, solver='liblinear')"
            ]
          },
          "execution_count": 90,
          "metadata": {},
          "output_type": "execute_result"
        }
      ],
      "source": [
        "best_model = grid_search.best_estimator_\n",
        "\n",
        "# Train model on full training set\n",
        "best_model.fit(X_train_fe, y_train)"
      ]
    },
    {
      "cell_type": "markdown",
      "metadata": {
        "id": "K48VYQZUBkdf"
      },
      "source": [
        "Plot feature importance"
      ]
    },
    {
      "cell_type": "code",
      "execution_count": 91,
      "metadata": {
        "colab": {
          "base_uri": "https://localhost:8080/",
          "height": 456
        },
        "id": "HhB00s1tBAYZ",
        "outputId": "d65b2e01-dcd3-4d35-c17d-c317a36e14a1"
      },
      "outputs": [
        {
          "data": {
            "text/plain": [
              "<Axes: xlabel='Feature'>"
            ]
          },
          "execution_count": 91,
          "metadata": {},
          "output_type": "execute_result"
        },
        {
          "data": {
            "image/png": "[encoded data removed]",
            "text/plain": [
              "<Figure size 800x550 with 1 Axes>"
            ]
          },
          "metadata": {},
          "output_type": "display_data"
        }
      ],
      "source": [
        "# Feature Importance\n",
        "feature_importance_df = pd.DataFrame({\"Feature\": list(X_train_fe.columns), \"Coefficient\": best_model.coef_[0]})\n",
        "feature_importance_df.sort_values(\"Coefficient\").plot.bar(x = \"Feature\", y=\"Coefficient\")"
      ]
    },
    {
      "cell_type": "code",
      "execution_count": 92,
      "metadata": {
        "colab": {
          "base_uri": "https://localhost:8080/",
          "height": 279
        },
        "id": "FjUPksGAjw4v",
        "outputId": "676ed249-8a06-4e0a-cd35-9ccb0718f371"
      },
      "outputs": [
        {
          "data": {
            "image/png": "[encoded data removed]",
            "text/plain": [
              "<Figure size 800x550 with 2 Axes>"
            ]
          },
          "metadata": {},
          "output_type": "display_data"
        }
      ],
      "source": [
        "from sklearn.metrics import confusion_matrix, ConfusionMatrixDisplay\n",
        "y_pred = best_model.predict(X_train_fe)\n",
        "\n",
        "cm = confusion_matrix(y_train, y_pred, labels = best_model.classes_)\n",
        "plt = ConfusionMatrixDisplay(confusion_matrix=cm, display_labels=best_model .classes_)\n",
        "plt.plot(cmap = \"Blues\");"
      ]
    },
    {
      "cell_type": "code",
      "execution_count": 93,
      "metadata": {},
      "outputs": [
        {
          "name": "stdout",
          "output_type": "stream",
          "text": [
            "f1 score 0.6730837789661319\n",
            "accuracy score 0.7041935483870968\n"
          ]
        }
      ],
      "source": [
        "from sklearn.metrics import f1_score, accuracy_score\n",
        "\n",
        "print(f'f1 score {f1_score(y_train, y_pred)}')\n",
        "print(f'accuracy score {accuracy_score(y_train, y_pred)}')"
      ]
    },
    {
      "cell_type": "markdown",
      "metadata": {
        "id": "pnM5xKCgJLVN"
      },
      "source": [
        "## Model evaluation"
      ]
    },
    {
      "cell_type": "markdown",
      "metadata": {
        "id": "eX4u7yp1EROc"
      },
      "source": [
        "Inference pipeline"
      ]
    },
    {
      "cell_type": "code",
      "execution_count": 94,
      "metadata": {
        "id": "J-C2rAwLCbZG"
      },
      "outputs": [
        {
          "name": "stderr",
          "output_type": "stream",
          "text": [
            "c:\\Users\\Rina\\anaconda3\\Lib\\site-packages\\sklearn\\preprocessing\\_encoders.py:972: FutureWarning: `sparse` was renamed to `sparse_output` in version 1.2 and will be removed in 1.4. `sparse_output` is ignored unless you leave `sparse` to its default value.\n",
            "  warnings.warn(\n"
          ]
        }
      ],
      "source": [
        "# Numeric features\n",
        "# Applying power transformation as we did during training \n",
        "X_test[['tenure_power', 'TotalCharges_power']] = power_transform(X_test[['tenure', 'TotalCharges']], method='box-cox')\n",
        "\n",
        "\n",
        "\n",
        "# Applying min-max normalization as we did during training \n",
        "for column in ['tenure_power', 'TotalCharges_power', 'MonthlyCharges']:\n",
        "  max = X_train[column].max() # keep stats from training\n",
        "  min = X_train[column].min() # keep stats from training\n",
        "  new_col = str(column + \"_scaled\")\n",
        "  X_test[new_col] = X_test[column].apply(lambda x: ab_scaler(x =x, a=-1, b=1, max_x = max, min_x = min))\n",
        "  \n",
        "\n",
        "# keep only scaled features  \n",
        "numeric_features_test = X_test.filter(regex='_scaled', axis=1).reset_index(drop = True)\n",
        "  \n",
        "# Categorical features - apply label encoding on binary features\n",
        "for column in binary_cols:\n",
        "  new_col = str(column + \"_be\")\n",
        "  X_test[new_col] = encoder.fit_transform(X_test[column])\n",
        "\n",
        "# keep only label-encoded columns\n",
        "binary_features_test = X_test.filter(regex='_be', axis=1).reset_index(drop = True)\n",
        "\n",
        "# Categorical features - apply one-hot encoding\n",
        "onehot_encoder = OneHotEncoder(sparse=False, categories = categories) # same categories as in training\n",
        "multiclass_features_test = onehot_encoder.fit_transform(X_test[multiclass_cols])\n",
        "multiclass_features_test = pd.DataFrame(multiclass_features_test, columns=onehot_encoder.get_feature_names_out())\n",
        "\n",
        "# Join all features (i.e., numerical + binary + categorical)\n",
        "X_test_fe = pd.concat([numeric_features_test, binary_features_test, multiclass_features_test], axis = 1)\n",
        "\n",
        "# Keep only relevant features\n",
        "X_test_fe = X_test_fe.loc[:,selector.support_]\n"
      ]
    },
    {
      "cell_type": "markdown",
      "metadata": {
        "id": "BIaPiE2FIy7I"
      },
      "source": [
        "### Evaluation"
      ]
    },
    {
      "cell_type": "code",
      "execution_count": 95,
      "metadata": {
        "colab": {
          "base_uri": "https://localhost:8080/"
        },
        "id": "NvyzEKqrHew5",
        "outputId": "26c8ad40-b8bf-4c9c-d990-8cc502a09581"
      },
      "outputs": [
        {
          "name": "stdout",
          "output_type": "stream",
          "text": [
            "f1 score 0.6704545454545455\n",
            "accuracy score 0.7006451612903226\n"
          ]
        }
      ],
      "source": [
        "from sklearn.metrics import f1_score, accuracy_score\n",
        "\n",
        "# Calculate F1-Score for test set\n",
        "y_pred = best_model.predict(X_test_fe)\n",
        "print(f'f1 score {f1_score(y_test, y_pred)}')\n",
        "print(f'accuracy score {accuracy_score(y_test, y_pred)}')"
      ]
    },
    {
      "cell_type": "code",
      "execution_count": 96,
      "metadata": {},
      "outputs": [
        {
          "data": {
            "image/png": "[encoded data removed]",
            "text/plain": [
              "<Figure size 800x550 with 2 Axes>"
            ]
          },
          "metadata": {},
          "output_type": "display_data"
        }
      ],
      "source": [
        "cm = confusion_matrix(y_test, y_pred, labels = best_model.classes_)\n",
        "plt = ConfusionMatrixDisplay(confusion_matrix=cm, display_labels=best_model .classes_)\n",
        "plt.plot(cmap = \"Blues\");"
      ]
    }
  ],
  "metadata": {
    "colab": {
      "provenance": [],
      "toc_visible": true
    },
    "kernelspec": {
      "display_name": "Python 3",
      "name": "python3"
    },
    "language_info": {
      "codemirror_mode": {
        "name": "ipython",
        "version": 3
      },
      "file_extension": ".py",
      "mimetype": "text/x-python",
      "name": "python",
      "nbconvert_exporter": "python",
      "pygments_lexer": "ipython3",
      "version": "3.11.5"
    }
  },
  "nbformat": 4,
  "nbformat_minor": 0
}
