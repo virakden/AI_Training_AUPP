{
  "cells": [
    {
      "cell_type": "markdown",
      "metadata": {
        "id": "X5fOzoLMKTw0"
      },
      "source": [
        "# Multinomial Naive Bayes - Spam Detection Case Study"
      ]
    },
    {
      "cell_type": "markdown",
      "metadata": {
        "id": "J8Y7Pb51cupw"
      },
      "source": [
        "In this case study, we want to build a classifier that can predict whether a new SMS message is spam or not. \n",
        "\n",
        "We'll first create the Multinomial Naive Bayes algorithms from scratch and then compare the results against the implementation in Scikit-learn!"
      ]
    },
    {
      "cell_type": "markdown",
      "metadata": {
        "id": "6tsCD07aKu7W"
      },
      "source": [
        "### Dataset\n",
        "\n",
        "SMS Spam Collection Dataset - Collection of SMS messages tagged as spam or legitimate\n",
        "\n",
        "UCI Machine Learning\n",
        "\n",
        "http://www.dt.fee.unicamp.br/~tiago/smsspamcollection/\n"
      ]
    },
    {
      "cell_type": "code",
      "execution_count": 1,
      "metadata": {
        "id": "KNOzAlHCc_w0"
      },
      "outputs": [],
      "source": [
        "import pandas as pd\n",
        "import numpy as np"
      ]
    },
    {
      "cell_type": "code",
      "execution_count": 8,
      "metadata": {
        "colab": {
          "base_uri": "https://localhost:8080/",
          "height": 424
        },
        "id": "78Izd2e1LlCc",
        "outputId": "e700070b-adeb-413e-bed6-8fe5b5eb09b1"
      },
      "outputs": [
        {
          "data": {
            "text/html": [
              "<div>\n",
              "<style scoped>\n",
              "    .dataframe tbody tr th:only-of-type {\n",
              "        vertical-align: middle;\n",
              "    }\n",
              "\n",
              "    .dataframe tbody tr th {\n",
              "        vertical-align: top;\n",
              "    }\n",
              "\n",
              "    .dataframe thead th {\n",
              "        text-align: right;\n",
              "    }\n",
              "</style>\n",
              "<table border=\"1\" class=\"dataframe\">\n",
              "  <thead>\n",
              "    <tr style=\"text-align: right;\">\n",
              "      <th></th>\n",
              "      <th>label</th>\n",
              "      <th>message</th>\n",
              "    </tr>\n",
              "  </thead>\n",
              "  <tbody>\n",
              "    <tr>\n",
              "      <th>0</th>\n",
              "      <td>ham</td>\n",
              "      <td>Ok lar... Joking wif u oni...</td>\n",
              "    </tr>\n",
              "    <tr>\n",
              "      <th>1</th>\n",
              "      <td>spam</td>\n",
              "      <td>Free entry in 2 a wkly comp to win FA Cup fina...</td>\n",
              "    </tr>\n",
              "    <tr>\n",
              "      <th>2</th>\n",
              "      <td>ham</td>\n",
              "      <td>U dun say so early hor... U c already then say...</td>\n",
              "    </tr>\n",
              "    <tr>\n",
              "      <th>3</th>\n",
              "      <td>ham</td>\n",
              "      <td>Nah I don't think he goes to usf, he lives aro...</td>\n",
              "    </tr>\n",
              "    <tr>\n",
              "      <th>4</th>\n",
              "      <td>spam</td>\n",
              "      <td>FreeMsg Hey there darling it's been 3 week's n...</td>\n",
              "    </tr>\n",
              "    <tr>\n",
              "      <th>...</th>\n",
              "      <td>...</td>\n",
              "      <td>...</td>\n",
              "    </tr>\n",
              "    <tr>\n",
              "      <th>5566</th>\n",
              "      <td>spam</td>\n",
              "      <td>This is the 2nd time we have tried 2 contact u...</td>\n",
              "    </tr>\n",
              "    <tr>\n",
              "      <th>5567</th>\n",
              "      <td>ham</td>\n",
              "      <td>Will ü b going to esplanade fr home?</td>\n",
              "    </tr>\n",
              "    <tr>\n",
              "      <th>5568</th>\n",
              "      <td>ham</td>\n",
              "      <td>Pity, * was in mood for that. So...any other s...</td>\n",
              "    </tr>\n",
              "    <tr>\n",
              "      <th>5569</th>\n",
              "      <td>ham</td>\n",
              "      <td>The guy did some bitching but I acted like i'd...</td>\n",
              "    </tr>\n",
              "    <tr>\n",
              "      <th>5570</th>\n",
              "      <td>ham</td>\n",
              "      <td>Rofl. Its true to its name</td>\n",
              "    </tr>\n",
              "  </tbody>\n",
              "</table>\n",
              "<p>5571 rows × 2 columns</p>\n",
              "</div>"
            ],
            "text/plain": [
              "     label                                            message\n",
              "0      ham                      Ok lar... Joking wif u oni...\n",
              "1     spam  Free entry in 2 a wkly comp to win FA Cup fina...\n",
              "2      ham  U dun say so early hor... U c already then say...\n",
              "3      ham  Nah I don't think he goes to usf, he lives aro...\n",
              "4     spam  FreeMsg Hey there darling it's been 3 week's n...\n",
              "...    ...                                                ...\n",
              "5566  spam  This is the 2nd time we have tried 2 contact u...\n",
              "5567   ham               Will ü b going to esplanade fr home?\n",
              "5568   ham  Pity, * was in mood for that. So...any other s...\n",
              "5569   ham  The guy did some bitching but I acted like i'd...\n",
              "5570   ham                         Rofl. Its true to its name\n",
              "\n",
              "[5571 rows x 2 columns]"
            ]
          },
          "execution_count": 8,
          "metadata": {},
          "output_type": "execute_result"
        }
      ],
      "source": [
        "sms = pd.read_csv(\"SMSSpamCollection\", usecols=[0,1], skiprows=1, names=[\"label\", \"message\"], sep=\"\\t\")\n",
        "sms"
      ]
    },
    {
      "cell_type": "markdown",
      "metadata": {
        "id": "LfdM593dd5e6"
      },
      "source": [
        "Start with small dataset first..."
      ]
    },
    {
      "cell_type": "code",
      "execution_count": 10,
      "metadata": {
        "colab": {
          "base_uri": "https://localhost:8080/",
          "height": 363
        },
        "id": "Ft0atW-_d7aI",
        "outputId": "691983f9-5a4a-478a-faf9-595c63b5ff0d"
      },
      "outputs": [
        {
          "data": {
            "text/html": [
              "<div>\n",
              "<style scoped>\n",
              "    .dataframe tbody tr th:only-of-type {\n",
              "        vertical-align: middle;\n",
              "    }\n",
              "\n",
              "    .dataframe tbody tr th {\n",
              "        vertical-align: top;\n",
              "    }\n",
              "\n",
              "    .dataframe thead th {\n",
              "        text-align: right;\n",
              "    }\n",
              "</style>\n",
              "<table border=\"1\" class=\"dataframe\">\n",
              "  <thead>\n",
              "    <tr style=\"text-align: right;\">\n",
              "      <th></th>\n",
              "      <th>label</th>\n",
              "      <th>message</th>\n",
              "    </tr>\n",
              "  </thead>\n",
              "  <tbody>\n",
              "    <tr>\n",
              "      <th>0</th>\n",
              "      <td>ham</td>\n",
              "      <td>Ok lar... Joking wif u oni...</td>\n",
              "    </tr>\n",
              "    <tr>\n",
              "      <th>1</th>\n",
              "      <td>spam</td>\n",
              "      <td>Free entry in 2 a wkly comp to win FA Cup fina...</td>\n",
              "    </tr>\n",
              "    <tr>\n",
              "      <th>2</th>\n",
              "      <td>ham</td>\n",
              "      <td>U dun say so early hor... U c already then say...</td>\n",
              "    </tr>\n",
              "    <tr>\n",
              "      <th>3</th>\n",
              "      <td>ham</td>\n",
              "      <td>Nah I don't think he goes to usf, he lives aro...</td>\n",
              "    </tr>\n",
              "    <tr>\n",
              "      <th>4</th>\n",
              "      <td>spam</td>\n",
              "      <td>FreeMsg Hey there darling it's been 3 week's n...</td>\n",
              "    </tr>\n",
              "    <tr>\n",
              "      <th>5</th>\n",
              "      <td>ham</td>\n",
              "      <td>Even my brother is not like to speak with me. ...</td>\n",
              "    </tr>\n",
              "    <tr>\n",
              "      <th>6</th>\n",
              "      <td>ham</td>\n",
              "      <td>As per your request 'Melle Melle (Oru Minnamin...</td>\n",
              "    </tr>\n",
              "    <tr>\n",
              "      <th>7</th>\n",
              "      <td>spam</td>\n",
              "      <td>WINNER!! As a valued network customer you have...</td>\n",
              "    </tr>\n",
              "    <tr>\n",
              "      <th>8</th>\n",
              "      <td>spam</td>\n",
              "      <td>Had your mobile 11 months or more? U R entitle...</td>\n",
              "    </tr>\n",
              "    <tr>\n",
              "      <th>9</th>\n",
              "      <td>ham</td>\n",
              "      <td>I'm gonna be home soon and i don't want to tal...</td>\n",
              "    </tr>\n",
              "  </tbody>\n",
              "</table>\n",
              "</div>"
            ],
            "text/plain": [
              "  label                                            message\n",
              "0   ham                      Ok lar... Joking wif u oni...\n",
              "1  spam  Free entry in 2 a wkly comp to win FA Cup fina...\n",
              "2   ham  U dun say so early hor... U c already then say...\n",
              "3   ham  Nah I don't think he goes to usf, he lives aro...\n",
              "4  spam  FreeMsg Hey there darling it's been 3 week's n...\n",
              "5   ham  Even my brother is not like to speak with me. ...\n",
              "6   ham  As per your request 'Melle Melle (Oru Minnamin...\n",
              "7  spam  WINNER!! As a valued network customer you have...\n",
              "8  spam  Had your mobile 11 months or more? U R entitle...\n",
              "9   ham  I'm gonna be home soon and i don't want to tal..."
            ]
          },
          "execution_count": 10,
          "metadata": {},
          "output_type": "execute_result"
        }
      ],
      "source": [
        "sms = sms.head(10)\n",
        "sms"
      ]
    },
    {
      "cell_type": "code",
      "execution_count": 11,
      "metadata": {
        "id": "S82YVJ7sMxTB"
      },
      "outputs": [],
      "source": [
        "X = sms['message'].to_list()\n",
        "y = sms['label'].to_list()"
      ]
    },
    {
      "cell_type": "markdown",
      "metadata": {},
      "source": [
        "## Scikit-Learn implementation "
      ]
    },
    {
      "cell_type": "code",
      "execution_count": 13,
      "metadata": {},
      "outputs": [
        {
          "data": {
            "text/plain": [
              "array(['ham', 'spam', 'spam', 'ham', 'spam', 'ham'], dtype='<U4')"
            ]
          },
          "execution_count": 13,
          "metadata": {},
          "output_type": "execute_result"
        }
      ],
      "source": [
        "# Scikit learn predictions\n",
        "\n",
        "from sklearn.naive_bayes import MultinomialNB\n",
        "from sklearn.feature_extraction.text import CountVectorizer\n",
        "\n",
        "# Preprocess with CountVectorizer\n",
        "cv = CountVectorizer(lowercase=True, stop_words='english')\n",
        "\n",
        "X_train_cv = cv.fit_transform(X)\n",
        "\n",
        "# Initilize Multinomial NB with same priors as above\n",
        "MNB = MultinomialNB()\n",
        "MNB.fit(X_train_cv, y)\n",
        "\n",
        "X_test = ['Ok Im joking', \n",
        "          'You won a prize!', \n",
        "          'Need a new mobile number?', \n",
        "          'Bye brother', \n",
        "          \"You are the winner\", \n",
        "          \"I'll be home soon\"]\n",
        "\n",
        "X_test_cv = cv.transform(X_test)\n",
        "MNB.predict(X_test_cv)"
      ]
    }
  ],
  "metadata": {
    "colab": {
      "provenance": []
    },
    "kernelspec": {
      "display_name": "Python 3",
      "name": "python3"
    },
    "language_info": {
      "codemirror_mode": {
        "name": "ipython",
        "version": 3
      },
      "file_extension": ".py",
      "mimetype": "text/x-python",
      "name": "python",
      "nbconvert_exporter": "python",
      "pygments_lexer": "ipython3",
      "version": "3.11.5"
    }
  },
  "nbformat": 4,
  "nbformat_minor": 0
}
