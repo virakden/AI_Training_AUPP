{
 "cells": [
  {
   "cell_type": "markdown",
   "metadata": {},
   "source": [
    "## Regular Expressions\n",
    "\n",
    "Regular expressions or “regexes” will enable us to examine patterns within our code. For example, we might want to validate that an email address is formatted correctly. Regular expressions will enable us to examine expressions in this fashion.\n",
    "\n"
   ]
  },
  {
   "cell_type": "code",
   "execution_count": 1,
   "metadata": {},
   "outputs": [
    {
     "name": "stdout",
     "output_type": "stream",
     "text": [
      "Valid\n"
     ]
    }
   ],
   "source": [
    "email = input(\"What's your email? \").strip()\n",
    "\n",
    "if \"@\" in email:\n",
    "    print(\"Valid\")\n",
    "else:\n",
    "    print(\"Invalid\")"
   ]
  },
  {
   "cell_type": "markdown",
   "metadata": {},
   "source": [
    "### 1.0 Python's re module\n",
    "\n",
    "The re.search() function is used to search for a pattern within a string.\n",
    "\n"
   ]
  },
  {
   "cell_type": "code",
   "execution_count": 2,
   "metadata": {},
   "outputs": [
    {
     "name": "stdout",
     "output_type": "stream",
     "text": [
      "Valid\n"
     ]
    }
   ],
   "source": [
    "import re\n",
    "\n",
    "email = input(\"What's your email? \").strip()\n",
    "\n",
    "if re.search(\"@\", email):\n",
    "    print(\"Valid\")\n",
    "else:\n",
    "    print(\"Invalid\")"
   ]
  },
  {
   "cell_type": "markdown",
   "metadata": {},
   "source": [
    "### 2.0 Meta Characters \n",
    "\n",
    "Meta-characters in regular expressions are special characters with predefined meanings that help define the search pattern. They are essential for constructing complex patterns to match specific strings. Below are some commonly used meta-characters in regular expressions:\n",
    "\n",
    ". (Dot): Matches any single character except newline \\n.\n",
    "\n",
    "^ (Caret): Matches the start of the string.\n",
    "\n",
    "$ (Dollar): Matches the end of the string.\n",
    "\n",
    "\\* (Asterisk): Matches zero or more occurrences of the preceding character or group.\n",
    "\n",
    "\\+ (Plus): Matches one or more occurrences of the preceding character or group.\n",
    "\n",
    "? (Question Mark): Matches zero or one occurrence of the preceding character or group.\n",
    "\n",
    "{} (Curly Braces): Specifies the exact number of occurrences of the preceding character or group.\n",
    "\n",
    "[] (Square Brackets): Matches any single character within the brackets. Can specify ranges and negate using ^.\n",
    "\n",
    "| (Vertical Bar): Acts as an OR operator, allowing for multiple alternative patterns.\n",
    "\n",
    "\\ (Backslash): Escapes special characters, allowing them to be treated as literals.\n"
   ]
  },
  {
   "cell_type": "markdown",
   "metadata": {},
   "source": [
    "For example:\n",
    "\n",
    ". matches any character except newline.\n",
    "\n",
    "^hello matches strings that start with \"hello\".\n",
    "\n",
    "world$ matches strings that end with \"world\".\n",
    "\n",
    "ab* matches \"a\" followed by zero or more \"b\"s.\n",
    "\n",
    "a+ matches one or more \"a\"s.\n",
    "\n",
    "[aeiou] matches any vowel character.\n",
    "\n",
    "[^0-9] matches any character except digits.\n",
    "\n",
    "(abc|def) matches \"abc\" or \"def\"."
   ]
  },
  {
   "cell_type": "markdown",
   "metadata": {},
   "source": [
    "### 3.0 Pattern Matching\n",
    "\n",
    "#### Basic Pattern Matching\n",
    "\n",
    "The re.search() function is used to search for a pattern within a string."
   ]
  },
  {
   "cell_type": "code",
   "execution_count": 3,
   "metadata": {},
   "outputs": [
    {
     "name": "stdout",
     "output_type": "stream",
     "text": [
      "Pattern found at index: 0\n"
     ]
    }
   ],
   "source": [
    "import re\n",
    "\n",
    "pattern = 'hello'\n",
    "text = 'hello world'\n",
    "\n",
    "match = re.search(pattern, text)\n",
    "if match:\n",
    "    print('Pattern found at index:', match.start())\n",
    "else:\n",
    "    print('Pattern not found.')\n"
   ]
  },
  {
   "cell_type": "markdown",
   "metadata": {},
   "source": [
    "#### Character Classes\n",
    "\n",
    "Character classes match any one of a specified set of characters. Use square brackets [ ] to define a character class."
   ]
  },
  {
   "cell_type": "code",
   "execution_count": 4,
   "metadata": {},
   "outputs": [
    {
     "name": "stdout",
     "output_type": "stream",
     "text": [
      "Vowels found: ['e', 'o', 'o']\n"
     ]
    }
   ],
   "source": [
    "import re\n",
    "\n",
    "pattern = '[aeiou]'\n",
    "text = 'hello world'\n",
    "\n",
    "matches = re.findall(pattern, text)\n",
    "print('Vowels found:', matches)"
   ]
  },
  {
   "cell_type": "code",
   "execution_count": 9,
   "metadata": {},
   "outputs": [
    {
     "name": "stdout",
     "output_type": "stream",
     "text": [
      "Vowels found: ['h', 'e', 'l', 'l', 'o', 'w', 'o', 'r', 'l', 'd']\n"
     ]
    }
   ],
   "source": [
    "\n",
    "\n",
    "pattern = '[a-z]'\n",
    "text = 'hello world'\n",
    "\n",
    "matches = re.findall(pattern, text)\n",
    "print('Vowels found:', matches)"
   ]
  },
  {
   "cell_type": "code",
   "execution_count": 10,
   "metadata": {},
   "outputs": [
    {
     "name": "stdout",
     "output_type": "stream",
     "text": [
      "Vowels found: []\n"
     ]
    }
   ],
   "source": [
    "\n",
    "\n",
    "pattern = '[A-Z]'\n",
    "text = 'hello world'\n",
    "\n",
    "matches = re.findall(pattern, text)\n",
    "print('Vowels found:', matches)"
   ]
  },
  {
   "cell_type": "code",
   "execution_count": 11,
   "metadata": {},
   "outputs": [
    {
     "name": "stdout",
     "output_type": "stream",
     "text": [
      "Vowels found: []\n"
     ]
    }
   ],
   "source": [
    "\n",
    "pattern = '[A-Z0-9]'\n",
    "text = 'hello world'\n",
    "\n",
    "matches = re.findall(pattern, text)\n",
    "print('Vowels found:', matches)"
   ]
  },
  {
   "cell_type": "code",
   "execution_count": 12,
   "metadata": {},
   "outputs": [
    {
     "name": "stdout",
     "output_type": "stream",
     "text": [
      "Vowels found: ['h', 'e', 'l', 'l', 'o', 'w', 'o', 'r', 'l', 'd']\n"
     ]
    }
   ],
   "source": [
    "\n",
    "pattern = '[A-Z0-9]'\n",
    "text = 'hello world'\n",
    "\n",
    "matches = re.findall(pattern, text,re.IGNORECASE)\n",
    "print('Vowels found:', matches)"
   ]
  },
  {
   "cell_type": "markdown",
   "metadata": {},
   "source": [
    "#### Quantifiers\n",
    "\n",
    "Quantifiers specify the number of times a character or group can occur. Common quantifiers include *, +, ?, {}, and {n,m}."
   ]
  },
  {
   "cell_type": "code",
   "execution_count": 5,
   "metadata": {},
   "outputs": [
    {
     "name": "stdout",
     "output_type": "stream",
     "text": [
      "Matches found: ['lo']\n"
     ]
    }
   ],
   "source": [
    "import re\n",
    "\n",
    "pattern = 'lo+'\n",
    "text = 'hello world'\n",
    "\n",
    "matches = re.findall(pattern, text)\n",
    "print('Matches found:', matches)\n"
   ]
  },
  {
   "cell_type": "markdown",
   "metadata": {},
   "source": [
    "#### Anchors\n",
    "\n",
    "Anchors match specific positions in the string. Common anchors include ^ for the start of a string and $ for the end of a string."
   ]
  },
  {
   "cell_type": "code",
   "execution_count": 6,
   "metadata": {},
   "outputs": [
    {
     "name": "stdout",
     "output_type": "stream",
     "text": [
      "Pattern found at the beginning of the string.\n"
     ]
    }
   ],
   "source": [
    "import re\n",
    "\n",
    "pattern = '^hello'\n",
    "text = 'hello world'\n",
    "\n",
    "match = re.search(pattern, text)\n",
    "if match:\n",
    "    print('Pattern found at the beginning of the string.')\n",
    "else:\n",
    "    print('Pattern not found at the beginning of the string.')\n"
   ]
  },
  {
   "cell_type": "markdown",
   "metadata": {},
   "source": [
    "#### Grouping and Capturing:\n",
    "\n",
    "Parentheses () are used to group patterns together. They can also be used to capture parts of the matched text."
   ]
  },
  {
   "cell_type": "code",
   "execution_count": 8,
   "metadata": {},
   "outputs": [
    {
     "name": "stdout",
     "output_type": "stream",
     "text": [
      "Full number: 123\n",
      "Area code: 456\n",
      "Exchange code: 7890\n",
      "Full number: 987\n",
      "Area code: 654\n",
      "Exchange code: 3210\n"
     ]
    }
   ],
   "source": [
    "import re\n",
    "\n",
    "pattern = r'(\\d{3})-(\\d{3})-(\\d{4})'\n",
    "text = 'Phone numbers: 123-456-7890, 987-654-3210'\n",
    "\n",
    "matches = re.findall(pattern, text)\n",
    "for match in matches:\n",
    "    print('Full number:', match[0])\n",
    "    print('Area code:', match[1])\n",
    "    print('Exchange code:', match[2])\n",
    "    #print('Subscriber number:', match[3])\n"
   ]
  },
  {
   "cell_type": "markdown",
   "metadata": {},
   "source": [
    "#### Some Additional Patterns\n",
    "\n",
    "\n",
    "\n",
    "\\d    decimal digit\n",
    "\n",
    "\\D    not a decimal digit\n",
    "\n",
    "\\s    whitespace characters\n",
    "\n",
    "\\S    not a whitespace character\n",
    "\n",
    "\\w    word character, as well as numbers and the underscore\n",
    "\n",
    "\\W    not a word character\n",
    "\n"
   ]
  },
  {
   "cell_type": "markdown",
   "metadata": {},
   "source": [
    "### 4.0 RegEx in Practice\n",
    "\n",
    "Here is the full expression that one would have to type to ensure that a valid email is inputted:\n",
    "\n",
    "```python \n",
    "^[a-zA-Z0-9.!#$%&'*+\\/=?^_`{|}~-]+@[a-zA-Z0-9](?:[a-zA-Z0-9-]{0,61}[a-zA-Z0-9])?(?:\\.[a-zA-Z0-9](?:[a-zA-Z0-9-]{0,61}[a-zA-Z0-9])?)*$\n",
    "```\n"
   ]
  },
  {
   "cell_type": "code",
   "execution_count": 14,
   "metadata": {},
   "outputs": [
    {
     "name": "stdout",
     "output_type": "stream",
     "text": [
      "Invalid\n"
     ]
    }
   ],
   "source": [
    "import re\n",
    "\n",
    "email = input(\"What's your email? \").strip()\n",
    "pattern = r'^[a-zA-Z0-9.!#$%&\\'*+\\/=?^_`{|}~-]+@[a-zA-Z0-9](?:[a-zA-Z0-9-]{0,61}[a-zA-Z0-9])?(?:\\.[a-zA-Z0-9](?:[a-zA-Z0-9-]{0,61}[a-zA-Z0-9])?)*$'\n",
    "if re.search(pattern, email, re.IGNORECASE):\n",
    "    print(\"Valid\")\n",
    "else:\n",
    "    print(\"Invalid\")"
   ]
  },
  {
   "cell_type": "markdown",
   "metadata": {},
   "source": [
    "#### ChatGPT\n",
    "\n",
    "prompt: write an RE expression to validate email"
   ]
  },
  {
   "cell_type": "code",
   "execution_count": 15,
   "metadata": {},
   "outputs": [
    {
     "name": "stdout",
     "output_type": "stream",
     "text": [
      "example@example.com : True\n",
      "user.name@example.com : True\n",
      "user+tag@example.com : True\n",
      "user-name@example.com : True\n",
      "user_name@example.com : True\n",
      "user@example.co.in : True\n",
      "user@example.co.kr : True\n",
      "user@example.co.uk : True\n",
      "user@example.com.au : True\n",
      "user@example.org : True\n"
     ]
    }
   ],
   "source": [
    "import re\n",
    "\n",
    "def validate_email(email):\n",
    "    pattern = r'^[a-zA-Z0-9._%+-]+@[a-zA-Z0-9.-]+\\.[a-zA-Z]{2,}$'\n",
    "    return re.match(pattern, email) is not None\n",
    "\n",
    "# Test cases\n",
    "emails = [\n",
    "    \"example@example.com\",\n",
    "    \"user.name@example.com\",\n",
    "    \"user+tag@example.com\",\n",
    "    \"user-name@example.com\",\n",
    "    \"user_name@example.com\",\n",
    "    \"user@example.co.in\",\n",
    "    \"user@example.co.kr\",\n",
    "    \"user@example.co.uk\",\n",
    "    \"user@example.com.au\",\n",
    "    \"user@example.org\"\n",
    "]\n",
    "\n",
    "for email in emails:\n",
    "    print(email, \":\", validate_email(email))\n"
   ]
  },
  {
   "cell_type": "markdown",
   "metadata": {},
   "source": [
    "Explanation of the regular expression ^[a-zA-Z0-9._%+-]+@[a-zA-Z0-9.-]+\\.[a-zA-Z]{2,}$:\n",
    "\n",
    "^ asserts the start of the string.\n",
    "\n",
    "[a-zA-Z0-9._%+-]+ matches one or more of the allowed characters before the @ symbol.\n",
    "\n",
    "@ matches the @ symbol.\n",
    "\n",
    "[a-zA-Z0-9.-]+ matches one or more of the allowed characters after the @ symbol (domain name).\n",
    "\n",
    "\\. matches the dot in the domain name.\n",
    "\n",
    "[a-zA-Z]{2,} matches the top-level domain (e.g., com, org, net) consisting of at least two letters.\n",
    "\n",
    "$ asserts the end of the string."
   ]
  }
 ],
 "metadata": {
  "kernelspec": {
   "display_name": "base",
   "language": "python",
   "name": "python3"
  },
  "language_info": {
   "codemirror_mode": {
    "name": "ipython",
    "version": 3
   },
   "file_extension": ".py",
   "mimetype": "text/x-python",
   "name": "python",
   "nbconvert_exporter": "python",
   "pygments_lexer": "ipython3",
   "version": "3.11.5"
  }
 },
 "nbformat": 4,
 "nbformat_minor": 2
}
